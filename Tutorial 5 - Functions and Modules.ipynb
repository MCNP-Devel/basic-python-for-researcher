{
 "metadata": {
  "name": "",
  "signature": "sha256:f8a3ba1945b2e0228cc7408477f414117b83d36b59a1b26caf3eeeaedf223275"
 },
 "nbformat": 3,
 "nbformat_minor": 0,
 "worksheets": [
  {
   "cells": [
    {
     "cell_type": "markdown",
     "metadata": {},
     "source": [
      "#<span style=\"color: #B40486\">BASIC PYTHON FOR RESEARCHERS</span>"
     ]
    },
    {
     "cell_type": "markdown",
     "metadata": {},
     "source": [
      "_by_ [**_Megat Harun Al Rashid bin Megat Ahmad_**](https://www.researchgate.net/profile/Megat_Harun_Megat_Ahmad)  \n",
      "last updated: October 23, 2014"
     ]
    },
    {
     "cell_type": "markdown",
     "metadata": {},
     "source": [
      "-------\n",
      "##_<span style=\"color: #29088A\">5. Functions and Modules</span>_\n"
     ]
    },
    {
     "cell_type": "markdown",
     "metadata": {},
     "source": [
      "_Python_ has many built-in functions, _e.g._, <span style=\"color: #0000FF\">$print$</span> format is a built-in _Python_ function, so are the <span style=\"color: #0000FF\">$sqrt$</span> function and the <span style=\"color: #0000FF\">$\\pi$</span> value which can be used by importing the <span style=\"color: #0000FF\">$math$</span> module."
     ]
    },
    {
     "cell_type": "code",
     "collapsed": false,
     "input": [
      "# Find the square root of integer in a list\n",
      "\n",
      "from math import *\n",
      "\n",
      "x1 = [23,12,45]\n",
      "for z in range(0,len(x1),1):\n",
      "    Ex1 = sqrt(x1[z])\n",
      "    print Ex1"
     ],
     "language": "python",
     "metadata": {},
     "outputs": [
      {
       "output_type": "stream",
       "stream": "stdout",
       "text": [
        "4.79583152331\n",
        "3.46410161514\n",
        "6.7082039325\n"
       ]
      }
     ],
     "prompt_number": 1
    },
    {
     "cell_type": "markdown",
     "metadata": {},
     "source": [
      "It is also possible to give the available functions different name from the default name _e.g._ the <span style=\"color: #0000FF\">$sqrt$</span> function is rename as <span style=\"color: #0000FF\">$punca\\_kuasa\\_dua$</span>."
     ]
    },
    {
     "cell_type": "code",
     "collapsed": false,
     "input": [
      "from math import sqrt as punca_kuasa_dua\n",
      "\n",
      "x1 = [23,12,45]\n",
      "for z in range(0,len(x1),1):\n",
      "    Ex1 = punca_kuasa_dua(x1[z])\n",
      "    print Ex1"
     ],
     "language": "python",
     "metadata": {},
     "outputs": [
      {
       "output_type": "stream",
       "stream": "stdout",
       "text": [
        "4.79583152331\n",
        "3.46410161514\n",
        "6.7082039325\n"
       ]
      }
     ],
     "prompt_number": 2
    },
    {
     "cell_type": "markdown",
     "metadata": {},
     "source": [
      "Now let us built our own square root function with a specific name such as <span style=\"color: #0000FF\">$pk$</span>."
     ]
    },
    {
     "cell_type": "code",
     "collapsed": false,
     "input": [
      "# Find the square root of integer in a list\n",
      "# using own defined function\n",
      "\n",
      "def pk(arg1):\n",
      "    result_pk = arg1**0.5\n",
      "    return result_pk\n",
      "    \n",
      "x1 = [23,12,45]\n",
      "\n",
      "for z in range(0,len(x1),1):\n",
      "    Ex1 = pk(x1[z])\n",
      "    print Ex1"
     ],
     "language": "python",
     "metadata": {},
     "outputs": [
      {
       "output_type": "stream",
       "stream": "stdout",
       "text": [
        "4.79583152331\n",
        "3.46410161514\n",
        "6.7082039325\n"
       ]
      }
     ],
     "prompt_number": 3
    },
    {
     "cell_type": "markdown",
     "metadata": {},
     "source": [
      "Here, a function is first defined that will accept an argument. The argument or value is later operated to produce the square root value that is returned back to the caller. The function is called in the <span style=\"color: #0000FF\">$for$</span> loop below the function definition _i.e._ function must be specified before being called into use."
     ]
    },
    {
     "cell_type": "markdown",
     "metadata": {},
     "source": [
      "<img src=\"Tutorial5/Function_flow.png\" width=\"300\">"
     ]
    },
    {
     "cell_type": "code",
     "collapsed": false,
     "input": [
      "# Celcius to Fahreinheit\n",
      "\n",
      "def Fahreinheit(temp):\n",
      "    temp = float(temp)\n",
      "    temp = (temp*9/5)+32\n",
      "    return temp\n",
      "    \n",
      "deg = u\"\\u00B0\"\n",
      "\n",
      "valC = input(\"Give the temperature Celcius: \")\n",
      "valF = Fahreinheit(valC)\n",
      "print (\"The %3.2f%sC is equivalent to %3.2f%sF\" % (valC,deg,valF,deg))"
     ],
     "language": "python",
     "metadata": {},
     "outputs": [
      {
       "name": "stdout",
       "output_type": "stream",
       "stream": "stdout",
       "text": [
        "Give the temperature Celcius: 33\n"
       ]
      },
      {
       "output_type": "stream",
       "stream": "stdout",
       "text": [
        "The 33.00\u00b0C is equivalent to 91.40\u00b0F\n"
       ]
      }
     ],
     "prompt_number": 4
    },
    {
     "cell_type": "markdown",
     "metadata": {},
     "source": [
      "The function definition can be written on different python file and can be imported. This is called a module. Let us create two files, one contains the function (\"Temp.py\") and the other the main program that will call the function:"
     ]
    },
    {
     "cell_type": "code",
     "collapsed": false,
     "input": [
      "%%file Temp.py\n",
      "\n",
      "#Temp.py\n",
      "#Celcius to Fahreinheit\n",
      "\n",
      "def Fahreinheit(temp):\n",
      "    temp = float(temp)\n",
      "    temp = (temp*9/5)+32\n",
      "    return temp "
     ],
     "language": "python",
     "metadata": {},
     "outputs": [
      {
       "output_type": "stream",
       "stream": "stdout",
       "text": [
        "Overwriting Temp.py\n"
       ]
      }
     ],
     "prompt_number": 5
    },
    {
     "cell_type": "markdown",
     "metadata": {},
     "source": [
      "To call the function <span style=\"color: #0000FF\">$Fahreinheit$</span>, we need to import the function into the main program from the module <span style=\"color: #0000FF\">$Temp$</span>."
     ]
    },
    {
     "cell_type": "code",
     "collapsed": false,
     "input": [
      "from Temp import Fahreinheit as Fh\n",
      "\n",
      "deg = u\"\\u00B0\"\n",
      "\n",
      "valC = input(\"Give the temperature in Celcius: \")\n",
      "valF = Fh(valC)\n",
      "print (\"The %3.2f%sC is equivalent to %3.2f%sF\" % (valC,deg,valF,deg))"
     ],
     "language": "python",
     "metadata": {},
     "outputs": [
      {
       "name": "stdout",
       "output_type": "stream",
       "stream": "stdout",
       "text": [
        "Give the temperature in Celcius: 35\n"
       ]
      },
      {
       "output_type": "stream",
       "stream": "stdout",
       "text": [
        "The 35.00\u00b0C is equivalent to 95.00\u00b0F\n"
       ]
      }
     ],
     "prompt_number": 6
    },
    {
     "cell_type": "markdown",
     "metadata": {},
     "source": [
      "####<span style=\"color: #F5DA81; background-color: #610B4B\">Example 5.1</span>: Write a program that can receive input value in Celcius or Fahreinheit and transform the value into Fahreinheit and Celcius respectively. Create the calculating functions as import module."
     ]
    },
    {
     "cell_type": "code",
     "collapsed": false,
     "input": [
      "%%file TempConv.py\n",
      "\n",
      "# TempConv.py\n",
      "\n",
      "# Celcius to Fahreinheit\n",
      "\n",
      "def Fahreinheit(temp):\n",
      "    temp = float(temp)\n",
      "    temp = (temp*9/5)+32\n",
      "    return temp\n",
      "\n",
      "# Fahreinheit to Celcius\n",
      "\n",
      "def Celcius(temp):\n",
      "    temp = float(temp)\n",
      "    temp = (temp-32)*5/9\n",
      "    return temp\n",
      "    "
     ],
     "language": "python",
     "metadata": {},
     "outputs": [
      {
       "output_type": "stream",
       "stream": "stdout",
       "text": [
        "Overwriting TempConv.py\n"
       ]
      }
     ],
     "prompt_number": 7
    },
    {
     "cell_type": "markdown",
     "metadata": {},
     "source": [
      "A variable in a function is a local variable, which means that it cannot be used outside the function. It also means that identical name variable can be used in other function."
     ]
    },
    {
     "cell_type": "code",
     "collapsed": false,
     "input": [
      "from TempConv import *\n",
      "\n",
      "deg = u\"\\u00B0\"\n",
      "\n",
      "valC = input(\"Give the temperature in Celcius: \")\n",
      "valF = Fahreinheit(valC)\n",
      "print (\"The %3.1f%sC is equivalent to %3.1f%sF\" % (valC,deg,valF,deg))\n",
      "\n",
      "valF = input(\"Give the temperature in Fahreinheit: \")\n",
      "valC = Celcius(valF)\n",
      "print (\"The %3.1f%sF is equivalent to %3.1f%sC\" % (valF,deg,valC,deg))\n"
     ],
     "language": "python",
     "metadata": {},
     "outputs": [
      {
       "name": "stdout",
       "output_type": "stream",
       "stream": "stdout",
       "text": [
        "Give the temperature in Celcius: 25\n"
       ]
      },
      {
       "output_type": "stream",
       "stream": "stdout",
       "text": [
        "The 25.0\u00b0C is equivalent to 77.0\u00b0F\n"
       ]
      },
      {
       "name": "stdout",
       "output_type": "stream",
       "stream": "stdout",
       "text": [
        "Give the temperature in Fahreinheit: 77\n"
       ]
      },
      {
       "output_type": "stream",
       "stream": "stdout",
       "text": [
        "The 77.0\u00b0F is equivalent to 25.0\u00b0C\n"
       ]
      }
     ],
     "prompt_number": 8
    },
    {
     "cell_type": "code",
     "collapsed": false,
     "input": [
      "from TempConv import *\n",
      "\n",
      "deg = u\"\\u00B0\"\n",
      "\n",
      "TempType = raw_input(\"Which temperature you want to convert, \\\n",
      "Celcius or Fahreinheit (C or F) \")\n",
      "\n",
      "TempType = TempType.upper()\n",
      "\n",
      "if TempType == 'C':\n",
      "    valC = input(\"Give the temperature in Celcius: \")\n",
      "    valF = Fahreinheit(valC)\n",
      "    print (\"The %3.1f%sC is equivalent to %3.1f%sF\" % (valC,deg,valF,deg))\n",
      "\n",
      "elif TempType == 'F':\n",
      "    valF = input(\"Give the temperature in Fahreinheit: \")\n",
      "    valC = Celcius(valF)\n",
      "    print (\"The %3.1f%sF is equivalent to %3.1f%sC\" % (valF,deg,valC,deg))\n",
      "    \n",
      "else:\n",
      "    print \"No or wrong type is given.\"\n"
     ],
     "language": "python",
     "metadata": {},
     "outputs": [
      {
       "name": "stdout",
       "output_type": "stream",
       "stream": "stdout",
       "text": [
        "Which temperature you want to convert, Celcius or Fahreinheit (C or F) f\n"
       ]
      },
      {
       "name": "stdout",
       "output_type": "stream",
       "stream": "stdout",
       "text": [
        "Give the temperature in Fahreinheit: 89\n"
       ]
      },
      {
       "output_type": "stream",
       "stream": "stdout",
       "text": [
        "The 89.0\u00b0F is equivalent to 31.7\u00b0C\n"
       ]
      }
     ],
     "prompt_number": 9
    },
    {
     "cell_type": "markdown",
     "metadata": {},
     "source": [
      "More on functions and modules can be found on https://docs.python.org/2/tutorial/modules.html"
     ]
    }
   ],
   "metadata": {}
  }
 ]
}