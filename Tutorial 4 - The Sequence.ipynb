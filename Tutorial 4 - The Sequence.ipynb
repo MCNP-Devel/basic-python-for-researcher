{
 "metadata": {
  "name": "",
  "signature": "sha256:c445e4481c79417f31e51554cacfccff8cec75eff043b6564139cb0241ea9287"
 },
 "nbformat": 3,
 "nbformat_minor": 0,
 "worksheets": [
  {
   "cells": [
    {
     "cell_type": "markdown",
     "metadata": {},
     "source": [
      "#<span style=\"color: #B40486\">BASIC PYTHON FOR RESEARCHERS</span>"
     ]
    },
    {
     "cell_type": "markdown",
     "metadata": {},
     "source": [
      "**_by Megat Harun Al Rashid bin Megat Ahmad_**"
     ]
    },
    {
     "cell_type": "markdown",
     "metadata": {},
     "source": [
      "-------\n",
      "##_<span style=\"color: #29088A\">4. The Sequence</span>_\n"
     ]
    },
    {
     "cell_type": "markdown",
     "metadata": {},
     "source": [
      "Sequence is a type of data structure. It is similar to array. Each element of a sequence can be accessed according to its index. There are several type of sequences:\n",
      "1. Strings\n",
      "2. Lists\n",
      "3. Tuples\n",
      "4. Dictionaries\n",
      "5. Sets\n",
      "6. Frozen sets\n",
      "\n",
      "The most commonly used is lists and dictionaries which we will explored here."
     ]
    },
    {
     "cell_type": "markdown",
     "metadata": {},
     "source": [
      "***\n",
      "###**_4.1 The lists sequence_**"
     ]
    },
    {
     "cell_type": "markdown",
     "metadata": {},
     "source": [
      "A list can be constructed using the bracket `[]` with the elements/components of the list separated by commas."
     ]
    },
    {
     "cell_type": "code",
     "collapsed": false,
     "input": [
      "List_num = [1,2,3,4,5]\n",
      "print List_num\n",
      "E = len(List_num)\n",
      "print \"There's %d elements in the list %s\" % (E,List_num)"
     ],
     "language": "python",
     "metadata": {},
     "outputs": [
      {
       "output_type": "stream",
       "stream": "stdout",
       "text": [
        "[1, 2, 3, 4, 5]\n",
        "There's 5 elements in the list [1, 2, 3, 4, 5]\n"
       ]
      }
     ],
     "prompt_number": 27
    },
    {
     "cell_type": "markdown",
     "metadata": {},
     "source": [
      "Elements in list can be made of numbers, strings or a mixture of both. Element can be accessed by specifying the element position in the list (similar to access the strings, previously)."
     ]
    },
    {
     "cell_type": "code",
     "collapsed": false,
     "input": [
      "List_str = [\"Blythe\",\"Rafa\",\"Felicity\",\"Kiyoko\"]\n",
      "\n",
      "print \"What is the word happy in Arabic?\"\n",
      "print \"The answer is %s and it's starts with the capital letter %s.\" % \\\n",
      "(List_str[1],List_str[1][0])"
     ],
     "language": "python",
     "metadata": {},
     "outputs": [
      {
       "output_type": "stream",
       "stream": "stdout",
       "text": [
        "What is the word happy in Arabic?\n",
        "The answer is Rafa and it's starts with the capital letter R.\n"
       ]
      }
     ],
     "prompt_number": 28
    },
    {
     "cell_type": "code",
     "collapsed": false,
     "input": [
      "List_mix = [\"The Time Machine\", 1895, \"The Invisible Man\", 1897, \\\n",
      "            \"The Shape of Things to Come\", 1933]\n",
      "print '\"%s\" was first published in %d with \\n\"%s\" published %d years \\\n",
      "later.' % (List_mix[0],List_mix[1],List_mix[4],List_mix[5]-List_mix[1])"
     ],
     "language": "python",
     "metadata": {},
     "outputs": [
      {
       "output_type": "stream",
       "stream": "stdout",
       "text": [
        "\"The Time Machine\" was first published in 1895 with \n",
        "\"The Shape of Things to Come\" published 38 years later.\n"
       ]
      }
     ],
     "prompt_number": 29
    },
    {
     "cell_type": "markdown",
     "metadata": {},
     "source": [
      "####<span style=\"color: #F5DA81; background-color: #610B4B\">Example 4.1</span>: The followings are some of the infamous implementations of Python programming language: _CPython_, _Cython_, _PyPy_, _IronPython_, _Jython_ and _Unladen Swallow_. Put this sequence in a list and rearrange the sequence according to your preferred implementations in a list that contains only three implementations. Print the new list."
     ]
    },
    {
     "cell_type": "code",
     "collapsed": false,
     "input": [
      "Python_Impl = ['CPython','Cython','PyPy','IronPython','Jython','Unladen Swallow']\n",
      "New_Python_Impl = [Python_Impl[1],Python_Impl[0],Python_Impl[2]]\n",
      "\n",
      "print New_Python_Impl\n"
     ],
     "language": "python",
     "metadata": {},
     "outputs": [
      {
       "output_type": "stream",
       "stream": "stdout",
       "text": [
        "['Cython', 'CPython', 'PyPy']\n"
       ]
      }
     ],
     "prompt_number": 30
    },
    {
     "cell_type": "markdown",
     "metadata": {},
     "source": [
      "####<span style=\"color: #F5DA81; background-color: #610B4B\">Example 4.2</span>: From this list: ['Python','Java','C','Perl','Sed','Awk','Lisp','Ruby'], create back the original list of Python implementations."
     ]
    },
    {
     "cell_type": "code",
     "collapsed": false,
     "input": [
      "PN = ['Python','Java','C','Perl','Sed','Awk','Lisp','Ruby']\n",
      "\n",
      "Pyth_ImplN = [PN[2]+PN[0],PN[2]+PN[0][1:],PN[0][:2]*2,\\\n",
      "              PN[6][1].upper()+PN[3][2]+PN[0][4:]+PN[0],\\\n",
      "              PN[1][0]+PN[0][1:],PN[7][1].upper()+PN[0][-1]+PN[3][-1]+\\\n",
      "              PN[1][1]+PN[4][-1]+PN[4][-2]+PN[0][-1]+' '+\\\n",
      "              PN[-2][-2].upper()+PN[-3][1]+PN[1][1]+PN[3][3]*2+\\\n",
      "              PN[0][-2]+PN[-3][1]]\n",
      "\n",
      "print Pyth_ImplN"
     ],
     "language": "python",
     "metadata": {},
     "outputs": [
      {
       "output_type": "stream",
       "stream": "stdout",
       "text": [
        "['CPython', 'Cython', 'PyPy', 'IronPython', 'Jython', 'Unladen Swallow']\n"
       ]
      }
     ],
     "prompt_number": 31
    },
    {
     "cell_type": "markdown",
     "metadata": {},
     "source": [
      "What we have seen are homogeneous and non-homogeneous one-dimensional lists."
     ]
    },
    {
     "cell_type": "code",
     "collapsed": false,
     "input": [
      "x = [12,45,78,14,23]\n",
      "y = [\"Dickens\",\"Hardy\",\"Austen\",\"Steinbeck\"]\n",
      "Z = [3E8,'light',\"metre\"]"
     ],
     "language": "python",
     "metadata": {},
     "outputs": []
    },
    {
     "cell_type": "markdown",
     "metadata": {},
     "source": [
      "List can also be made multi-dimensional."
     ]
    },
    {
     "cell_type": "code",
     "collapsed": false,
     "input": [
      "# Homogeneous multi dimensional list (2D):\n",
      "\n",
      "# List_name[row][column]\n",
      "\n",
      "x2 = [[12,32],[43,9]]\n",
      "print x2\n",
      "print x2[1]              # Second row\n",
      "print x2[0][1]           # First row, second column"
     ],
     "language": "python",
     "metadata": {},
     "outputs": [
      {
       "output_type": "stream",
       "stream": "stdout",
       "text": [
        "[[12, 32], [43, 9]]\n",
        "[43, 9]\n",
        "32\n"
       ]
      }
     ],
     "prompt_number": 32
    },
    {
     "cell_type": "markdown",
     "metadata": {},
     "source": [
      "In a matrix representation, this should be:\n",
      "$$\\left( \\begin{array}{cc}\n",
      "12 & 32 \\\\\n",
      "43 & 9\\end{array} \\right)$$\n"
     ]
    },
    {
     "cell_type": "code",
     "collapsed": false,
     "input": [
      "# Matrix determinant\n",
      "\n",
      "det_x2 = x2[0][0]*x2[1][1]-x2[0][1]*x2[1][0]\n",
      "print \"Determinant of x2 is %d\" % det_x2"
     ],
     "language": "python",
     "metadata": {},
     "outputs": [
      {
       "output_type": "stream",
       "stream": "stdout",
       "text": [
        "Determinant of x2 is -1268\n"
       ]
      }
     ],
     "prompt_number": 34
    },
    {
     "cell_type": "markdown",
     "metadata": {},
     "source": [
      "Multi-dimensional list is actually list in list:"
     ]
    },
    {
     "cell_type": "code",
     "collapsed": false,
     "input": [
      "x1 = [0.1,0.2,0.3,0.4,0.5]\n",
      "x2 = [0,12,34,15,1]\n",
      "x = [x1,x2]\n",
      "print x              # A 2x5 Array"
     ],
     "language": "python",
     "metadata": {},
     "outputs": [
      {
       "output_type": "stream",
       "stream": "stdout",
       "text": [
        "[[0.1, 0.2, 0.3, 0.4, 0.5], [0, 12, 34, 15, 1]]\n"
       ]
      }
     ],
     "prompt_number": 35
    },
    {
     "cell_type": "markdown",
     "metadata": {},
     "source": [
      "It can be non-homogeneous multi-dimensional:"
     ]
    },
    {
     "cell_type": "code",
     "collapsed": false,
     "input": [
      "Data_3D = [[[2,3,5],[1,7,0]],[5,\"ArXiv\"]]\n",
      "\n",
      "#print number 7\n",
      "print Data_3D[0][1][1]\n",
      "\n",
      "print 'Mr. Perelman published the solution \\\n",
      "to Poinc%sre conjecture in \"%s\".' % (u\"\\u00E1\", Data_3D[1][1])"
     ],
     "language": "python",
     "metadata": {},
     "outputs": [
      {
       "output_type": "stream",
       "stream": "stdout",
       "text": [
        "7\n",
        "Mr. Perelman published the solution to Poinc\u00e1re conjecture in \"ArXiv\".\n"
       ]
      }
     ],
     "prompt_number": 2
    },
    {
     "cell_type": "markdown",
     "metadata": {},
     "source": [
      "`Data_3D` is actually list inside list inside list but non-homogeneously."
     ]
    },
    {
     "cell_type": "markdown",
     "metadata": {},
     "source": [
      "<img src=\"Tutorial3/array.png\" width=\"500\" >\n"
     ]
    },
    {
     "cell_type": "code",
     "collapsed": false,
     "input": [
      "# Slicing, extracting and substitution\n",
      "\n",
      "L1 = Data_3D[0]; print L1\n",
      "L2 = [Data_3D[1]]+[Data_3D[0][0]]\n",
      "print L2[0][1]\n",
      "Data_3D[1][1] = \"PlosOne\"\n",
      "print Data_3D"
     ],
     "language": "python",
     "metadata": {},
     "outputs": [
      {
       "output_type": "stream",
       "stream": "stdout",
       "text": [
        "[[2, 3, 5], [1, 7, 0]]\n",
        "PlosOne\n",
        "[[[2, 3, 5], [1, 7, 0]], [5, 'PlosOne']]\n"
       ]
      }
     ],
     "prompt_number": 4
    },
    {
     "cell_type": "markdown",
     "metadata": {},
     "source": [
      "Iterating on elements in list requires the sequential accessing of the list. This can be done using <span style=\"color: #0000FF\">$for$</span> and <span style=\"color: #0000FF\">$while$</span> control structures."
     ]
    },
    {
     "cell_type": "code",
     "collapsed": false,
     "input": [
      "# Looping: for\n",
      "\n",
      "dwarf = [\"Eris\",\"Pluto\",\"Makemake\",\\\n",
      "\"Haumea\",\"Sedna\"]\n",
      "print dwarf\n"
     ],
     "language": "python",
     "metadata": {},
     "outputs": [
      {
       "output_type": "stream",
       "stream": "stdout",
       "text": [
        "['Eris', 'Pluto', 'Makemake', 'Haumea', 'Sedna']\n"
       ]
      }
     ],
     "prompt_number": 6
    },
    {
     "cell_type": "code",
     "collapsed": false,
     "input": [
      "for name in dwarf:\n",
      "    print name"
     ],
     "language": "python",
     "metadata": {},
     "outputs": [
      {
       "output_type": "stream",
       "stream": "stdout",
       "text": [
        "Eris\n",
        "Pluto\n",
        "Makemake\n",
        "Haumea\n",
        "Sedna\n"
       ]
      }
     ],
     "prompt_number": 7
    },
    {
     "cell_type": "code",
     "collapsed": false,
     "input": [
      "for z in range(len(dwarf)):\n",
      "    print \"%d\\t%s\" % (z,dwarf[z])"
     ],
     "language": "python",
     "metadata": {},
     "outputs": [
      {
       "output_type": "stream",
       "stream": "stdout",
       "text": [
        "0\tEris\n",
        "1\tPluto\n",
        "2\tMakemake\n",
        "3\tHaumea\n",
        "4\tSedna\n"
       ]
      }
     ],
     "prompt_number": 8
    },
    {
     "cell_type": "code",
     "collapsed": false,
     "input": [
      "for z in range(0,len(dwarf),1):\n",
      "    print \"%d\\t%s\" % (z+1,dwarf[z])"
     ],
     "language": "python",
     "metadata": {},
     "outputs": [
      {
       "output_type": "stream",
       "stream": "stdout",
       "text": [
        "1\tEris\n",
        "2\tPluto\n",
        "3\tMakemake\n",
        "4\tHaumea\n",
        "5\tSedna\n"
       ]
      }
     ],
     "prompt_number": 10
    },
    {
     "cell_type": "code",
     "collapsed": false,
     "input": [
      "# Looping: while\n",
      "\n",
      "z = 0\n",
      "while z < 5:\n",
      "    print \"%d\\t%s\" % (z+1,dwarf[z])\n",
      "    z = z + 1"
     ],
     "language": "python",
     "metadata": {},
     "outputs": [
      {
       "output_type": "stream",
       "stream": "stdout",
       "text": [
        "1\tEris\n",
        "2\tPluto\n",
        "3\tMakemake\n",
        "4\tHaumea\n",
        "5\tSedna\n"
       ]
      }
     ],
     "prompt_number": 11
    },
    {
     "cell_type": "code",
     "collapsed": false,
     "input": [
      "z = 0\n",
      "while z < len(dwarf):\n",
      "    print \"%d\\t%s\" % (z+1,dwarf[z])\n",
      "    z = z + 1"
     ],
     "language": "python",
     "metadata": {},
     "outputs": [
      {
       "output_type": "stream",
       "stream": "stdout",
       "text": [
        "1\tEris\n",
        "2\tPluto\n",
        "3\tMakemake\n",
        "4\tHaumea\n",
        "5\tSedna\n"
       ]
      }
     ],
     "prompt_number": 12
    },
    {
     "cell_type": "markdown",
     "metadata": {},
     "source": [
      "####<span style=\"color: #F5DA81; background-color: #610B4B\">Example 4.3</span>: Calculate and print each value of x`*`y with:\n",
      "####x = [12.1,7.3,6.2,9.9,0.5]\n",
      "####y = [4.5,6.1,3.9,1.7,8.0]"
     ]
    },
    {
     "cell_type": "code",
     "collapsed": false,
     "input": [
      "x = [12.1,7.3,6.2,9.9,0.5]\n",
      "y = [4.5,6.1,3.9,1.7,8.0]\n",
      "\n",
      "i = 0\n",
      "xy = []\n",
      "while i < (len(x)):\n",
      "    xy = xy + [x[i]*y[i]]\n",
      "    i = i + 1\n",
      "    \n",
      "print xy"
     ],
     "language": "python",
     "metadata": {},
     "outputs": [
      {
       "output_type": "stream",
       "stream": "stdout",
       "text": [
        "[54.449999999999996, 44.529999999999994, 24.18, 16.830000000000002, 4.0]\n"
       ]
      }
     ],
     "prompt_number": 36
    },
    {
     "cell_type": "markdown",
     "metadata": {},
     "source": [
      "####<span style=\"color: #F5DA81; background-color: #610B4B\">Example 4.4</span>: Calculate and print each value of x2`*`y2 with:\n",
      "####x2 = [[12.1,7.3],[6.2,9.9]]\n",
      "####y2 = [[4.5,6.1],[3.9,1.7]]"
     ]
    },
    {
     "cell_type": "code",
     "collapsed": false,
     "input": [
      "x2 = [[12.1,7.3],[6.2,9.9]]\n",
      "y2 = [[4.5,6.1],[3.9,1.7]]\n",
      "\n",
      "j = 0\n",
      "xy2 = []\n",
      "xy3 = []\n",
      "while j < (len(x2)):\n",
      "    k = 0\n",
      "    for k in range(len(x2)):\n",
      "        xy3 = xy3 + [x2[j][k]*y2[j][k]]\n",
      "        k = k + 1\n",
      "    xy2 = xy2 + [xy3]\n",
      "    xy3 = []\n",
      "    j = j + 1\n",
      "    \n",
      "print xy2"
     ],
     "language": "python",
     "metadata": {},
     "outputs": [
      {
       "output_type": "stream",
       "stream": "stdout",
       "text": [
        "[[54.449999999999996, 44.529999999999994], [24.18, 16.830000000000002]]\n"
       ]
      }
     ],
     "prompt_number": 40
    },
    {
     "cell_type": "markdown",
     "metadata": {},
     "source": [
      "####<span style=\"color: #F5DA81; background-color: #610B4B\">Example 4.5</span>: Just create a list that contains the $f(x)$ value of a _Gaussian_ distribution with $\\sigma$ = 0.4 and $\\mu$ = 5."
     ]
    },
    {
     "cell_type": "markdown",
     "metadata": {},
     "source": [
      "The gaussian function:$$f(x) = e^{\\frac{-(x-\\mu)^2}{2\\sigma^2}}$$"
     ]
    },
    {
     "cell_type": "code",
     "collapsed": false,
     "input": [
      "from math import *\n",
      "\n",
      "sigma = 0.4\n",
      "mu = 5.0\n",
      "\n",
      "x_val = []\n",
      "ctr = 3\n",
      "while ctr < 7:\n",
      "    x_val = x_val + [ctr]\n",
      "    ctr = ctr + 0.1\n",
      "\n",
      "fx = []\n",
      "for n in range(0,len(x_val),1):\n",
      "    intensity = exp(-(x_val[n]-mu)**2/(2*sigma**2))\n",
      "    fx = fx + [intensity]\n",
      "    print '%f\\t%s' % (intensity,int(intensity*50)*'*')\n",
      "\n",
      "fx"
     ],
     "language": "python",
     "metadata": {},
     "outputs": [
      {
       "output_type": "stream",
       "stream": "stdout",
       "text": [
        "0.000004\t\n",
        "0.000013\t\n",
        "0.000040\t\n",
        "0.000120\t\n",
        "0.000335\t\n",
        "0.000884\t\n",
        "0.002187\t\n",
        "0.005086\t\n",
        "0.011109\t\n",
        "0.022794\t*\n",
        "0.043937\t**\n",
        "0.079560\t***\n",
        "0.135335\t******\n",
        "0.216265\t**********\n",
        "0.324652\t****************\n",
        "0.457833\t**********************\n",
        "0.606531\t******************************\n",
        "0.754840\t*************************************\n",
        "0.882497\t********************************************\n",
        "0.969233\t************************************************\n",
        "1.000000\t**************************************************\n",
        "0.969233\t************************************************\n",
        "0.882497\t********************************************\n",
        "0.754840\t*************************************\n",
        "0.606531\t******************************\n",
        "0.457833\t**********************\n",
        "0.324652\t****************\n",
        "0.216265\t**********\n",
        "0.135335\t******\n",
        "0.079560\t***\n",
        "0.043937\t**\n",
        "0.022794\t*\n",
        "0.011109\t\n",
        "0.005086\t\n",
        "0.002187\t\n",
        "0.000884\t\n",
        "0.000335\t\n",
        "0.000120\t\n",
        "0.000040\t\n",
        "0.000013\t\n",
        "0.000004\t\n"
       ]
      },
      {
       "metadata": {},
       "output_type": "pyout",
       "prompt_number": 56,
       "text": [
        "[3.7266531720786777e-06,\n",
        " 1.2607105177048545e-05,\n",
        " 4.006529739295121e-05,\n",
        " 0.00011961288358102479,\n",
        " 0.00033546262790251364,\n",
        " 0.0008838263069350546,\n",
        " 0.0021874911181828985,\n",
        " 0.005086069231012732,\n",
        " 0.011108996538242375,\n",
        " 0.022794180883612486,\n",
        " 0.04393693362340769,\n",
        " 0.07955950871822796,\n",
        " 0.13533528323661287,\n",
        " 0.2162651668298872,\n",
        " 0.32465246735834913,\n",
        " 0.45783336177161305,\n",
        " 0.6065306597126316,\n",
        " 0.7548396019890051,\n",
        " 0.8824969025845932,\n",
        " 0.9692332344763427,\n",
        " 1.0,\n",
        " 0.9692332344763459,\n",
        " 0.8824969025845991,\n",
        " 0.7548396019890127,\n",
        " 0.6065306597126396,\n",
        " 0.45783336177162065,\n",
        " 0.3246524673583556,\n",
        " 0.21626516682989225,\n",
        " 0.13533528323661645,\n",
        " 0.07955950871823037,\n",
        " 0.043936933623409155,\n",
        " 0.022794180883613388,\n",
        " 0.0111089965382429,\n",
        " 0.005086069231013008,\n",
        " 0.002187491118183033,\n",
        " 0.0008838263069351174,\n",
        " 0.00033546262790254015,\n",
        " 0.00011961288358103563,\n",
        " 4.006529739295526e-05,\n",
        " 1.2607105177049956e-05,\n",
        " 3.7266531720791343e-06]"
       ]
      }
     ],
     "prompt_number": 56
    },
    {
     "cell_type": "markdown",
     "metadata": {},
     "source": [
      "***\n",
      "###**_4.2 The Dictionaries_**"
     ]
    },
    {
     "cell_type": "markdown",
     "metadata": {},
     "source": [
      "Dictionaries is similar to \"associative arrays\" in many other programming language. Dictionaries are indexed by keys that can be strings or numbers. Acessing data in dictionaries is by specifying the keys instead of index number. Data can be anything including dictionaries. Dictionaries can be declared by using curly brackets."
     ]
    },
    {
     "cell_type": "code",
     "collapsed": false,
     "input": [
      "Stars = {1:'Sun', 2:'Alpha Centauri', 3:\"Barnard's Star\",\\\n",
      "         4:'Luhman 16', 5:'WISE 0855-0714'}\n",
      "\n",
      "Stars[3]      # Specify the key instead of index number"
     ],
     "language": "python",
     "metadata": {},
     "outputs": [
      {
       "metadata": {},
       "output_type": "pyout",
       "prompt_number": 15,
       "text": [
        "\"Barnard's Star\""
       ]
      }
     ],
     "prompt_number": 15
    },
    {
     "cell_type": "code",
     "collapsed": false,
     "input": [
      "Stars_Dist = {'Sun':0, 'Alpha Centauri':4.24, \"Barnard's Star\":6.00,\\\n",
      "         'Luhman 16':6.60, 'WISE 0855-0714':7.0}\n",
      "\n",
      "print 'Alpha Centauri is %.2f light years from earth.' % \\\n",
      "(Stars_Dist['Alpha Centauri'])"
     ],
     "language": "python",
     "metadata": {},
     "outputs": [
      {
       "output_type": "stream",
       "stream": "stdout",
       "text": [
        "Alpha Centauri is 4.24 light years from earth.\n"
       ]
      }
     ],
     "prompt_number": 18
    },
    {
     "cell_type": "code",
     "collapsed": false,
     "input": [
      "Stars_List = {1:['Sun',0], 2:['Alpha Centauri',4.24],\\\n",
      "              3:[\"Barnard's Star\",6.00], 4:['Luhman 16',6.60],\\\n",
      "              5:['WISE 0855-0714',7.0]}\n",
      "\n",
      "print '%s is the fourth closest star at about %.2f light \\\n",
      "\\nyears from earth.' % (Stars_List[4][0],Stars_List[4][1])"
     ],
     "language": "python",
     "metadata": {},
     "outputs": [
      {
       "output_type": "stream",
       "stream": "stdout",
       "text": [
        "Luhman 16 is the fourth closest star at about 6.60 light \n",
        "years from earth.\n"
       ]
      }
     ],
     "prompt_number": 24
    },
    {
     "cell_type": "code",
     "collapsed": false,
     "input": [
      "Coetzee = {1974:'Dusklands',\n",
      "           1977:'In The Heart Of The Country',\n",
      "           1980:'Waiting For The Barbarians',\n",
      "           1983:'Life & Times Of Michael K'}\n",
      "\n",
      "McCarthy = {1992:'All the Pretty Horses',\n",
      "            1994:'The Crossing',\n",
      "            1998:'Cities of the Plain',\n",
      "            2005:'No Country for Old Men',\n",
      "            2006:'The Road'}\n",
      "\n",
      "Steinbeck = {1937:'Of Mice And Men',\n",
      "             1939:'The Grapes Of Wrath',\n",
      "             1945:'Cannery Row',\n",
      "             1952:'East Of Eden',\n",
      "             1961:'The Winter Of Our Discontent'}\n",
      "\n",
      "Lewis = {'Narnia Series':{1950:'The Lion, the Witch and the Wardrobe',\n",
      "         1951:'Prince Caspian: The Return to Narnia',\n",
      "         1952:'The Voyage of the Dawn Treader',\n",
      "         1953:'The Silver Chair',\n",
      "         1954:'The Horse and His Boy',\n",
      "         1955:\"The Magician's Nephew\",\n",
      "         1956:'The Last Battle'\n",
      "         }}\n",
      "\n",
      "Author = {'South Africa':Coetzee,'USA':[McCarthy,Steinbeck],\n",
      "          'British':Lewis}"
     ],
     "language": "python",
     "metadata": {},
     "outputs": [],
     "prompt_number": 18
    },
    {
     "cell_type": "code",
     "collapsed": false,
     "input": [
      "Author['South Africa'][1983]"
     ],
     "language": "python",
     "metadata": {},
     "outputs": [
      {
       "metadata": {},
       "output_type": "pyout",
       "prompt_number": 19,
       "text": [
        "'Life & Times Of Michael K'"
       ]
      }
     ],
     "prompt_number": 19
    },
    {
     "cell_type": "code",
     "collapsed": false,
     "input": [
      "Author['USA'][1][1939]"
     ],
     "language": "python",
     "metadata": {},
     "outputs": [
      {
       "metadata": {},
       "output_type": "pyout",
       "prompt_number": 20,
       "text": [
        "'The Grapes Of Wrath'"
       ]
      }
     ],
     "prompt_number": 20
    },
    {
     "cell_type": "code",
     "collapsed": false,
     "input": [
      "Author['British']['Narnia Series'][1953]"
     ],
     "language": "python",
     "metadata": {},
     "outputs": [
      {
       "metadata": {},
       "output_type": "pyout",
       "prompt_number": 21,
       "text": [
        "'The Silver Chair'"
       ]
      }
     ],
     "prompt_number": 21
    },
    {
     "cell_type": "markdown",
     "metadata": {},
     "source": [
      "More on list and dictionaries can be found on https://docs.python.org/2/tutorial/datastructures.html"
     ]
    },
    {
     "cell_type": "markdown",
     "metadata": {},
     "source": [
      "***\n",
      "####_Megat Harun Al Rashid bin Megat Ahmad_\n",
      "_October 2, 2014_"
     ]
    }
   ],
   "metadata": {}
  }
 ]
}