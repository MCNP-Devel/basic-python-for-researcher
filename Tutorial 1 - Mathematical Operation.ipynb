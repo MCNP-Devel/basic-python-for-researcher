{
 "metadata": {
  "name": "",
  "signature": "sha256:004febac9c3a7e9cf594f22d4ae2649d8b40769a2cf950cbd6d8b09e3bb34b94"
 },
 "nbformat": 3,
 "nbformat_minor": 0,
 "worksheets": [
  {
   "cells": [
    {
     "cell_type": "markdown",
     "metadata": {},
     "source": [
      "#<span style=\"color: #B40486\">BASIC PYTHON FOR RESEARCHERS</span>"
     ]
    },
    {
     "cell_type": "markdown",
     "metadata": {},
     "source": [
      "_by_ [**_Megat Harun Al Rashid bin Megat Ahmad_**](https://www.researchgate.net/profile/Megat_Harun_Megat_Ahmad)  \n",
      "last updated: October 23, 2014"
     ]
    },
    {
     "cell_type": "markdown",
     "metadata": {},
     "source": [
      "-------\n",
      "##_<span style=\"color: #29088A\">1. Mathematical Operations</span>_\n"
     ]
    },
    {
     "cell_type": "markdown",
     "metadata": {},
     "source": [
      "Before we start, we would like to see the _Python_ and _IPython_ versions that we are going to use. These can be obtained by simply typing:"
     ]
    },
    {
     "cell_type": "code",
     "collapsed": false,
     "input": [
      "!python --version"
     ],
     "language": "python",
     "metadata": {},
     "outputs": [
      {
       "output_type": "stream",
       "stream": "stdout",
       "text": [
        "Python 2.7.8 :: Anaconda 2.1.0 (64-bit)\r\n"
       ]
      }
     ],
     "prompt_number": 1
    },
    {
     "cell_type": "code",
     "collapsed": false,
     "input": [
      "!ipython --version"
     ],
     "language": "python",
     "metadata": {},
     "outputs": [
      {
       "output_type": "stream",
       "stream": "stdout",
       "text": [
        "2.2.0\r\n"
       ]
      }
     ],
     "prompt_number": 2
    },
    {
     "cell_type": "markdown",
     "metadata": {},
     "source": [
      "Simple mathematical operations are part of the native _Python_ features but advanced mathematical tools can be used by importing the <span style=\"color: #0000FF\">$math$</span> library."
     ]
    },
    {
     "cell_type": "code",
     "collapsed": false,
     "input": [
      "from math import *"
     ],
     "language": "python",
     "metadata": {},
     "outputs": [],
     "prompt_number": 1
    },
    {
     "cell_type": "markdown",
     "metadata": {},
     "source": [
      "The syntax above when executed allows the usage of mathematical functions available in the <span style=\"color: #0000FF\">$math$</span> library. The `'*'` means everything _i.e._ all functions in the <span style=\"color: #0000FF\">$math$</span> library are imported and can be used. It is also possible to import a specific function and rename it but this will be explored in the forthcoming tutorials."
     ]
    },
    {
     "cell_type": "markdown",
     "metadata": {},
     "source": [
      "Now let us do some simple mathematical operations:"
     ]
    },
    {
     "cell_type": "markdown",
     "metadata": {},
     "source": [
      "***\n",
      "###**_1.1 Addition and Substraction_**"
     ]
    },
    {
     "cell_type": "code",
     "collapsed": false,
     "input": [
      "12+7"
     ],
     "language": "python",
     "metadata": {},
     "outputs": [
      {
       "metadata": {},
       "output_type": "pyout",
       "prompt_number": 4,
       "text": [
        "19"
       ]
      }
     ],
     "prompt_number": 4
    },
    {
     "cell_type": "code",
     "collapsed": false,
     "input": [
      "23 + 67 - 34"
     ],
     "language": "python",
     "metadata": {},
     "outputs": [
      {
       "metadata": {},
       "output_type": "pyout",
       "prompt_number": 5,
       "text": [
        "56"
       ]
      }
     ],
     "prompt_number": 5
    },
    {
     "cell_type": "markdown",
     "metadata": {},
     "source": [
      "Trailing white space is ignored by _Python_. Operation on floating points is on the fly as well as can be declared first:"
     ]
    },
    {
     "cell_type": "code",
     "collapsed": false,
     "input": [
      "12.34 + 8"
     ],
     "language": "python",
     "metadata": {},
     "outputs": [
      {
       "metadata": {},
       "output_type": "pyout",
       "prompt_number": 6,
       "text": [
        "20.34"
       ]
      }
     ],
     "prompt_number": 6
    },
    {
     "cell_type": "code",
     "collapsed": false,
     "input": [
      "float(13) - 7"
     ],
     "language": "python",
     "metadata": {},
     "outputs": [
      {
       "metadata": {},
       "output_type": "pyout",
       "prompt_number": 7,
       "text": [
        "6.0"
       ]
      }
     ],
     "prompt_number": 7
    },
    {
     "cell_type": "markdown",
     "metadata": {},
     "source": [
      "***\n",
      "###**_1.2 Multiplication and Division_**"
     ]
    },
    {
     "cell_type": "code",
     "collapsed": false,
     "input": [
      "12 * 38"
     ],
     "language": "python",
     "metadata": {},
     "outputs": [
      {
       "metadata": {},
       "output_type": "pyout",
       "prompt_number": 8,
       "text": [
        "456"
       ]
      }
     ],
     "prompt_number": 8
    },
    {
     "cell_type": "code",
     "collapsed": false,
     "input": [
      "9 / 3"
     ],
     "language": "python",
     "metadata": {},
     "outputs": [
      {
       "metadata": {},
       "output_type": "pyout",
       "prompt_number": 9,
       "text": [
        "3"
       ]
      }
     ],
     "prompt_number": 9
    },
    {
     "cell_type": "code",
     "collapsed": false,
     "input": [
      "15/6"
     ],
     "language": "python",
     "metadata": {},
     "outputs": [
      {
       "metadata": {},
       "output_type": "pyout",
       "prompt_number": 10,
       "text": [
        "2"
       ]
      }
     ],
     "prompt_number": 10
    },
    {
     "cell_type": "markdown",
     "metadata": {},
     "source": [
      "Division between integers will give a truncated integer value (instead of being rounded up). It is good practice to use floating point number instead by declaring one of the integer with decimal point."
     ]
    },
    {
     "cell_type": "code",
     "collapsed": false,
     "input": [
      "15.0/6"
     ],
     "language": "python",
     "metadata": {},
     "outputs": [
      {
       "metadata": {},
       "output_type": "pyout",
       "prompt_number": 11,
       "text": [
        "2.5"
       ]
      }
     ],
     "prompt_number": 11
    },
    {
     "cell_type": "markdown",
     "metadata": {},
     "source": [
      "***\n",
      "###**_1.3 Exponent and Root_**"
     ]
    },
    {
     "cell_type": "markdown",
     "metadata": {},
     "source": [
      "Exponent can be declared by using 'e' or 'E' letters with no trailing space:"
     ]
    },
    {
     "cell_type": "code",
     "collapsed": false,
     "input": [
      "3E12"
     ],
     "language": "python",
     "metadata": {},
     "outputs": [
      {
       "metadata": {},
       "output_type": "pyout",
       "prompt_number": 12,
       "text": [
        "3000000000000.0"
       ]
      }
     ],
     "prompt_number": 12
    },
    {
     "cell_type": "code",
     "collapsed": false,
     "input": [
      "7.9e-12 * 6"
     ],
     "language": "python",
     "metadata": {},
     "outputs": [
      {
       "metadata": {},
       "output_type": "pyout",
       "prompt_number": 13,
       "text": [
        "4.74e-11"
       ]
      }
     ],
     "prompt_number": 13
    },
    {
     "cell_type": "markdown",
     "metadata": {},
     "source": [
      "Root (and power) can be declared using the `'**'` character."
     ]
    },
    {
     "cell_type": "code",
     "collapsed": false,
     "input": [
      "2**3"
     ],
     "language": "python",
     "metadata": {},
     "outputs": [
      {
       "metadata": {},
       "output_type": "pyout",
       "prompt_number": 14,
       "text": [
        "8"
       ]
      }
     ],
     "prompt_number": 14
    },
    {
     "cell_type": "markdown",
     "metadata": {},
     "source": [
      "And _vice versa_ (where you should get the value 2)"
     ]
    },
    {
     "cell_type": "code",
     "collapsed": false,
     "input": [
      "8**1.0/3"
     ],
     "language": "python",
     "metadata": {},
     "outputs": [
      {
       "metadata": {},
       "output_type": "pyout",
       "prompt_number": 15,
       "text": [
        "2.6666666666666665"
       ]
      }
     ],
     "prompt_number": 15
    },
    {
     "cell_type": "markdown",
     "metadata": {},
     "source": [
      "But you do not get the value of two. Herein you need to know that _Python_ follows the usual order of operation in mathematical expressions. The standard order of operations is expressed in the following enumeration:\n",
      "\n",
      "1. Exponent and Root.\n",
      "2. Multiplication and Division.\n",
      "3. Addition and Substraction.\n",
      "\n",
      "Lower order can be prioritize by using paranthesis.\n"
     ]
    },
    {
     "cell_type": "markdown",
     "metadata": {},
     "source": [
      "To get the correct value for $8^{\\frac{1}{3}}$, the $1.0/3$ operation is parenthesized which means that it will be evaluated first instead of the operation $8^{1.0}$."
     ]
    },
    {
     "cell_type": "code",
     "collapsed": false,
     "input": [
      "8**(1.0/3)"
     ],
     "language": "python",
     "metadata": {},
     "outputs": [
      {
       "metadata": {},
       "output_type": "pyout",
       "prompt_number": 16,
       "text": [
        "2.0"
       ]
      }
     ],
     "prompt_number": 16
    },
    {
     "cell_type": "markdown",
     "metadata": {},
     "source": [
      "The floating value can be change into an integer by declaring it as integer:"
     ]
    },
    {
     "cell_type": "code",
     "collapsed": false,
     "input": [
      "int(8**(1.0/3))"
     ],
     "language": "python",
     "metadata": {},
     "outputs": [
      {
       "metadata": {},
       "output_type": "pyout",
       "prompt_number": 17,
       "text": [
        "2"
       ]
      }
     ],
     "prompt_number": 17
    },
    {
     "cell_type": "markdown",
     "metadata": {},
     "source": [
      "There is also built-in function for square root and power that can be used:"
     ]
    },
    {
     "cell_type": "code",
     "collapsed": false,
     "input": [
      "sqrt(9)"
     ],
     "language": "python",
     "metadata": {},
     "outputs": [
      {
       "metadata": {},
       "output_type": "pyout",
       "prompt_number": 18,
       "text": [
        "3.0"
       ]
      }
     ],
     "prompt_number": 18
    },
    {
     "cell_type": "markdown",
     "metadata": {},
     "source": [
      "which is the operation for $\\sqrt{9}$ whereas..."
     ]
    },
    {
     "cell_type": "code",
     "collapsed": false,
     "input": [
      "pow(2,3)"
     ],
     "language": "python",
     "metadata": {},
     "outputs": [
      {
       "metadata": {},
       "output_type": "pyout",
       "prompt_number": 19,
       "text": [
        "8.0"
       ]
      }
     ],
     "prompt_number": 19
    },
    {
     "cell_type": "markdown",
     "metadata": {},
     "source": [
      "...is the operation for $2^3$. You can also used <span style=\"color: #0000FF\">$pow$</span> function to perform root operation."
     ]
    },
    {
     "cell_type": "code",
     "collapsed": false,
     "input": [
      "pow(9,(1.0/2))   "
     ],
     "language": "python",
     "metadata": {},
     "outputs": [
      {
       "metadata": {},
       "output_type": "pyout",
       "prompt_number": 20,
       "text": [
        "3.0"
       ]
      }
     ],
     "prompt_number": 20
    },
    {
     "cell_type": "code",
     "collapsed": false,
     "input": [
      "pow(8.2,0.43)"
     ],
     "language": "python",
     "metadata": {},
     "outputs": [
      {
       "metadata": {},
       "output_type": "pyout",
       "prompt_number": 21,
       "text": [
        "2.4713824398960362"
       ]
      }
     ],
     "prompt_number": 21
    },
    {
     "cell_type": "markdown",
     "metadata": {},
     "source": [
      "The <span style=\"color: #0000FF\">$log(x)$</span> and <span style=\"color: #0000FF\">$log10(x)$</span> functions return natural and base 10 logarithmic for <span style=\"color: #0000FF\">$x$</span> value. "
     ]
    },
    {
     "cell_type": "code",
     "collapsed": false,
     "input": [
      "log(100)"
     ],
     "language": "python",
     "metadata": {},
     "outputs": [
      {
       "metadata": {},
       "output_type": "pyout",
       "prompt_number": 22,
       "text": [
        "4.605170185988092"
       ]
      }
     ],
     "prompt_number": 22
    },
    {
     "cell_type": "code",
     "collapsed": false,
     "input": [
      "log10(1000)"
     ],
     "language": "python",
     "metadata": {},
     "outputs": [
      {
       "metadata": {},
       "output_type": "pyout",
       "prompt_number": 23,
       "text": [
        "3.0"
       ]
      }
     ],
     "prompt_number": 23
    },
    {
     "cell_type": "markdown",
     "metadata": {},
     "source": [
      "The function <span style=\"color: #0000FF\">$log(x,y)$</span> returns base <span style=\"color: #0000FF\">$y$</span> for <span style=\"color: #0000FF\">$x$</span> value. Exponential value can directly be used using the 'e' letter."
     ]
    },
    {
     "cell_type": "code",
     "collapsed": false,
     "input": [
      "log(1000,8)"
     ],
     "language": "python",
     "metadata": {},
     "outputs": [
      {
       "metadata": {},
       "output_type": "pyout",
       "prompt_number": 24,
       "text": [
        "3.3219280948873626"
       ]
      }
     ],
     "prompt_number": 24
    },
    {
     "cell_type": "code",
     "collapsed": false,
     "input": [
      "e"
     ],
     "language": "python",
     "metadata": {},
     "outputs": [
      {
       "metadata": {},
       "output_type": "pyout",
       "prompt_number": 25,
       "text": [
        "2.718281828459045"
       ]
      }
     ],
     "prompt_number": 25
    },
    {
     "cell_type": "code",
     "collapsed": false,
     "input": [
      "log(e)"
     ],
     "language": "python",
     "metadata": {},
     "outputs": [
      {
       "metadata": {},
       "output_type": "pyout",
       "prompt_number": 26,
       "text": [
        "1.0"
       ]
      }
     ],
     "prompt_number": 26
    },
    {
     "cell_type": "markdown",
     "metadata": {},
     "source": [
      "***\n",
      "###**_1.4 Trigonometric functions_**"
     ]
    },
    {
     "cell_type": "markdown",
     "metadata": {},
     "source": [
      "_Python_ only accept radian value for trigonometric operations. For instance, an angle with a value of $60^o$ needs to be converted to radian before trigonometric operation. This include the usage of $\\pi$ which can directly be used using the 'pi' term."
     ]
    },
    {
     "cell_type": "code",
     "collapsed": false,
     "input": [
      "pi"
     ],
     "language": "python",
     "metadata": {},
     "outputs": [
      {
       "metadata": {},
       "output_type": "pyout",
       "prompt_number": 27,
       "text": [
        "3.141592653589793"
       ]
      }
     ],
     "prompt_number": 27
    },
    {
     "cell_type": "code",
     "collapsed": false,
     "input": [
      "sin(60*pi/180)"
     ],
     "language": "python",
     "metadata": {},
     "outputs": [
      {
       "metadata": {},
       "output_type": "pyout",
       "prompt_number": 28,
       "text": [
        "0.8660254037844386"
       ]
      }
     ],
     "prompt_number": 28
    },
    {
     "cell_type": "markdown",
     "metadata": {},
     "source": [
      "(_Floating point arithmatic is not exact because decimal fraction cannot be represented exactly as binary (base 2) fraction in the computer hardware logical operation._)"
     ]
    },
    {
     "cell_type": "code",
     "collapsed": false,
     "input": [
      "sin(30*pi/180)"
     ],
     "language": "python",
     "metadata": {},
     "outputs": [
      {
       "metadata": {},
       "output_type": "pyout",
       "prompt_number": 29,
       "text": [
        "0.49999999999999994"
       ]
      }
     ],
     "prompt_number": 29
    },
    {
     "cell_type": "code",
     "collapsed": false,
     "input": [
      "cos(60*pi/180)"
     ],
     "language": "python",
     "metadata": {},
     "outputs": [
      {
       "metadata": {},
       "output_type": "pyout",
       "prompt_number": 30,
       "text": [
        "0.5000000000000001"
       ]
      }
     ],
     "prompt_number": 30
    },
    {
     "cell_type": "markdown",
     "metadata": {},
     "source": [
      "It is also possible to use <span style=\"color: #0000FF\">$radians(x)$</span> function which converts <span style=\"color: #0000FF\">$x$</span> degree into radian (and there is also <span style=\"color: #0000FF\">$degrees(x)$</span> function that convert radian into degree)."
     ]
    },
    {
     "cell_type": "code",
     "collapsed": false,
     "input": [
      "sin(radians(60))"
     ],
     "language": "python",
     "metadata": {},
     "outputs": [
      {
       "metadata": {},
       "output_type": "pyout",
       "prompt_number": 31,
       "text": [
        "0.8660254037844386"
       ]
      }
     ],
     "prompt_number": 31
    },
    {
     "cell_type": "code",
     "collapsed": false,
     "input": [
      "sin(radians(30))**2 + cos(radians(30))**2"
     ],
     "language": "python",
     "metadata": {},
     "outputs": [
      {
       "metadata": {},
       "output_type": "pyout",
       "prompt_number": 32,
       "text": [
        "1.0"
       ]
      }
     ],
     "prompt_number": 32
    },
    {
     "cell_type": "markdown",
     "metadata": {},
     "source": [
      "####<span style=\"color: #F5DA81; background-color: #610B4B\">Example 1.1</span>: What is the value of $\\theta$ in degree if y = 1 and x = 1.732 in the Figure 1 below"
     ]
    },
    {
     "cell_type": "markdown",
     "metadata": {},
     "source": [
      "<img src=\"Tutorial1/Tri2.png\" width=\"200\" >"
     ]
    },
    {
     "cell_type": "markdown",
     "metadata": {},
     "source": [
      ">>>>>>Figure  1"
     ]
    },
    {
     "cell_type": "code",
     "collapsed": false,
     "input": [
      "atan2(1,1.732)*180/pi"
     ],
     "language": "python",
     "metadata": {},
     "outputs": [
      {
       "metadata": {},
       "output_type": "pyout",
       "prompt_number": 33,
       "text": [
        "30.000727780827372"
       ]
      }
     ],
     "prompt_number": 33
    },
    {
     "cell_type": "markdown",
     "metadata": {},
     "source": [
      "The <span style=\"color: #0000FF\">$atan2(y,x)$</span> function will give the angle <span style=\"color: #0000FF\">$\\theta$</span> value in radian or by calculating the value of <span style=\"color: #0000FF\">$y/x$</span> first and then use it as the <span style=\"color: #0000FF\">$x$</span> argument for <span style=\"color: #0000FF\">$atan(x)$</span> function."
     ]
    },
    {
     "cell_type": "code",
     "collapsed": false,
     "input": [
      "atan(1/1.732)*180/pi"
     ],
     "language": "python",
     "metadata": {},
     "outputs": [
      {
       "metadata": {},
       "output_type": "pyout",
       "prompt_number": 34,
       "text": [
        "30.000727780827372"
       ]
      }
     ],
     "prompt_number": 34
    },
    {
     "cell_type": "markdown",
     "metadata": {},
     "source": [
      "####<span style=\"color: #F5DA81; background-color: #610B4B\">Example 1.2</span>: From the values given in Example 1.1 what is the hypotenuse value of the triangle and calculate $\\theta$ using this hypotenuse value and the given $x$ value."
     ]
    },
    {
     "cell_type": "code",
     "collapsed": false,
     "input": [
      "hypot(1.732,1)"
     ],
     "language": "python",
     "metadata": {},
     "outputs": [
      {
       "metadata": {},
       "output_type": "pyout",
       "prompt_number": 35,
       "text": [
        "1.9999559995159892"
       ]
      }
     ],
     "prompt_number": 35
    },
    {
     "cell_type": "code",
     "collapsed": false,
     "input": [
      "degrees(acos(1.732/1.999956))"
     ],
     "language": "python",
     "metadata": {},
     "outputs": [
      {
       "metadata": {},
       "output_type": "pyout",
       "prompt_number": 36,
       "text": [
        "30.00072780484361"
       ]
      }
     ],
     "prompt_number": 36
    },
    {
     "cell_type": "markdown",
     "metadata": {},
     "source": [
      "Further mathematical functions on <span style=\"color: #0000FF\">$math$</span> library can be found in https://docs.python.org/2/library/math.html"
     ]
    },
    {
     "cell_type": "markdown",
     "metadata": {},
     "source": [
      "***\n",
      "###**_1.5 Variables_**"
     ]
    },
    {
     "cell_type": "markdown",
     "metadata": {},
     "source": [
      "A numerical value can be assigned to a variable by using the `'='` operation. For instance:"
     ]
    },
    {
     "cell_type": "code",
     "collapsed": false,
     "input": [
      "x = 34.5"
     ],
     "language": "python",
     "metadata": {},
     "outputs": [],
     "prompt_number": 37
    },
    {
     "cell_type": "markdown",
     "metadata": {},
     "source": [
      "which means that <span style=\"color: #0000FF\">$x$</span> has been assigned a value of <span style=\"color: #0000FF\">34.5</span>. In _Python_, variable type is specified during the assignment of the variable and need not be declared beforehand _e.g._ if an integer is assigned to a variable, then the variable is of integer type. Variables can be operated upon much like numerics."
     ]
    },
    {
     "cell_type": "code",
     "collapsed": false,
     "input": [
      "y = 23.9\n",
      "z = 12\n",
      "add = y + z - 5.7\n",
      "add"
     ],
     "language": "python",
     "metadata": {},
     "outputs": [
      {
       "metadata": {},
       "output_type": "pyout",
       "prompt_number": 38,
       "text": [
        "30.2"
       ]
      }
     ],
     "prompt_number": 38
    },
    {
     "cell_type": "markdown",
     "metadata": {},
     "source": [
      "Variable names can be made with continuous list of letters, numbers and underscore but cannot start with a number. Multiple variables can also be assigned in one line by separating each variables and values with comma."
     ]
    },
    {
     "cell_type": "code",
     "collapsed": false,
     "input": [
      "i,j,k = 23,45,17"
     ],
     "language": "python",
     "metadata": {},
     "outputs": [],
     "prompt_number": 39
    },
    {
     "cell_type": "code",
     "collapsed": false,
     "input": [
      "i"
     ],
     "language": "python",
     "metadata": {},
     "outputs": [
      {
       "metadata": {},
       "output_type": "pyout",
       "prompt_number": 40,
       "text": [
        "23"
       ]
      }
     ],
     "prompt_number": 40
    },
    {
     "cell_type": "code",
     "collapsed": false,
     "input": [
      "k"
     ],
     "language": "python",
     "metadata": {},
     "outputs": [
      {
       "metadata": {},
       "output_type": "pyout",
       "prompt_number": 41,
       "text": [
        "17"
       ]
      }
     ],
     "prompt_number": 41
    },
    {
     "cell_type": "markdown",
     "metadata": {},
     "source": [
      "####<span style=\"color: #F5DA81; background-color: #610B4B\">Exercise 1.1</span>: What is the profit before and after tax (45%) for a course:\n",
      "* Title: \u201cHow to use MATLAB like Pro\u201d.\n",
      "* Participants: limited to 21 persons.\n",
      "* Fee: RM 15,000/person.\n",
      "* Duration: half a week."
     ]
    },
    {
     "cell_type": "markdown",
     "metadata": {},
     "source": [
      "####<span style=\"color: red; background-color: yellow-light\">Solution 1.1</span>:"
     ]
    },
    {
     "cell_type": "markdown",
     "metadata": {},
     "source": [
      "`**********************************************************************`"
     ]
    },
    {
     "cell_type": "code",
     "collapsed": false,
     "input": [
      "profit = 21*15000\n",
      "profit"
     ],
     "language": "python",
     "metadata": {},
     "outputs": [
      {
       "metadata": {},
       "output_type": "pyout",
       "prompt_number": 42,
       "text": [
        "315000"
       ]
      }
     ],
     "prompt_number": 42
    },
    {
     "cell_type": "code",
     "collapsed": false,
     "input": [
      "profit_after_tax = profit*45.0/100\n",
      "profit_after_tax"
     ],
     "language": "python",
     "metadata": {},
     "outputs": [
      {
       "metadata": {},
       "output_type": "pyout",
       "prompt_number": 43,
       "text": [
        "141750.0"
       ]
      }
     ],
     "prompt_number": 43
    },
    {
     "cell_type": "markdown",
     "metadata": {},
     "source": [
      "`**********************************************************************`"
     ]
    },
    {
     "cell_type": "markdown",
     "metadata": {},
     "source": [
      "***\n",
      "###**_1.6 Advanced Topic: Symbolic Computation_**"
     ]
    },
    {
     "cell_type": "markdown",
     "metadata": {},
     "source": [
      "In symbolic computation, result of mathematical operation are represented exactly with unevaluated variables left in symbolic form. For instance, $\\sqrt{8}$ will give result of a value 2.83 but in symbolic computation, the result will be $2\\sqrt{2}$. _Python_ has symbolic mathematics (or sometime called computer algebra system or simply CAS) library named <span style=\"color: #0000FF\">$sympy$</span>. For a start, let try evaluate $\\sqrt{8}$ using <span style=\"color: #0000FF\">$sympy$</span> library."
     ]
    },
    {
     "cell_type": "code",
     "collapsed": false,
     "input": [
      "import sympy as sp\n",
      "\n",
      "sp.sqrt(8)"
     ],
     "language": "python",
     "metadata": {},
     "outputs": [
      {
       "metadata": {},
       "output_type": "pyout",
       "prompt_number": 44,
       "text": [
        "2*sqrt(2)"
       ]
      }
     ],
     "prompt_number": 44
    },
    {
     "cell_type": "markdown",
     "metadata": {},
     "source": [
      "the term **<span style=\"color: #088A08\">import</span> sympy <span style=\"color: #088A08\">as</span> sp** allows the calling of <span style=\"color: #0000FF\">$sympy$</span> functions simply by typing **sp.{function name}**. The expression can also be operated on _e.g._ multiplication with 23.4 will give:"
     ]
    },
    {
     "cell_type": "code",
     "collapsed": false,
     "input": [
      "sp.sqrt(8)*23.4"
     ],
     "language": "python",
     "metadata": {},
     "outputs": [
      {
       "metadata": {},
       "output_type": "pyout",
       "prompt_number": 45,
       "text": [
        "46.8*sqrt(2)"
       ]
      }
     ],
     "prompt_number": 45
    },
    {
     "cell_type": "markdown",
     "metadata": {},
     "source": [
      "It is also possible to operate on expression _e.g._ <span style=\"color: #0000FF\">$x + y + x$</span> will give <span style=\"color: #0000FF\">$2x + y$</span> by declaring <span style=\"color: #0000FF\">$x$</span> and <span style=\"color: #0000FF\">$y$</span> as symbolic representations:"
     ]
    },
    {
     "cell_type": "code",
     "collapsed": false,
     "input": [
      "x, y = sp.symbols('x y')\n",
      "x + y + x"
     ],
     "language": "python",
     "metadata": {},
     "outputs": [
      {
       "metadata": {},
       "output_type": "pyout",
       "prompt_number": 46,
       "text": [
        "2*x + y"
       ]
      }
     ],
     "prompt_number": 46
    },
    {
     "cell_type": "markdown",
     "metadata": {},
     "source": [
      "The resulting expression can be assign to variable and operated on:"
     ]
    },
    {
     "cell_type": "code",
     "collapsed": false,
     "input": [
      "expr = x + y + y\n",
      "2*expr"
     ],
     "language": "python",
     "metadata": {},
     "outputs": [
      {
       "metadata": {},
       "output_type": "pyout",
       "prompt_number": 47,
       "text": [
        "2*x + 4*y"
       ]
      }
     ],
     "prompt_number": 47
    },
    {
     "cell_type": "code",
     "collapsed": false,
     "input": [
      "x*expr"
     ],
     "language": "python",
     "metadata": {},
     "outputs": [
      {
       "metadata": {},
       "output_type": "pyout",
       "prompt_number": 48,
       "text": [
        "x*(x + 2*y)"
       ]
      }
     ],
     "prompt_number": 48
    },
    {
     "cell_type": "markdown",
     "metadata": {},
     "source": [
      "The <span style=\"color: #0000FF\">$sympy$</span> library can also be used to compute derivatives, integrals, solve equations, work with matrices, and much more. Some of the examples: "
     ]
    },
    {
     "cell_type": "markdown",
     "metadata": {},
     "source": [
      "* Solving the <span style=\"color: #0000FF\">$3x^2 + 45x -84 = 0$</span> equation"
     ]
    },
    {
     "cell_type": "code",
     "collapsed": false,
     "input": [
      "sp.solve(3*x**2 + 45*x - 84, x)"
     ],
     "language": "python",
     "metadata": {},
     "outputs": [
      {
       "metadata": {},
       "output_type": "pyout",
       "prompt_number": 49,
       "text": [
        "[-15/2 + sqrt(337)/2, -sqrt(337)/2 - 15/2]"
       ]
      }
     ],
     "prompt_number": 49
    },
    {
     "cell_type": "markdown",
     "metadata": {},
     "source": [
      "* Evaluting <span style=\"color: #0000FF\">$\\frac{d}{dx}(cos(x)e^x)$</span>"
     ]
    },
    {
     "cell_type": "code",
     "collapsed": false,
     "input": [
      "sp.diff(sp.cos(x)*sp.exp(x), x)"
     ],
     "language": "python",
     "metadata": {},
     "outputs": [
      {
       "metadata": {},
       "output_type": "pyout",
       "prompt_number": 50,
       "text": [
        "-exp(x)*sin(x) + exp(x)*cos(x)"
       ]
      }
     ],
     "prompt_number": 50
    },
    {
     "cell_type": "markdown",
     "metadata": {},
     "source": [
      "* Evaluating <span style=\"color: #0000FF\">$\\int{e^{x}sin(x)dx}$</span>"
     ]
    },
    {
     "cell_type": "code",
     "collapsed": false,
     "input": [
      "sp.integrate(sp.exp(x)*sp.sin(x), x)"
     ],
     "language": "python",
     "metadata": {},
     "outputs": [
      {
       "metadata": {},
       "output_type": "pyout",
       "prompt_number": 51,
       "text": [
        "exp(x)*sin(x)/2 - exp(x)*cos(x)/2"
       ]
      }
     ],
     "prompt_number": 51
    },
    {
     "cell_type": "markdown",
     "metadata": {},
     "source": [
      "* Computing <span style=\"color: #0000FF\">$$\\int_{-\\infty}^\\infty{\\frac{1}{1 + x^{2}}}dx$$</span>"
     ]
    },
    {
     "cell_type": "code",
     "collapsed": false,
     "input": [
      "sp.integrate(1/(1 + x**2), (x, -sp.oo, sp.oo))"
     ],
     "language": "python",
     "metadata": {},
     "outputs": [
      {
       "metadata": {},
       "output_type": "pyout",
       "prompt_number": 52,
       "text": [
        "pi"
       ]
      }
     ],
     "prompt_number": 52
    },
    {
     "cell_type": "markdown",
     "metadata": {},
     "source": [
      "* Finding the determinant of the matrix <span style=\"color: #0000FF\">$$\\left[ \\begin{array}{cc}\n",
      "1 & 3 \\\\\n",
      "6 & 2\\end{array} \\right]$$</span>"
     ]
    },
    {
     "cell_type": "code",
     "collapsed": false,
     "input": [
      "M = sp.Matrix(([1, 3], [6, 2]))"
     ],
     "language": "python",
     "metadata": {},
     "outputs": [],
     "prompt_number": 53
    },
    {
     "cell_type": "code",
     "collapsed": false,
     "input": [
      "M"
     ],
     "language": "python",
     "metadata": {},
     "outputs": [
      {
       "metadata": {},
       "output_type": "pyout",
       "prompt_number": 54,
       "text": [
        "Matrix([\n",
        "[1, 3],\n",
        "[6, 2]])"
       ]
      }
     ],
     "prompt_number": 54
    },
    {
     "cell_type": "code",
     "collapsed": false,
     "input": [
      "M.det()"
     ],
     "language": "python",
     "metadata": {},
     "outputs": [
      {
       "metadata": {},
       "output_type": "pyout",
       "prompt_number": 55,
       "text": [
        "-16"
       ]
      }
     ],
     "prompt_number": 55
    },
    {
     "cell_type": "markdown",
     "metadata": {},
     "source": [
      "* Finding the product of $$\\left[ \\begin{array}{cc}\n",
      "1 & 3 \\\\\n",
      "6 & 2\\end{array} \\right]\\left[ \\begin{array}{cc}\n",
      "4 \\\\\n",
      "8\\end{array} \\right]$$"
     ]
    },
    {
     "cell_type": "code",
     "collapsed": false,
     "input": [
      "M1 = sp.Matrix(([1, 3], [6, 2]))\n",
      "M2 = sp.Matrix(([4],[8]))\n",
      "M1*M2"
     ],
     "language": "python",
     "metadata": {},
     "outputs": [
      {
       "metadata": {},
       "output_type": "pyout",
       "prompt_number": 56,
       "text": [
        "Matrix([\n",
        "[28],\n",
        "[40]])"
       ]
      }
     ],
     "prompt_number": 56
    },
    {
     "cell_type": "markdown",
     "metadata": {},
     "source": [
      "Further <span style=\"color: #0000FF\">$sympy$</span> features can be found in http://docs.sympy.org/latest/tutorial/index.html"
     ]
    },
    {
     "cell_type": "code",
     "collapsed": false,
     "input": [],
     "language": "python",
     "metadata": {},
     "outputs": []
    }
   ],
   "metadata": {}
  }
 ]
}