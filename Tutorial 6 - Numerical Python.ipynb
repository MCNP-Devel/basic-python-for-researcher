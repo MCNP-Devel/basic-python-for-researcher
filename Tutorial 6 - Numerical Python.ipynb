{
 "cells": [
  {
   "cell_type": "markdown",
   "metadata": {},
   "source": [
    "# <span style=\"color: #B40486\">BASIC PYTHON FOR RESEARCHERS</span>"
   ]
  },
  {
   "cell_type": "markdown",
   "metadata": {},
   "source": [
    "_by_ [**_Megat Harun Al Rashid bin Megat Ahmad_**](https://www.researchgate.net/profile/Megat_Harun_Megat_Ahmad)  \n",
    "last updated: April 14, 2016"
   ]
  },
  {
   "cell_type": "markdown",
   "metadata": {},
   "source": [
    "-------\n",
    "## _<span style=\"color: #29088A\">6. Numerical Python</span>_\n"
   ]
  },
  {
   "cell_type": "markdown",
   "metadata": {},
   "source": [
    "In _Python_, a list is considered as an array and operating on each element of the list can be done by accessing them sequentially (_e.g._ by using <span style=\"color: #0000FF\">$for$</span> loop function)."
   ]
  },
  {
   "cell_type": "code",
   "execution_count": 1,
   "metadata": {
    "collapsed": false
   },
   "outputs": [
    {
     "name": "stdout",
     "output_type": "stream",
     "text": [
      "4.79583152331\n",
      "3.46410161514\n",
      "6.7082039325\n"
     ]
    }
   ],
   "source": [
    "# Without Numpy, to get the square root on a list of numbers:\n",
    "\n",
    "from math import *\n",
    "\n",
    "x1 = [23,12,45]\n",
    "for y, z in enumerate(x1):\n",
    "    Ex1 = sqrt(z)\n",
    "    print Ex1"
   ]
  },
  {
   "cell_type": "markdown",
   "metadata": {},
   "source": [
    "With <span style=\"color: #0000FF\">$NumPy$</span>, elements in the list can be operated directly without the need to access them sequentially. This can be done by transforming the _Python_ list into a <span style=\"color: #0000FF\">$NumPy$</span> array. _Python_ utilizes this <span style=\"color: #0000FF\">$NumPy$</span> library as part of its fundamental package for scientific computing. Its major function is to allow easy operations especially on and between homogeneous multi-dimensional arrays. Available features in <span style=\"color: #0000FF\">$NumPy$</span> can be accessed by importing the library."
   ]
  },
  {
   "cell_type": "code",
   "execution_count": 2,
   "metadata": {
    "collapsed": false
   },
   "outputs": [],
   "source": [
    "from numpy import *"
   ]
  },
  {
   "cell_type": "code",
   "execution_count": 3,
   "metadata": {
    "collapsed": false
   },
   "outputs": [
    {
     "name": "stdout",
     "output_type": "stream",
     "text": [
      "[23 12 45]\n",
      "[ 4.79583152  3.46410162  6.70820393]\n"
     ]
    }
   ],
   "source": [
    "# With Numpy, to get the square root on a list of numbers:\n",
    "\n",
    "# Creating the Python list\n",
    "x1 = [23,12,45]\n",
    "\n",
    "# Transforming the Python list into NumPy array\n",
    "xnp = array(x1)\n",
    "\n",
    "# Here we use the available NumPy square root function\n",
    "Ex1 = sqrt(xnp)\n",
    "\n",
    "print xnp\n",
    "print Ex1"
   ]
  },
  {
   "cell_type": "markdown",
   "metadata": {},
   "source": [
    "Elements of <span style=\"color: #0000FF\">$NumPy$</span> array are not separated by comma when printed. They are separated only by space. "
   ]
  },
  {
   "cell_type": "markdown",
   "metadata": {},
   "source": [
    "Performing mathematical operation between arrays requires part of these arrays to be of the same size (_e.g._ 5 x 10 array can be multiplied with another 5 x 10 array or 5 x 1 array). This will be explored further)."
   ]
  },
  {
   "cell_type": "code",
   "execution_count": 4,
   "metadata": {
    "collapsed": false
   },
   "outputs": [
    {
     "name": "stdout",
     "output_type": "stream",
     "text": [
      "[ 181.54+0.j   93.78+0.j   10.25+0.j]\n"
     ]
    }
   ],
   "source": [
    "# Array operation on real and imaginary parts to obtain complex conjugate \n",
    "\n",
    "i = array([12.7,9.3,0.8])\n",
    "j = array([4.5j,2.7j,3.1j])\n",
    "\n",
    "print (i + j)*(i + j).conjugate()"
   ]
  },
  {
   "cell_type": "markdown",
   "metadata": {},
   "source": [
    "***\n",
    "### **_6.1 Features of NumPy Array_**"
   ]
  },
  {
   "cell_type": "markdown",
   "metadata": {},
   "source": [
    "Creating an array using <span style=\"color: #0000FF\">$NumPy$</span> can be done in several ways. In all the following examples,  <span style=\"color: #0000FF\">$NumPy$</span> is imported as <span style=\"color: #0000FF\">$np$</span>. Therefore <span style=\"color: #0000FF\">$NumPy$</span> can be initially accessed by using <span style=\"color: #0000FF\">$np.\\{function\\}$</span>. This allows the separate usage of similar wordings <span style=\"color: #0000FF\">$NumPy$</span> and _Python_ <span style=\"color: #0000FF\">$math$</span> function like <span style=\"color: #0000FF\">$sqrt$</span>. It is also possible to use <span style=\"color: #0000FF\">$NumPy$</span> function names directly that have no equivalent in _Python_ functions."
   ]
  },
  {
   "cell_type": "code",
   "execution_count": 5,
   "metadata": {
    "collapsed": false
   },
   "outputs": [
    {
     "data": {
      "text/plain": [
       "array([ 0,  1,  2,  3,  4,  5,  6,  7,  8,  9, 10, 11, 12, 13, 14])"
      ]
     },
     "execution_count": 5,
     "metadata": {},
     "output_type": "execute_result"
    }
   ],
   "source": [
    "import numpy as np\n",
    "\n",
    "# Creating a one-dimensional array with sequential integer values\n",
    "\n",
    "a = np.arange(15)\n",
    "a"
   ]
  },
  {
   "cell_type": "markdown",
   "metadata": {},
   "source": [
    "This create a one dimensional array with 15 elements starting from 0 to 14. "
   ]
  },
  {
   "cell_type": "markdown",
   "metadata": {},
   "source": [
    "The range and increment of the array elements during array creation can be specified by using the _(min, max, add)_ arguments in the <span style=\"color: #0000FF\">$arange$</span> function."
   ]
  },
  {
   "cell_type": "code",
   "execution_count": 6,
   "metadata": {
    "collapsed": false
   },
   "outputs": [
    {
     "name": "stdout",
     "output_type": "stream",
     "text": [
      "[10 15 20 25 30 35 40 45]\n"
     ]
    }
   ],
   "source": [
    "'''Below means that the g array is going to contains range of elements with minimum\n",
    "value of 10 (inclusive of 10) up to a maximum value of 50 (exclusive of or less than 50) and with\n",
    "an increment of 5'''\n",
    "\n",
    "g = np.arange(10,50,5)     \n",
    "print g"
   ]
  },
  {
   "cell_type": "code",
   "execution_count": 7,
   "metadata": {
    "collapsed": false
   },
   "outputs": [
    {
     "name": "stdout",
     "output_type": "stream",
     "text": [
      "[10 15 20 25 30 35 40 45 50]\n"
     ]
    }
   ],
   "source": [
    "# To include 50, just set 50 to 51\n",
    "\n",
    "g = np.arange(10,51,5)     \n",
    "print g"
   ]
  },
  {
   "cell_type": "markdown",
   "metadata": {},
   "source": [
    "Another useful array creating function is <span style=\"color: #0000FF\">$linspace$</span> which allows specifying (inclusive both) the minimum and maximum values and the number of array elements."
   ]
  },
  {
   "cell_type": "code",
   "execution_count": 8,
   "metadata": {
    "collapsed": false
   },
   "outputs": [
    {
     "name": "stdout",
     "output_type": "stream",
     "text": [
      "[ 0.          0.33069396  0.66138793  0.99208189  1.32277585  1.65346982\n",
      "  1.98416378  2.31485774  2.64555171  2.97624567  3.30693964  3.6376336\n",
      "  3.96832756  4.29902153  4.62971549  4.96040945  5.29110342  5.62179738\n",
      "  5.95249134  6.28318531]\n"
     ]
    }
   ],
   "source": [
    "x = np.linspace(0,2*np.pi,20)         # note: np.pi is used instead of just pi\n",
    "print x"
   ]
  },
  {
   "cell_type": "code",
   "execution_count": 9,
   "metadata": {
    "collapsed": false
   },
   "outputs": [
    {
     "name": "stdout",
     "output_type": "stream",
     "text": [
      "0.0\n",
      "6.28318530718\n",
      "20\n"
     ]
    }
   ],
   "source": [
    "# Checking the inclusivity\n",
    "print x.min()\n",
    "print x.max()\n",
    "print x.size"
   ]
  },
  {
   "cell_type": "markdown",
   "metadata": {},
   "source": [
    "To create a higher dimensional array, we can use any one of these functions and then use the <span style=\"color: #0000FF\">$reshape$</span> function. Let reshapes variable **_a_** into a two dimensional 3 x 5 array."
   ]
  },
  {
   "cell_type": "code",
   "execution_count": 10,
   "metadata": {
    "collapsed": false
   },
   "outputs": [
    {
     "data": {
      "text/plain": [
       "array([[ 0,  1,  2,  3,  4],\n",
       "       [ 5,  6,  7,  8,  9],\n",
       "       [10, 11, 12, 13, 14]])"
      ]
     },
     "execution_count": 10,
     "metadata": {},
     "output_type": "execute_result"
    }
   ],
   "source": [
    "# Creating a two-dimensional 3 x 5 array from b \n",
    "\n",
    "b = a.reshape(3,5)\n",
    "b"
   ]
  },
  {
   "cell_type": "markdown",
   "metadata": {},
   "source": [
    "Shaping a three dimensional 3 x 3 x 3 array:"
   ]
  },
  {
   "cell_type": "code",
   "execution_count": 11,
   "metadata": {
    "collapsed": false
   },
   "outputs": [
    {
     "name": "stdout",
     "output_type": "stream",
     "text": [
      "[[[ 0  1  2]\n",
      "  [ 3  4  5]\n",
      "  [ 6  7  8]]\n",
      "\n",
      " [[ 9 10 11]\n",
      "  [12 13 14]\n",
      "  [15 16 17]]\n",
      "\n",
      " [[18 19 20]\n",
      "  [21 22 23]\n",
      "  [24 25 26]]]\n"
     ]
    }
   ],
   "source": [
    "c = np.arange(27).reshape(3,3,3)\n",
    "print c"
   ]
  },
  {
   "cell_type": "markdown",
   "metadata": {},
   "source": [
    "We can check the shape, dimension and size of these arrays, as well as the mean and median of the arrays."
   ]
  },
  {
   "cell_type": "code",
   "execution_count": 12,
   "metadata": {
    "collapsed": false
   },
   "outputs": [
    {
     "name": "stdout",
     "output_type": "stream",
     "text": [
      "(3, 3, 3)\n",
      "2\n",
      "15\n"
     ]
    }
   ],
   "source": [
    "print c.shape        # shape of array c\n",
    "print b.ndim         # dimension of array b\n",
    "print a.size         # size of array a or the number of elements in array a"
   ]
  },
  {
   "cell_type": "code",
   "execution_count": 13,
   "metadata": {
    "collapsed": false
   },
   "outputs": [
    {
     "data": {
      "text/plain": [
       "13.0"
      ]
     },
     "execution_count": 13,
     "metadata": {},
     "output_type": "execute_result"
    }
   ],
   "source": [
    "# mean value for the c array\n",
    "np.mean(c)"
   ]
  },
  {
   "cell_type": "code",
   "execution_count": 14,
   "metadata": {
    "collapsed": false
   },
   "outputs": [
    {
     "data": {
      "text/plain": [
       "array([ 5.,  6.,  7.,  8.,  9.])"
      ]
     },
     "execution_count": 14,
     "metadata": {},
     "output_type": "execute_result"
    }
   ],
   "source": [
    "# mean value for b array elements in each column\n",
    "np.mean(b, axis=0)"
   ]
  },
  {
   "cell_type": "code",
   "execution_count": 15,
   "metadata": {
    "collapsed": false
   },
   "outputs": [
    {
     "data": {
      "text/plain": [
       "array([  2.,   7.,  12.])"
      ]
     },
     "execution_count": 15,
     "metadata": {},
     "output_type": "execute_result"
    }
   ],
   "source": [
    "# mean value for b array elements in each row\n",
    "np.mean(b, axis=1)"
   ]
  },
  {
   "cell_type": "code",
   "execution_count": 16,
   "metadata": {
    "collapsed": false
   },
   "outputs": [
    {
     "data": {
      "text/plain": [
       "7.0"
      ]
     },
     "execution_count": 16,
     "metadata": {},
     "output_type": "execute_result"
    }
   ],
   "source": [
    "# average value for a all array elements\n",
    "np.average(a)"
   ]
  },
  {
   "cell_type": "code",
   "execution_count": 17,
   "metadata": {
    "collapsed": false
   },
   "outputs": [
    {
     "data": {
      "text/plain": [
       "array([[ 3, 12, 21],\n",
       "       [30, 39, 48],\n",
       "       [57, 66, 75]])"
      ]
     },
     "execution_count": 17,
     "metadata": {},
     "output_type": "execute_result"
    }
   ],
   "source": [
    "# sum values for c array elements in axis 2\n",
    "np.sum(c,axis=2)"
   ]
  },
  {
   "cell_type": "markdown",
   "metadata": {},
   "source": [
    "Earlier in this tutorial, a simple mathematical operations for complex number array has been shown. <span style=\"color: #0000FF\">$NumPy$</span> arrays can only be operated with each other when the arrays are of the same size and dimension."
   ]
  },
  {
   "cell_type": "code",
   "execution_count": 18,
   "metadata": {
    "collapsed": false
   },
   "outputs": [
    {
     "data": {
      "text/plain": [
       "array([ 1.,  1.,  1.,  1.,  1.,  1.,  1.,  1.,  1.,  1.,  1.,  1.,  1.,\n",
       "        1.,  1.,  1.,  1.,  1.,  1.,  1.])"
      ]
     },
     "execution_count": 18,
     "metadata": {},
     "output_type": "execute_result"
    }
   ],
   "source": [
    "# Finding the sin^2(x) + cos^2(x) (trigonometric identity)\n",
    "\n",
    "np.sin(x)**2 + np.cos(x)**2         # note: np.sin and np.cos are used instead of just sin and cos"
   ]
  },
  {
   "cell_type": "code",
   "execution_count": 19,
   "metadata": {
    "collapsed": false
   },
   "outputs": [],
   "source": [
    "z = np.linspace(1,5.347,20)"
   ]
  },
  {
   "cell_type": "code",
   "execution_count": 20,
   "metadata": {
    "collapsed": false
   },
   "outputs": [
    {
     "data": {
      "text/plain": [
       "array([  0.        ,   0.40635326,   0.96402512,   1.67301557,\n",
       "         2.53332462,   3.54495226,   4.7078985 ,   6.02216334,\n",
       "         7.48774677,   9.1046488 ,  10.87286942,  12.79240864,\n",
       "        14.86326646,  17.08544287,  19.45893787,  21.98375147,\n",
       "        24.65988367,  27.48733446,  30.46610385,  33.59619184])"
      ]
     },
     "execution_count": 20,
     "metadata": {},
     "output_type": "execute_result"
    }
   ],
   "source": [
    "x*z         # note:  arrays of the same size and dimension"
   ]
  },
  {
   "cell_type": "code",
   "execution_count": 21,
   "metadata": {
    "collapsed": false
   },
   "outputs": [
    {
     "data": {
      "text/plain": [
       "array([[ 1.        ,  1.70454545,  2.40909091,  3.11363636],\n",
       "       [ 3.81818182,  4.52272727,  5.22727273,  5.93181818],\n",
       "       [ 6.63636364,  7.34090909,  8.04545455,  8.75      ]])"
      ]
     },
     "execution_count": 21,
     "metadata": {},
     "output_type": "execute_result"
    }
   ],
   "source": [
    "a1 = np.linspace(1,8.75,12).reshape(3,4)       # a1 is 3 x 4 array\n",
    "a1"
   ]
  },
  {
   "cell_type": "code",
   "execution_count": 22,
   "metadata": {
    "collapsed": false
   },
   "outputs": [
    {
     "data": {
      "text/plain": [
       "array([ 1.,  2.,  3.,  4.])"
      ]
     },
     "execution_count": 22,
     "metadata": {},
     "output_type": "execute_result"
    }
   ],
   "source": [
    "b1 = np.linspace(1,4,4)        # b1 is 1 x 4 array\n",
    "b1"
   ]
  },
  {
   "cell_type": "code",
   "execution_count": 23,
   "metadata": {
    "collapsed": false
   },
   "outputs": [
    {
     "data": {
      "text/plain": [
       "array([[  1.        ,   3.40909091,   7.22727273,  12.45454545],\n",
       "       [  3.81818182,   9.04545455,  15.68181818,  23.72727273],\n",
       "       [  6.63636364,  14.68181818,  24.13636364,  35.        ]])"
      ]
     },
     "execution_count": 23,
     "metadata": {},
     "output_type": "execute_result"
    }
   ],
   "source": [
    "a1*b1"
   ]
  },
  {
   "cell_type": "markdown",
   "metadata": {},
   "source": [
    "It is possible to operate this **_a1_** with **_b1_** as one of part of the array (the column) is equivalent in size."
   ]
  },
  {
   "cell_type": "markdown",
   "metadata": {},
   "source": [
    "|array|row|column|\n",
    "|---|---|---|\n",
    "|**_a1_**|$$3$$|$$4$$|\n",
    "|**_b1_**|$$1$$|$$4$$|"
   ]
  },
  {
   "cell_type": "markdown",
   "metadata": {},
   "source": [
    "Let **_c1_** be a 1 x 3 array:"
   ]
  },
  {
   "cell_type": "code",
   "execution_count": 24,
   "metadata": {
    "collapsed": false
   },
   "outputs": [
    {
     "data": {
      "text/plain": [
       "array([ 1.,  2.,  3.])"
      ]
     },
     "execution_count": 24,
     "metadata": {},
     "output_type": "execute_result"
    }
   ],
   "source": [
    "c1 = np.linspace(1,3,3)\n",
    "c1"
   ]
  },
  {
   "cell_type": "code",
   "execution_count": 25,
   "metadata": {
    "collapsed": false
   },
   "outputs": [
    {
     "ename": "ValueError",
     "evalue": "operands could not be broadcast together with shapes (3,4) (3,) ",
     "output_type": "error",
     "traceback": [
      "\u001b[1;31m---------------------------------------------------------------------------\u001b[0m",
      "\u001b[1;31mValueError\u001b[0m                                Traceback (most recent call last)",
      "\u001b[1;32m<ipython-input-25-7559c13dd0cf>\u001b[0m in \u001b[0;36m<module>\u001b[1;34m()\u001b[0m\n\u001b[1;32m----> 1\u001b[1;33m \u001b[0ma1\u001b[0m\u001b[1;33m*\u001b[0m\u001b[0mc1\u001b[0m\u001b[1;33m\u001b[0m\u001b[0m\n\u001b[0m",
      "\u001b[1;31mValueError\u001b[0m: operands could not be broadcast together with shapes (3,4) (3,) "
     ]
    }
   ],
   "source": [
    "a1*c1"
   ]
  },
  {
   "cell_type": "markdown",
   "metadata": {},
   "source": [
    "The interpreter produces an error as neither row nor column of **_a1_** is equivalent to **_c1_**."
   ]
  },
  {
   "cell_type": "markdown",
   "metadata": {},
   "source": [
    "|array|row|column|\n",
    "|---|---|---|\n",
    "|**_a1_**|$$3$$|$$4$$|\n",
    "|**_c1_**|$$1$$|$$3$$|"
   ]
  },
  {
   "cell_type": "markdown",
   "metadata": {},
   "source": [
    "It is still possible to operate **_a1_** with **_c1_**. This can be done by transposing **_a1_** (**_a1_** now becomes 4 x 3 array, so the column size is the same as **_c1_** column size)."
   ]
  },
  {
   "cell_type": "code",
   "execution_count": 26,
   "metadata": {
    "collapsed": false
   },
   "outputs": [
    {
     "data": {
      "text/plain": [
       "array([[  1.        ,   7.63636364,  19.90909091],\n",
       "       [  1.70454545,   9.04545455,  22.02272727],\n",
       "       [  2.40909091,  10.45454545,  24.13636364],\n",
       "       [  3.11363636,  11.86363636,  26.25      ]])"
      ]
     },
     "execution_count": 26,
     "metadata": {},
     "output_type": "execute_result"
    }
   ],
   "source": [
    "a1.T*c1\n"
   ]
  },
  {
   "cell_type": "markdown",
   "metadata": {},
   "source": [
    "Other type of arrays are array with ones and zeroes. These are flexible arrays and can be used for many purposes _e.g._ indexing collision particles in two dimensions. There is also the <span style=\"color: #0000FF\">$mgrid$</span> function that is similar to meshgrid in MATLAB."
   ]
  },
  {
   "cell_type": "code",
   "execution_count": 27,
   "metadata": {
    "collapsed": false
   },
   "outputs": [
    {
     "name": "stdout",
     "output_type": "stream",
     "text": [
      "[[ 1.  1.  1.  1.  1.  1.  1.  1.  1.  1.]\n",
      " [ 1.  1.  1.  1.  1.  1.  1.  1.  1.  1.]\n",
      " [ 1.  1.  1.  1.  1.  1.  1.  1.  1.  1.]\n",
      " [ 1.  1.  1.  1.  1.  1.  1.  1.  1.  1.]\n",
      " [ 1.  1.  1.  1.  1.  1.  1.  1.  1.  1.]\n",
      " [ 1.  1.  1.  1.  1.  1.  1.  1.  1.  1.]\n",
      " [ 1.  1.  1.  1.  1.  1.  1.  1.  1.  1.]\n",
      " [ 1.  1.  1.  1.  1.  1.  1.  1.  1.  1.]\n",
      " [ 1.  1.  1.  1.  1.  1.  1.  1.  1.  1.]\n",
      " [ 1.  1.  1.  1.  1.  1.  1.  1.  1.  1.]]\n",
      "[[ 0.  0.  0.  0.  0.]\n",
      " [ 0.  0.  0.  0.  0.]\n",
      " [ 0.  0.  0.  0.  0.]\n",
      " [ 0.  0.  0.  0.  0.]\n",
      " [ 0.  0.  0.  0.  0.]]\n"
     ]
    }
   ],
   "source": [
    "y = np.ones((10,10))\n",
    "print y\n",
    "z = np.zeros((5,5))\n",
    "print z"
   ]
  },
  {
   "cell_type": "code",
   "execution_count": 28,
   "metadata": {
    "collapsed": false
   },
   "outputs": [],
   "source": [
    "i, j = np.mgrid[0:4, 0:4]       # similar to meshgrid in MATLAB"
   ]
  },
  {
   "cell_type": "code",
   "execution_count": 29,
   "metadata": {
    "collapsed": false
   },
   "outputs": [
    {
     "data": {
      "text/plain": [
       "array([[0, 0, 0, 0],\n",
       "       [1, 1, 1, 1],\n",
       "       [2, 2, 2, 2],\n",
       "       [3, 3, 3, 3]])"
      ]
     },
     "execution_count": 29,
     "metadata": {},
     "output_type": "execute_result"
    }
   ],
   "source": [
    "i"
   ]
  },
  {
   "cell_type": "code",
   "execution_count": 30,
   "metadata": {
    "collapsed": false
   },
   "outputs": [
    {
     "data": {
      "text/plain": [
       "array([[0, 1, 2, 3],\n",
       "       [0, 1, 2, 3],\n",
       "       [0, 1, 2, 3],\n",
       "       [0, 1, 2, 3]])"
      ]
     },
     "execution_count": 30,
     "metadata": {},
     "output_type": "execute_result"
    }
   ],
   "source": [
    "j"
   ]
  },
  {
   "cell_type": "markdown",
   "metadata": {},
   "source": [
    "#### <span style=\"color: #F5DA81; background-color: #610B4B\">Exercise 6.1</span>: Create this 2-dimensional array using NumPy:"
   ]
  },
  {
   "cell_type": "markdown",
   "metadata": {},
   "source": [
    "$$\\left[ \\begin{array}{cc}\n",
    "0 & 0 & 0 & 0 & 0 & 0 & 0 & 0 & 0 & 0\\\\\n",
    "1 & 0 & 0 & 0 & 0 & 0 & 0 & 0 & 0 & 0\\\\\n",
    "1 & 1 & 0 & 0 & 0 & 0 & 0 & 0 & 0 & 0\\\\\n",
    "1 & 1 & 1 & 0 & 0 & 0 & 0 & 0 & 0 & 0\\\\\n",
    "1 & 1 & 1 & 1 & 0 & 0 & 0 & 0 & 0 & 0\\\\\n",
    "1 & 1 & 1 & 1 & 1 & 0 & 0 & 0 & 0 & 0\\\\\n",
    "1 & 1 & 1 & 1 & 1 & 1 & 0 & 0 & 0 & 0\\\\\n",
    "1 & 1 & 1 & 1 & 1 & 1 & 1 & 0 & 0 & 0\\\\\n",
    "1 & 1 & 1 & 1 & 1 & 1 & 1 & 1 & 0 & 0\\\\\n",
    "1 & 1 & 1 & 1 & 1 & 1 & 1 & 1 & 1 & 0\\end{array} \\right]$$"
   ]
  },
  {
   "cell_type": "code",
   "execution_count": 31,
   "metadata": {
    "collapsed": false
   },
   "outputs": [
    {
     "data": {
      "text/plain": [
       "array([[0, 0, 0, 0, 0, 0, 0, 0, 0, 0],\n",
       "       [1, 0, 0, 0, 0, 0, 0, 0, 0, 0],\n",
       "       [1, 1, 0, 0, 0, 0, 0, 0, 0, 0],\n",
       "       [1, 1, 1, 0, 0, 0, 0, 0, 0, 0],\n",
       "       [1, 1, 1, 1, 0, 0, 0, 0, 0, 0],\n",
       "       [1, 1, 1, 1, 1, 0, 0, 0, 0, 0],\n",
       "       [1, 1, 1, 1, 1, 1, 0, 0, 0, 0],\n",
       "       [1, 1, 1, 1, 1, 1, 1, 0, 0, 0],\n",
       "       [1, 1, 1, 1, 1, 1, 1, 1, 0, 0],\n",
       "       [1, 1, 1, 1, 1, 1, 1, 1, 1, 0]])"
      ]
     },
     "execution_count": 31,
     "metadata": {},
     "output_type": "execute_result"
    }
   ],
   "source": [
    "m, n = np.mgrid[0:10, 0:10]\n",
    "(m > n)*1"
   ]
  },
  {
   "cell_type": "markdown",
   "metadata": {},
   "source": [
    "---\n",
    "<span style=\"color: #0000FF\">$NumPy$</span> array can be sliced, extracted and reassigned similar to the operations on _Python_ sequences."
   ]
  },
  {
   "cell_type": "code",
   "execution_count": 32,
   "metadata": {
    "collapsed": false
   },
   "outputs": [
    {
     "name": "stdout",
     "output_type": "stream",
     "text": [
      "[ 0.          0.33069396  0.66138793  0.99208189  1.32277585  1.65346982\n",
      "  1.98416378  2.31485774  2.64555171  2.97624567  3.30693964  3.6376336\n",
      "  3.96832756  4.29902153  4.62971549  4.96040945  5.29110342  5.62179738\n",
      "  5.95249134  6.28318531]\n",
      "[ 0.99208189  1.32277585]\n"
     ]
    }
   ],
   "source": [
    "# Slicing\n",
    "x = np.linspace(0,2*np.pi,20)\n",
    "print x\n",
    "print x[3:5] "
   ]
  },
  {
   "cell_type": "code",
   "execution_count": 33,
   "metadata": {
    "collapsed": false
   },
   "outputs": [
    {
     "name": "stdout",
     "output_type": "stream",
     "text": [
      "[[ 0  1  2  3  4]\n",
      " [ 5  6  7  8  9]\n",
      " [10 11 12 13 14]]\n",
      "[5 6 7 8 9]\n"
     ]
    }
   ],
   "source": [
    "y = np.arange(15).reshape(3,5)\n",
    "print y\n",
    "print y[1]                   # the whole row of index 1 "
   ]
  },
  {
   "cell_type": "code",
   "execution_count": 34,
   "metadata": {
    "collapsed": false
   },
   "outputs": [
    {
     "data": {
      "text/plain": [
       "array([[1, 2, 3],\n",
       "       [6, 7, 8]])"
      ]
     },
     "execution_count": 34,
     "metadata": {},
     "output_type": "execute_result"
    }
   ],
   "source": [
    "z = y[0:2,1:4]               # assigning to variable\n",
    "z"
   ]
  },
  {
   "cell_type": "code",
   "execution_count": 35,
   "metadata": {
    "collapsed": false
   },
   "outputs": [
    {
     "data": {
      "text/plain": [
       "array([[ 0,  0,  0,  0,  4],\n",
       "       [ 5,  0,  0,  0,  9],\n",
       "       [10, 11, 12, 13, 14]])"
      ]
     },
     "execution_count": 35,
     "metadata": {},
     "output_type": "execute_result"
    }
   ],
   "source": [
    "y[0:2,1:4] = 0               # reassigned\n",
    "y"
   ]
  },
  {
   "cell_type": "code",
   "execution_count": 36,
   "metadata": {
    "collapsed": false
   },
   "outputs": [
    {
     "data": {
      "text/plain": [
       "array([[ 0, 45, 89, 12,  4],\n",
       "       [ 5, 12, 73, 69,  9],\n",
       "       [10, 11, 12, 13, 14]])"
      ]
     },
     "execution_count": 36,
     "metadata": {},
     "output_type": "execute_result"
    }
   ],
   "source": [
    "# reassigned with new array\n",
    "y[0:2,1:4] = np.array([[45,89,12],[12,73,69]])       \n",
    "y"
   ]
  },
  {
   "cell_type": "markdown",
   "metadata": {},
   "source": [
    "There are many other ways to create <span style=\"color: #0000FF\">$NumPy$</span> array, some are quite fancy _e.g._:"
   ]
  },
  {
   "cell_type": "code",
   "execution_count": 37,
   "metadata": {
    "collapsed": false
   },
   "outputs": [
    {
     "data": {
      "text/plain": [
       "array([  0.        ,   1.        ,   6.58088599,  19.81299075,  43.30806043])"
      ]
     },
     "execution_count": 37,
     "metadata": {},
     "output_type": "execute_result"
    }
   ],
   "source": [
    "X = np.array([n**np.e for n in range(5)])       # note: np.e represent exponential constant\n",
    "X"
   ]
  },
  {
   "cell_type": "code",
   "execution_count": 38,
   "metadata": {
    "collapsed": false
   },
   "outputs": [
    {
     "data": {
      "text/plain": [
       "array([[0, 1, 2],\n",
       "       [3, 4, 5],\n",
       "       [6, 7, 8]])"
      ]
     },
     "execution_count": 38,
     "metadata": {},
     "output_type": "execute_result"
    }
   ],
   "source": [
    "# i is row index and j is column index\n",
    "W = np.array([[j+i*3 for j in range(3)] for i in range(3)])\n",
    "W"
   ]
  },
  {
   "cell_type": "markdown",
   "metadata": {},
   "source": [
    "***\n",
    "### **_6.2 File Input/Output_**"
   ]
  },
  {
   "cell_type": "markdown",
   "metadata": {},
   "source": [
    "<span style=\"color: #0000FF\">$NumPy$</span> array can be saved into a binary file which later can be loaded. 1-D and 2-D arrays can also be saved in text format."
   ]
  },
  {
   "cell_type": "code",
   "execution_count": 39,
   "metadata": {
    "collapsed": false,
    "scrolled": true
   },
   "outputs": [
    {
     "data": {
      "text/plain": [
       "array([[[ 0.16288574,  0.34512979,  0.42734996,  0.69323916],\n",
       "        [ 0.12593153,  0.10621008,  0.15867052,  0.39990068],\n",
       "        [ 0.66035874,  0.80057956,  0.81382715,  0.03606962],\n",
       "        [ 0.50402251,  0.12622572,  0.39062081,  0.66417067]],\n",
       "\n",
       "       [[ 0.31397343,  0.16151298,  0.18394905,  0.58534405],\n",
       "        [ 0.16391213,  0.57070191,  0.40637193,  0.09734607],\n",
       "        [ 0.23650067,  0.51281238,  0.77877061,  0.78160142],\n",
       "        [ 0.24272477,  0.41665678,  0.73101319,  0.60756296]],\n",
       "\n",
       "       [[ 0.83785594,  0.19462827,  0.41507672,  0.92640519],\n",
       "        [ 0.41844881,  0.22444927,  0.05306902,  0.7033712 ],\n",
       "        [ 0.43892731,  0.66920604,  0.96161724,  0.24994796],\n",
       "        [ 0.36591196,  0.97106874,  0.25035091,  0.01183044]],\n",
       "\n",
       "       [[ 0.80726725,  0.68726225,  0.58878418,  0.96129402],\n",
       "        [ 0.63339747,  0.21223943,  0.21183456,  0.7977489 ],\n",
       "        [ 0.75760042,  0.25650812,  0.76265736,  0.55705083],\n",
       "        [ 0.97963256,  0.91662955,  0.41953759,  0.04472739]]])"
      ]
     },
     "execution_count": 39,
     "metadata": {},
     "output_type": "execute_result"
    }
   ],
   "source": [
    "'''Let us build a 3-dimensional 5 x 5 x 5 array \n",
    "containing elements created using random number'''\n",
    "\n",
    "rand_array = np.random.rand(4,4,4)\n",
    "rand_array"
   ]
  },
  {
   "cell_type": "markdown",
   "metadata": {},
   "source": [
    "_(The default random number generator algorithm is Mersenne-Twister)_"
   ]
  },
  {
   "cell_type": "code",
   "execution_count": 40,
   "metadata": {
    "collapsed": false
   },
   "outputs": [],
   "source": [
    "np.save(\"Tutorial6/random_3D_array.npy\", rand_array)"
   ]
  },
  {
   "cell_type": "code",
   "execution_count": 41,
   "metadata": {
    "collapsed": false
   },
   "outputs": [
    {
     "data": {
      "text/plain": [
       "array([[[ 0.16288574,  0.34512979,  0.42734996,  0.69323916],\n",
       "        [ 0.12593153,  0.10621008,  0.15867052,  0.39990068],\n",
       "        [ 0.66035874,  0.80057956,  0.81382715,  0.03606962],\n",
       "        [ 0.50402251,  0.12622572,  0.39062081,  0.66417067]],\n",
       "\n",
       "       [[ 0.31397343,  0.16151298,  0.18394905,  0.58534405],\n",
       "        [ 0.16391213,  0.57070191,  0.40637193,  0.09734607],\n",
       "        [ 0.23650067,  0.51281238,  0.77877061,  0.78160142],\n",
       "        [ 0.24272477,  0.41665678,  0.73101319,  0.60756296]],\n",
       "\n",
       "       [[ 0.83785594,  0.19462827,  0.41507672,  0.92640519],\n",
       "        [ 0.41844881,  0.22444927,  0.05306902,  0.7033712 ],\n",
       "        [ 0.43892731,  0.66920604,  0.96161724,  0.24994796],\n",
       "        [ 0.36591196,  0.97106874,  0.25035091,  0.01183044]],\n",
       "\n",
       "       [[ 0.80726725,  0.68726225,  0.58878418,  0.96129402],\n",
       "        [ 0.63339747,  0.21223943,  0.21183456,  0.7977489 ],\n",
       "        [ 0.75760042,  0.25650812,  0.76265736,  0.55705083],\n",
       "        [ 0.97963256,  0.91662955,  0.41953759,  0.04472739]]])"
      ]
     },
     "execution_count": 41,
     "metadata": {},
     "output_type": "execute_result"
    }
   ],
   "source": [
    "np.load(\"Tutorial6/random_3D_array.npy\")"
   ]
  },
  {
   "cell_type": "code",
   "execution_count": 42,
   "metadata": {
    "collapsed": false
   },
   "outputs": [],
   "source": [
    "rand2_array = np.random.rand(4,4)"
   ]
  },
  {
   "cell_type": "markdown",
   "metadata": {},
   "source": [
    "The coming examples show how to save array into text file."
   ]
  },
  {
   "cell_type": "code",
   "execution_count": 43,
   "metadata": {
    "collapsed": false
   },
   "outputs": [],
   "source": [
    "np.savetxt(\"Tutorial6/random_2D_array.txt\", rand2_array, delimiter=',')"
   ]
  },
  {
   "cell_type": "markdown",
   "metadata": {},
   "source": [
    "In the above example, the array _rand2_array_ is saved as comma separated values by specifying comma as the delimiter used."
   ]
  },
  {
   "cell_type": "code",
   "execution_count": 44,
   "metadata": {
    "collapsed": false
   },
   "outputs": [
    {
     "data": {
      "text/plain": [
       "['9.396302828156297693e-01,4.331645893110744883e-01,9.239207829088839086e-01,2.234272506892963639e-01\\n',\n",
       " '7.538477047974018186e-01,8.772528705985704889e-01,7.136011741989152224e-01,8.036578489765119349e-01\\n',\n",
       " '5.601472051284052123e-01,2.762968576279914990e-01,6.366152572987821001e-01,1.621138306086000735e-02\\n',\n",
       " '1.981689884819235470e-01,5.157183378274130536e-01,7.899071384294774623e-01,5.171718940133459563e-01\\n']"
      ]
     },
     "execution_count": 44,
     "metadata": {},
     "output_type": "execute_result"
    }
   ],
   "source": [
    "fh_csv = open(\"Tutorial6/random_2D_array.txt\")\n",
    "fh_csvList = fh_csv.readlines()\n",
    "fh_csvList"
   ]
  },
  {
   "cell_type": "markdown",
   "metadata": {},
   "source": [
    "It is possible to specify or formatted the decimal value when saving a text file."
   ]
  },
  {
   "cell_type": "code",
   "execution_count": 45,
   "metadata": {
    "collapsed": false
   },
   "outputs": [],
   "source": [
    "np.savetxt(\"Tutorial6/random_2D_arrayF.txt\", rand2_array, \\\n",
    "           delimiter=',', fmt='%.3f')"
   ]
  },
  {
   "cell_type": "code",
   "execution_count": 46,
   "metadata": {
    "collapsed": false
   },
   "outputs": [
    {
     "data": {
      "text/plain": [
       "['0.940,0.433,0.924,0.223\\n',\n",
       " '0.754,0.877,0.714,0.804\\n',\n",
       " '0.560,0.276,0.637,0.016\\n',\n",
       " '0.198,0.516,0.790,0.517\\n']"
      ]
     },
     "execution_count": 46,
     "metadata": {},
     "output_type": "execute_result"
    }
   ],
   "source": [
    "fh_csv1 = open(\"Tutorial6/random_2D_arrayF.txt\")\n",
    "fh_csv1List = fh_csv1.readlines()\n",
    "fh_csv1List"
   ]
  },
  {
   "cell_type": "markdown",
   "metadata": {},
   "source": [
    "Similar with binary file, a text file can be loaded as an array with delimiter used specified."
   ]
  },
  {
   "cell_type": "code",
   "execution_count": 47,
   "metadata": {
    "collapsed": false
   },
   "outputs": [],
   "source": [
    "fromtxtFile = np.loadtxt(\"Tutorial6/random_2D_arrayF.txt\", delimiter=',')"
   ]
  },
  {
   "cell_type": "code",
   "execution_count": 48,
   "metadata": {
    "collapsed": false
   },
   "outputs": [
    {
     "data": {
      "text/plain": [
       "array([[ 0.94 ,  0.433,  0.924,  0.223],\n",
       "       [ 0.754,  0.877,  0.714,  0.804],\n",
       "       [ 0.56 ,  0.276,  0.637,  0.016],\n",
       "       [ 0.198,  0.516,  0.79 ,  0.517]])"
      ]
     },
     "execution_count": 48,
     "metadata": {},
     "output_type": "execute_result"
    }
   ],
   "source": [
    "fromtxtFile"
   ]
  },
  {
   "cell_type": "markdown",
   "metadata": {},
   "source": [
    "***\n",
    "### **_6.3 Matrix Operations_**"
   ]
  },
  {
   "cell_type": "markdown",
   "metadata": {},
   "source": [
    "What we have seen previously were scalar array operations. <span style=\"color: #0000FF\">$NumPy$</span> array can also undergoes matrix operations. <span style=\"color: #0000FF\">$NumPy$</span> has special functions for matrix operations."
   ]
  },
  {
   "cell_type": "code",
   "execution_count": 49,
   "metadata": {
    "collapsed": false
   },
   "outputs": [
    {
     "data": {
      "text/plain": [
       "(array([[  0.85334341,   1.52157177,   5.74146348],\n",
       "        [  2.18733933,  17.0419147 ,  10.15834702],\n",
       "        [  0.04433136,   1.07833879,   0.07984334]]),\n",
       " array([[ 0.98875989,  0.80478647,  1.39807629],\n",
       "        [ 2.2324394 ,  0.87968643,  1.22664058],\n",
       "        [ 1.67391861,  0.79993591,  4.3545523 ]]))"
      ]
     },
     "execution_count": 49,
     "metadata": {},
     "output_type": "execute_result"
    }
   ],
   "source": [
    "# Creating two arrays with random numbers, M1 and M2\n",
    "M1 = np.random.rand(3,3)*np.linspace(1,36,9).reshape(3,3)\n",
    "M2 = np.random.rand(3,3)*np.linspace(1,2*np.e,9).reshape(3,3)\n",
    "M1, M2"
   ]
  },
  {
   "cell_type": "code",
   "execution_count": 50,
   "metadata": {
    "collapsed": false
   },
   "outputs": [
    {
     "data": {
      "text/plain": [
       "array([[ 13.85131108,   6.6180681 ,  28.0609639 ],\n",
       "       [ 57.21204141,  24.87790884,  68.19742486],\n",
       "       [  2.58481034,   1.04814684,   1.73239476]])"
      ]
     },
     "execution_count": 50,
     "metadata": {},
     "output_type": "execute_result"
    }
   ],
   "source": [
    "# dot product\n",
    "np.dot(M1,M2)"
   ]
  },
  {
   "cell_type": "code",
   "execution_count": 51,
   "metadata": {
    "collapsed": false
   },
   "outputs": [
    {
     "data": {
      "text/plain": [
       "array([2, 4, 6])"
      ]
     },
     "execution_count": 51,
     "metadata": {},
     "output_type": "execute_result"
    }
   ],
   "source": [
    "N1 = np.arange(2,8,2)\n",
    "N1"
   ]
  },
  {
   "cell_type": "code",
   "execution_count": 52,
   "metadata": {
    "collapsed": false
   },
   "outputs": [
    {
     "data": {
      "text/plain": [
       "array([  42.2417548 ,  133.49241959,    4.88107794])"
      ]
     },
     "execution_count": 52,
     "metadata": {},
     "output_type": "execute_result"
    }
   ],
   "source": [
    "np.dot(M1,N1)"
   ]
  },
  {
   "cell_type": "code",
   "execution_count": 53,
   "metadata": {
    "collapsed": false
   },
   "outputs": [
    {
     "data": {
      "text/plain": [
       "56"
      ]
     },
     "execution_count": 53,
     "metadata": {},
     "output_type": "execute_result"
    }
   ],
   "source": [
    "np.dot(N1,N1)"
   ]
  },
  {
   "cell_type": "markdown",
   "metadata": {},
   "source": [
    "Standard arithmetic operators (+, -, `*`) can be used for matrix operations by casting the <span style=\"color: #0000FF\">$NumPy$</span> array as of type matrix."
   ]
  },
  {
   "cell_type": "code",
   "execution_count": 54,
   "metadata": {
    "collapsed": false
   },
   "outputs": [
    {
     "data": {
      "text/plain": [
       "matrix([[  0.85334341,   1.52157177,   5.74146348],\n",
       "        [  2.18733933,  17.0419147 ,  10.15834702],\n",
       "        [  0.04433136,   1.07833879,   0.07984334]])"
      ]
     },
     "execution_count": 54,
     "metadata": {},
     "output_type": "execute_result"
    }
   ],
   "source": [
    "W1 = np.matrix(M1)\n",
    "W1"
   ]
  },
  {
   "cell_type": "code",
   "execution_count": 55,
   "metadata": {
    "collapsed": false
   },
   "outputs": [
    {
     "data": {
      "text/plain": [
       "matrix([[2],\n",
       "        [4],\n",
       "        [6]])"
      ]
     },
     "execution_count": 55,
     "metadata": {},
     "output_type": "execute_result"
    }
   ],
   "source": [
    "Y = np.matrix(N1).T  \n",
    "Y"
   ]
  },
  {
   "cell_type": "code",
   "execution_count": 56,
   "metadata": {
    "collapsed": false
   },
   "outputs": [
    {
     "data": {
      "text/plain": [
       "matrix([[ 13.85131108,   6.6180681 ,  28.0609639 ],\n",
       "        [ 57.21204141,  24.87790884,  68.19742486],\n",
       "        [  2.58481034,   1.04814684,   1.73239476]])"
      ]
     },
     "execution_count": 56,
     "metadata": {},
     "output_type": "execute_result"
    }
   ],
   "source": [
    "W2 = np.matrix(M2)\n",
    "\n",
    "W1*W2                # instead of using np.dot() function"
   ]
  },
  {
   "cell_type": "markdown",
   "metadata": {},
   "source": [
    "Matrix operations must adhered to standard matrix agebra and it is good practice to check the shape of the matrices before any operations."
   ]
  },
  {
   "cell_type": "code",
   "execution_count": 57,
   "metadata": {
    "collapsed": false
   },
   "outputs": [
    {
     "data": {
      "text/plain": [
       "((3, 3), (3, 1))"
      ]
     },
     "execution_count": 57,
     "metadata": {},
     "output_type": "execute_result"
    }
   ],
   "source": [
    "np.shape(W1), np.shape(Y)"
   ]
  },
  {
   "cell_type": "code",
   "execution_count": 58,
   "metadata": {
    "collapsed": false
   },
   "outputs": [
    {
     "data": {
      "text/plain": [
       "matrix([[  44.2417548 ],\n",
       "        [ 137.49241959],\n",
       "        [  10.88107794]])"
      ]
     },
     "execution_count": 58,
     "metadata": {},
     "output_type": "execute_result"
    }
   ],
   "source": [
    "Y + W1*Y"
   ]
  },
  {
   "cell_type": "markdown",
   "metadata": {},
   "source": [
    "A few others mathematical functions on matrix include:"
   ]
  },
  {
   "cell_type": "code",
   "execution_count": 59,
   "metadata": {
    "collapsed": false
   },
   "outputs": [
    {
     "data": {
      "text/plain": [
       "1.437691195811446"
      ]
     },
     "execution_count": 59,
     "metadata": {},
     "output_type": "execute_result"
    }
   ],
   "source": [
    "# Finding determinant\n",
    "\n",
    "np.linalg.det(W1)"
   ]
  },
  {
   "cell_type": "code",
   "execution_count": 60,
   "metadata": {
    "collapsed": false
   },
   "outputs": [
    {
     "data": {
      "text/plain": [
       "matrix([[ -6.67282116,   4.22187702, -57.30637923],\n",
       "        [  0.19175805,  -0.12964752,   2.70570652],\n",
       "        [  1.11512236,  -0.59313151,   7.80029246]])"
      ]
     },
     "execution_count": 60,
     "metadata": {},
     "output_type": "execute_result"
    }
   ],
   "source": [
    "# Inverse matrix\n",
    "\n",
    "np.linalg.inv(W1)"
   ]
  },
  {
   "cell_type": "code",
   "execution_count": 61,
   "metadata": {
    "collapsed": false
   },
   "outputs": [
    {
     "data": {
      "text/plain": [
       "matrix([[  1.00000000e+00,  -1.42108547e-14,  -3.55271368e-15],\n",
       "        [  5.55111512e-17,   1.00000000e+00,   2.49800181e-16],\n",
       "        [ -5.55111512e-17,   0.00000000e+00,   1.00000000e+00]])"
      ]
     },
     "execution_count": 61,
     "metadata": {},
     "output_type": "execute_result"
    }
   ],
   "source": [
    "np.linalg.inv(W1)*W1"
   ]
  },
  {
   "cell_type": "markdown",
   "metadata": {},
   "source": [
    "This tutorial part just shows the small fraction on <span style=\"color: #0000FF\">$NumPy$</span> capabilities so that users will familiarize with the syntax. More on <span style=\"color: #0000FF\">$NumPy$</span> can be found on:\n",
    "* http://numpy.scipy.org\n",
    "* http://scipy.org/Tentative_NumPy_Tutorial\n",
    "* http://scipy.org/NumPy_for_Matlab_Users - A Numpy guide for MATLAB users."
   ]
  }
 ],
 "metadata": {
  "kernelspec": {
   "display_name": "Python 2",
   "language": "python",
   "name": "python2"
  },
  "language_info": {
   "codemirror_mode": {
    "name": "ipython",
    "version": 2
   },
   "file_extension": ".py",
   "mimetype": "text/x-python",
   "name": "python",
   "nbconvert_exporter": "python",
   "pygments_lexer": "ipython2",
   "version": "2.7.11"
  }
 },
 "nbformat": 4,
 "nbformat_minor": 0
}
