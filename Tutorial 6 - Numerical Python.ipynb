{
 "metadata": {
  "name": "",
  "signature": "sha256:d256f32552a827199d4814452a0a17c9ebc74d63b5f7da2f21adde621905c443"
 },
 "nbformat": 3,
 "nbformat_minor": 0,
 "worksheets": [
  {
   "cells": [
    {
     "cell_type": "markdown",
     "metadata": {},
     "source": [
      "#<span style=\"color: #B40486\">BASIC PYTHON FOR RESEARCHERS</span>"
     ]
    },
    {
     "cell_type": "markdown",
     "metadata": {},
     "source": [
      "_by_ [**_Megat Harun Al Rashid bin Megat Ahmad_**](https://www.researchgate.net/profile/Megat_Harun_Megat_Ahmad)  \n",
      "last updated: October 26, 2014"
     ]
    },
    {
     "cell_type": "markdown",
     "metadata": {},
     "source": [
      "-------\n",
      "##_<span style=\"color: #29088A\">6. Numerical Python</span>_\n"
     ]
    },
    {
     "cell_type": "markdown",
     "metadata": {},
     "source": [
      "_Python_ utilizes a library called <span style=\"color: #0000FF\">$NumPy$</span> as part of its fundamental package for scientific computing. Its major function is to allow easy operations especially on homogeneous multi-dimensional arrays. "
     ]
    },
    {
     "cell_type": "markdown",
     "metadata": {},
     "source": [
      "In _Python_, a list is considered as an array and operating on each element of the list can be done by accessing them sequentially (_e.g._ by using <span style=\"color: #0000FF\">$for$</span> loop function)."
     ]
    },
    {
     "cell_type": "code",
     "collapsed": false,
     "input": [
      "# Without Numpy, to get the square root on a list of numbers:\n",
      "\n",
      "from math import *\n",
      "\n",
      "x1 = [23,12,45]\n",
      "for z in range(0,len(x1),1):\n",
      "    Ex1 = sqrt(x1[z])\n",
      "    print Ex1"
     ],
     "language": "python",
     "metadata": {},
     "outputs": [
      {
       "output_type": "stream",
       "stream": "stdout",
       "text": [
        "4.79583152331\n",
        "3.46410161514\n",
        "6.7082039325\n"
       ]
      }
     ],
     "prompt_number": 1
    },
    {
     "cell_type": "markdown",
     "metadata": {},
     "source": [
      "With <span style=\"color: #0000FF\">$NumPy$</span>, elements in the list can be operated directly without accessing them sequentially. We can use the available features in <span style=\"color: #0000FF\">$NumPy$</span> by importing the library."
     ]
    },
    {
     "cell_type": "code",
     "collapsed": false,
     "input": [
      "from numpy import *"
     ],
     "language": "python",
     "metadata": {},
     "outputs": [],
     "prompt_number": 2
    },
    {
     "cell_type": "code",
     "collapsed": false,
     "input": [
      "# With Numpy, to get the square root on a list of numbers:\n",
      "\n",
      "# Creating the Python list\n",
      "x1 = [23,12,45]\n",
      "\n",
      "# Transforming the Python list into NumPy array\n",
      "xnp = array(x1)\n",
      "\n",
      "# Here we use the available NumPy square root function\n",
      "Ex1 = sqrt(xnp)\n",
      "\n",
      "print xnp\n",
      "print Ex1"
     ],
     "language": "python",
     "metadata": {},
     "outputs": [
      {
       "output_type": "stream",
       "stream": "stdout",
       "text": [
        "[23 12 45]\n",
        "[ 4.79583152  3.46410162  6.70820393]\n"
       ]
      }
     ],
     "prompt_number": 3
    },
    {
     "cell_type": "markdown",
     "metadata": {},
     "source": [
      "Elements of <span style=\"color: #0000FF\">$NumPy$</span> array are not separated by comma like in _Python_ list when using **<span style=\"color: #088A08\">print</span>** function. They are separated only by space. "
     ]
    },
    {
     "cell_type": "markdown",
     "metadata": {},
     "source": [
      "It is also possible to perform operation between arrays (a part of the array must be of same size _e.g._ 5 x 10 array can be multiplied with another 5 x 10 array or 5 x 1 array, this will be explored further)."
     ]
    },
    {
     "cell_type": "code",
     "collapsed": false,
     "input": [
      "# Array operation on real and imaginary parts to obtain complex conjugate \n",
      "\n",
      "i = array([12.7,9.3,0.8])\n",
      "j = array([4.5j,2.7j,3.1j])\n",
      "\n",
      "print (i + j)*(i + j).conjugate()"
     ],
     "language": "python",
     "metadata": {},
     "outputs": [
      {
       "output_type": "stream",
       "stream": "stdout",
       "text": [
        "[ 181.54+0.j   93.78+0.j   10.25+0.j]\n"
       ]
      }
     ],
     "prompt_number": 4
    },
    {
     "cell_type": "markdown",
     "metadata": {},
     "source": [
      "***\n",
      "###**_6.1 Features of NumPy Array_**"
     ]
    },
    {
     "cell_type": "markdown",
     "metadata": {},
     "source": [
      "Creating an array using <span style=\"color: #0000FF\">$NumPy$</span> can be done in several ways. Herewith <span style=\"color: #0000FF\">$NumPy$</span> is imported as <span style=\"color: #0000FF\">$np$</span>. Therefore <span style=\"color: #0000FF\">$NumPy$</span> can be initially accessed by using <span style=\"color: #0000FF\">$np.\\{function\\}$</span>. This allows the separate usage of similar wordings <span style=\"color: #0000FF\">$NumPy$</span> and _Python_ <span style=\"color: #0000FF\">$math$</span> function like <span style=\"color: #0000FF\">$sqrt$</span>. It is also possible to use <span style=\"color: #0000FF\">$NumPy$</span> function names directly that have no equivalent in _Python_ functions."
     ]
    },
    {
     "cell_type": "code",
     "collapsed": false,
     "input": [
      "import numpy as np\n",
      "\n",
      "# Creating a one-dimensional array with sequential integer values\n",
      "\n",
      "a = np.arange(15)\n",
      "a"
     ],
     "language": "python",
     "metadata": {},
     "outputs": [
      {
       "metadata": {},
       "output_type": "pyout",
       "prompt_number": 5,
       "text": [
        "array([ 0,  1,  2,  3,  4,  5,  6,  7,  8,  9, 10, 11, 12, 13, 14])"
       ]
      }
     ],
     "prompt_number": 5
    },
    {
     "cell_type": "markdown",
     "metadata": {},
     "source": [
      "This create a one dimensional array with 15 elements starting from 0 to 14. To create a higher dimensional array, we can use this <span style=\"color: #0000FF\">$arange$</span> function and then use the <span style=\"color: #0000FF\">$reshape$</span> function. Let reshapes variable **_a_** as a two dimensional 3 x 5 array."
     ]
    },
    {
     "cell_type": "code",
     "collapsed": false,
     "input": [
      "b = a.reshape(3,5)\n",
      "b"
     ],
     "language": "python",
     "metadata": {},
     "outputs": [
      {
       "metadata": {},
       "output_type": "pyout",
       "prompt_number": 6,
       "text": [
        "array([[ 0,  1,  2,  3,  4],\n",
        "       [ 5,  6,  7,  8,  9],\n",
        "       [10, 11, 12, 13, 14]])"
       ]
      }
     ],
     "prompt_number": 6
    },
    {
     "cell_type": "markdown",
     "metadata": {},
     "source": [
      "Shaping a three dimensional 3 x 3 x 3 array:"
     ]
    },
    {
     "cell_type": "code",
     "collapsed": false,
     "input": [
      "c = np.arange(27).reshape(3,3,3)\n",
      "print c"
     ],
     "language": "python",
     "metadata": {},
     "outputs": [
      {
       "output_type": "stream",
       "stream": "stdout",
       "text": [
        "[[[ 0  1  2]\n",
        "  [ 3  4  5]\n",
        "  [ 6  7  8]]\n",
        "\n",
        " [[ 9 10 11]\n",
        "  [12 13 14]\n",
        "  [15 16 17]]\n",
        "\n",
        " [[18 19 20]\n",
        "  [21 22 23]\n",
        "  [24 25 26]]]\n"
       ]
      }
     ],
     "prompt_number": 7
    },
    {
     "cell_type": "markdown",
     "metadata": {},
     "source": [
      "We can check the shape, dimension and size of these arrays."
     ]
    },
    {
     "cell_type": "code",
     "collapsed": false,
     "input": [
      "print c.shape        # shape of array c\n",
      "print b.ndim         # dimension of array b\n",
      "print a.size         # size of array a or the number of elements in array a"
     ],
     "language": "python",
     "metadata": {},
     "outputs": [
      {
       "output_type": "stream",
       "stream": "stdout",
       "text": [
        "(3, 3, 3)\n",
        "2\n",
        "15\n"
       ]
      }
     ],
     "prompt_number": 8
    },
    {
     "cell_type": "markdown",
     "metadata": {},
     "source": [
      "The range and increment of the array elements can be specified by using the _(min, max, add)_ arguments in the <span style=\"color: #0000FF\">$arange$</span> function."
     ]
    },
    {
     "cell_type": "code",
     "collapsed": false,
     "input": [
      "'''Below means that the g array is going to contains range of elements with minimum\n",
      "value of 10 (inclusive of 10) up to a maximum value of 50 (exclusive of or less than 50) and with\n",
      "an increment of 5'''\n",
      "\n",
      "g = np.arange(10,50,5)     \n",
      "print g"
     ],
     "language": "python",
     "metadata": {},
     "outputs": [
      {
       "output_type": "stream",
       "stream": "stdout",
       "text": [
        "[10 15 20 25 30 35 40 45]\n"
       ]
      }
     ],
     "prompt_number": 9
    },
    {
     "cell_type": "code",
     "collapsed": false,
     "input": [
      "# To include 50, just set 50 to 51\n",
      "\n",
      "g = np.arange(10,51,5)     \n",
      "print g"
     ],
     "language": "python",
     "metadata": {},
     "outputs": [
      {
       "output_type": "stream",
       "stream": "stdout",
       "text": [
        "[10 15 20 25 30 35 40 45 50]\n"
       ]
      }
     ],
     "prompt_number": 10
    },
    {
     "cell_type": "markdown",
     "metadata": {},
     "source": [
      "Another useful array creating function is <span style=\"color: #0000FF\">$linspace$</span> which allows specifying (inclusive both) the minimum and maximum values and the number of array elements."
     ]
    },
    {
     "cell_type": "code",
     "collapsed": false,
     "input": [
      "x = np.linspace(0,2*np.pi,20)         # note: np.pi is used instead of just pi\n",
      "print x"
     ],
     "language": "python",
     "metadata": {},
     "outputs": [
      {
       "output_type": "stream",
       "stream": "stdout",
       "text": [
        "[ 0.          0.33069396  0.66138793  0.99208189  1.32277585  1.65346982\n",
        "  1.98416378  2.31485774  2.64555171  2.97624567  3.30693964  3.6376336\n",
        "  3.96832756  4.29902153  4.62971549  4.96040945  5.29110342  5.62179738\n",
        "  5.95249134  6.28318531]\n"
       ]
      }
     ],
     "prompt_number": 11
    },
    {
     "cell_type": "code",
     "collapsed": false,
     "input": [
      "# Finding the sin^2(x) + cos^2(x) (trigonometric identity)\n",
      "\n",
      "np.sin(x)**2 + np.cos(x)**2         # note: np.sin and np.cos are used instead of just sin and cos"
     ],
     "language": "python",
     "metadata": {},
     "outputs": [
      {
       "metadata": {},
       "output_type": "pyout",
       "prompt_number": 12,
       "text": [
        "array([ 1.,  1.,  1.,  1.,  1.,  1.,  1.,  1.,  1.,  1.,  1.,  1.,  1.,\n",
        "        1.,  1.,  1.,  1.,  1.,  1.,  1.])"
       ]
      }
     ],
     "prompt_number": 12
    },
    {
     "cell_type": "code",
     "collapsed": false,
     "input": [
      "z = np.linspace(1,5.347,20)"
     ],
     "language": "python",
     "metadata": {},
     "outputs": [],
     "prompt_number": 13
    },
    {
     "cell_type": "code",
     "collapsed": false,
     "input": [
      "x*z         # note:  arrays of the same size and dimension"
     ],
     "language": "python",
     "metadata": {},
     "outputs": [
      {
       "metadata": {},
       "output_type": "pyout",
       "prompt_number": 14,
       "text": [
        "array([  0.        ,   0.40635326,   0.96402512,   1.67301557,\n",
        "         2.53332462,   3.54495226,   4.7078985 ,   6.02216334,\n",
        "         7.48774677,   9.1046488 ,  10.87286942,  12.79240864,\n",
        "        14.86326646,  17.08544287,  19.45893787,  21.98375147,\n",
        "        24.65988367,  27.48733446,  30.46610385,  33.59619184])"
       ]
      }
     ],
     "prompt_number": 14
    },
    {
     "cell_type": "code",
     "collapsed": false,
     "input": [
      "a1 = np.linspace(1,8.75,12).reshape(3,4)       # a1 is 3 x 4 array\n",
      "a1"
     ],
     "language": "python",
     "metadata": {},
     "outputs": [
      {
       "metadata": {},
       "output_type": "pyout",
       "prompt_number": 15,
       "text": [
        "array([[ 1.        ,  1.70454545,  2.40909091,  3.11363636],\n",
        "       [ 3.81818182,  4.52272727,  5.22727273,  5.93181818],\n",
        "       [ 6.63636364,  7.34090909,  8.04545455,  8.75      ]])"
       ]
      }
     ],
     "prompt_number": 15
    },
    {
     "cell_type": "code",
     "collapsed": false,
     "input": [
      "b1 = np.linspace(1,4,4)        # b1 is 1 x 4 array\n",
      "b1"
     ],
     "language": "python",
     "metadata": {},
     "outputs": [
      {
       "metadata": {},
       "output_type": "pyout",
       "prompt_number": 16,
       "text": [
        "array([ 1.,  2.,  3.,  4.])"
       ]
      }
     ],
     "prompt_number": 16
    },
    {
     "cell_type": "code",
     "collapsed": false,
     "input": [
      "a1*b1"
     ],
     "language": "python",
     "metadata": {},
     "outputs": [
      {
       "metadata": {},
       "output_type": "pyout",
       "prompt_number": 17,
       "text": [
        "array([[  1.        ,   3.40909091,   7.22727273,  12.45454545],\n",
        "       [  3.81818182,   9.04545455,  15.68181818,  23.72727273],\n",
        "       [  6.63636364,  14.68181818,  24.13636364,  35.        ]])"
       ]
      }
     ],
     "prompt_number": 17
    },
    {
     "cell_type": "markdown",
     "metadata": {},
     "source": [
      "It is possible to operate this **_a1_** with **_b1_** as one of part of the array (the column) is equivalent in size."
     ]
    },
    {
     "cell_type": "markdown",
     "metadata": {},
     "source": [
      "|array|row|column|\n",
      "|---|---|---|\n",
      "|**_a1_**|$$3$$|$$4$$|\n",
      "|**_b1_**|$$1$$|$$4$$|"
     ]
    },
    {
     "cell_type": "markdown",
     "metadata": {},
     "source": [
      "Let **_c1_** be a 1 x 3 array:"
     ]
    },
    {
     "cell_type": "code",
     "collapsed": false,
     "input": [
      "c1 = np.linspace(1,3,3)\n",
      "c1"
     ],
     "language": "python",
     "metadata": {},
     "outputs": [
      {
       "metadata": {},
       "output_type": "pyout",
       "prompt_number": 18,
       "text": [
        "array([ 1.,  2.,  3.])"
       ]
      }
     ],
     "prompt_number": 18
    },
    {
     "cell_type": "code",
     "collapsed": false,
     "input": [
      "a1*c1"
     ],
     "language": "python",
     "metadata": {},
     "outputs": [
      {
       "ename": "ValueError",
       "evalue": "operands could not be broadcast together with shapes (3,4) (3,) ",
       "output_type": "pyerr",
       "traceback": [
        "\u001b[1;31m---------------------------------------------------------------------------\u001b[0m\n\u001b[1;31mValueError\u001b[0m                                Traceback (most recent call last)",
        "\u001b[1;32m<ipython-input-19-7559c13dd0cf>\u001b[0m in \u001b[0;36m<module>\u001b[1;34m()\u001b[0m\n\u001b[1;32m----> 1\u001b[1;33m \u001b[0ma1\u001b[0m\u001b[1;33m*\u001b[0m\u001b[0mc1\u001b[0m\u001b[1;33m\u001b[0m\u001b[0m\n\u001b[0m",
        "\u001b[1;31mValueError\u001b[0m: operands could not be broadcast together with shapes (3,4) (3,) "
       ]
      }
     ],
     "prompt_number": 19
    },
    {
     "cell_type": "markdown",
     "metadata": {},
     "source": [
      "The interpreter produces an error as neither row nor column of **_a1_** is equivalent to **_c1_**."
     ]
    },
    {
     "cell_type": "markdown",
     "metadata": {},
     "source": [
      "|array|row|column|\n",
      "|---|---|---|\n",
      "|**_a1_**|$$3$$|$$4$$|\n",
      "|**_c1_**|$$1$$|$$3$$|"
     ]
    },
    {
     "cell_type": "markdown",
     "metadata": {},
     "source": [
      "It is still possible to operate **_a1_** with **_c1_**. This can be done by transposing **_a1_** (**_a1_** now becomes 4 x 3 array, so the column size is the same as **_c1_** column size)."
     ]
    },
    {
     "cell_type": "code",
     "collapsed": false,
     "input": [
      "a1.T*c1\n"
     ],
     "language": "python",
     "metadata": {},
     "outputs": [
      {
       "metadata": {},
       "output_type": "pyout",
       "prompt_number": 20,
       "text": [
        "array([[  1.        ,   7.63636364,  19.90909091],\n",
        "       [  1.70454545,   9.04545455,  22.02272727],\n",
        "       [  2.40909091,  10.45454545,  24.13636364],\n",
        "       [  3.11363636,  11.86363636,  26.25      ]])"
       ]
      }
     ],
     "prompt_number": 20
    },
    {
     "cell_type": "markdown",
     "metadata": {},
     "source": [
      "Other type of arrays are array with ones and zeroes. These are flexible arrays and can be used for many purposes _e.g._ indexing collision particles in two dimensions. There is also the <span style=\"color: #0000FF\">$mgrid$</span> function."
     ]
    },
    {
     "cell_type": "code",
     "collapsed": false,
     "input": [
      "y = np.ones((10,10))\n",
      "print y\n",
      "z = np.zeros((5,5))\n",
      "print z"
     ],
     "language": "python",
     "metadata": {},
     "outputs": [
      {
       "output_type": "stream",
       "stream": "stdout",
       "text": [
        "[[ 1.  1.  1.  1.  1.  1.  1.  1.  1.  1.]\n",
        " [ 1.  1.  1.  1.  1.  1.  1.  1.  1.  1.]\n",
        " [ 1.  1.  1.  1.  1.  1.  1.  1.  1.  1.]\n",
        " [ 1.  1.  1.  1.  1.  1.  1.  1.  1.  1.]\n",
        " [ 1.  1.  1.  1.  1.  1.  1.  1.  1.  1.]\n",
        " [ 1.  1.  1.  1.  1.  1.  1.  1.  1.  1.]\n",
        " [ 1.  1.  1.  1.  1.  1.  1.  1.  1.  1.]\n",
        " [ 1.  1.  1.  1.  1.  1.  1.  1.  1.  1.]\n",
        " [ 1.  1.  1.  1.  1.  1.  1.  1.  1.  1.]\n",
        " [ 1.  1.  1.  1.  1.  1.  1.  1.  1.  1.]]\n",
        "[[ 0.  0.  0.  0.  0.]\n",
        " [ 0.  0.  0.  0.  0.]\n",
        " [ 0.  0.  0.  0.  0.]\n",
        " [ 0.  0.  0.  0.  0.]\n",
        " [ 0.  0.  0.  0.  0.]]\n"
       ]
      }
     ],
     "prompt_number": 21
    },
    {
     "cell_type": "code",
     "collapsed": false,
     "input": [
      "i, j = np.mgrid[0:4, 0:4]       # similar to meshgrid in MATLAB"
     ],
     "language": "python",
     "metadata": {},
     "outputs": [],
     "prompt_number": 22
    },
    {
     "cell_type": "code",
     "collapsed": false,
     "input": [
      "i"
     ],
     "language": "python",
     "metadata": {},
     "outputs": [
      {
       "metadata": {},
       "output_type": "pyout",
       "prompt_number": 23,
       "text": [
        "array([[0, 0, 0, 0],\n",
        "       [1, 1, 1, 1],\n",
        "       [2, 2, 2, 2],\n",
        "       [3, 3, 3, 3]])"
       ]
      }
     ],
     "prompt_number": 23
    },
    {
     "cell_type": "code",
     "collapsed": false,
     "input": [
      "j"
     ],
     "language": "python",
     "metadata": {},
     "outputs": [
      {
       "metadata": {},
       "output_type": "pyout",
       "prompt_number": 24,
       "text": [
        "array([[0, 1, 2, 3],\n",
        "       [0, 1, 2, 3],\n",
        "       [0, 1, 2, 3],\n",
        "       [0, 1, 2, 3]])"
       ]
      }
     ],
     "prompt_number": 24
    },
    {
     "cell_type": "markdown",
     "metadata": {},
     "source": [
      "####<span style=\"color: #F5DA81; background-color: #610B4B\">Exercise 6.1</span>: Create this 2-dimensional array using NumPy:"
     ]
    },
    {
     "cell_type": "markdown",
     "metadata": {},
     "source": [
      "$$\\left[ \\begin{array}{cc}\n",
      "0 & 0 & 0 & 0 & 0 & 0 & 0 & 0 & 0 & 0\\\\\n",
      "1 & 0 & 0 & 0 & 0 & 0 & 0 & 0 & 0 & 0\\\\\n",
      "1 & 1 & 0 & 0 & 0 & 0 & 0 & 0 & 0 & 0\\\\\n",
      "1 & 1 & 1 & 0 & 0 & 0 & 0 & 0 & 0 & 0\\\\\n",
      "1 & 1 & 1 & 1 & 0 & 0 & 0 & 0 & 0 & 0\\\\\n",
      "1 & 1 & 1 & 1 & 1 & 0 & 0 & 0 & 0 & 0\\\\\n",
      "1 & 1 & 1 & 1 & 1 & 1 & 0 & 0 & 0 & 0\\\\\n",
      "1 & 1 & 1 & 1 & 1 & 1 & 1 & 0 & 0 & 0\\\\\n",
      "1 & 1 & 1 & 1 & 1 & 1 & 1 & 1 & 0 & 0\\\\\n",
      "1 & 1 & 1 & 1 & 1 & 1 & 1 & 1 & 1 & 0\\end{array} \\right]$$"
     ]
    },
    {
     "cell_type": "code",
     "collapsed": false,
     "input": [
      "m, n = np.mgrid[0:10, 0:10]\n",
      "(m > n)*1"
     ],
     "language": "python",
     "metadata": {},
     "outputs": [
      {
       "metadata": {},
       "output_type": "pyout",
       "prompt_number": 25,
       "text": [
        "array([[0, 0, 0, 0, 0, 0, 0, 0, 0, 0],\n",
        "       [1, 0, 0, 0, 0, 0, 0, 0, 0, 0],\n",
        "       [1, 1, 0, 0, 0, 0, 0, 0, 0, 0],\n",
        "       [1, 1, 1, 0, 0, 0, 0, 0, 0, 0],\n",
        "       [1, 1, 1, 1, 0, 0, 0, 0, 0, 0],\n",
        "       [1, 1, 1, 1, 1, 0, 0, 0, 0, 0],\n",
        "       [1, 1, 1, 1, 1, 1, 0, 0, 0, 0],\n",
        "       [1, 1, 1, 1, 1, 1, 1, 0, 0, 0],\n",
        "       [1, 1, 1, 1, 1, 1, 1, 1, 0, 0],\n",
        "       [1, 1, 1, 1, 1, 1, 1, 1, 1, 0]])"
       ]
      }
     ],
     "prompt_number": 25
    },
    {
     "cell_type": "markdown",
     "metadata": {},
     "source": [
      "---\n",
      "<span style=\"color: #0000FF\">$NumPy$</span> array can be sliced, extracted and reassigned similar to the operations on _Python_ sequences."
     ]
    },
    {
     "cell_type": "code",
     "collapsed": false,
     "input": [
      "x = np.linspace(0,2*np.pi,20)\n",
      "print x\n",
      "print '-------------------------------------------------------------------------'\n",
      "print x[3:5]\n",
      "\n",
      "print '========================================================================='\n",
      "y = np.arange(15).reshape(3,5)\n",
      "print y\n",
      "print '-------------------------------------------------------------------------'\n",
      "print y[1]                   # the whole row of index 1 \n",
      "print '-------------------------------------------------------------------------'\n",
      "print y[0:2,1:4]             # row, column\n",
      "z = y[0:2,1:4]               # assigning to variable\n",
      "print '-------------------------------------------------------------------------'\n",
      "print z\n",
      "\n",
      "print '========================================================================='\n",
      "y[0:2,1:4] = 0               # reassigned\n",
      "print y\n",
      "\n",
      "print '========================================================================='\n",
      "y[0:2,1:4] = np.array([[45,89,12],[12,73,69]])       # reassigned with new array\n",
      "print y"
     ],
     "language": "python",
     "metadata": {},
     "outputs": [
      {
       "output_type": "stream",
       "stream": "stdout",
       "text": [
        "[ 0.          0.33069396  0.66138793  0.99208189  1.32277585  1.65346982\n",
        "  1.98416378  2.31485774  2.64555171  2.97624567  3.30693964  3.6376336\n",
        "  3.96832756  4.29902153  4.62971549  4.96040945  5.29110342  5.62179738\n",
        "  5.95249134  6.28318531]\n",
        "-------------------------------------------------------------------------\n",
        "[ 0.99208189  1.32277585]\n",
        "=========================================================================\n",
        "[[ 0  1  2  3  4]\n",
        " [ 5  6  7  8  9]\n",
        " [10 11 12 13 14]]\n",
        "-------------------------------------------------------------------------\n",
        "[5 6 7 8 9]\n",
        "-------------------------------------------------------------------------\n",
        "[[1 2 3]\n",
        " [6 7 8]]\n",
        "-------------------------------------------------------------------------\n",
        "[[1 2 3]\n",
        " [6 7 8]]\n",
        "=========================================================================\n",
        "[[ 0  0  0  0  4]\n",
        " [ 5  0  0  0  9]\n",
        " [10 11 12 13 14]]\n",
        "=========================================================================\n",
        "[[ 0 45 89 12  4]\n",
        " [ 5 12 73 69  9]\n",
        " [10 11 12 13 14]]\n"
       ]
      }
     ],
     "prompt_number": 26
    },
    {
     "cell_type": "markdown",
     "metadata": {},
     "source": [
      "There are many other ways to create <span style=\"color: #0000FF\">$NumPy$</span> array, some are quite fancy _e.g._:"
     ]
    },
    {
     "cell_type": "code",
     "collapsed": false,
     "input": [
      "X = np.array([n**np.e for n in range(5)])         # note: np.e represent exponential constant\n",
      "X"
     ],
     "language": "python",
     "metadata": {},
     "outputs": [
      {
       "metadata": {},
       "output_type": "pyout",
       "prompt_number": 27,
       "text": [
        "array([  0.        ,   1.        ,   6.58088599,  19.81299075,  43.30806043])"
       ]
      }
     ],
     "prompt_number": 27
    },
    {
     "cell_type": "code",
     "collapsed": false,
     "input": [
      "# i is row index and j is column index\n",
      "W = np.array([[j+i*3 for j in range(3)] for i in range(3)])\n",
      "W"
     ],
     "language": "python",
     "metadata": {},
     "outputs": [
      {
       "metadata": {},
       "output_type": "pyout",
       "prompt_number": 28,
       "text": [
        "array([[0, 1, 2],\n",
        "       [3, 4, 5],\n",
        "       [6, 7, 8]])"
       ]
      }
     ],
     "prompt_number": 28
    },
    {
     "cell_type": "markdown",
     "metadata": {},
     "source": [
      "***\n",
      "###**_6.2 File Input/Output_**"
     ]
    },
    {
     "cell_type": "markdown",
     "metadata": {},
     "source": [
      "<span style=\"color: #0000FF\">$NumPy$</span> array can be saved into a binary file which later can be loaded. 1-D and 2-D arrays can also be saved in csv (comma separated value) format."
     ]
    },
    {
     "cell_type": "code",
     "collapsed": false,
     "input": [
      "'''Let us build a 3-dimensional 5 x 5 x 5 array containing elements created using random number'''\n",
      "\n",
      "rand_array = np.random.rand(4,4,4)\n",
      "rand_array"
     ],
     "language": "python",
     "metadata": {},
     "outputs": [
      {
       "metadata": {},
       "output_type": "pyout",
       "prompt_number": 29,
       "text": [
        "array([[[ 0.82958116,  0.79836906,  0.22322841,  0.53193128],\n",
        "        [ 0.08192396,  0.59973163,  0.95990409,  0.50556226],\n",
        "        [ 0.7864357 ,  0.90417495,  0.20712318,  0.91074979],\n",
        "        [ 0.63241018,  0.2440741 ,  0.83281083,  0.55421577]],\n",
        "\n",
        "       [[ 0.93934938,  0.35242734,  0.82301523,  0.33230388],\n",
        "        [ 0.10160626,  0.44591972,  0.77309275,  0.07790299],\n",
        "        [ 0.65080394,  0.89354747,  0.12827873,  0.07644705],\n",
        "        [ 0.93518963,  0.19707031,  0.56364094,  0.95467435]],\n",
        "\n",
        "       [[ 0.4546909 ,  0.32686321,  0.39608361,  0.78515744],\n",
        "        [ 0.57390241,  0.79937694,  0.72377683,  0.28294114],\n",
        "        [ 0.2832475 ,  0.09539929,  0.74987388,  0.34091935],\n",
        "        [ 0.6038653 ,  0.45687844,  0.23472821,  0.23354193]],\n",
        "\n",
        "       [[ 0.94250753,  0.61858961,  0.88837933,  0.51231241],\n",
        "        [ 0.59099388,  0.23848401,  0.44095264,  0.19885586],\n",
        "        [ 0.50019538,  0.13840765,  0.92927216,  0.84597519],\n",
        "        [ 0.16966681,  0.22908423,  0.36020002,  0.41399863]]])"
       ]
      }
     ],
     "prompt_number": 29
    },
    {
     "cell_type": "markdown",
     "metadata": {},
     "source": [
      "_(The default random number generator algorithm is Mersenne-Twister)_"
     ]
    },
    {
     "cell_type": "code",
     "collapsed": false,
     "input": [
      "np.save(\"Tutorial6/random_3D_array.npy\", rand_array)"
     ],
     "language": "python",
     "metadata": {},
     "outputs": [],
     "prompt_number": 30
    },
    {
     "cell_type": "code",
     "collapsed": false,
     "input": [
      "np.load(\"Tutorial6/random_3D_array.npy\")"
     ],
     "language": "python",
     "metadata": {},
     "outputs": [
      {
       "metadata": {},
       "output_type": "pyout",
       "prompt_number": 31,
       "text": [
        "array([[[ 0.82958116,  0.79836906,  0.22322841,  0.53193128],\n",
        "        [ 0.08192396,  0.59973163,  0.95990409,  0.50556226],\n",
        "        [ 0.7864357 ,  0.90417495,  0.20712318,  0.91074979],\n",
        "        [ 0.63241018,  0.2440741 ,  0.83281083,  0.55421577]],\n",
        "\n",
        "       [[ 0.93934938,  0.35242734,  0.82301523,  0.33230388],\n",
        "        [ 0.10160626,  0.44591972,  0.77309275,  0.07790299],\n",
        "        [ 0.65080394,  0.89354747,  0.12827873,  0.07644705],\n",
        "        [ 0.93518963,  0.19707031,  0.56364094,  0.95467435]],\n",
        "\n",
        "       [[ 0.4546909 ,  0.32686321,  0.39608361,  0.78515744],\n",
        "        [ 0.57390241,  0.79937694,  0.72377683,  0.28294114],\n",
        "        [ 0.2832475 ,  0.09539929,  0.74987388,  0.34091935],\n",
        "        [ 0.6038653 ,  0.45687844,  0.23472821,  0.23354193]],\n",
        "\n",
        "       [[ 0.94250753,  0.61858961,  0.88837933,  0.51231241],\n",
        "        [ 0.59099388,  0.23848401,  0.44095264,  0.19885586],\n",
        "        [ 0.50019538,  0.13840765,  0.92927216,  0.84597519],\n",
        "        [ 0.16966681,  0.22908423,  0.36020002,  0.41399863]]])"
       ]
      }
     ],
     "prompt_number": 31
    },
    {
     "cell_type": "code",
     "collapsed": false,
     "input": [
      "rand2_array = np.random.rand(4,4)"
     ],
     "language": "python",
     "metadata": {},
     "outputs": [],
     "prompt_number": 32
    },
    {
     "cell_type": "code",
     "collapsed": false,
     "input": [
      "np.savetxt(\"Tutorial6/random_2D_array.csv\", rand2_array)"
     ],
     "language": "python",
     "metadata": {},
     "outputs": [],
     "prompt_number": 33
    },
    {
     "cell_type": "code",
     "collapsed": false,
     "input": [
      "fh_csv = open(\"Tutorial6/random_2D_array.csv\")\n",
      "fh_csv.read()"
     ],
     "language": "python",
     "metadata": {},
     "outputs": [
      {
       "metadata": {},
       "output_type": "pyout",
       "prompt_number": 34,
       "text": [
        "'2.550941880618483593e-01 6.081010494425030943e-01 1.328275885429089920e-01 6.410544069905788067e-01\\n9.606036488655971262e-01 4.900029967151697807e-02 9.011356506169276859e-02 9.513619101057076977e-01\\n8.485465403157894659e-01 7.514325692764325382e-01 1.221369803296827872e-01 3.966527947052410630e-01\\n4.601798289231888717e-01 4.447345394904229643e-01 8.414153516872128202e-01 9.517235636328948978e-01\\n'"
       ]
      }
     ],
     "prompt_number": 34
    },
    {
     "cell_type": "markdown",
     "metadata": {},
     "source": [
      "It is possible to specify or formatted the decimal value when saving a csv file."
     ]
    },
    {
     "cell_type": "code",
     "collapsed": false,
     "input": [
      "np.savetxt(\"Tutorial6/random_2D_arrayF.csv\", rand2_array, fmt='%.3f')"
     ],
     "language": "python",
     "metadata": {},
     "outputs": [],
     "prompt_number": 35
    },
    {
     "cell_type": "code",
     "collapsed": false,
     "input": [
      "fh_csv = open(\"Tutorial6/random_2D_arrayF.csv\")\n",
      "fh_csv.read()"
     ],
     "language": "python",
     "metadata": {},
     "outputs": [
      {
       "metadata": {},
       "output_type": "pyout",
       "prompt_number": 36,
       "text": [
        "'0.255 0.608 0.133 0.641\\n0.961 0.049 0.090 0.951\\n0.849 0.751 0.122 0.397\\n0.460 0.445 0.841 0.952\\n'"
       ]
      }
     ],
     "prompt_number": 36
    },
    {
     "cell_type": "markdown",
     "metadata": {},
     "source": [
      "***\n",
      "###**_6.3 Matrix Operations_**"
     ]
    },
    {
     "cell_type": "markdown",
     "metadata": {},
     "source": [
      "What we have seen previously were scalar array operations. <span style=\"color: #0000FF\">$NumPy$</span> array can also undergoes matrix operations. <span style=\"color: #0000FF\">$NumPy$</span> has special functions for matrix operations."
     ]
    },
    {
     "cell_type": "code",
     "collapsed": false,
     "input": [
      "M1 = np.random.rand(3,3)*np.linspace(1,36,9).reshape(3,3)\n",
      "M2 = np.random.rand(3,3)*np.linspace(1,2*np.e,9).reshape(3,3)\n",
      "M1, M2"
     ],
     "language": "python",
     "metadata": {},
     "outputs": [
      {
       "metadata": {},
       "output_type": "pyout",
       "prompt_number": 37,
       "text": [
        "(array([[  0.87962636,   3.54964829,   2.06511095],\n",
        "        [ 11.14219674,   7.67374133,  10.02465005],\n",
        "        [ 24.0854881 ,  15.97132669,  35.74580439]]),\n",
        " array([[ 0.36475469,  0.86023536,  1.21016195],\n",
        "        [ 1.18274341,  1.98545242,  0.95634684],\n",
        "        [ 2.96584491,  1.00121241,  2.77970821]]))"
       ]
      }
     ],
     "prompt_number": 37
    },
    {
     "cell_type": "code",
     "collapsed": false,
     "input": [
      "# dot product\n",
      "np.dot(M1,M2)"
     ],
     "language": "python",
     "metadata": {},
     "outputs": [
      {
       "metadata": {},
       "output_type": "pyout",
       "prompt_number": 38,
       "text": [
        "array([[  10.64396976,    9.8719582 ,   10.19959115],\n",
        "       [  42.87179278,   34.85756394,   48.68822283],\n",
        "       [ 133.69178799,   88.21864062,  143.78437495]])"
       ]
      }
     ],
     "prompt_number": 38
    },
    {
     "cell_type": "code",
     "collapsed": false,
     "input": [
      "N1 = np.arange(2,8,2)\n",
      "N1"
     ],
     "language": "python",
     "metadata": {},
     "outputs": [
      {
       "metadata": {},
       "output_type": "pyout",
       "prompt_number": 39,
       "text": [
        "array([2, 4, 6])"
       ]
      }
     ],
     "prompt_number": 39
    },
    {
     "cell_type": "code",
     "collapsed": false,
     "input": [
      "np.dot(M1,N1)"
     ],
     "language": "python",
     "metadata": {},
     "outputs": [
      {
       "metadata": {},
       "output_type": "pyout",
       "prompt_number": 40,
       "text": [
        "array([  28.34851161,  113.1272591 ,  326.53110928])"
       ]
      }
     ],
     "prompt_number": 40
    },
    {
     "cell_type": "code",
     "collapsed": false,
     "input": [
      "np.dot(N1,N1)"
     ],
     "language": "python",
     "metadata": {},
     "outputs": [
      {
       "metadata": {},
       "output_type": "pyout",
       "prompt_number": 41,
       "text": [
        "56"
       ]
      }
     ],
     "prompt_number": 41
    },
    {
     "cell_type": "markdown",
     "metadata": {},
     "source": [
      "Standard arithmetic operators (+, -, `*`) can be used for matrix operations by casting the <span style=\"color: #0000FF\">$NumPy$</span> array as of type matrix."
     ]
    },
    {
     "cell_type": "code",
     "collapsed": false,
     "input": [
      "W1 = np.matrix(M1)\n",
      "W1"
     ],
     "language": "python",
     "metadata": {},
     "outputs": [
      {
       "metadata": {},
       "output_type": "pyout",
       "prompt_number": 42,
       "text": [
        "matrix([[  0.87962636,   3.54964829,   2.06511095],\n",
        "        [ 11.14219674,   7.67374133,  10.02465005],\n",
        "        [ 24.0854881 ,  15.97132669,  35.74580439]])"
       ]
      }
     ],
     "prompt_number": 42
    },
    {
     "cell_type": "code",
     "collapsed": false,
     "input": [
      "Y = np.matrix(N1).T  \n",
      "Y"
     ],
     "language": "python",
     "metadata": {},
     "outputs": [
      {
       "metadata": {},
       "output_type": "pyout",
       "prompt_number": 43,
       "text": [
        "matrix([[2],\n",
        "        [4],\n",
        "        [6]])"
       ]
      }
     ],
     "prompt_number": 43
    },
    {
     "cell_type": "code",
     "collapsed": false,
     "input": [
      "W2 = np.matrix(M2)\n",
      "\n",
      "W1*W2                # instead of using np.dot() function"
     ],
     "language": "python",
     "metadata": {},
     "outputs": [
      {
       "metadata": {},
       "output_type": "pyout",
       "prompt_number": 44,
       "text": [
        "matrix([[  10.64396976,    9.8719582 ,   10.19959115],\n",
        "        [  42.87179278,   34.85756394,   48.68822283],\n",
        "        [ 133.69178799,   88.21864062,  143.78437495]])"
       ]
      }
     ],
     "prompt_number": 44
    },
    {
     "cell_type": "markdown",
     "metadata": {},
     "source": [
      "Matrix operations must adhered to standard matrix agebra and it is good practice to check the shape of the matrices before any operations."
     ]
    },
    {
     "cell_type": "code",
     "collapsed": false,
     "input": [
      "np.shape(W1), np.shape(Y)"
     ],
     "language": "python",
     "metadata": {},
     "outputs": [
      {
       "metadata": {},
       "output_type": "pyout",
       "prompt_number": 45,
       "text": [
        "((3, 3), (3, 1))"
       ]
      }
     ],
     "prompt_number": 45
    },
    {
     "cell_type": "code",
     "collapsed": false,
     "input": [
      "Y + W1*Y"
     ],
     "language": "python",
     "metadata": {},
     "outputs": [
      {
       "metadata": {},
       "output_type": "pyout",
       "prompt_number": 46,
       "text": [
        "matrix([[  30.34851161],\n",
        "        [ 117.1272591 ],\n",
        "        [ 332.53110928]])"
       ]
      }
     ],
     "prompt_number": 46
    },
    {
     "cell_type": "markdown",
     "metadata": {},
     "source": [
      "A few others mathematical functions on matrix include:"
     ]
    },
    {
     "cell_type": "code",
     "collapsed": false,
     "input": [
      "# Finding determinant\n",
      "\n",
      "np.linalg.det(W1)"
     ],
     "language": "python",
     "metadata": {},
     "outputs": [
      {
       "metadata": {},
       "output_type": "pyout",
       "prompt_number": 48,
       "text": [
        "-470.45726132437619"
       ]
      }
     ],
     "prompt_number": 48
    },
    {
     "cell_type": "code",
     "collapsed": false,
     "input": [
      "# Inverse matrix\n",
      "\n",
      "np.linalg.inv(W1)"
     ],
     "language": "python",
     "metadata": {},
     "outputs": [
      {
       "metadata": {},
       "output_type": "pyout",
       "prompt_number": 49,
       "text": [
        "matrix([[-0.24273639,  0.1995983 , -0.04195249],\n",
        "        [ 0.33337395,  0.03889036, -0.03016624],\n",
        "        [ 0.01460311, -0.15186547,  0.06972122]])"
       ]
      }
     ],
     "prompt_number": 49
    },
    {
     "cell_type": "code",
     "collapsed": false,
     "input": [
      "np.linalg.inv(W1)*W1"
     ],
     "language": "python",
     "metadata": {},
     "outputs": [
      {
       "metadata": {},
       "output_type": "pyout",
       "prompt_number": 50,
       "text": [
        "matrix([[  1.00000000e+00,   0.00000000e+00,   2.22044605e-16],\n",
        "        [  0.00000000e+00,   1.00000000e+00,   0.00000000e+00],\n",
        "        [  2.22044605e-16,   0.00000000e+00,   1.00000000e+00]])"
       ]
      }
     ],
     "prompt_number": 50
    },
    {
     "cell_type": "markdown",
     "metadata": {},
     "source": [
      "This tutorial part just shows the small fraction on <span style=\"color: #0000FF\">$NumPy$</span> capabilities so that users will familiarize with the syntax. More on <span style=\"color: #0000FF\">$NumPy$</span> can be found on:\n",
      "* http://numpy.scipy.org\n",
      "* http://scipy.org/Tentative_NumPy_Tutorial\n",
      "* http://scipy.org/NumPy_for_Matlab_Users - A Numpy guide for MATLAB users."
     ]
    }
   ],
   "metadata": {}
  }
 ]
}