{
 "cells": [
  {
   "cell_type": "markdown",
   "metadata": {},
   "source": [
    "# <span style=\"color: #B40486\">BASIC PYTHON FOR RESEARCHERS</span>"
   ]
  },
  {
   "cell_type": "markdown",
   "metadata": {},
   "source": [
    "_by_ [**_Megat Harun Al Rashid bin Megat Ahmad_**](https://www.researchgate.net/profile/Megat_Harun_Megat_Ahmad)  \n",
    "last updated: April 14, 2016"
   ]
  },
  {
   "cell_type": "markdown",
   "metadata": {},
   "source": [
    "-------\n",
    "## _<span style=\"color: #29088A\">2. Strings and Files</span>_\n"
   ]
  },
  {
   "cell_type": "markdown",
   "metadata": {},
   "source": [
    "***\n",
    "### **_2.1 Strings Manipulation_**"
   ]
  },
  {
   "cell_type": "markdown",
   "metadata": {},
   "source": [
    "_Python_ has many built-in classes that support the processing of text or commonly known as strings. Strings can be declared by quoting the text (with single (`'`) or double (`\"`) quotes)."
   ]
  },
  {
   "cell_type": "code",
   "execution_count": 1,
   "metadata": {
    "collapsed": false
   },
   "outputs": [
    {
     "data": {
      "text/plain": [
       "'Hello World, I am an evangelical Python enthusiast'"
      ]
     },
     "execution_count": 1,
     "metadata": {},
     "output_type": "execute_result"
    }
   ],
   "source": [
    "'Hello World, I am an evangelical Python enthusiast'"
   ]
  },
  {
   "cell_type": "markdown",
   "metadata": {},
   "source": [
    "Just like numerical value, strings can be assigned to a variable which can be used later. "
   ]
  },
  {
   "cell_type": "code",
   "execution_count": 2,
   "metadata": {
    "collapsed": false
   },
   "outputs": [],
   "source": [
    "str1 = 'Hello World'\n",
    "str2 = 'I am an evangelical Python enthusiast'"
   ]
  },
  {
   "cell_type": "code",
   "execution_count": 3,
   "metadata": {
    "collapsed": false
   },
   "outputs": [
    {
     "data": {
      "text/plain": [
       "'Hello World'"
      ]
     },
     "execution_count": 3,
     "metadata": {},
     "output_type": "execute_result"
    }
   ],
   "source": [
    "str1"
   ]
  },
  {
   "cell_type": "code",
   "execution_count": 4,
   "metadata": {
    "collapsed": false
   },
   "outputs": [
    {
     "data": {
      "text/plain": [
       "'I am an evangelical Python enthusiast'"
      ]
     },
     "execution_count": 4,
     "metadata": {},
     "output_type": "execute_result"
    }
   ],
   "source": [
    "str2"
   ]
  },
  {
   "cell_type": "markdown",
   "metadata": {},
   "source": [
    "Strings can be stiched together using the `'+'` operator..."
   ]
  },
  {
   "cell_type": "code",
   "execution_count": 5,
   "metadata": {
    "collapsed": false
   },
   "outputs": [
    {
     "data": {
      "text/plain": [
       "'Hello World, I am an evangelical Python enthusiast'"
      ]
     },
     "execution_count": 5,
     "metadata": {},
     "output_type": "execute_result"
    }
   ],
   "source": [
    "sente = str1 + \", \" + str2\n",
    "sente"
   ]
  },
  {
   "cell_type": "markdown",
   "metadata": {},
   "source": [
    "...as well as mutiply with the `'*'` operator:"
   ]
  },
  {
   "cell_type": "code",
   "execution_count": 6,
   "metadata": {
    "collapsed": false
   },
   "outputs": [
    {
     "data": {
      "text/plain": [
       "'hello ,hello ,hello ,hello ,hello ,'"
      ]
     },
     "execution_count": 6,
     "metadata": {},
     "output_type": "execute_result"
    }
   ],
   "source": [
    "5*'hello ,'"
   ]
  },
  {
   "cell_type": "markdown",
   "metadata": {},
   "source": [
    "The quoting of strings can also be done with triple single ($'''$) and triple double ($\"\"\"$) quotes."
   ]
  },
  {
   "cell_type": "code",
   "execution_count": 7,
   "metadata": {
    "collapsed": false
   },
   "outputs": [],
   "source": [
    "str3 = 'I am ' + '''not ''' + \"the \" + \"\"\"we of anyone\"\"\""
   ]
  },
  {
   "cell_type": "code",
   "execution_count": 8,
   "metadata": {
    "collapsed": false
   },
   "outputs": [
    {
     "data": {
      "text/plain": [
       "'I am not the we of anyone'"
      ]
     },
     "execution_count": 8,
     "metadata": {},
     "output_type": "execute_result"
    }
   ],
   "source": [
    "str3"
   ]
  },
  {
   "cell_type": "markdown",
   "metadata": {},
   "source": [
    "This allows the usage of both the single and double quotes as part of the strings."
   ]
  },
  {
   "cell_type": "code",
   "execution_count": 9,
   "metadata": {
    "collapsed": false
   },
   "outputs": [
    {
     "data": {
      "text/plain": [
       "'Katheline Kelly: \"That is amazing, you can spell \"fox\"! Can you spell \"dog\"?\"'"
      ]
     },
     "execution_count": 9,
     "metadata": {},
     "output_type": "execute_result"
    }
   ],
   "source": [
    "'Katheline Kelly: \"That is amazing, you can spell \"fox\"! Can you spell \"dog\"?\"'"
   ]
  },
  {
   "cell_type": "code",
   "execution_count": 10,
   "metadata": {
    "collapsed": false
   },
   "outputs": [
    {
     "data": {
      "text/plain": [
       "'Joe Fox: \"...but I am in the middle of a project that needs \"tweaking\"\"'"
      ]
     },
     "execution_count": 10,
     "metadata": {},
     "output_type": "execute_result"
    }
   ],
   "source": [
    "'''Joe Fox: \"...but I am in the middle of a project \\\n",
    "that needs \"tweaking\"\"'''"
   ]
  },
  {
   "cell_type": "markdown",
   "metadata": {},
   "source": [
    "You will notice there is an escape character `'\\'` between the words `\"project\"` and `\"that\"`. This allows the strings (or any _Python_ statement) to break a line _i.e._ when one _Python_ statement is long it can be continued to the next line by using escape `'\\'` to improve readability. "
   ]
  },
  {
   "cell_type": "markdown",
   "metadata": {},
   "source": [
    "The length of strings or the number of characters in the strings can be obtained using the <span style=\"color: #088A08\">**len&#40;&#41;**</span> function."
   ]
  },
  {
   "cell_type": "code",
   "execution_count": 11,
   "metadata": {
    "collapsed": false
   },
   "outputs": [
    {
     "data": {
      "text/plain": [
       "25"
      ]
     },
     "execution_count": 11,
     "metadata": {},
     "output_type": "execute_result"
    }
   ],
   "source": [
    "len(str3)"
   ]
  },
  {
   "cell_type": "markdown",
   "metadata": {},
   "source": [
    "_Python_ strings classes support what is called the sequence type method _i.e._ strings in _Python_ behave like a **list**. Therefore strings can be sliced, extracted and reassigned."
   ]
  },
  {
   "cell_type": "code",
   "execution_count": 12,
   "metadata": {
    "collapsed": false
   },
   "outputs": [],
   "source": [
    "str0 = 'There is a wisdom of the head, and \\\n",
    "a wisdom of the heart'"
   ]
  },
  {
   "cell_type": "code",
   "execution_count": 13,
   "metadata": {
    "collapsed": false
   },
   "outputs": [
    {
     "data": {
      "text/plain": [
       "'There is a wisdom of the head, and a wisdom of the heart'"
      ]
     },
     "execution_count": 13,
     "metadata": {},
     "output_type": "execute_result"
    }
   ],
   "source": [
    "str0"
   ]
  },
  {
   "cell_type": "markdown",
   "metadata": {},
   "source": [
    "Characters in strings can be extracted by specifying the location or range of the strings. The location of the character can start from both left and right of the strings. From the left side, the character position starts from `'0'` and above whereas from right side, the character position starts from `'-1'` and below. Both can be used in slicing the strings. If one of the positions are not specified during slicing, then every character will be included in the direction of the position. The end position number must be one step higher than the desired end position of the strings. This is helpful control flow operation as first position starts with the number `'0'`."
   ]
  },
  {
   "cell_type": "code",
   "execution_count": 14,
   "metadata": {
    "collapsed": false
   },
   "outputs": [
    {
     "data": {
      "text/plain": [
       "'T'"
      ]
     },
     "execution_count": 14,
     "metadata": {},
     "output_type": "execute_result"
    }
   ],
   "source": [
    "str0[0]"
   ]
  },
  {
   "cell_type": "code",
   "execution_count": 15,
   "metadata": {
    "collapsed": false
   },
   "outputs": [
    {
     "data": {
      "text/plain": [
       "'t'"
      ]
     },
     "execution_count": 15,
     "metadata": {},
     "output_type": "execute_result"
    }
   ],
   "source": [
    "str0[-1]"
   ]
  },
  {
   "cell_type": "code",
   "execution_count": 16,
   "metadata": {
    "collapsed": false
   },
   "outputs": [
    {
     "data": {
      "text/plain": [
       "'wisdom'"
      ]
     },
     "execution_count": 16,
     "metadata": {},
     "output_type": "execute_result"
    }
   ],
   "source": [
    "str0[11:17]"
   ]
  },
  {
   "cell_type": "code",
   "execution_count": 17,
   "metadata": {
    "collapsed": false
   },
   "outputs": [
    {
     "data": {
      "text/plain": [
       "'wisdom'"
      ]
     },
     "execution_count": 17,
     "metadata": {},
     "output_type": "execute_result"
    }
   ],
   "source": [
    "str0[-45:-39]"
   ]
  },
  {
   "cell_type": "code",
   "execution_count": 18,
   "metadata": {
    "collapsed": false
   },
   "outputs": [
    {
     "data": {
      "text/plain": [
       "'wisdom'"
      ]
     },
     "execution_count": 18,
     "metadata": {},
     "output_type": "execute_result"
    }
   ],
   "source": [
    "str0[11:-39]"
   ]
  },
  {
   "cell_type": "code",
   "execution_count": 19,
   "metadata": {
    "collapsed": false
   },
   "outputs": [
    {
     "data": {
      "text/plain": [
       "'the heart'"
      ]
     },
     "execution_count": 19,
     "metadata": {},
     "output_type": "execute_result"
    }
   ],
   "source": [
    "str0[-9:]"
   ]
  },
  {
   "cell_type": "code",
   "execution_count": 20,
   "metadata": {
    "collapsed": false
   },
   "outputs": [
    {
     "data": {
      "text/plain": [
       "'There is a wisdom of the head'"
      ]
     },
     "execution_count": 20,
     "metadata": {},
     "output_type": "execute_result"
    }
   ],
   "source": [
    "str0[:-27]"
   ]
  },
  {
   "cell_type": "code",
   "execution_count": 21,
   "metadata": {
    "collapsed": false
   },
   "outputs": [
    {
     "data": {
      "text/plain": [
       "'There is a wisdom of the head, and a wisdom of the heart'"
      ]
     },
     "execution_count": 21,
     "metadata": {},
     "output_type": "execute_result"
    }
   ],
   "source": [
    "str0[:]"
   ]
  },
  {
   "cell_type": "markdown",
   "metadata": {},
   "source": [
    "Below is a table that shows the position of characters in the strings `'Python vs. Perl'` from left to right and from right to left:"
   ]
  },
  {
   "cell_type": "markdown",
   "metadata": {},
   "source": [
    "||P|y|t|h|o|n||v|s|.||P|e|r|l|\n",
    "|-|-|-|-|-|-|-|-|-|-|-|-|-|-|-|-|\n",
    "|Position starting from left|0|1|2|3|4|5|6|7|8|9|10|11|12|13|14|\n",
    "|Position starting from right|-15|-14|-13|-12|-11|-10|-9|-8|-7|-6|-5|-4|-3|-2|-1|"
   ]
  },
  {
   "cell_type": "markdown",
   "metadata": {},
   "source": [
    "#### <span style=\"color: #F5DA81; background-color: #610B4B\">Example 2.1</span>: Create a new strings that contains the word `'Person'` by slicing and extracting the character from the strings `'Python vs. Perl'`."
   ]
  },
  {
   "cell_type": "markdown",
   "metadata": {},
   "source": [
    "#### <span style=\"color: red; background-color: yellow-light\">$Answer$</span>:"
   ]
  },
  {
   "cell_type": "code",
   "execution_count": 22,
   "metadata": {
    "collapsed": false
   },
   "outputs": [
    {
     "data": {
      "text/plain": [
       "'Person'"
      ]
     },
     "execution_count": 22,
     "metadata": {},
     "output_type": "execute_result"
    }
   ],
   "source": [
    "str_table = 'Python vs. Perl'\n",
    "str_table[-4:-1] + str_table[-7] + str_table[4:6]"
   ]
  },
  {
   "cell_type": "markdown",
   "metadata": {},
   "source": [
    "***\n",
    "### **_2.2 Printing and Formatting_**"
   ]
  },
  {
   "cell_type": "markdown",
   "metadata": {},
   "source": [
    "_Python_ has the <span style=\"color: #088A08\">**print**</span> function that can print formatted output."
   ]
  },
  {
   "cell_type": "code",
   "execution_count": 23,
   "metadata": {
    "collapsed": false
   },
   "outputs": [
    {
     "name": "stdout",
     "output_type": "stream",
     "text": [
      "Hello Everyone\n"
     ]
    }
   ],
   "source": [
    "print \"Hello Everyone\""
   ]
  },
  {
   "cell_type": "code",
   "execution_count": 24,
   "metadata": {
    "collapsed": false
   },
   "outputs": [
    {
     "name": "stdout",
     "output_type": "stream",
     "text": [
      "Hello  Everyone\n"
     ]
    }
   ],
   "source": [
    "print \"Hello \",\"Everyone\""
   ]
  },
  {
   "cell_type": "code",
   "execution_count": 25,
   "metadata": {
    "collapsed": false
   },
   "outputs": [
    {
     "name": "stdout",
     "output_type": "stream",
     "text": [
      "143.7\n"
     ]
    }
   ],
   "source": [
    "x = 45.6\n",
    "y = 98.1\n",
    "print x + y"
   ]
  },
  {
   "cell_type": "markdown",
   "metadata": {},
   "source": [
    "Formatted output can be printed using format specifiers and escape characters."
   ]
  },
  {
   "cell_type": "code",
   "execution_count": 26,
   "metadata": {
    "collapsed": false
   },
   "outputs": [
    {
     "name": "stdout",
     "output_type": "stream",
     "text": [
      "45.68 added to 98.142 gives \n",
      "143.8\n"
     ]
    }
   ],
   "source": [
    "x = 45.678\n",
    "y = 98.142\n",
    "print '%.2f added to %.3f gives \\n%.1f' % (x,y,x+y)"
   ]
  },
  {
   "cell_type": "markdown",
   "metadata": {},
   "source": [
    "The sequence and numbers of the format specifiers for the strings must match the number of arguments in the parenthesis afterwards. Arguments in parenthesis can be numbers, strings and operational expression. In the above example, the <span style=\"color: red\">' %.2f '</span> term means that it will be replaced by the variable <span style=\"color: #088A08\">$x$</span> but with only two decimal places displayed instead of the original three as specified by the <span style=\"color: red\">' .2 '</span> term. The letter <span style=\"color: red\">' f '</span> indicates that only variable with floating point value can be accepted. The <span style=\"color: red\">' \\n '</span> is an escape character and in this case it means that printing will be done in new line afterwards."
   ]
  },
  {
   "cell_type": "markdown",
   "metadata": {},
   "source": [
    "Some of the formatted strings that can be used:"
   ]
  },
  {
   "cell_type": "markdown",
   "metadata": {},
   "source": [
    "|Formatted Strings|Type|\n",
    "|---|---|\n",
    "|%c|char|\n",
    "|%d|decimal|\n",
    "|%s|string|\n",
    "|%f|floating|"
   ]
  },
  {
   "cell_type": "markdown",
   "metadata": {},
   "source": [
    "Some of the escape characters that can be used:"
   ]
  },
  {
   "cell_type": "markdown",
   "metadata": {},
   "source": [
    "|Escape Character|Function|\n",
    "|---|---|\n",
    "|\\t|tab|\n",
    "|\\n|new line|\n",
    "|\\\\|'\\'|\n",
    "|\\s|space|\n",
    "|\\v|vertical tab|"
   ]
  },
  {
   "cell_type": "markdown",
   "metadata": {},
   "source": [
    "#### <span style=\"color: #F5DA81; background-color: #610B4B\">Example 2.2</span>: This list contains the names of examinees and their marks (in parenthesis). Print the names and the marks in two columns.\n",
    "#### “Friya (78), Darylene (84), Femi (91), Aiko (100) and Holda (80)”.\n",
    "#### Then calculate and print the average mark."
   ]
  },
  {
   "cell_type": "markdown",
   "metadata": {},
   "source": [
    "#### <span style=\"color: red; background-color: yellow-light\">$Answer$</span>:"
   ]
  },
  {
   "cell_type": "code",
   "execution_count": 27,
   "metadata": {
    "collapsed": false
   },
   "outputs": [
    {
     "name": "stdout",
     "output_type": "stream",
     "text": [
      "Friya\tDarylene\tFemi\tAiko\tHolda\n",
      "\n",
      "78\t84\t91\t100\t80\n",
      "\n",
      "Names\t\tMarks\n",
      "---------------------\n",
      "Friya\t\t78\n",
      "Darylene\t84\n",
      "Femi\t\t91\n",
      "Aiko\t\t100\n",
      "Holda\t\t80\n",
      "\n",
      "The average mark is 86\n"
     ]
    }
   ],
   "source": [
    "str_list = 'Friya (78), Darylene (84), Femi (91), Aiko (100) \\\n",
    "and Holda (80)'\n",
    "\n",
    "n1 = str_list[0:5]; n2 = str_list[12:20]; n3 = str_list[27:31]\n",
    "n4 = str_list[-25:-21]; n5 = str_list[-10:-5]\n",
    "\n",
    "# Checking whether extract/slice is correct\n",
    "\n",
    "print '%s\\t%s\\t%s\\t%s\\t%s\\n' % (n1,n2,n3,n4,n5)\n",
    "\n",
    "m1 = str_list[7:9]; m2 = str_list[22:24]; m3 = str_list[33:35]\n",
    "m4 = str_list[-19:-16]; m5 = str_list[-3:-1]\n",
    "\n",
    "print '%s\\t%s\\t%s\\t%s\\t%s\\n' % (m1,m2,m3,m4,m5)\n",
    "\n",
    "'''Printing the results \n",
    "in two columns'''\n",
    "\n",
    "print 'Names\\t\\tMarks'\n",
    "print 21*'-'\n",
    "print '%s\\t\\t%s' % (n1,m1)\n",
    "print '%s\\t%s' % (n2,m2)\n",
    "print '%s\\t\\t%s' % (n3,m3)\n",
    "print '%s\\t\\t%s' % (n4,m4)\n",
    "print '%s\\t\\t%s' % (n5,m5)\n",
    "\n",
    "print '\\nThe average mark is %d' % ((int(m1)+int(m2)+int(m3)\\\n",
    "                                  +int(m4)+int(m5))/5)"
   ]
  },
  {
   "cell_type": "markdown",
   "metadata": {},
   "source": [
    "In this exercise, the '<span style=\"color: #088A85\">&#35;</span>' is used before writing a one line comments in the program. This line will not be executed. Multiple lines comments can be inserted by quoting the comments in triple single (`'''`) or double (`\"\"\"`) quotes. Comments assist program readability."
   ]
  },
  {
   "cell_type": "markdown",
   "metadata": {},
   "source": [
    "***\n",
    "### **_2.3 Input and Output Functions_**"
   ]
  },
  {
   "cell_type": "markdown",
   "metadata": {},
   "source": [
    "Apart from direct writing of numerical digits and strings (by quoting) and assigning them to variables, _Python_ provides input capability via key-in and also from reading file. The output can also be saved into a file. In general, the input and output functions available are:\n",
    "1. Common input functions:\n",
    ">_1.1. Key-in input from keyboard_  \n",
    ">      input, raw_input  \n",
    "_1.2. Reading from file_\n",
    "2. Common output functions:\n",
    ">_2.1. Print on the screen_  \n",
    ">_2.2. Write to file_\n"
   ]
  },
  {
   "cell_type": "code",
   "execution_count": 28,
   "metadata": {
    "collapsed": false
   },
   "outputs": [
    {
     "name": "stdout",
     "output_type": "stream",
     "text": [
      "Key-in any integer (and press Enter): 32\n",
      "The input value is 32\n",
      "8 x 32 = 256\n"
     ]
    }
   ],
   "source": [
    "# input function: key-in integer value\n",
    "\n",
    "int_x = input('Key-in any integer (and press Enter): ')\n",
    "\n",
    "print 'The input value is %d' % int_x\n",
    "print '8 x %d = %d' % (int_x,8*int_x)"
   ]
  },
  {
   "cell_type": "code",
   "execution_count": 29,
   "metadata": {
    "collapsed": false
   },
   "outputs": [
    {
     "name": "stdout",
     "output_type": "stream",
     "text": [
      "Key-in any word (and press Enter): \"Hello\"\n",
      "The input word is \"Hello\"\n"
     ]
    }
   ],
   "source": [
    "# input function: key-in a string\n",
    "\n",
    "str_x = input('Key-in any word (and press Enter): ')\n",
    "\n",
    "print 'The input word is \"%s\"' % str_x"
   ]
  },
  {
   "cell_type": "markdown",
   "metadata": {},
   "source": [
    "The <span style=\"color: #088A08\">**input&#40;&#41;**</span> function accepts any numerical digits and quoted strings as input whereas the <span style=\"color: #088A08\">**raw_input&#40;&#41;**</span> function converts all inputs into strings (without the needs to quote the strings)."
   ]
  },
  {
   "cell_type": "code",
   "execution_count": 30,
   "metadata": {
    "collapsed": false
   },
   "outputs": [
    {
     "name": "stdout",
     "output_type": "stream",
     "text": [
      "Key-in any integer (and press Enter): 36\n",
      "The input value is 36\n",
      "Key-in any word (and press Enter): Hello\n",
      "The input word is Hello\n"
     ]
    }
   ],
   "source": [
    "int_x = raw_input(\"Key-in any integer (and press Enter): \")\n",
    "print \"The input value is %s\" % int_x\n",
    "\n",
    "str_x = raw_input(\"Key-in any word (and press Enter): \")\n",
    "print \"The input word is %s\" % str_x"
   ]
  },
  {
   "cell_type": "markdown",
   "metadata": {},
   "source": [
    "Here the value of <span style=\"color: #088A08\">$int$_$x$</span> variable is actually a strings and cannot be operated mathematically. Therefore, it needs to be converted to a number."
   ]
  },
  {
   "cell_type": "code",
   "execution_count": 31,
   "metadata": {
    "collapsed": false
   },
   "outputs": [
    {
     "name": "stdout",
     "output_type": "stream",
     "text": [
      "Key-in any integer (and press Enter): 32\n",
      "The input value when multiply with 4 is 128\n",
      "\n",
      "Key-in any floating number (and press Enter): 42.89\n",
      "The floating value when divided \n",
      "with 8 is 5.36\n"
     ]
    }
   ],
   "source": [
    "int_x = int(raw_input(\"Key-in any integer (and press Enter): \"))\n",
    "print \"The input value when multiply with %d is %d\" % (4,int_x*4)\n",
    "\n",
    "fx = float(raw_input(\"\\nKey-in any floating number (and press Enter): \"))\n",
    "print \"The floating value when divided \\nwith %d is %.2f\" % (8,fx/8)"
   ]
  },
  {
   "cell_type": "markdown",
   "metadata": {},
   "source": [
    "***\n",
    "### **_2.4 Reading and Writing File_**"
   ]
  },
  {
   "cell_type": "markdown",
   "metadata": {},
   "source": [
    "Reading from and writing to a file can be done by using the <span style=\"color: #088A08\">**open&#40;&#41;**</span> function."
   ]
  },
  {
   "cell_type": "code",
   "execution_count": 32,
   "metadata": {
    "collapsed": false
   },
   "outputs": [],
   "source": [
    "# Opening a file \n",
    "file_read = open(\"Tutorial2/les miserables.txt\")\n",
    "# file_read = open(\"Tutorial2/les miserables.txt\",\"r\")\n",
    "file_read.close()"
   ]
  },
  {
   "cell_type": "markdown",
   "metadata": {},
   "source": [
    "Here the <span style=\"color: #088A08\">**open&#40;&#41;**</span> function is followed by the quoted name of the file in parenthesis. When opening a file, by default it is for reading _i.e._ it is in the `'r'` mode which is usually omitted. The file needs to be closed after reading it. In the example below, the $les miserables.txt$ file is opened for reading (with reading mode specified) and the content of the file is printed. If the file is not in the same directory of the working notebook, then the directory path of the file needs to be specified."
   ]
  },
  {
   "cell_type": "code",
   "execution_count": 33,
   "metadata": {
    "collapsed": false
   },
   "outputs": [
    {
     "name": "stdout",
     "output_type": "stream",
     "text": [
      "Name of the file: Tutorial2/les miserables.txt\n",
      "\n",
      "Preface from Les Miserables\n",
      "\n",
      "So long as there shall exist, by reason of law and custom,\n",
      "a social condemnation, which, in the face of civilisation,\n",
      "artificially creates hells on earth, and complicates a\n",
      "destiny that is divine, with human fatality; so long as the\n",
      "three problems of the age - the degradation of man by poverty,\n",
      "the ruin of woman by starvation, and the dwarfing of childhood\n",
      "by physical and spiritual night - are not solved; so long as,\n",
      "in certain regions, social asphyxia shall be possible; in other\n",
      "words, and from a yet more extended point of view, so long as\n",
      "ignorance and misery remain on earth, books like this cannot\n",
      "be useless.\n",
      "\n",
      "HAUTEVILLE HOUSE, 1862.\n",
      "FANTINE\n"
     ]
    }
   ],
   "source": [
    "file_read = open(\"Tutorial2/les miserables.txt\",\"r\")\n",
    "\n",
    "print 'Name of the file: %s\\n' % file_read.name\n",
    "\n",
    "# Read and print the whole file as strings\n",
    "texts = file_read.read()\n",
    "print texts\n",
    "\n",
    "# Closing the file\n",
    "file_read.close()"
   ]
  },
  {
   "cell_type": "markdown",
   "metadata": {},
   "source": [
    "In the following example, the content of the file is read as strings and assigned to a variable, so that excerpts from the file can be extracted."
   ]
  },
  {
   "cell_type": "code",
   "execution_count": 34,
   "metadata": {
    "collapsed": false
   },
   "outputs": [
    {
     "name": "stdout",
     "output_type": "stream",
     "text": [
      "681\n",
      "the degradation of man by poverty,\n",
      "the ruin of woman by starvation, and the dwarfing of childhood\n",
      "by physical and spiritual night\n"
     ]
    }
   ],
   "source": [
    "file_read = open(\"Tutorial2/les miserables.txt\",\"r\")\n",
    "\n",
    "texts = file_read.read()\n",
    "\n",
    "'''printing the number of characters \n",
    "(including empty spaces) in the file'''\n",
    "print len(texts)\n",
    "\n",
    "# Extracting certain portion of the file\n",
    "excerpt =  texts[290:419]\n",
    "print excerpt\n",
    "\n",
    "file_read.close()"
   ]
  },
  {
   "cell_type": "markdown",
   "metadata": {},
   "source": [
    "Writing this extracted excerpt into another file can be done by opening the another file in writing mode `'w'`."
   ]
  },
  {
   "cell_type": "code",
   "execution_count": 35,
   "metadata": {
    "collapsed": false
   },
   "outputs": [],
   "source": [
    "file_write = open(\"Tutorial2/contents.txt\",\"w\")\n",
    "file_write.write(\"Important points from Victor Hugo's Les Miserables:\\n\\n\")\n",
    "file_write.write(excerpt)\n",
    "file_write.close()"
   ]
  },
  {
   "cell_type": "code",
   "execution_count": 36,
   "metadata": {
    "collapsed": false
   },
   "outputs": [
    {
     "name": "stdout",
     "output_type": "stream",
     "text": [
      "Important points from Victor Hugo's Les Miserables:\n",
      "\n",
      "the degradation of man by poverty,\n",
      "the ruin of woman by starvation, and the dwarfing of childhood\n",
      "by physical and spiritual night\n"
     ]
    }
   ],
   "source": [
    "# Reading back the written file\n",
    "\n",
    "file_new = open(\"Tutorial2/contents.txt\",\"r\")\n",
    "print file_new.read()\n",
    "file_new.close()"
   ]
  },
  {
   "cell_type": "markdown",
   "metadata": {},
   "source": [
    "Some important opening file modes:  \n",
    "  \n",
    "|Mode|Function|\n",
    "|-|-|\n",
    "|r|Read only, pointer at beginning of the file, default mode|\n",
    "|w|Write only|\n",
    "|r+|Read and write, pointer at beginning of the file|\n",
    "|a|Append, pointer at the end of the file|\n",
    "|a+|Append and read, pointer at the end of the file|\n"
   ]
  },
  {
   "cell_type": "markdown",
   "metadata": {},
   "source": [
    "#### <span style=\"color: #F5DA81; background-color: #610B4B\">Exercise 2.1</span>: Write the previous extracted excerpt in formatted points form with additions into a file named \"Answer_to_2_1.txt\":  \n",
    "\n",
    "The characters those affected by society environments in Victor Hugo's Les Miserables:  \n",
    "\n",
    "1)\tThe degradation of man by poverty.\n",
    "\t-\tJean Valjean\n",
    "2)\tThe ruin of woman by starvation.\n",
    "\t-\tFantine \n",
    "3)\tThe dwarfing of childhood by physical\n",
    "\tand spiritual night.\n",
    "\t-\tCosette"
   ]
  },
  {
   "cell_type": "markdown",
   "metadata": {},
   "source": [
    "#### <span style=\"color: red; background-color: yellow-light\">$Answer$</span>:"
   ]
  },
  {
   "cell_type": "code",
   "execution_count": 37,
   "metadata": {
    "collapsed": false
   },
   "outputs": [
    {
     "name": "stdout",
     "output_type": "stream",
     "text": [
      "The characters those affected by society environments\n",
      "in Victor Hugo's Les Miserables:\n",
      "\n",
      "1.\tthe degradation of man by poverty\n",
      "\t-\tJean Valjean\n",
      "\n",
      "2.\tthe ruin of woman by starvation\n",
      "\t-\tFantine\n",
      "\n",
      "3.\tand the dwarfing of childhood by physical and spiritual night\n",
      "\t-\tCosette\n"
     ]
    }
   ],
   "source": [
    "file_read = open(\"Tutorial2/les miserables.txt\",\"r\")\n",
    "\n",
    "texts = file_read.read()\n",
    "\n",
    "# Extracting certain portion of the file\n",
    "excerpt =  texts[290:419]\n",
    "# print excerpt # if you want to check the excerpt first\n",
    "\n",
    "file_read.close()\n",
    "\n",
    "excerpt1 = excerpt[0:33]\n",
    "excerpt2 = excerpt[35:66]\n",
    "excerpt3 = excerpt[68:130]\n",
    "excerpt3_1 = excerpt3[0:29]\n",
    "excerpt3_2 = excerpt3[30:]\n",
    "\n",
    "file_write = open(\"Tutorial2/Answer_to_2_1.txt\",\"w\")\n",
    "file_write.write(\"The characters those affected by society \\\n",
    "environments\\nin Victor Hugo's Les Miserables:\\n\")\n",
    "file_write.write('\\n1.\\t'+excerpt1)\n",
    "file_write.write('\\n\\t-\\tJean Valjean\\n')\n",
    "file_write.write('\\n2.\\t'+excerpt2)\n",
    "file_write.write('\\n\\t-\\tFantine\\n')\n",
    "file_write.write('\\n3.\\t'+excerpt3_1+' '+excerpt3_2)\n",
    "file_write.write('\\n\\t-\\tCosette')\n",
    "\n",
    "file_write.close()\n",
    "\n",
    "# Checking back by reading the written file\n",
    "\n",
    "file_new = open(\"Tutorial2/Answer_to_2_1.txt\",\"r\")\n",
    "print file_new.read()\n",
    "file_new.close()"
   ]
  },
  {
   "cell_type": "markdown",
   "metadata": {},
   "source": [
    "***\n",
    "### **_2.5 The split and replace functions_**"
   ]
  },
  {
   "cell_type": "markdown",
   "metadata": {},
   "source": [
    "_Python_ has the _regular expression_ libraries, <span style=\"color: #0000FF\">**re**</span> and <span style=\"color: #0000FF\">**regex**</span> that can perform sophisticated text processing. Regular expression is a very large topic and will not be discussed here. "
   ]
  },
  {
   "cell_type": "markdown",
   "metadata": {},
   "source": [
    "Further information on _Python_ <span style=\"color: #0000FF\">**regex**</span> library can be found in https://pypi.python.org/pypi/regex whereas the _Python_ native <span style=\"color: #0000FF\">**re**</span> library can be found in https://docs.python.org/2/library/re.html"
   ]
  },
  {
   "cell_type": "markdown",
   "metadata": {},
   "source": [
    "Instead, users can focus on using the <span style=\"color: #088A08\">**split&#40;&#41;**</span> and <span style=\"color: #088A08\">**replace&#40;&#41;**</span> functions. These functions can assist the users a lot when doing text processing. They, however, are not really part of _Python_ regular expression libraries."
   ]
  },
  {
   "cell_type": "code",
   "execution_count": 38,
   "metadata": {
    "collapsed": false
   },
   "outputs": [],
   "source": [
    "line = 'Oz: \"Greatness?\"; Glenda: \"No, better than that, goodness\"'"
   ]
  },
  {
   "cell_type": "code",
   "execution_count": 39,
   "metadata": {
    "collapsed": false
   },
   "outputs": [
    {
     "data": {
      "text/plain": [
       "['Oz: \"Greatness?\"', ' Glenda: \"No, better than that, goodness\"']"
      ]
     },
     "execution_count": 39,
     "metadata": {},
     "output_type": "execute_result"
    }
   ],
   "source": [
    "line_list = line.split(\";\")\n",
    "line_list"
   ]
  },
  {
   "cell_type": "markdown",
   "metadata": {},
   "source": [
    "In the above instance, the content of <span style=\"color: #088A08\">$line$</span> is splitted into separated elements according to the position of `\";\"` and assigned to <span style=\"color: #088A08\">$line\\_list$</span> variable. The variable <span style=\"color: #088A08\">$line\\_list$</span> now contains two elements (separated by comma). The variable <span style=\"color: #088A08\">$line\\_list$</span> is now a **_list_** (We will further explore **_list_** in the _The Sequence_ topic).  "
   ]
  },
  {
   "cell_type": "code",
   "execution_count": 40,
   "metadata": {
    "collapsed": false
   },
   "outputs": [
    {
     "data": {
      "text/plain": [
       "'Oz: \"Greatness?\"'"
      ]
     },
     "execution_count": 40,
     "metadata": {},
     "output_type": "execute_result"
    }
   ],
   "source": [
    "line_list[0]"
   ]
  },
  {
   "cell_type": "code",
   "execution_count": 41,
   "metadata": {
    "collapsed": false
   },
   "outputs": [
    {
     "data": {
      "text/plain": [
       "' Glenda: \"No, better than that, goodness\"'"
      ]
     },
     "execution_count": 41,
     "metadata": {},
     "output_type": "execute_result"
    }
   ],
   "source": [
    "line_list[1]"
   ]
  },
  {
   "cell_type": "code",
   "execution_count": 42,
   "metadata": {
    "collapsed": false
   },
   "outputs": [
    {
     "data": {
      "text/plain": [
       "['Oz', ' \"Greatness?\"; Glenda', ' \"No, better than that, goodness\"']"
      ]
     },
     "execution_count": 42,
     "metadata": {},
     "output_type": "execute_result"
    }
   ],
   "source": [
    "line_list = line.split(\":\")\n",
    "line_list"
   ]
  },
  {
   "cell_type": "code",
   "execution_count": 43,
   "metadata": {
    "collapsed": false
   },
   "outputs": [
    {
     "data": {
      "text/plain": [
       "' \"No, better than that, goodness\"'"
      ]
     },
     "execution_count": 43,
     "metadata": {},
     "output_type": "execute_result"
    }
   ],
   "source": [
    "line_list[2]"
   ]
  },
  {
   "cell_type": "markdown",
   "metadata": {},
   "source": [
    "If <span style=\"color: #088A08\">**split&#40;&#41;**</span> function is used without any arguments than the strings elements in <span style=\"color: #088A08\">$line$</span> will be splitted according to empty spaces. "
   ]
  },
  {
   "cell_type": "code",
   "execution_count": 44,
   "metadata": {
    "collapsed": false
   },
   "outputs": [
    {
     "name": "stdout",
     "output_type": "stream",
     "text": [
      "['Oz:', '\"Greatness?\";', 'Glenda:', '\"No,', 'better', 'than', 'that,', 'goodness\"']\n"
     ]
    }
   ],
   "source": [
    "line_list = line.split()\n",
    "print line_list"
   ]
  },
  {
   "cell_type": "markdown",
   "metadata": {},
   "source": [
    "Multiple splitting can be performed by replacing certain markers into single type specific marker and then executing the <span style=\"color: #088A08\">**split&#40;&#41;**</span> function. The replacement process can be carried out using the <span style=\"color: #088A08\">**replace&#40;&#41;**</span> function."
   ]
  },
  {
   "cell_type": "code",
   "execution_count": 45,
   "metadata": {
    "collapsed": false
   },
   "outputs": [
    {
     "name": "stdout",
     "output_type": "stream",
     "text": [
      "['Oz', 'Greatness', 'Glenda', 'No', 'better', 'than', 'that', 'goodness']\n"
     ]
    }
   ],
   "source": [
    "line_list = line.replace(\":\",\"\")\\\n",
    ".replace(\";\",\"\").replace(\",\",\"\").\\\n",
    "replace('\"',\"\").replace(\"?\",\"\").split()\n",
    "print line_list"
   ]
  },
  {
   "cell_type": "markdown",
   "metadata": {},
   "source": [
    "The <span style=\"color: #088A08\">**replace&#40;$x$,$y$&#41;**</span> function receives two arguments: <span style=\"color: #088A08\">$x$</span> and <span style=\"color: #088A08\">$y$</span> _i.e._ strings object <span style=\"color: #088A08\">$y$</span> replaces strings object <span style=\"color: #088A08\">$x$</span>. "
   ]
  },
  {
   "cell_type": "code",
   "execution_count": 46,
   "metadata": {
    "collapsed": false
   },
   "outputs": [
    {
     "name": "stdout",
     "output_type": "stream",
     "text": [
      "1\t2\t3\t4\n",
      "5\t6\t7\t8\n",
      "\n",
      "['1', '2', '3', '4', '5', '6', '7', '8']\n"
     ]
    }
   ],
   "source": [
    "no_ser=\"1\\t2\\t3\\t4\\n5\\t6\\t7\\t8\\n\"\n",
    "print no_ser\n",
    "no_list = no_ser.replace(\"\\t\",\" \").replace(\"\\n\",\" \").split()\n",
    "print no_list"
   ]
  }
 ],
 "metadata": {
  "kernelspec": {
   "display_name": "Python 2",
   "language": "python",
   "name": "python2"
  },
  "language_info": {
   "codemirror_mode": {
    "name": "ipython",
    "version": 2
   },
   "file_extension": ".py",
   "mimetype": "text/x-python",
   "name": "python",
   "nbconvert_exporter": "python",
   "pygments_lexer": "ipython2",
   "version": "2.7.11"
  }
 },
 "nbformat": 4,
 "nbformat_minor": 0
}
