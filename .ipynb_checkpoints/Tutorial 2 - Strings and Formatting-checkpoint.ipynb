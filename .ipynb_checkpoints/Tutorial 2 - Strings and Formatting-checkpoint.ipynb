{
 "metadata": {
  "name": "",
  "signature": "sha256:3b7d757d0dee4c5474603d7845e5bdc457669aed25cef538ebbe5e6867bbc912"
 },
 "nbformat": 3,
 "nbformat_minor": 0,
 "worksheets": [
  {
   "cells": [
    {
     "cell_type": "markdown",
     "metadata": {},
     "source": [
      "#<span style=\"color: #B40486\">BASIC PYTHON FOR RESEARCHERS</span>"
     ]
    },
    {
     "cell_type": "markdown",
     "metadata": {},
     "source": [
      "_by_ [**_Megat Harun Al Rashid bin Megat Ahmad_**](https://www.researchgate.net/profile/Megat_Harun_Megat_Ahmad)  \n",
      "last updated: October 23, 2014"
     ]
    },
    {
     "cell_type": "markdown",
     "metadata": {},
     "source": [
      "-------\n",
      "##_<span style=\"color: #29088A\">2. Strings and Files</span>_\n"
     ]
    },
    {
     "cell_type": "markdown",
     "metadata": {},
     "source": [
      "***\n",
      "###**_2.1 Strings Manipulation_**"
     ]
    },
    {
     "cell_type": "markdown",
     "metadata": {},
     "source": [
      "_Python_ has many built-in classes that support the processing of text or commonly known as strings. Strings can be declared by quoting the text (single or double quotes)."
     ]
    },
    {
     "cell_type": "code",
     "collapsed": false,
     "input": [
      "'Hello World, I am an evangelical Python enthusiast'"
     ],
     "language": "python",
     "metadata": {},
     "outputs": [
      {
       "metadata": {},
       "output_type": "pyout",
       "prompt_number": 1,
       "text": [
        "'Hello World, I am an evangelical Python enthusiast'"
       ]
      }
     ],
     "prompt_number": 1
    },
    {
     "cell_type": "markdown",
     "metadata": {},
     "source": [
      "Strings can also be assigned to a variable."
     ]
    },
    {
     "cell_type": "code",
     "collapsed": false,
     "input": [
      "str1 = 'Hello World'\n",
      "str2 = 'I am an evangelical Python enthusiast'"
     ],
     "language": "python",
     "metadata": {},
     "outputs": [],
     "prompt_number": 2
    },
    {
     "cell_type": "code",
     "collapsed": false,
     "input": [
      "str1"
     ],
     "language": "python",
     "metadata": {},
     "outputs": [
      {
       "metadata": {},
       "output_type": "pyout",
       "prompt_number": 3,
       "text": [
        "'Hello World'"
       ]
      }
     ],
     "prompt_number": 3
    },
    {
     "cell_type": "code",
     "collapsed": false,
     "input": [
      "str2"
     ],
     "language": "python",
     "metadata": {},
     "outputs": [
      {
       "metadata": {},
       "output_type": "pyout",
       "prompt_number": 4,
       "text": [
        "'I am an evangelical Python enthusiast'"
       ]
      }
     ],
     "prompt_number": 4
    },
    {
     "cell_type": "markdown",
     "metadata": {},
     "source": [
      "Strings can be stiched together using the `'+'` operator..."
     ]
    },
    {
     "cell_type": "code",
     "collapsed": false,
     "input": [
      "sente = str1 + \", \" + str2\n",
      "sente"
     ],
     "language": "python",
     "metadata": {},
     "outputs": [
      {
       "metadata": {},
       "output_type": "pyout",
       "prompt_number": 5,
       "text": [
        "'Hello World, I am an evangelical Python enthusiast'"
       ]
      }
     ],
     "prompt_number": 5
    },
    {
     "cell_type": "markdown",
     "metadata": {},
     "source": [
      "...as well as can be mutiply with the `'*'` operator."
     ]
    },
    {
     "cell_type": "code",
     "collapsed": false,
     "input": [
      "5*'hello ,'"
     ],
     "language": "python",
     "metadata": {},
     "outputs": [
      {
       "metadata": {},
       "output_type": "pyout",
       "prompt_number": 6,
       "text": [
        "'hello ,hello ,hello ,hello ,hello ,'"
       ]
      }
     ],
     "prompt_number": 6
    },
    {
     "cell_type": "markdown",
     "metadata": {},
     "source": [
      "The quoting of a string can also be done with triple single and triple double quotes."
     ]
    },
    {
     "cell_type": "code",
     "collapsed": false,
     "input": [
      "'I am ' + '''not ''' + \"the \" + \"\"\"we of anyone\"\"\""
     ],
     "language": "python",
     "metadata": {},
     "outputs": [
      {
       "metadata": {},
       "output_type": "pyout",
       "prompt_number": 7,
       "text": [
        "'I am not the we of anyone'"
       ]
      }
     ],
     "prompt_number": 7
    },
    {
     "cell_type": "markdown",
     "metadata": {},
     "source": [
      "This allows the usage of single and double quotes as part of the string."
     ]
    },
    {
     "cell_type": "code",
     "collapsed": false,
     "input": [
      "'Katheline Kelly: \"That is amazing, you can spell \"fox\"! Can you spell \"dog\"?\"'"
     ],
     "language": "python",
     "metadata": {},
     "outputs": [
      {
       "metadata": {},
       "output_type": "pyout",
       "prompt_number": 8,
       "text": [
        "'Katheline Kelly: \"That is amazing, you can spell \"fox\"! Can you spell \"dog\"?\"'"
       ]
      }
     ],
     "prompt_number": 8
    },
    {
     "cell_type": "code",
     "collapsed": false,
     "input": [
      "'''Joe Fox: \"...but I am in the middle of a project \\\n",
      "that needs \"tweaking\"\"'''"
     ],
     "language": "python",
     "metadata": {},
     "outputs": [
      {
       "metadata": {},
       "output_type": "pyout",
       "prompt_number": 9,
       "text": [
        "'Joe Fox: \"...but I am in the middle of a project that needs \"tweaking\"\"'"
       ]
      }
     ],
     "prompt_number": 9
    },
    {
     "cell_type": "markdown",
     "metadata": {},
     "source": [
      "You will notice there is an escape character `'\\'` between the word `\"project\"` and `\"that\"`. This allows the string (or any _Python_ statements) to break line _i.e._ when one _Python_ statement is long it can be continued to the next line by using escape `'\\'` to improve readability. "
     ]
    },
    {
     "cell_type": "markdown",
     "metadata": {},
     "source": [
      "_Python_ strings classes support what is called the sequence type method _i.e._ a string in _Python_ behaves like a list therefore it can be sliced, extracted and reassigned."
     ]
    },
    {
     "cell_type": "code",
     "collapsed": false,
     "input": [
      "str0 = 'There is a wisdom of the head, and \\\n",
      "a wisdom of the heart'"
     ],
     "language": "python",
     "metadata": {},
     "outputs": [],
     "prompt_number": 10
    },
    {
     "cell_type": "code",
     "collapsed": false,
     "input": [
      "str0"
     ],
     "language": "python",
     "metadata": {},
     "outputs": [
      {
       "metadata": {},
       "output_type": "pyout",
       "prompt_number": 11,
       "text": [
        "'There is a wisdom of the head, and a wisdom of the heart'"
       ]
      }
     ],
     "prompt_number": 11
    },
    {
     "cell_type": "markdown",
     "metadata": {},
     "source": [
      "Characters in a string can be extracted by specifying the location or range."
     ]
    },
    {
     "cell_type": "code",
     "collapsed": false,
     "input": [
      "str0[0]"
     ],
     "language": "python",
     "metadata": {},
     "outputs": [
      {
       "metadata": {},
       "output_type": "pyout",
       "prompt_number": 12,
       "text": [
        "'T'"
       ]
      }
     ],
     "prompt_number": 12
    },
    {
     "cell_type": "code",
     "collapsed": false,
     "input": [
      "str0[-1]"
     ],
     "language": "python",
     "metadata": {},
     "outputs": [
      {
       "metadata": {},
       "output_type": "pyout",
       "prompt_number": 13,
       "text": [
        "'t'"
       ]
      }
     ],
     "prompt_number": 13
    },
    {
     "cell_type": "code",
     "collapsed": false,
     "input": [
      "str0[11:17]"
     ],
     "language": "python",
     "metadata": {},
     "outputs": [
      {
       "metadata": {},
       "output_type": "pyout",
       "prompt_number": 14,
       "text": [
        "'wisdom'"
       ]
      }
     ],
     "prompt_number": 14
    },
    {
     "cell_type": "code",
     "collapsed": false,
     "input": [
      "str0[-45:-39]"
     ],
     "language": "python",
     "metadata": {},
     "outputs": [
      {
       "metadata": {},
       "output_type": "pyout",
       "prompt_number": 15,
       "text": [
        "'wisdom'"
       ]
      }
     ],
     "prompt_number": 15
    },
    {
     "cell_type": "markdown",
     "metadata": {},
     "source": [
      "The location of the character can start from both left and right. From left, the character position starts from `'0'` and above whereas from right, the character position starts from `'-1'` and below. Both can be used in slicing the string. If one of the positions are not specified during slicing, then every character will be included in the direction of the position. The end position must be one step higher than the desired end position. This is helpful when using loop command as left position starts with the number `'0'`."
     ]
    },
    {
     "cell_type": "code",
     "collapsed": false,
     "input": [
      "str0[11:-39]"
     ],
     "language": "python",
     "metadata": {},
     "outputs": [
      {
       "metadata": {},
       "output_type": "pyout",
       "prompt_number": 16,
       "text": [
        "'wisdom'"
       ]
      }
     ],
     "prompt_number": 16
    },
    {
     "cell_type": "code",
     "collapsed": false,
     "input": [
      "str0[-9:]"
     ],
     "language": "python",
     "metadata": {},
     "outputs": [
      {
       "metadata": {},
       "output_type": "pyout",
       "prompt_number": 17,
       "text": [
        "'the heart'"
       ]
      }
     ],
     "prompt_number": 17
    },
    {
     "cell_type": "code",
     "collapsed": false,
     "input": [
      "str0[:-27]"
     ],
     "language": "python",
     "metadata": {},
     "outputs": [
      {
       "metadata": {},
       "output_type": "pyout",
       "prompt_number": 18,
       "text": [
        "'There is a wisdom of the head'"
       ]
      }
     ],
     "prompt_number": 18
    },
    {
     "cell_type": "code",
     "collapsed": false,
     "input": [
      "str0[:]"
     ],
     "language": "python",
     "metadata": {},
     "outputs": [
      {
       "metadata": {},
       "output_type": "pyout",
       "prompt_number": 19,
       "text": [
        "'There is a wisdom of the head, and a wisdom of the heart'"
       ]
      }
     ],
     "prompt_number": 19
    },
    {
     "cell_type": "markdown",
     "metadata": {},
     "source": [
      "Below is the table that shows the position of characters in the string `'Python vs. Perl'` from left and right:"
     ]
    },
    {
     "cell_type": "markdown",
     "metadata": {},
     "source": [
      "||P|y|t|h|o|n||v|s|.||P|e|r|l|\n",
      "|-|-|-|-|-|-|-|-|-|-|-|-|-|-|-|-|\n",
      "|Position from left|0|1|2|3|4|5|6|7|8|9|10|11|12|13|14|\n",
      "|Position from right|-15|-14|-13|-12|-11|-10|-9|-8|-7|-6|-5|-4|-3|-2|-1|"
     ]
    },
    {
     "cell_type": "markdown",
     "metadata": {},
     "source": [
      "####<span style=\"color: #F5DA81; background-color: #610B4B\">Example 2.1</span>: Create a new string that contains the word `'Person'` by slicing and extracting the character from the string `'Python vs. Perl'`."
     ]
    },
    {
     "cell_type": "code",
     "collapsed": false,
     "input": [
      "str_table = 'Python vs. Perl'\n",
      "str_table[-4:-1] + str_table[-7] + str_table[4:6]"
     ],
     "language": "python",
     "metadata": {},
     "outputs": [
      {
       "metadata": {},
       "output_type": "pyout",
       "prompt_number": 20,
       "text": [
        "'Person'"
       ]
      }
     ],
     "prompt_number": 20
    },
    {
     "cell_type": "markdown",
     "metadata": {},
     "source": [
      "***\n",
      "###**_2.2 Printing and Formatting_**"
     ]
    },
    {
     "cell_type": "markdown",
     "metadata": {},
     "source": [
      "Python has the <span style=\"color: #0000FF\">$print$</span> function that print formatted output."
     ]
    },
    {
     "cell_type": "code",
     "collapsed": false,
     "input": [
      "print \"Hello Everyone\""
     ],
     "language": "python",
     "metadata": {},
     "outputs": [
      {
       "output_type": "stream",
       "stream": "stdout",
       "text": [
        "Hello Everyone\n"
       ]
      }
     ],
     "prompt_number": 21
    },
    {
     "cell_type": "code",
     "collapsed": false,
     "input": [
      "print \"Hello \",\"Everyone\""
     ],
     "language": "python",
     "metadata": {},
     "outputs": [
      {
       "output_type": "stream",
       "stream": "stdout",
       "text": [
        "Hello  Everyone\n"
       ]
      }
     ],
     "prompt_number": 22
    },
    {
     "cell_type": "code",
     "collapsed": false,
     "input": [
      "x = 45.6\n",
      "y = 98.1\n",
      "print x + y"
     ],
     "language": "python",
     "metadata": {},
     "outputs": [
      {
       "output_type": "stream",
       "stream": "stdout",
       "text": [
        "143.7\n"
       ]
      }
     ],
     "prompt_number": 23
    },
    {
     "cell_type": "markdown",
     "metadata": {},
     "source": [
      "It allows a formatted output to be printed and by using escape characters the output can be structured."
     ]
    },
    {
     "cell_type": "code",
     "collapsed": false,
     "input": [
      "x = 45.678\n",
      "y = 98.142\n",
      "print '%.2f added to %.2f gives \\n%.1f' % (x,y,x+y)"
     ],
     "language": "python",
     "metadata": {},
     "outputs": [
      {
       "output_type": "stream",
       "stream": "stdout",
       "text": [
        "45.68 added to 98.14 gives \n",
        "143.8\n"
       ]
      }
     ],
     "prompt_number": 24
    },
    {
     "cell_type": "markdown",
     "metadata": {},
     "source": [
      "The <span style=\"color: red\">' %.2f '</span> means that it will be replaced by the variable <span style=\"color: #0000FF\">$x$</span> but with only two decimal places displayed instead of the original three as specified by the <span style=\"color: red\">' .2 '</span> term. The letter <span style=\"color: red\">' f '</span> indicates that only variable with floating point value can be accepted. The sequence and number of the format specifiers in the strings must match the number of arguments in the parenthesis afterwards. Arguments in parenthesis can be numbers, strings and operational expression. The <span style=\"color: red\">' \\n '</span> is called an escape character and in this case it means that printing will be done in new line afterwards."
     ]
    },
    {
     "cell_type": "markdown",
     "metadata": {},
     "source": [
      "Some of the formatted strings that can be used:"
     ]
    },
    {
     "cell_type": "markdown",
     "metadata": {},
     "source": [
      "|Formatted Strings|Type|\n",
      "|---|---|\n",
      "|%c|char|\n",
      "|%d|decimal|\n",
      "|%s|string|\n",
      "|%f|floating|"
     ]
    },
    {
     "cell_type": "markdown",
     "metadata": {},
     "source": [
      "Some of the escape character that can be used:"
     ]
    },
    {
     "cell_type": "markdown",
     "metadata": {},
     "source": [
      "|Escape Character|Function|\n",
      "|---|---|\n",
      "|\\t|tab|\n",
      "|\\n|new line|\n",
      "|\\\\|'\\'|\n",
      "|\\s|space|\n",
      "|\\v|vertical tab|"
     ]
    },
    {
     "cell_type": "markdown",
     "metadata": {},
     "source": [
      "####<span style=\"color: #F5DA81; background-color: #610B4B\">Example 2.2</span>: This list contains the names of examinees and their marks (in parenthesis). Print the names and the marks in two columns.\n",
      "####\u201cFriya (78), Darylene (84), Femi (91), Aiko (100) and Holda (80)\u201d.\n",
      "####Then calculate and print the average mark."
     ]
    },
    {
     "cell_type": "code",
     "collapsed": false,
     "input": [
      "str_list = 'Friya (78), Darylene (84), Femi (91), Aiko (100) \\\n",
      "and Holda (80)'\n",
      "\n",
      "n1 = str_list[0:5]; n2 = str_list[12:20]; n3 = str_list[27:31]\n",
      "n4 = str_list[-25:-21]; n5 = str_list[-10:-5]\n",
      "\n",
      "# Checking whether extract/slice is correct\n",
      "\n",
      "print '%s\\t%s\\t%s\\t%s\\t%s\\n' % (n1,n2,n3,n4,n5)\n",
      "\n",
      "m1 = str_list[7:9]; m2 = str_list[22:24]; m3 = str_list[33:35]\n",
      "m4 = str_list[-19:-16]; m5 = str_list[-3:-1]\n",
      "\n",
      "print '%s\\t%s\\t%s\\t%s\\t%s\\n' % (m1,m2,m3,m4,m5)\n",
      "\n",
      "# Printing the results in two columns\n",
      "\n",
      "print 'Names\\t\\tMarks'\n",
      "print 21*'-'\n",
      "print '%s\\t\\t%s' % (n1,m1)\n",
      "print '%s\\t%s' % (n2,m2)\n",
      "print '%s\\t\\t%s' % (n3,m3)\n",
      "print '%s\\t\\t%s' % (n4,m4)\n",
      "print '%s\\t\\t%s' % (n5,m5)\n",
      "\n",
      "print '\\nThe average mark is %d' % ((int(m1)+int(m2)+int(m3)\\\n",
      "                                  +int(m4)+int(m5))/5)"
     ],
     "language": "python",
     "metadata": {},
     "outputs": [
      {
       "output_type": "stream",
       "stream": "stdout",
       "text": [
        "Friya\tDarylene\tFemi\tAiko\tHolda\n",
        "\n",
        "78\t84\t91\t100\t80\n",
        "\n",
        "Names\t\tMarks\n",
        "---------------------\n",
        "Friya\t\t78\n",
        "Darylene\t84\n",
        "Femi\t\t91\n",
        "Aiko\t\t100\n",
        "Holda\t\t80\n",
        "\n",
        "The average mark is 86\n"
       ]
      }
     ],
     "prompt_number": 25
    },
    {
     "cell_type": "markdown",
     "metadata": {},
     "source": [
      "In the exercise, the '#' is used before writing a one line comment in the program. This comment will not be executed. Multiple lines comment can be inserted by quoting the comment in triple single or double quotes. These comments assist program readability."
     ]
    },
    {
     "cell_type": "markdown",
     "metadata": {},
     "source": [
      "***\n",
      "###**_2.3 Input and Output Function_**"
     ]
    },
    {
     "cell_type": "markdown",
     "metadata": {},
     "source": [
      "Apart from direct writing of numerical digits and strings (by quoting) and assigning them to variables, it is also possible to provide input via key-in and also reading file. Output can also be saved into a file. In general, the input and output functions available are:\n",
      "1. Common input functions:\n",
      ">_1.1. Key-in input from keyboard_  \n",
      ">      input, raw_input  \n",
      "_1.2. Reading from file_\n",
      "2. Common output functions:\n",
      ">_2.1. Print on the screen_  \n",
      ">_2.2. Write to file_\n"
     ]
    },
    {
     "cell_type": "code",
     "collapsed": false,
     "input": [
      "# input function: key-in integer value\n",
      "\n",
      "int_x = input('Key-in any integer (and press Enter): ')\n",
      "\n",
      "print 'The input value is %d' % int_x\n",
      "print '8 x %d = %d' % (int_x,8*int_x)"
     ],
     "language": "python",
     "metadata": {},
     "outputs": [
      {
       "name": "stdout",
       "output_type": "stream",
       "stream": "stdout",
       "text": [
        "Key-in any integer (and press Enter): 34\n"
       ]
      },
      {
       "output_type": "stream",
       "stream": "stdout",
       "text": [
        "The input value is 34\n",
        "8 x 34 = 272\n"
       ]
      }
     ],
     "prompt_number": 26
    },
    {
     "cell_type": "code",
     "collapsed": false,
     "input": [
      "# input function: key-in a string\n",
      "\n",
      "str_x = input('Key-in any word (and press Enter): ')\n",
      "\n",
      "print 'The input word is \"%s\"' % str_x"
     ],
     "language": "python",
     "metadata": {},
     "outputs": [
      {
       "name": "stdout",
       "output_type": "stream",
       "stream": "stdout",
       "text": [
        "Key-in any word (and press Enter): 'Perl Hobbyist and Evangelical Pythoneer'\n"
       ]
      },
      {
       "output_type": "stream",
       "stream": "stdout",
       "text": [
        "The input word is \"Perl Hobbyist and Evangelical Pythoneer\"\n"
       ]
      }
     ],
     "prompt_number": 27
    },
    {
     "cell_type": "markdown",
     "metadata": {},
     "source": [
      "The <span style=\"color: #0000FF\">$input()$</span> function can accept any numerical digits and quoted string as input whereas the <span style=\"color: #0000FF\">$raw\\_input()$</span> function will convert all inputs as string (without the needs to quote the strings)."
     ]
    },
    {
     "cell_type": "code",
     "collapsed": false,
     "input": [
      "int_x = raw_input(\"Key-in any integer (and press Enter): \")\n",
      "print \"The input value is %s\" % int_x\n",
      "\n",
      "str_x = raw_input(\"Key-in any word (and press Enter): \")\n",
      "print \"The input word is %s\" % str_x"
     ],
     "language": "python",
     "metadata": {},
     "outputs": [
      {
       "name": "stdout",
       "output_type": "stream",
       "stream": "stdout",
       "text": [
        "Key-in any integer (and press Enter): 45\n"
       ]
      },
      {
       "output_type": "stream",
       "stream": "stdout",
       "text": [
        "The input value is 45\n"
       ]
      },
      {
       "name": "stdout",
       "output_type": "stream",
       "stream": "stdout",
       "text": [
        "Key-in any word (and press Enter): Hello\n"
       ]
      },
      {
       "output_type": "stream",
       "stream": "stdout",
       "text": [
        "The input word is Hello\n"
       ]
      }
     ],
     "prompt_number": 28
    },
    {
     "cell_type": "markdown",
     "metadata": {},
     "source": [
      "Here the value of _int_x_ variable is actually a string and cannot be operated mathematically. It needs to be converted first to number."
     ]
    },
    {
     "cell_type": "code",
     "collapsed": false,
     "input": [
      "int_x = int(raw_input(\"Key-in any integer (and press Enter): \"))\n",
      "print \"The input value when multiply with %d is %d\" % (4,int_x*4)\n",
      "\n",
      "fx = float(raw_input(\"\\nKey-in any floating number (and press Enter): \"))\n",
      "print \"The floating value when divided \\nwith %d is %.2f\" % (8,fx/8)"
     ],
     "language": "python",
     "metadata": {},
     "outputs": [
      {
       "name": "stdout",
       "output_type": "stream",
       "stream": "stdout",
       "text": [
        "Key-in any integer (and press Enter): 34\n"
       ]
      },
      {
       "output_type": "stream",
       "stream": "stdout",
       "text": [
        "The input value when multiply with 4 is 136\n"
       ]
      },
      {
       "name": "stdout",
       "output_type": "stream",
       "stream": "stdout",
       "text": [
        "\n",
        "Key-in any floating number (and press Enter): 67.289\n"
       ]
      },
      {
       "output_type": "stream",
       "stream": "stdout",
       "text": [
        "The floating value when divided \n",
        "with 8 is 8.41\n"
       ]
      }
     ],
     "prompt_number": 29
    },
    {
     "cell_type": "markdown",
     "metadata": {},
     "source": [
      "***\n",
      "###**_2.4 Reading and Writing File_**"
     ]
    },
    {
     "cell_type": "markdown",
     "metadata": {},
     "source": [
      "Reading and writing to a file can be done by using the <span style=\"color: #0000FF\">$open$</span> function."
     ]
    },
    {
     "cell_type": "code",
     "collapsed": false,
     "input": [
      "# Opening a file \n",
      "file_read = open(\"Tutorial2/les miserables.txt\")\n",
      "# file_read = open(\"Tutorial2/les miserables.txt\",\"r\")\n",
      "file_read.close()"
     ],
     "language": "python",
     "metadata": {},
     "outputs": [],
     "prompt_number": 30
    },
    {
     "cell_type": "markdown",
     "metadata": {},
     "source": [
      "Here the open function is followed by the quoted name of the file in parenthesis. When opening file, by default it is for reading _i.e_ it is in the `'r'` mode which can be omitted. After operating on the file, the file needs to be closed. Below is opening the file with reading mode specified and then printing the name and content of the file."
     ]
    },
    {
     "cell_type": "code",
     "collapsed": false,
     "input": [
      "file_read = open(\"Tutorial2/les miserables.txt\",\"r\")\n",
      "\n",
      "print 'Name of the file: %s\\n' % file_read.name\n",
      "\n",
      "# Read and print the whole file as strings\n",
      "texts = file_read.read()\n",
      "print texts\n",
      "\n",
      "#Closing the file\n",
      "file_read.close()"
     ],
     "language": "python",
     "metadata": {},
     "outputs": [
      {
       "output_type": "stream",
       "stream": "stdout",
       "text": [
        "Name of the file: Tutorial2/les miserables.txt\n",
        "\n",
        "Preface from Les Miserables\n",
        "\n",
        "So long as there shall exist, by reason of law and custom,\n",
        "a social condemnation, which, in the face of civilisation,\n",
        "artificially creates hells on earth, and complicates a\n",
        "destiny that is divine, with human fatality; so long as the\n",
        "three problems of the age - the degradation of man by poverty,\n",
        "the ruin of woman by starvation, and the dwarfing of childhood\n",
        "by physical and spiritual night - are not solved; so long as,\n",
        "in certain regions, social asphyxia shall be possible; in other\n",
        "words, and from a yet more extended point of view, so long as\n",
        "ignorance and misery remain on earth, books like this cannot\n",
        "be useless.\n",
        "\n",
        "HAUTEVILLE HOUSE, 1862.\n",
        "FANTINE\n"
       ]
      }
     ],
     "prompt_number": 31
    },
    {
     "cell_type": "markdown",
     "metadata": {},
     "source": [
      "The content of the file can be read as strings which can be assigned to a variable, therefore excerpt from the file can extracted."
     ]
    },
    {
     "cell_type": "code",
     "collapsed": false,
     "input": [
      "file_read = open(\"Tutorial2/les miserables.txt\",\"r\")\n",
      "\n",
      "texts = file_read.read()\n",
      "\n",
      "# printing the number of characters \n",
      "# (including empty spaces) in the file\n",
      "print len(texts)\n",
      "\n",
      "# Extracting certain portion of the file\n",
      "excerpt =  texts[290:419]\n",
      "print excerpt\n",
      "\n",
      "file_read.close()"
     ],
     "language": "python",
     "metadata": {},
     "outputs": [
      {
       "output_type": "stream",
       "stream": "stdout",
       "text": [
        "681\n",
        "the degradation of man by poverty,\n",
        "the ruin of woman by starvation, and the dwarfing of childhood\n",
        "by physical and spiritual night\n"
       ]
      }
     ],
     "prompt_number": 32
    },
    {
     "cell_type": "markdown",
     "metadata": {},
     "source": [
      "Writing this extracted excerpt into another file can be done by opening another file in writing mode `'w'`."
     ]
    },
    {
     "cell_type": "code",
     "collapsed": false,
     "input": [
      "file_write = open(\"Tutorial2/contents.txt\",\"w\")\n",
      "file_write.write(\"Important points from \\\n",
      "Victor Hugo's Les Miserables:\\n\\n\")\n",
      "file_write.write(excerpt)\n",
      "file_write.close()"
     ],
     "language": "python",
     "metadata": {},
     "outputs": [],
     "prompt_number": 33
    },
    {
     "cell_type": "code",
     "collapsed": false,
     "input": [
      "# Reading back the written file\n",
      "\n",
      "file_new = open(\"Tutorial2/contents.txt\",\"r\")\n",
      "print file_new.read()\n",
      "file_new.close()"
     ],
     "language": "python",
     "metadata": {},
     "outputs": [
      {
       "output_type": "stream",
       "stream": "stdout",
       "text": [
        "Important points from Victor Hugo's Les Miserables:\n",
        "\n",
        "the degradation of man by poverty,\n",
        "the ruin of woman by starvation, and the dwarfing of childhood\n",
        "by physical and spiritual night\n"
       ]
      }
     ],
     "prompt_number": 34
    },
    {
     "cell_type": "markdown",
     "metadata": {},
     "source": [
      "Some important opening file modes:  \n",
      "  \n",
      "|Mode|Function|\n",
      "|-|-|\n",
      "|r|Read only, pointer at beginning of the file, default mode|\n",
      "|w|Write only|\n",
      "|r+|Read and write, pointer at beginning of the file|\n",
      "|a|Append, pointer at the end of the file|\n",
      "|a+|Append and read, pointer at the end of the file|\n"
     ]
    },
    {
     "cell_type": "markdown",
     "metadata": {},
     "source": [
      "####<span style=\"color: #F5DA81; background-color: #610B4B\">Exercise 2.1</span>: Write the previous extracted excerpt in formatted points form with additions into a file named \"Answer_to_2_1.txt\":  \n",
      "\n",
      "The characters those affected by society environments in Victor Hugo's Les Miserables:  \n",
      "\n",
      "1)\tThe degradation of man by poverty.\n",
      "\t-\tJean Valjean\n",
      "2)\tThe ruin of woman by starvation.\n",
      "\t-\tFantine \n",
      "3)\tThe dwarfing of childhood by physical\n",
      "\tand spiritual night.\n",
      "\t-\tCosette"
     ]
    },
    {
     "cell_type": "code",
     "collapsed": false,
     "input": [
      "file_read = open(\"Tutorial2/les miserables.txt\",\"r\")\n",
      "\n",
      "texts = file_read.read()\n",
      "\n",
      "# Extracting certain portion of the file\n",
      "excerpt =  texts[290:419]\n",
      "# print excerpt # if you want to check the excerpt first\n",
      "\n",
      "file_read.close()\n",
      "\n",
      "excerpt1 = excerpt[0:33]\n",
      "excerpt2 = excerpt[35:66]\n",
      "excerpt3 = excerpt[68:130]\n",
      "excerpt3_1 = excerpt3[0:29]\n",
      "excerpt3_2 = excerpt3[30:]\n",
      "\n",
      "file_write = open(\"Tutorial2/Answer_to_2_1.txt\",\"w\")\n",
      "file_write.write(\"The characters those affected by society \\\n",
      "environments\\nin Victor Hugo's Les Miserables:\\n\")\n",
      "file_write.write('\\n1.\\t'+excerpt1)\n",
      "file_write.write('\\n\\t-\\tJean Valjean\\n')\n",
      "file_write.write('\\n2.\\t'+excerpt2)\n",
      "file_write.write('\\n\\t-\\tFantine\\n')\n",
      "file_write.write('\\n3.\\t'+excerpt3_1+' '+excerpt3_2)\n",
      "file_write.write('\\n\\t-\\tCosette')\n",
      "\n",
      "file_write.close()\n",
      "\n",
      "# Checking back by reading the written file\n",
      "\n",
      "file_new = open(\"Tutorial2/Answer_to_2_1.txt\",\"r\")\n",
      "print file_new.read()\n",
      "file_new.close()"
     ],
     "language": "python",
     "metadata": {},
     "outputs": [
      {
       "output_type": "stream",
       "stream": "stdout",
       "text": [
        "The characters those affected by society environments\n",
        "in Victor Hugo's Les Miserables:\n",
        "\n",
        "1.\tthe degradation of man by poverty\n",
        "\t-\tJean Valjean\n",
        "\n",
        "2.\tthe ruin of woman by starvation\n",
        "\t-\tFantine\n",
        "\n",
        "3.\tand the dwarfing of childhood by physical and spiritual night\n",
        "\t-\tCosette\n"
       ]
      }
     ],
     "prompt_number": 35
    },
    {
     "cell_type": "markdown",
     "metadata": {},
     "source": [
      "***\n",
      "###**_2.5 The split and replace functions_**"
     ]
    },
    {
     "cell_type": "markdown",
     "metadata": {},
     "source": [
      "_Python_ has the _regular expression_ library, <span style=\"color: #0000FF\">$re$</span> and <span style=\"color: #0000FF\">$regex$</span> that allows sophisticated text processing. Regular expression is a very large topic and will not be discussed here. The <span style=\"color: #0000FF\">$split$</span> and <span style=\"color: #0000FF\">$replace$</span> functions can assist us a lot when doing text processing. They, however, are not really part of _Python_ regular expression."
     ]
    },
    {
     "cell_type": "code",
     "collapsed": false,
     "input": [
      "line = 'Oz: \"Greatness?\"; Glenda: \"No, better than that, goodness\"'"
     ],
     "language": "python",
     "metadata": {},
     "outputs": [],
     "prompt_number": 36
    },
    {
     "cell_type": "code",
     "collapsed": false,
     "input": [
      "line_list = line.split(\";\")\n",
      "line_list"
     ],
     "language": "python",
     "metadata": {},
     "outputs": [
      {
       "metadata": {},
       "output_type": "pyout",
       "prompt_number": 37,
       "text": [
        "['Oz: \"Greatness?\"', ' Glenda: \"No, better than that, goodness\"']"
       ]
      }
     ],
     "prompt_number": 37
    },
    {
     "cell_type": "markdown",
     "metadata": {},
     "source": [
      "The content of _line_ is splitted according to the position of `\";\"` and assigned to _line_list_ variable. The variable _line_list_ now contains two elements (separated by comma) that was splitted previously. The variable _line_list_ is now a list (We will further explore list in the list comprehensions topic).  "
     ]
    },
    {
     "cell_type": "code",
     "collapsed": false,
     "input": [
      "line_list[0]"
     ],
     "language": "python",
     "metadata": {},
     "outputs": [
      {
       "metadata": {},
       "output_type": "pyout",
       "prompt_number": 38,
       "text": [
        "'Oz: \"Greatness?\"'"
       ]
      }
     ],
     "prompt_number": 38
    },
    {
     "cell_type": "code",
     "collapsed": false,
     "input": [
      "line_list[1]"
     ],
     "language": "python",
     "metadata": {},
     "outputs": [
      {
       "metadata": {},
       "output_type": "pyout",
       "prompt_number": 39,
       "text": [
        "' Glenda: \"No, better than that, goodness\"'"
       ]
      }
     ],
     "prompt_number": 39
    },
    {
     "cell_type": "code",
     "collapsed": false,
     "input": [
      "line_list = line.split(\":\")\n",
      "line_list"
     ],
     "language": "python",
     "metadata": {},
     "outputs": [
      {
       "metadata": {},
       "output_type": "pyout",
       "prompt_number": 40,
       "text": [
        "['Oz', ' \"Greatness?\"; Glenda', ' \"No, better than that, goodness\"']"
       ]
      }
     ],
     "prompt_number": 40
    },
    {
     "cell_type": "code",
     "collapsed": false,
     "input": [
      "line_list[2]"
     ],
     "language": "python",
     "metadata": {},
     "outputs": [
      {
       "metadata": {},
       "output_type": "pyout",
       "prompt_number": 41,
       "text": [
        "' \"No, better than that, goodness\"'"
       ]
      }
     ],
     "prompt_number": 41
    },
    {
     "cell_type": "markdown",
     "metadata": {},
     "source": [
      "If <span style=\"color: #0000FF\">$split()$</span> function is used without any arguments than the string elements in _line_ will be splitted according to empty spaces. "
     ]
    },
    {
     "cell_type": "code",
     "collapsed": false,
     "input": [
      "line_list = line.split()\n",
      "print line_list"
     ],
     "language": "python",
     "metadata": {},
     "outputs": [
      {
       "output_type": "stream",
       "stream": "stdout",
       "text": [
        "['Oz:', '\"Greatness?\";', 'Glenda:', '\"No,', 'better', 'than', 'that,', 'goodness\"']\n"
       ]
      }
     ],
     "prompt_number": 42
    },
    {
     "cell_type": "markdown",
     "metadata": {},
     "source": [
      "Multiple splitting can be performed by replacing certain markers into single type specific marker and then perform the <span style=\"color: #0000FF\">$split$</span> function. This can be carried out using the <span style=\"color: #0000FF\">$replace$</span> function."
     ]
    },
    {
     "cell_type": "code",
     "collapsed": false,
     "input": [
      "line_list = line.replace(\":\",\"\")\\\n",
      ".replace(\";\",\"\").replace(\",\",\"\").\\\n",
      "replace('\"',\"\").replace(\"?\",\"\").split()\n",
      "print line_list"
     ],
     "language": "python",
     "metadata": {},
     "outputs": [
      {
       "output_type": "stream",
       "stream": "stdout",
       "text": [
        "['Oz', 'Greatness', 'Glenda', 'No', 'better', 'than', 'that', 'goodness']\n"
       ]
      }
     ],
     "prompt_number": 43
    },
    {
     "cell_type": "markdown",
     "metadata": {},
     "source": [
      "The <span style=\"color: #0000FF\">$replace(x,y)$</span> function receives two arguments: $x$ and $y$ _i.e._ string object $y$ will replace string obejct $x$. "
     ]
    },
    {
     "cell_type": "code",
     "collapsed": false,
     "input": [
      "no_ser=\"1\\t2\\t3\\t4\\n5\\t6\\t7\\t8\\n\"\n",
      "print no_ser\n",
      "no_list = no_ser.replace(\"\\t\",\" \").replace(\"\\n\",\" \").split()\n",
      "print no_list"
     ],
     "language": "python",
     "metadata": {},
     "outputs": [
      {
       "output_type": "stream",
       "stream": "stdout",
       "text": [
        "1\t2\t3\t4\n",
        "5\t6\t7\t8\n",
        "\n",
        "['1', '2', '3', '4', '5', '6', '7', '8']\n"
       ]
      }
     ],
     "prompt_number": 44
    },
    {
     "cell_type": "markdown",
     "metadata": {},
     "source": [
      "Further information on _Python_ <span style=\"color: #0000FF\">$regex$</span> library can be found in https://pypi.python.org/pypi/regex whereas the _Python_ native <span style=\"color: #0000FF\">$re$</span> library can be found in https://docs.python.org/2/library/re.html"
     ]
    }
   ],
   "metadata": {}
  }
 ]
}