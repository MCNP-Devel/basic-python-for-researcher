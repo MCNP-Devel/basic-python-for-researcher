{
 "metadata": {
  "name": "",
  "signature": "sha256:6554618159f43b794f55e8a8ebc650b5c93ec4f53af9f0e6a2d8e00f97f017d6"
 },
 "nbformat": 3,
 "nbformat_minor": 0,
 "worksheets": [
  {
   "cells": [
    {
     "cell_type": "markdown",
     "metadata": {},
     "source": [
      "#<span style=\"color: #B40486\">TUTORIAL ON BASIC PYTHON FOR RESEARCHERS</span>"
     ]
    },
    {
     "cell_type": "markdown",
     "metadata": {},
     "source": [
      "_by_ [**_Megat Harun Al Rashid bin Megat Ahmad_**](https://www.researchgate.net/profile/Megat_Harun_Megat_Ahmad)  \n",
      "last updated: October 26, 2014"
     ]
    },
    {
     "cell_type": "markdown",
     "metadata": {},
     "source": [
      "---\n",
      "This tutorial is written as an introductory course to [_Python_](https://www.python.org/) programming language for my colleagues at [Malaysian Nuclear Agency](http://www.nuclearmalaysia.gov.my). It uses [_IPython Notebook_](http://ipython.org/notebook.html) as a teaching tools. It briefly covers almost all the necessary topics that will be helpful to them. The _IPython Notebook_ is an interactive computational system that run on a browser. It enables the users to document not only _Python_ but also other codes ([_Perl_](https://www.perl.org/), [_R_](http://www.r-project.org/), [_Julia_](http://julialang.org/), [_Haskell_](http://www.haskell.org/haskellwiki/Haskell) _etc._), written account, [$LaTeX$](http://www.latex-project.org/) equations, _HTML_, images and videos and can also be easily transformed into a slide show presentation by utilizing [_reveal.js_](http://lab.hakim.se/reveal-js/#/). The user document will contain full record of all the computations and results and can easily be shared on email, [GitHub](http://github.com) or [nbviewer.ipython.org](http://nbviewer.ipython.org). This increase research productivity and allows fast distribution and collaboration of the research works undertaken at the agency to other researchers nationally and worldwide. This tutorial is part of the effort to introduce _Python_ especially using the _IPython Notebook_ as narrated in an [article](BNM2014.pdf) (in [Malay](http://en.wikipedia.org/wiki/Malay_language))."
     ]
    },
    {
     "cell_type": "markdown",
     "metadata": {},
     "source": [
      "###THE TUTORIALS"
     ]
    },
    {
     "cell_type": "markdown",
     "metadata": {},
     "source": [
      "The tutorials are works in progress. Only the completed tutorials are listed here:"
     ]
    },
    {
     "cell_type": "markdown",
     "metadata": {},
     "source": [
      "* [Tutorial 1 - Mathematical Operation](Tutorial 1 - Mathematical Operation.ipynb)\n",
      "* [Tutorial 2 - Strings and Formatting](Tutorial 2 - Strings and Formatting.ipynb)\n",
      "* [Tutorial 3 - Conditional Expression](Tutorial 3 - Conditional Expression.ipynb)\n",
      "* [Tutorial 4 - The Sequence](Tutorial 4 - The Sequence.ipynb)\n",
      "* [Tutorial 5 - Functions and Modules](Tutorial 5 - Functions and Modules.ipynb)\n",
      "* [Tutorial 6 - Numerical Python](Tutorial 6 - Numerical Python.ipynb)\n",
      "* [Tutorial 7 - Data Visualization and Plotting](Tutorial 7 - Data Visualization and Plotting.ipynb)"
     ]
    },
    {
     "cell_type": "markdown",
     "metadata": {},
     "source": [
      "Other tutorials will be coming soon and will cover topics on [_Scipy_](http://www.scipy.org/) and [_Pandas_](http://pandas.pydata.org/)."
     ]
    }
   ],
   "metadata": {}
  }
 ]
}