{
 "metadata": {
  "name": "",
  "signature": "sha256:42a540fe4fc0a96922ffea9a44ff8bf4c96554e5402a5bee3132a04ed4e0becb"
 },
 "nbformat": 3,
 "nbformat_minor": 0,
 "worksheets": [
  {
   "cells": [
    {
     "cell_type": "markdown",
     "metadata": {},
     "source": [
      "#<span style=\"color: #B40486\">BASIC PYTHON FOR RESEARCHERS</span>"
     ]
    },
    {
     "cell_type": "markdown",
     "metadata": {},
     "source": [
      "_by_ [**_Megat Harun Al Rashid bin Megat Ahmad_**](https://www.researchgate.net/profile/Megat_Harun_Megat_Ahmad)  \n",
      "last updated: November 25, 2014"
     ]
    },
    {
     "cell_type": "markdown",
     "metadata": {},
     "source": [
      "-------\n",
      "##_<span style=\"color: #29088A\">8. Database and Data Analysis</span>_\n"
     ]
    },
    {
     "cell_type": "markdown",
     "metadata": {},
     "source": [
      "---\n",
      "<span style=\"color: #0000FF\">$Pandas$</span> is an open source library for data analysis in _Python_. It gives _Python_ similar capabilities to _R_ programming language  and even though it is possible to run _R_ in _IPython Notebook_, it would be more practical to do data analysis with a _Python_ friendly syntax. Similar to other libraries, the first step to use <span style=\"color: #0000FF\">$Pandas$</span> is to import the library together with <span style=\"color: #0000FF\">$Numpy$</span> library. "
     ]
    },
    {
     "cell_type": "code",
     "collapsed": false,
     "input": [
      "import pandas as pd\n",
      "import numpy as np"
     ],
     "language": "python",
     "metadata": {},
     "outputs": [],
     "prompt_number": 1
    },
    {
     "cell_type": "markdown",
     "metadata": {},
     "source": [
      "***\n",
      "###**_8.1 Data Structures_**"
     ]
    },
    {
     "cell_type": "markdown",
     "metadata": {},
     "source": [
      "Data structures (similar to _Sequence_ in _Python_) of <span style=\"color: #0000FF\">$Pandas$</span> revolves around the **_Series_** and **_DataFrame_** structures. Both are fast as they are built on top of <span style=\"color: #0000FF\">$Numpy$</span>."
     ]
    },
    {
     "cell_type": "markdown",
     "metadata": {},
     "source": [
      "A **_Series_** is a one-dimensional object with a lot of similar properties similar to a list or dictionary in _Python_'s _Sequence_. Each element or item in a **_Series_** will be assigned by default an index label from _0_ to _N-1_ (where _N_ is the length of the **_Series_**) and it can contains various type of _Python_'s data."
     ]
    },
    {
     "cell_type": "code",
     "collapsed": false,
     "input": [
      "# Creating a series (with different type of data)\n",
      "\n",
      "s1 = pd.Series([34, 'Material', 4*np.pi, 'Reactor', [100,250,500,750], 'kW'])\n",
      "s1"
     ],
     "language": "python",
     "metadata": {},
     "outputs": [
      {
       "metadata": {},
       "output_type": "pyout",
       "prompt_number": 2,
       "text": [
        "0                      34\n",
        "1                Material\n",
        "2                12.56637\n",
        "3                 Reactor\n",
        "4    [100, 250, 500, 750]\n",
        "5                      kW\n",
        "dtype: object"
       ]
      }
     ],
     "prompt_number": 2
    },
    {
     "cell_type": "markdown",
     "metadata": {},
     "source": [
      "The index of a **_Series_** can be specified during its creation and giving it a similar function to a dictionary."
     ]
    },
    {
     "cell_type": "code",
     "collapsed": false,
     "input": [
      "# Creating a series with specified index\n",
      "\n",
      "lt = [34, 'Material', 4*np.pi, 'Reactor', [100,250,500,750], 'kW']\n",
      "\n",
      "s2 = pd.Series(lt, index = ['b1', 'r1', 'solid angle', 18, 'reactor power', 'unit'])\n",
      "s2"
     ],
     "language": "python",
     "metadata": {},
     "outputs": [
      {
       "metadata": {},
       "output_type": "pyout",
       "prompt_number": 3,
       "text": [
        "b1                                 34\n",
        "r1                           Material\n",
        "solid angle                  12.56637\n",
        "18                            Reactor\n",
        "reactor power    [100, 250, 500, 750]\n",
        "unit                               kW\n",
        "dtype: object"
       ]
      }
     ],
     "prompt_number": 3
    },
    {
     "cell_type": "markdown",
     "metadata": {},
     "source": [
      "Data can be extracted by specifying the element position or index (similar to list/dictionary)."
     ]
    },
    {
     "cell_type": "code",
     "collapsed": false,
     "input": [
      "print s1[3]\n",
      "print s2['solid angle']"
     ],
     "language": "python",
     "metadata": {},
     "outputs": [
      {
       "output_type": "stream",
       "stream": "stdout",
       "text": [
        "Reactor\n",
        "12.5663706144\n"
       ]
      }
     ],
     "prompt_number": 4
    },
    {
     "cell_type": "markdown",
     "metadata": {},
     "source": [
      "In the above instances, the datum input for the _s1_ and _s2_ **_Series_** are made of lists. **_Series_** can also be constructed from a dictionary."
     ]
    },
    {
     "cell_type": "code",
     "collapsed": false,
     "input": [
      "pop_cities = {'Kuala Lumpur':1588750, 'Seberang Perai':818197, 'Kajang':795522,\n",
      "              'Klang':744062, 'Subang Jaya':708296}\n",
      "cities = pd.Series(pop_cities)\n",
      "cities"
     ],
     "language": "python",
     "metadata": {},
     "outputs": [
      {
       "metadata": {},
       "output_type": "pyout",
       "prompt_number": 5,
       "text": [
        "Kajang             795522\n",
        "Klang              744062\n",
        "Kuala Lumpur      1588750\n",
        "Seberang Perai     818197\n",
        "Subang Jaya        708296\n",
        "dtype: int64"
       ]
      }
     ],
     "prompt_number": 5
    },
    {
     "cell_type": "markdown",
     "metadata": {},
     "source": [
      "The value can be put in order using the <span style=\"color: #0000FF\">$sort()$</span> function (this will change the structure of the **_Series_** variable)."
     ]
    },
    {
     "cell_type": "code",
     "collapsed": false,
     "input": [
      "# Sorting with descending values\n",
      "\n",
      "cities.sort(ascending=False)\n",
      "cities"
     ],
     "language": "python",
     "metadata": {},
     "outputs": [
      {
       "metadata": {},
       "output_type": "pyout",
       "prompt_number": 6,
       "text": [
        "Kuala Lumpur      1588750\n",
        "Seberang Perai     818197\n",
        "Kajang             795522\n",
        "Klang              744062\n",
        "Subang Jaya        708296\n",
        "dtype: int64"
       ]
      }
     ],
     "prompt_number": 6
    },
    {
     "cell_type": "markdown",
     "metadata": {},
     "source": [
      "A similar function is <span style=\"color: #0000FF\">$Series.order()$</span> but instead of changing the structure of the original variable, it returns a new **_Series_**."
     ]
    },
    {
     "cell_type": "code",
     "collapsed": false,
     "input": [
      "cities.order(ascending=False)"
     ],
     "language": "python",
     "metadata": {},
     "outputs": [
      {
       "metadata": {},
       "output_type": "pyout",
       "prompt_number": 7,
       "text": [
        "Kuala Lumpur      1588750\n",
        "Seberang Perai     818197\n",
        "Kajang             795522\n",
        "Klang              744062\n",
        "Subang Jaya        708296\n",
        "dtype: int64"
       ]
      }
     ],
     "prompt_number": 7
    },
    {
     "cell_type": "code",
     "collapsed": false,
     "input": [
      "cities"
     ],
     "language": "python",
     "metadata": {},
     "outputs": [
      {
       "metadata": {},
       "output_type": "pyout",
       "prompt_number": 8,
       "text": [
        "Kuala Lumpur      1588750\n",
        "Seberang Perai     818197\n",
        "Kajang             795522\n",
        "Klang              744062\n",
        "Subang Jaya        708296\n",
        "dtype: int64"
       ]
      }
     ],
     "prompt_number": 8
    },
    {
     "cell_type": "markdown",
     "metadata": {},
     "source": [
      "It is possible to assign condition to the elements."
     ]
    },
    {
     "cell_type": "code",
     "collapsed": false,
     "input": [
      "cities[cities<800000]"
     ],
     "language": "python",
     "metadata": {},
     "outputs": [
      {
       "metadata": {},
       "output_type": "pyout",
       "prompt_number": 9,
       "text": [
        "Kajang         795522\n",
        "Klang          744062\n",
        "Subang Jaya    708296\n",
        "dtype: int64"
       ]
      }
     ],
     "prompt_number": 9
    },
    {
     "cell_type": "code",
     "collapsed": false,
     "input": [
      "cities[cities<800000][cities>750000]"
     ],
     "language": "python",
     "metadata": {},
     "outputs": [
      {
       "metadata": {},
       "output_type": "pyout",
       "prompt_number": 10,
       "text": [
        "Kajang    795522\n",
        "dtype: int64"
       ]
      }
     ],
     "prompt_number": 10
    },
    {
     "cell_type": "markdown",
     "metadata": {},
     "source": [
      "---\n",
      "A **_DataFrame_** is a 2-dimensional data structure with named rows and columns. It is similar to  _R_'s _data.frame_ object and function like a spreadsheet. **_DataFrame_** can be considered to be made of series of **_Series_** data according to the column names. **_DataFrame_** can be created by passing a 2-dimensional array of data and specifying the rows and columns names."
     ]
    },
    {
     "cell_type": "code",
     "collapsed": false,
     "input": [
      "# Creating a DataFrame by passing a 2-D numpy array of random number \n",
      "\n",
      "# Creating first the date-time index using date_range function.\n",
      "dates = pd.date_range('20140801', periods = 8, freq = 'D')\n",
      "dates"
     ],
     "language": "python",
     "metadata": {},
     "outputs": [
      {
       "metadata": {},
       "output_type": "pyout",
       "prompt_number": 11,
       "text": [
        "<class 'pandas.tseries.index.DatetimeIndex'>\n",
        "[2014-08-01, ..., 2014-08-08]\n",
        "Length: 8, Freq: D, Timezone: None"
       ]
      }
     ],
     "prompt_number": 11
    },
    {
     "cell_type": "code",
     "collapsed": false,
     "input": [
      "# Creating the column names as list\n",
      "Kedai = ['Kedai A', 'Kedai B', 'Kedai C', 'Kedai D', 'Kedai E']\n",
      "\n",
      "# Creating the DataFrame\n",
      "df = pd.DataFrame(np.random.randn(8,5),index=dates,columns=Kedai)\n",
      "df"
     ],
     "language": "python",
     "metadata": {},
     "outputs": [
      {
       "html": [
        "<div style=\"max-height:1000px;max-width:1500px;overflow:auto;\">\n",
        "<table border=\"1\" class=\"dataframe\">\n",
        "  <thead>\n",
        "    <tr style=\"text-align: right;\">\n",
        "      <th></th>\n",
        "      <th>Kedai A</th>\n",
        "      <th>Kedai B</th>\n",
        "      <th>Kedai C</th>\n",
        "      <th>Kedai D</th>\n",
        "      <th>Kedai E</th>\n",
        "    </tr>\n",
        "  </thead>\n",
        "  <tbody>\n",
        "    <tr>\n",
        "      <th>2014-08-01</th>\n",
        "      <td> 0.241861</td>\n",
        "      <td> 1.131037</td>\n",
        "      <td> 0.421857</td>\n",
        "      <td>-0.047270</td>\n",
        "      <td> 1.635734</td>\n",
        "    </tr>\n",
        "    <tr>\n",
        "      <th>2014-08-02</th>\n",
        "      <td>-0.794775</td>\n",
        "      <td>-1.023148</td>\n",
        "      <td>-0.744298</td>\n",
        "      <td> 1.019617</td>\n",
        "      <td> 0.671867</td>\n",
        "    </tr>\n",
        "    <tr>\n",
        "      <th>2014-08-03</th>\n",
        "      <td> 2.532557</td>\n",
        "      <td>-1.847136</td>\n",
        "      <td>-0.133496</td>\n",
        "      <td>-0.189440</td>\n",
        "      <td>-0.538676</td>\n",
        "    </tr>\n",
        "    <tr>\n",
        "      <th>2014-08-04</th>\n",
        "      <td>-0.828003</td>\n",
        "      <td> 1.195534</td>\n",
        "      <td>-0.746350</td>\n",
        "      <td>-1.629543</td>\n",
        "      <td>-1.053299</td>\n",
        "    </tr>\n",
        "    <tr>\n",
        "      <th>2014-08-05</th>\n",
        "      <td> 0.273865</td>\n",
        "      <td> 1.841080</td>\n",
        "      <td>-0.037397</td>\n",
        "      <td> 0.790998</td>\n",
        "      <td> 0.743659</td>\n",
        "    </tr>\n",
        "    <tr>\n",
        "      <th>2014-08-06</th>\n",
        "      <td> 0.014689</td>\n",
        "      <td> 1.178593</td>\n",
        "      <td>-0.698372</td>\n",
        "      <td>-0.967009</td>\n",
        "      <td>-1.247738</td>\n",
        "    </tr>\n",
        "    <tr>\n",
        "      <th>2014-08-07</th>\n",
        "      <td>-0.404842</td>\n",
        "      <td> 0.031088</td>\n",
        "      <td> 0.255879</td>\n",
        "      <td> 0.879667</td>\n",
        "      <td> 0.478726</td>\n",
        "    </tr>\n",
        "    <tr>\n",
        "      <th>2014-08-08</th>\n",
        "      <td>-1.054359</td>\n",
        "      <td>-0.162643</td>\n",
        "      <td> 0.303053</td>\n",
        "      <td> 1.438586</td>\n",
        "      <td> 0.979570</td>\n",
        "    </tr>\n",
        "  </tbody>\n",
        "</table>\n",
        "</div>"
       ],
       "metadata": {},
       "output_type": "pyout",
       "prompt_number": 12,
       "text": [
        "             Kedai A   Kedai B   Kedai C   Kedai D   Kedai E\n",
        "2014-08-01  0.241861  1.131037  0.421857 -0.047270  1.635734\n",
        "2014-08-02 -0.794775 -1.023148 -0.744298  1.019617  0.671867\n",
        "2014-08-03  2.532557 -1.847136 -0.133496 -0.189440 -0.538676\n",
        "2014-08-04 -0.828003  1.195534 -0.746350 -1.629543 -1.053299\n",
        "2014-08-05  0.273865  1.841080 -0.037397  0.790998  0.743659\n",
        "2014-08-06  0.014689  1.178593 -0.698372 -0.967009 -1.247738\n",
        "2014-08-07 -0.404842  0.031088  0.255879  0.879667  0.478726\n",
        "2014-08-08 -1.054359 -0.162643  0.303053  1.438586  0.979570"
       ]
      }
     ],
     "prompt_number": 12
    },
    {
     "cell_type": "markdown",
     "metadata": {},
     "source": [
      "---\n",
      "Some of the useful functions that can be applied to a **_DataFrame_** include:"
     ]
    },
    {
     "cell_type": "code",
     "collapsed": false,
     "input": [
      "df.head()             # Displaying the first five (default) rows\n"
     ],
     "language": "python",
     "metadata": {},
     "outputs": [
      {
       "html": [
        "<div style=\"max-height:1000px;max-width:1500px;overflow:auto;\">\n",
        "<table border=\"1\" class=\"dataframe\">\n",
        "  <thead>\n",
        "    <tr style=\"text-align: right;\">\n",
        "      <th></th>\n",
        "      <th>Kedai A</th>\n",
        "      <th>Kedai B</th>\n",
        "      <th>Kedai C</th>\n",
        "      <th>Kedai D</th>\n",
        "      <th>Kedai E</th>\n",
        "    </tr>\n",
        "  </thead>\n",
        "  <tbody>\n",
        "    <tr>\n",
        "      <th>2014-08-01</th>\n",
        "      <td> 0.241861</td>\n",
        "      <td> 1.131037</td>\n",
        "      <td> 0.421857</td>\n",
        "      <td>-0.047270</td>\n",
        "      <td> 1.635734</td>\n",
        "    </tr>\n",
        "    <tr>\n",
        "      <th>2014-08-02</th>\n",
        "      <td>-0.794775</td>\n",
        "      <td>-1.023148</td>\n",
        "      <td>-0.744298</td>\n",
        "      <td> 1.019617</td>\n",
        "      <td> 0.671867</td>\n",
        "    </tr>\n",
        "    <tr>\n",
        "      <th>2014-08-03</th>\n",
        "      <td> 2.532557</td>\n",
        "      <td>-1.847136</td>\n",
        "      <td>-0.133496</td>\n",
        "      <td>-0.189440</td>\n",
        "      <td>-0.538676</td>\n",
        "    </tr>\n",
        "    <tr>\n",
        "      <th>2014-08-04</th>\n",
        "      <td>-0.828003</td>\n",
        "      <td> 1.195534</td>\n",
        "      <td>-0.746350</td>\n",
        "      <td>-1.629543</td>\n",
        "      <td>-1.053299</td>\n",
        "    </tr>\n",
        "    <tr>\n",
        "      <th>2014-08-05</th>\n",
        "      <td> 0.273865</td>\n",
        "      <td> 1.841080</td>\n",
        "      <td>-0.037397</td>\n",
        "      <td> 0.790998</td>\n",
        "      <td> 0.743659</td>\n",
        "    </tr>\n",
        "  </tbody>\n",
        "</table>\n",
        "</div>"
       ],
       "metadata": {},
       "output_type": "pyout",
       "prompt_number": 13,
       "text": [
        "             Kedai A   Kedai B   Kedai C   Kedai D   Kedai E\n",
        "2014-08-01  0.241861  1.131037  0.421857 -0.047270  1.635734\n",
        "2014-08-02 -0.794775 -1.023148 -0.744298  1.019617  0.671867\n",
        "2014-08-03  2.532557 -1.847136 -0.133496 -0.189440 -0.538676\n",
        "2014-08-04 -0.828003  1.195534 -0.746350 -1.629543 -1.053299\n",
        "2014-08-05  0.273865  1.841080 -0.037397  0.790998  0.743659"
       ]
      }
     ],
     "prompt_number": 13
    },
    {
     "cell_type": "code",
     "collapsed": false,
     "input": [
      "df.head(3)             # Displaying the first three (specified) rows\n"
     ],
     "language": "python",
     "metadata": {},
     "outputs": [
      {
       "html": [
        "<div style=\"max-height:1000px;max-width:1500px;overflow:auto;\">\n",
        "<table border=\"1\" class=\"dataframe\">\n",
        "  <thead>\n",
        "    <tr style=\"text-align: right;\">\n",
        "      <th></th>\n",
        "      <th>Kedai A</th>\n",
        "      <th>Kedai B</th>\n",
        "      <th>Kedai C</th>\n",
        "      <th>Kedai D</th>\n",
        "      <th>Kedai E</th>\n",
        "    </tr>\n",
        "  </thead>\n",
        "  <tbody>\n",
        "    <tr>\n",
        "      <th>2014-08-01</th>\n",
        "      <td> 0.241861</td>\n",
        "      <td> 1.131037</td>\n",
        "      <td> 0.421857</td>\n",
        "      <td>-0.047270</td>\n",
        "      <td> 1.635734</td>\n",
        "    </tr>\n",
        "    <tr>\n",
        "      <th>2014-08-02</th>\n",
        "      <td>-0.794775</td>\n",
        "      <td>-1.023148</td>\n",
        "      <td>-0.744298</td>\n",
        "      <td> 1.019617</td>\n",
        "      <td> 0.671867</td>\n",
        "    </tr>\n",
        "    <tr>\n",
        "      <th>2014-08-03</th>\n",
        "      <td> 2.532557</td>\n",
        "      <td>-1.847136</td>\n",
        "      <td>-0.133496</td>\n",
        "      <td>-0.189440</td>\n",
        "      <td>-0.538676</td>\n",
        "    </tr>\n",
        "  </tbody>\n",
        "</table>\n",
        "</div>"
       ],
       "metadata": {},
       "output_type": "pyout",
       "prompt_number": 14,
       "text": [
        "             Kedai A   Kedai B   Kedai C   Kedai D   Kedai E\n",
        "2014-08-01  0.241861  1.131037  0.421857 -0.047270  1.635734\n",
        "2014-08-02 -0.794775 -1.023148 -0.744298  1.019617  0.671867\n",
        "2014-08-03  2.532557 -1.847136 -0.133496 -0.189440 -0.538676"
       ]
      }
     ],
     "prompt_number": 14
    },
    {
     "cell_type": "code",
     "collapsed": false,
     "input": [
      "df.tail(2)             # Displaying the last two (specified) rows\n"
     ],
     "language": "python",
     "metadata": {},
     "outputs": [
      {
       "html": [
        "<div style=\"max-height:1000px;max-width:1500px;overflow:auto;\">\n",
        "<table border=\"1\" class=\"dataframe\">\n",
        "  <thead>\n",
        "    <tr style=\"text-align: right;\">\n",
        "      <th></th>\n",
        "      <th>Kedai A</th>\n",
        "      <th>Kedai B</th>\n",
        "      <th>Kedai C</th>\n",
        "      <th>Kedai D</th>\n",
        "      <th>Kedai E</th>\n",
        "    </tr>\n",
        "  </thead>\n",
        "  <tbody>\n",
        "    <tr>\n",
        "      <th>2014-08-07</th>\n",
        "      <td>-0.404842</td>\n",
        "      <td> 0.031088</td>\n",
        "      <td> 0.255879</td>\n",
        "      <td> 0.879667</td>\n",
        "      <td> 0.478726</td>\n",
        "    </tr>\n",
        "    <tr>\n",
        "      <th>2014-08-08</th>\n",
        "      <td>-1.054359</td>\n",
        "      <td>-0.162643</td>\n",
        "      <td> 0.303053</td>\n",
        "      <td> 1.438586</td>\n",
        "      <td> 0.979570</td>\n",
        "    </tr>\n",
        "  </tbody>\n",
        "</table>\n",
        "</div>"
       ],
       "metadata": {},
       "output_type": "pyout",
       "prompt_number": 15,
       "text": [
        "             Kedai A   Kedai B   Kedai C   Kedai D   Kedai E\n",
        "2014-08-07 -0.404842  0.031088  0.255879  0.879667  0.478726\n",
        "2014-08-08 -1.054359 -0.162643  0.303053  1.438586  0.979570"
       ]
      }
     ],
     "prompt_number": 15
    },
    {
     "cell_type": "code",
     "collapsed": false,
     "input": [
      "df.index               # Showing the index of rows\n"
     ],
     "language": "python",
     "metadata": {},
     "outputs": [
      {
       "metadata": {},
       "output_type": "pyout",
       "prompt_number": 16,
       "text": [
        "<class 'pandas.tseries.index.DatetimeIndex'>\n",
        "[2014-08-01, ..., 2014-08-08]\n",
        "Length: 8, Freq: D, Timezone: None"
       ]
      }
     ],
     "prompt_number": 16
    },
    {
     "cell_type": "code",
     "collapsed": false,
     "input": [
      "df.columns             # Showing the fields of columns\n"
     ],
     "language": "python",
     "metadata": {},
     "outputs": [
      {
       "metadata": {},
       "output_type": "pyout",
       "prompt_number": 17,
       "text": [
        "Index([u'Kedai A', u'Kedai B', u'Kedai C', u'Kedai D', u'Kedai E'], dtype='object')"
       ]
      }
     ],
     "prompt_number": 17
    },
    {
     "cell_type": "code",
     "collapsed": false,
     "input": [
      "df.values              # Showing the data only in its original 2-D array\n"
     ],
     "language": "python",
     "metadata": {},
     "outputs": [
      {
       "metadata": {},
       "output_type": "pyout",
       "prompt_number": 18,
       "text": [
        "array([[ 0.24186057,  1.13103679,  0.4218568 , -0.04727021,  1.63573381],\n",
        "       [-0.79477452, -1.02314804, -0.74429767,  1.01961739,  0.67186669],\n",
        "       [ 2.53255735, -1.84713603, -0.13349618, -0.18943988, -0.53867553],\n",
        "       [-0.82800258,  1.19553356, -0.74635001, -1.62954298, -1.05329926],\n",
        "       [ 0.27386544,  1.84107952, -0.03739658,  0.79099775,  0.74365917],\n",
        "       [ 0.01468908,  1.17859305, -0.69837159, -0.96700911, -1.24773754],\n",
        "       [-0.4048418 ,  0.03108783,  0.25587913,  0.87966666,  0.47872574],\n",
        "       [-1.05435936, -0.16264259,  0.30305259,  1.4385861 ,  0.97957026]])"
       ]
      }
     ],
     "prompt_number": 18
    },
    {
     "cell_type": "code",
     "collapsed": false,
     "input": [
      "df.describe()          # Simple statistical data for each column\n"
     ],
     "language": "python",
     "metadata": {},
     "outputs": [
      {
       "html": [
        "<div style=\"max-height:1000px;max-width:1500px;overflow:auto;\">\n",
        "<table border=\"1\" class=\"dataframe\">\n",
        "  <thead>\n",
        "    <tr style=\"text-align: right;\">\n",
        "      <th></th>\n",
        "      <th>Kedai A</th>\n",
        "      <th>Kedai B</th>\n",
        "      <th>Kedai C</th>\n",
        "      <th>Kedai D</th>\n",
        "      <th>Kedai E</th>\n",
        "    </tr>\n",
        "  </thead>\n",
        "  <tbody>\n",
        "    <tr>\n",
        "      <th>count</th>\n",
        "      <td> 8.000000</td>\n",
        "      <td> 8.000000</td>\n",
        "      <td> 8.000000</td>\n",
        "      <td> 8.000000</td>\n",
        "      <td> 8.000000</td>\n",
        "    </tr>\n",
        "    <tr>\n",
        "      <th>mean</th>\n",
        "      <td>-0.002376</td>\n",
        "      <td> 0.293051</td>\n",
        "      <td>-0.172390</td>\n",
        "      <td> 0.161951</td>\n",
        "      <td> 0.208730</td>\n",
        "    </tr>\n",
        "    <tr>\n",
        "      <th>std</th>\n",
        "      <td> 1.142700</td>\n",
        "      <td> 1.269777</td>\n",
        "      <td> 0.495046</td>\n",
        "      <td> 1.064187</td>\n",
        "      <td> 1.033490</td>\n",
        "    </tr>\n",
        "    <tr>\n",
        "      <th>min</th>\n",
        "      <td>-1.054359</td>\n",
        "      <td>-1.847136</td>\n",
        "      <td>-0.746350</td>\n",
        "      <td>-1.629543</td>\n",
        "      <td>-1.247738</td>\n",
        "    </tr>\n",
        "    <tr>\n",
        "      <th>25%</th>\n",
        "      <td>-0.803082</td>\n",
        "      <td>-0.377769</td>\n",
        "      <td>-0.709853</td>\n",
        "      <td>-0.383832</td>\n",
        "      <td>-0.667331</td>\n",
        "    </tr>\n",
        "    <tr>\n",
        "      <th>50%</th>\n",
        "      <td>-0.195076</td>\n",
        "      <td> 0.581062</td>\n",
        "      <td>-0.085446</td>\n",
        "      <td> 0.371864</td>\n",
        "      <td> 0.575296</td>\n",
        "    </tr>\n",
        "    <tr>\n",
        "      <th>75%</th>\n",
        "      <td> 0.249862</td>\n",
        "      <td> 1.182828</td>\n",
        "      <td> 0.267672</td>\n",
        "      <td> 0.914654</td>\n",
        "      <td> 0.802637</td>\n",
        "    </tr>\n",
        "    <tr>\n",
        "      <th>max</th>\n",
        "      <td> 2.532557</td>\n",
        "      <td> 1.841080</td>\n",
        "      <td> 0.421857</td>\n",
        "      <td> 1.438586</td>\n",
        "      <td> 1.635734</td>\n",
        "    </tr>\n",
        "  </tbody>\n",
        "</table>\n",
        "</div>"
       ],
       "metadata": {},
       "output_type": "pyout",
       "prompt_number": 19,
       "text": [
        "        Kedai A   Kedai B   Kedai C   Kedai D   Kedai E\n",
        "count  8.000000  8.000000  8.000000  8.000000  8.000000\n",
        "mean  -0.002376  0.293051 -0.172390  0.161951  0.208730\n",
        "std    1.142700  1.269777  0.495046  1.064187  1.033490\n",
        "min   -1.054359 -1.847136 -0.746350 -1.629543 -1.247738\n",
        "25%   -0.803082 -0.377769 -0.709853 -0.383832 -0.667331\n",
        "50%   -0.195076  0.581062 -0.085446  0.371864  0.575296\n",
        "75%    0.249862  1.182828  0.267672  0.914654  0.802637\n",
        "max    2.532557  1.841080  0.421857  1.438586  1.635734"
       ]
      }
     ],
     "prompt_number": 19
    },
    {
     "cell_type": "code",
     "collapsed": false,
     "input": [
      "df.T                    # Transposing the DataFrame (index becomes column and vice versa)\n"
     ],
     "language": "python",
     "metadata": {},
     "outputs": [
      {
       "html": [
        "<div style=\"max-height:1000px;max-width:1500px;overflow:auto;\">\n",
        "<table border=\"1\" class=\"dataframe\">\n",
        "  <thead>\n",
        "    <tr style=\"text-align: right;\">\n",
        "      <th></th>\n",
        "      <th>2014-08-01 00:00:00</th>\n",
        "      <th>2014-08-02 00:00:00</th>\n",
        "      <th>2014-08-03 00:00:00</th>\n",
        "      <th>2014-08-04 00:00:00</th>\n",
        "      <th>2014-08-05 00:00:00</th>\n",
        "      <th>2014-08-06 00:00:00</th>\n",
        "      <th>2014-08-07 00:00:00</th>\n",
        "      <th>2014-08-08 00:00:00</th>\n",
        "    </tr>\n",
        "  </thead>\n",
        "  <tbody>\n",
        "    <tr>\n",
        "      <th>Kedai A</th>\n",
        "      <td> 0.241861</td>\n",
        "      <td>-0.794775</td>\n",
        "      <td> 2.532557</td>\n",
        "      <td>-0.828003</td>\n",
        "      <td> 0.273865</td>\n",
        "      <td> 0.014689</td>\n",
        "      <td>-0.404842</td>\n",
        "      <td>-1.054359</td>\n",
        "    </tr>\n",
        "    <tr>\n",
        "      <th>Kedai B</th>\n",
        "      <td> 1.131037</td>\n",
        "      <td>-1.023148</td>\n",
        "      <td>-1.847136</td>\n",
        "      <td> 1.195534</td>\n",
        "      <td> 1.841080</td>\n",
        "      <td> 1.178593</td>\n",
        "      <td> 0.031088</td>\n",
        "      <td>-0.162643</td>\n",
        "    </tr>\n",
        "    <tr>\n",
        "      <th>Kedai C</th>\n",
        "      <td> 0.421857</td>\n",
        "      <td>-0.744298</td>\n",
        "      <td>-0.133496</td>\n",
        "      <td>-0.746350</td>\n",
        "      <td>-0.037397</td>\n",
        "      <td>-0.698372</td>\n",
        "      <td> 0.255879</td>\n",
        "      <td> 0.303053</td>\n",
        "    </tr>\n",
        "    <tr>\n",
        "      <th>Kedai D</th>\n",
        "      <td>-0.047270</td>\n",
        "      <td> 1.019617</td>\n",
        "      <td>-0.189440</td>\n",
        "      <td>-1.629543</td>\n",
        "      <td> 0.790998</td>\n",
        "      <td>-0.967009</td>\n",
        "      <td> 0.879667</td>\n",
        "      <td> 1.438586</td>\n",
        "    </tr>\n",
        "    <tr>\n",
        "      <th>Kedai E</th>\n",
        "      <td> 1.635734</td>\n",
        "      <td> 0.671867</td>\n",
        "      <td>-0.538676</td>\n",
        "      <td>-1.053299</td>\n",
        "      <td> 0.743659</td>\n",
        "      <td>-1.247738</td>\n",
        "      <td> 0.478726</td>\n",
        "      <td> 0.979570</td>\n",
        "    </tr>\n",
        "  </tbody>\n",
        "</table>\n",
        "</div>"
       ],
       "metadata": {},
       "output_type": "pyout",
       "prompt_number": 20,
       "text": [
        "         2014-08-01  2014-08-02  2014-08-03  2014-08-04  2014-08-05  \\\n",
        "Kedai A    0.241861   -0.794775    2.532557   -0.828003    0.273865   \n",
        "Kedai B    1.131037   -1.023148   -1.847136    1.195534    1.841080   \n",
        "Kedai C    0.421857   -0.744298   -0.133496   -0.746350   -0.037397   \n",
        "Kedai D   -0.047270    1.019617   -0.189440   -1.629543    0.790998   \n",
        "Kedai E    1.635734    0.671867   -0.538676   -1.053299    0.743659   \n",
        "\n",
        "         2014-08-06  2014-08-07  2014-08-08  \n",
        "Kedai A    0.014689   -0.404842   -1.054359  \n",
        "Kedai B    1.178593    0.031088   -0.162643  \n",
        "Kedai C   -0.698372    0.255879    0.303053  \n",
        "Kedai D   -0.967009    0.879667    1.438586  \n",
        "Kedai E   -1.247738    0.478726    0.979570  "
       ]
      }
     ],
     "prompt_number": 20
    },
    {
     "cell_type": "code",
     "collapsed": false,
     "input": [
      "df.sort_index(axis=1,ascending=False)     # Sorting with descending column "
     ],
     "language": "python",
     "metadata": {},
     "outputs": [
      {
       "html": [
        "<div style=\"max-height:1000px;max-width:1500px;overflow:auto;\">\n",
        "<table border=\"1\" class=\"dataframe\">\n",
        "  <thead>\n",
        "    <tr style=\"text-align: right;\">\n",
        "      <th></th>\n",
        "      <th>Kedai E</th>\n",
        "      <th>Kedai D</th>\n",
        "      <th>Kedai C</th>\n",
        "      <th>Kedai B</th>\n",
        "      <th>Kedai A</th>\n",
        "    </tr>\n",
        "  </thead>\n",
        "  <tbody>\n",
        "    <tr>\n",
        "      <th>2014-08-01</th>\n",
        "      <td> 1.635734</td>\n",
        "      <td>-0.047270</td>\n",
        "      <td> 0.421857</td>\n",
        "      <td> 1.131037</td>\n",
        "      <td> 0.241861</td>\n",
        "    </tr>\n",
        "    <tr>\n",
        "      <th>2014-08-02</th>\n",
        "      <td> 0.671867</td>\n",
        "      <td> 1.019617</td>\n",
        "      <td>-0.744298</td>\n",
        "      <td>-1.023148</td>\n",
        "      <td>-0.794775</td>\n",
        "    </tr>\n",
        "    <tr>\n",
        "      <th>2014-08-03</th>\n",
        "      <td>-0.538676</td>\n",
        "      <td>-0.189440</td>\n",
        "      <td>-0.133496</td>\n",
        "      <td>-1.847136</td>\n",
        "      <td> 2.532557</td>\n",
        "    </tr>\n",
        "    <tr>\n",
        "      <th>2014-08-04</th>\n",
        "      <td>-1.053299</td>\n",
        "      <td>-1.629543</td>\n",
        "      <td>-0.746350</td>\n",
        "      <td> 1.195534</td>\n",
        "      <td>-0.828003</td>\n",
        "    </tr>\n",
        "    <tr>\n",
        "      <th>2014-08-05</th>\n",
        "      <td> 0.743659</td>\n",
        "      <td> 0.790998</td>\n",
        "      <td>-0.037397</td>\n",
        "      <td> 1.841080</td>\n",
        "      <td> 0.273865</td>\n",
        "    </tr>\n",
        "    <tr>\n",
        "      <th>2014-08-06</th>\n",
        "      <td>-1.247738</td>\n",
        "      <td>-0.967009</td>\n",
        "      <td>-0.698372</td>\n",
        "      <td> 1.178593</td>\n",
        "      <td> 0.014689</td>\n",
        "    </tr>\n",
        "    <tr>\n",
        "      <th>2014-08-07</th>\n",
        "      <td> 0.478726</td>\n",
        "      <td> 0.879667</td>\n",
        "      <td> 0.255879</td>\n",
        "      <td> 0.031088</td>\n",
        "      <td>-0.404842</td>\n",
        "    </tr>\n",
        "    <tr>\n",
        "      <th>2014-08-08</th>\n",
        "      <td> 0.979570</td>\n",
        "      <td> 1.438586</td>\n",
        "      <td> 0.303053</td>\n",
        "      <td>-0.162643</td>\n",
        "      <td>-1.054359</td>\n",
        "    </tr>\n",
        "  </tbody>\n",
        "</table>\n",
        "</div>"
       ],
       "metadata": {},
       "output_type": "pyout",
       "prompt_number": 21,
       "text": [
        "             Kedai E   Kedai D   Kedai C   Kedai B   Kedai A\n",
        "2014-08-01  1.635734 -0.047270  0.421857  1.131037  0.241861\n",
        "2014-08-02  0.671867  1.019617 -0.744298 -1.023148 -0.794775\n",
        "2014-08-03 -0.538676 -0.189440 -0.133496 -1.847136  2.532557\n",
        "2014-08-04 -1.053299 -1.629543 -0.746350  1.195534 -0.828003\n",
        "2014-08-05  0.743659  0.790998 -0.037397  1.841080  0.273865\n",
        "2014-08-06 -1.247738 -0.967009 -0.698372  1.178593  0.014689\n",
        "2014-08-07  0.478726  0.879667  0.255879  0.031088 -0.404842\n",
        "2014-08-08  0.979570  1.438586  0.303053 -0.162643 -1.054359"
       ]
      }
     ],
     "prompt_number": 21
    },
    {
     "cell_type": "code",
     "collapsed": false,
     "input": [
      "df.sort(columns='Kedai D')               # Sorting according to ascending specific column"
     ],
     "language": "python",
     "metadata": {},
     "outputs": [
      {
       "html": [
        "<div style=\"max-height:1000px;max-width:1500px;overflow:auto;\">\n",
        "<table border=\"1\" class=\"dataframe\">\n",
        "  <thead>\n",
        "    <tr style=\"text-align: right;\">\n",
        "      <th></th>\n",
        "      <th>Kedai A</th>\n",
        "      <th>Kedai B</th>\n",
        "      <th>Kedai C</th>\n",
        "      <th>Kedai D</th>\n",
        "      <th>Kedai E</th>\n",
        "    </tr>\n",
        "  </thead>\n",
        "  <tbody>\n",
        "    <tr>\n",
        "      <th>2014-08-04</th>\n",
        "      <td>-0.828003</td>\n",
        "      <td> 1.195534</td>\n",
        "      <td>-0.746350</td>\n",
        "      <td>-1.629543</td>\n",
        "      <td>-1.053299</td>\n",
        "    </tr>\n",
        "    <tr>\n",
        "      <th>2014-08-06</th>\n",
        "      <td> 0.014689</td>\n",
        "      <td> 1.178593</td>\n",
        "      <td>-0.698372</td>\n",
        "      <td>-0.967009</td>\n",
        "      <td>-1.247738</td>\n",
        "    </tr>\n",
        "    <tr>\n",
        "      <th>2014-08-03</th>\n",
        "      <td> 2.532557</td>\n",
        "      <td>-1.847136</td>\n",
        "      <td>-0.133496</td>\n",
        "      <td>-0.189440</td>\n",
        "      <td>-0.538676</td>\n",
        "    </tr>\n",
        "    <tr>\n",
        "      <th>2014-08-01</th>\n",
        "      <td> 0.241861</td>\n",
        "      <td> 1.131037</td>\n",
        "      <td> 0.421857</td>\n",
        "      <td>-0.047270</td>\n",
        "      <td> 1.635734</td>\n",
        "    </tr>\n",
        "    <tr>\n",
        "      <th>2014-08-05</th>\n",
        "      <td> 0.273865</td>\n",
        "      <td> 1.841080</td>\n",
        "      <td>-0.037397</td>\n",
        "      <td> 0.790998</td>\n",
        "      <td> 0.743659</td>\n",
        "    </tr>\n",
        "    <tr>\n",
        "      <th>2014-08-07</th>\n",
        "      <td>-0.404842</td>\n",
        "      <td> 0.031088</td>\n",
        "      <td> 0.255879</td>\n",
        "      <td> 0.879667</td>\n",
        "      <td> 0.478726</td>\n",
        "    </tr>\n",
        "    <tr>\n",
        "      <th>2014-08-02</th>\n",
        "      <td>-0.794775</td>\n",
        "      <td>-1.023148</td>\n",
        "      <td>-0.744298</td>\n",
        "      <td> 1.019617</td>\n",
        "      <td> 0.671867</td>\n",
        "    </tr>\n",
        "    <tr>\n",
        "      <th>2014-08-08</th>\n",
        "      <td>-1.054359</td>\n",
        "      <td>-0.162643</td>\n",
        "      <td> 0.303053</td>\n",
        "      <td> 1.438586</td>\n",
        "      <td> 0.979570</td>\n",
        "    </tr>\n",
        "  </tbody>\n",
        "</table>\n",
        "</div>"
       ],
       "metadata": {},
       "output_type": "pyout",
       "prompt_number": 22,
       "text": [
        "             Kedai A   Kedai B   Kedai C   Kedai D   Kedai E\n",
        "2014-08-04 -0.828003  1.195534 -0.746350 -1.629543 -1.053299\n",
        "2014-08-06  0.014689  1.178593 -0.698372 -0.967009 -1.247738\n",
        "2014-08-03  2.532557 -1.847136 -0.133496 -0.189440 -0.538676\n",
        "2014-08-01  0.241861  1.131037  0.421857 -0.047270  1.635734\n",
        "2014-08-05  0.273865  1.841080 -0.037397  0.790998  0.743659\n",
        "2014-08-07 -0.404842  0.031088  0.255879  0.879667  0.478726\n",
        "2014-08-02 -0.794775 -1.023148 -0.744298  1.019617  0.671867\n",
        "2014-08-08 -1.054359 -0.162643  0.303053  1.438586  0.979570"
       ]
      }
     ],
     "prompt_number": 22
    },
    {
     "cell_type": "code",
     "collapsed": false,
     "input": [
      "df['Kedai A']             # Extract specific column (using python list syntax)"
     ],
     "language": "python",
     "metadata": {},
     "outputs": [
      {
       "metadata": {},
       "output_type": "pyout",
       "prompt_number": 23,
       "text": [
        "2014-08-01    0.241861\n",
        "2014-08-02   -0.794775\n",
        "2014-08-03    2.532557\n",
        "2014-08-04   -0.828003\n",
        "2014-08-05    0.273865\n",
        "2014-08-06    0.014689\n",
        "2014-08-07   -0.404842\n",
        "2014-08-08   -1.054359\n",
        "Freq: D, Name: Kedai A, dtype: float64"
       ]
      }
     ],
     "prompt_number": 23
    },
    {
     "cell_type": "code",
     "collapsed": false,
     "input": [
      "df['Kedai A'][2:4]        # Slicing specific column (using python list syntax)\n"
     ],
     "language": "python",
     "metadata": {},
     "outputs": [
      {
       "metadata": {},
       "output_type": "pyout",
       "prompt_number": 24,
       "text": [
        "2014-08-03    2.532557\n",
        "2014-08-04   -0.828003\n",
        "Freq: D, Name: Kedai A, dtype: float64"
       ]
      }
     ],
     "prompt_number": 24
    },
    {
     "cell_type": "code",
     "collapsed": false,
     "input": [
      "df[2:4]                   # Slicing specific row data  (using python list syntax)"
     ],
     "language": "python",
     "metadata": {},
     "outputs": [
      {
       "html": [
        "<div style=\"max-height:1000px;max-width:1500px;overflow:auto;\">\n",
        "<table border=\"1\" class=\"dataframe\">\n",
        "  <thead>\n",
        "    <tr style=\"text-align: right;\">\n",
        "      <th></th>\n",
        "      <th>Kedai A</th>\n",
        "      <th>Kedai B</th>\n",
        "      <th>Kedai C</th>\n",
        "      <th>Kedai D</th>\n",
        "      <th>Kedai E</th>\n",
        "    </tr>\n",
        "  </thead>\n",
        "  <tbody>\n",
        "    <tr>\n",
        "      <th>2014-08-03</th>\n",
        "      <td> 2.532557</td>\n",
        "      <td>-1.847136</td>\n",
        "      <td>-0.133496</td>\n",
        "      <td>-0.189440</td>\n",
        "      <td>-0.538676</td>\n",
        "    </tr>\n",
        "    <tr>\n",
        "      <th>2014-08-04</th>\n",
        "      <td>-0.828003</td>\n",
        "      <td> 1.195534</td>\n",
        "      <td>-0.746350</td>\n",
        "      <td>-1.629543</td>\n",
        "      <td>-1.053299</td>\n",
        "    </tr>\n",
        "  </tbody>\n",
        "</table>\n",
        "</div>"
       ],
       "metadata": {},
       "output_type": "pyout",
       "prompt_number": 25,
       "text": [
        "             Kedai A   Kedai B   Kedai C   Kedai D   Kedai E\n",
        "2014-08-03  2.532557 -1.847136 -0.133496 -0.189440 -0.538676\n",
        "2014-08-04 -0.828003  1.195534 -0.746350 -1.629543 -1.053299"
       ]
      }
     ],
     "prompt_number": 25
    },
    {
     "cell_type": "code",
     "collapsed": false,
     "input": [
      "# Slicing specific index range\n",
      "df['2014-08-03':'2014-08-05']       "
     ],
     "language": "python",
     "metadata": {},
     "outputs": [
      {
       "html": [
        "<div style=\"max-height:1000px;max-width:1500px;overflow:auto;\">\n",
        "<table border=\"1\" class=\"dataframe\">\n",
        "  <thead>\n",
        "    <tr style=\"text-align: right;\">\n",
        "      <th></th>\n",
        "      <th>Kedai A</th>\n",
        "      <th>Kedai B</th>\n",
        "      <th>Kedai C</th>\n",
        "      <th>Kedai D</th>\n",
        "      <th>Kedai E</th>\n",
        "    </tr>\n",
        "  </thead>\n",
        "  <tbody>\n",
        "    <tr>\n",
        "      <th>2014-08-03</th>\n",
        "      <td> 2.532557</td>\n",
        "      <td>-1.847136</td>\n",
        "      <td>-0.133496</td>\n",
        "      <td>-0.189440</td>\n",
        "      <td>-0.538676</td>\n",
        "    </tr>\n",
        "    <tr>\n",
        "      <th>2014-08-04</th>\n",
        "      <td>-0.828003</td>\n",
        "      <td> 1.195534</td>\n",
        "      <td>-0.746350</td>\n",
        "      <td>-1.629543</td>\n",
        "      <td>-1.053299</td>\n",
        "    </tr>\n",
        "    <tr>\n",
        "      <th>2014-08-05</th>\n",
        "      <td> 0.273865</td>\n",
        "      <td> 1.841080</td>\n",
        "      <td>-0.037397</td>\n",
        "      <td> 0.790998</td>\n",
        "      <td> 0.743659</td>\n",
        "    </tr>\n",
        "  </tbody>\n",
        "</table>\n",
        "</div>"
       ],
       "metadata": {},
       "output_type": "pyout",
       "prompt_number": 26,
       "text": [
        "             Kedai A   Kedai B   Kedai C   Kedai D   Kedai E\n",
        "2014-08-03  2.532557 -1.847136 -0.133496 -0.189440 -0.538676\n",
        "2014-08-04 -0.828003  1.195534 -0.746350 -1.629543 -1.053299\n",
        "2014-08-05  0.273865  1.841080 -0.037397  0.790998  0.743659"
       ]
      }
     ],
     "prompt_number": 26
    },
    {
     "cell_type": "code",
     "collapsed": false,
     "input": [
      "# Slicing specific index range for a particular column\n",
      "df['2014-08-03':'2014-08-05']['Kedai B']       "
     ],
     "language": "python",
     "metadata": {},
     "outputs": [
      {
       "metadata": {},
       "output_type": "pyout",
       "prompt_number": 27,
       "text": [
        "2014-08-03   -1.847136\n",
        "2014-08-04    1.195534\n",
        "2014-08-05    1.841080\n",
        "Freq: D, Name: Kedai B, dtype: float64"
       ]
      }
     ],
     "prompt_number": 27
    },
    {
     "cell_type": "code",
     "collapsed": false,
     "input": [
      "# Using the loc() function\n",
      "\n",
      "# Slicing specific index and column ranges\n",
      "df.loc['2014-08-03':'2014-08-05','Kedai B':'Kedai D']"
     ],
     "language": "python",
     "metadata": {},
     "outputs": [
      {
       "html": [
        "<div style=\"max-height:1000px;max-width:1500px;overflow:auto;\">\n",
        "<table border=\"1\" class=\"dataframe\">\n",
        "  <thead>\n",
        "    <tr style=\"text-align: right;\">\n",
        "      <th></th>\n",
        "      <th>Kedai B</th>\n",
        "      <th>Kedai C</th>\n",
        "      <th>Kedai D</th>\n",
        "    </tr>\n",
        "  </thead>\n",
        "  <tbody>\n",
        "    <tr>\n",
        "      <th>2014-08-03</th>\n",
        "      <td>-1.847136</td>\n",
        "      <td>-0.133496</td>\n",
        "      <td>-0.189440</td>\n",
        "    </tr>\n",
        "    <tr>\n",
        "      <th>2014-08-04</th>\n",
        "      <td> 1.195534</td>\n",
        "      <td>-0.746350</td>\n",
        "      <td>-1.629543</td>\n",
        "    </tr>\n",
        "    <tr>\n",
        "      <th>2014-08-05</th>\n",
        "      <td> 1.841080</td>\n",
        "      <td>-0.037397</td>\n",
        "      <td> 0.790998</td>\n",
        "    </tr>\n",
        "  </tbody>\n",
        "</table>\n",
        "</div>"
       ],
       "metadata": {},
       "output_type": "pyout",
       "prompt_number": 28,
       "text": [
        "             Kedai B   Kedai C   Kedai D\n",
        "2014-08-03 -1.847136 -0.133496 -0.189440\n",
        "2014-08-04  1.195534 -0.746350 -1.629543\n",
        "2014-08-05  1.841080 -0.037397  0.790998"
       ]
      }
     ],
     "prompt_number": 28
    },
    {
     "cell_type": "code",
     "collapsed": false,
     "input": [
      "# Slicing specific index range with specific column names\n",
      "df.loc['2014-08-03':'2014-08-05',['Kedai B','Kedai D']]"
     ],
     "language": "python",
     "metadata": {},
     "outputs": [
      {
       "html": [
        "<div style=\"max-height:1000px;max-width:1500px;overflow:auto;\">\n",
        "<table border=\"1\" class=\"dataframe\">\n",
        "  <thead>\n",
        "    <tr style=\"text-align: right;\">\n",
        "      <th></th>\n",
        "      <th>Kedai B</th>\n",
        "      <th>Kedai D</th>\n",
        "    </tr>\n",
        "  </thead>\n",
        "  <tbody>\n",
        "    <tr>\n",
        "      <th>2014-08-03</th>\n",
        "      <td>-1.847136</td>\n",
        "      <td>-0.189440</td>\n",
        "    </tr>\n",
        "    <tr>\n",
        "      <th>2014-08-04</th>\n",
        "      <td> 1.195534</td>\n",
        "      <td>-1.629543</td>\n",
        "    </tr>\n",
        "    <tr>\n",
        "      <th>2014-08-05</th>\n",
        "      <td> 1.841080</td>\n",
        "      <td> 0.790998</td>\n",
        "    </tr>\n",
        "  </tbody>\n",
        "</table>\n",
        "</div>"
       ],
       "metadata": {},
       "output_type": "pyout",
       "prompt_number": 29,
       "text": [
        "             Kedai B   Kedai D\n",
        "2014-08-03 -1.847136 -0.189440\n",
        "2014-08-04  1.195534 -1.629543\n",
        "2014-08-05  1.841080  0.790998"
       ]
      }
     ],
     "prompt_number": 29
    },
    {
     "cell_type": "code",
     "collapsed": false,
     "input": [
      "# Possibly not yet to have something like this\n",
      "\n",
      "df.loc[['2014-08-01','2014-08-03':'2014-08-05'],['Kedai B','Kedai D']]\n"
     ],
     "language": "python",
     "metadata": {},
     "outputs": [
      {
       "ename": "SyntaxError",
       "evalue": "invalid syntax (<ipython-input-31-2ec112cb4d27>, line 3)",
       "output_type": "pyerr",
       "traceback": [
        "\u001b[1;36m  File \u001b[1;32m\"<ipython-input-31-2ec112cb4d27>\"\u001b[1;36m, line \u001b[1;32m3\u001b[0m\n\u001b[1;33m    df.loc[['2014-08-01','2014-08-03':'2014-08-05'],['Kedai B','Kedai D']]\u001b[0m\n\u001b[1;37m                                     ^\u001b[0m\n\u001b[1;31mSyntaxError\u001b[0m\u001b[1;31m:\u001b[0m invalid syntax\n"
       ]
      }
     ],
     "prompt_number": 31
    },
    {
     "cell_type": "code",
     "collapsed": false,
     "input": [
      "# Using the iloc() function\n",
      "\n",
      "df.iloc[3]                 # Specific row location"
     ],
     "language": "python",
     "metadata": {},
     "outputs": [
      {
       "metadata": {},
       "output_type": "pyout",
       "prompt_number": 32,
       "text": [
        "Kedai A   -0.828003\n",
        "Kedai B    1.195534\n",
        "Kedai C   -0.746350\n",
        "Kedai D   -1.629543\n",
        "Kedai E   -1.053299\n",
        "Name: 2014-08-04 00:00:00, dtype: float64"
       ]
      }
     ],
     "prompt_number": 32
    },
    {
     "cell_type": "code",
     "collapsed": false,
     "input": [
      "df.iloc[:,3]               # Specific column location (all rows)"
     ],
     "language": "python",
     "metadata": {},
     "outputs": [
      {
       "metadata": {},
       "output_type": "pyout",
       "prompt_number": 33,
       "text": [
        "2014-08-01   -0.047270\n",
        "2014-08-02    1.019617\n",
        "2014-08-03   -0.189440\n",
        "2014-08-04   -1.629543\n",
        "2014-08-05    0.790998\n",
        "2014-08-06   -0.967009\n",
        "2014-08-07    0.879667\n",
        "2014-08-08    1.438586\n",
        "Freq: D, Name: Kedai D, dtype: float64"
       ]
      }
     ],
     "prompt_number": 33
    },
    {
     "cell_type": "code",
     "collapsed": false,
     "input": [
      "df.iloc[2:4,1:3]           # Python like slicing for range"
     ],
     "language": "python",
     "metadata": {},
     "outputs": [
      {
       "html": [
        "<div style=\"max-height:1000px;max-width:1500px;overflow:auto;\">\n",
        "<table border=\"1\" class=\"dataframe\">\n",
        "  <thead>\n",
        "    <tr style=\"text-align: right;\">\n",
        "      <th></th>\n",
        "      <th>Kedai B</th>\n",
        "      <th>Kedai C</th>\n",
        "    </tr>\n",
        "  </thead>\n",
        "  <tbody>\n",
        "    <tr>\n",
        "      <th>2014-08-03</th>\n",
        "      <td>-1.847136</td>\n",
        "      <td>-0.133496</td>\n",
        "    </tr>\n",
        "    <tr>\n",
        "      <th>2014-08-04</th>\n",
        "      <td> 1.195534</td>\n",
        "      <td>-0.746350</td>\n",
        "    </tr>\n",
        "  </tbody>\n",
        "</table>\n",
        "</div>"
       ],
       "metadata": {},
       "output_type": "pyout",
       "prompt_number": 34,
       "text": [
        "             Kedai B   Kedai C\n",
        "2014-08-03 -1.847136 -0.133496\n",
        "2014-08-04  1.195534 -0.746350"
       ]
      }
     ],
     "prompt_number": 34
    },
    {
     "cell_type": "code",
     "collapsed": false,
     "input": [
      "df.iloc[[2,4],[1,3]]        # Slicing with python like list"
     ],
     "language": "python",
     "metadata": {},
     "outputs": [
      {
       "html": [
        "<div style=\"max-height:1000px;max-width:1500px;overflow:auto;\">\n",
        "<table border=\"1\" class=\"dataframe\">\n",
        "  <thead>\n",
        "    <tr style=\"text-align: right;\">\n",
        "      <th></th>\n",
        "      <th>Kedai B</th>\n",
        "      <th>Kedai D</th>\n",
        "    </tr>\n",
        "  </thead>\n",
        "  <tbody>\n",
        "    <tr>\n",
        "      <th>2014-08-03</th>\n",
        "      <td>-1.847136</td>\n",
        "      <td>-0.189440</td>\n",
        "    </tr>\n",
        "    <tr>\n",
        "      <th>2014-08-05</th>\n",
        "      <td> 1.841080</td>\n",
        "      <td> 0.790998</td>\n",
        "    </tr>\n",
        "  </tbody>\n",
        "</table>\n",
        "</div>"
       ],
       "metadata": {},
       "output_type": "pyout",
       "prompt_number": 35,
       "text": [
        "             Kedai B   Kedai D\n",
        "2014-08-03 -1.847136 -0.189440\n",
        "2014-08-05  1.841080  0.790998"
       ]
      }
     ],
     "prompt_number": 35
    },
    {
     "cell_type": "code",
     "collapsed": false,
     "input": [
      "# Conditionals on the data\n",
      "\n",
      "df>0                        # Array values > 0 OR"
     ],
     "language": "python",
     "metadata": {},
     "outputs": [
      {
       "html": [
        "<div style=\"max-height:1000px;max-width:1500px;overflow:auto;\">\n",
        "<table border=\"1\" class=\"dataframe\">\n",
        "  <thead>\n",
        "    <tr style=\"text-align: right;\">\n",
        "      <th></th>\n",
        "      <th>Kedai A</th>\n",
        "      <th>Kedai B</th>\n",
        "      <th>Kedai C</th>\n",
        "      <th>Kedai D</th>\n",
        "      <th>Kedai E</th>\n",
        "    </tr>\n",
        "  </thead>\n",
        "  <tbody>\n",
        "    <tr>\n",
        "      <th>2014-08-01</th>\n",
        "      <td>  True</td>\n",
        "      <td>  True</td>\n",
        "      <td>  True</td>\n",
        "      <td> False</td>\n",
        "      <td>  True</td>\n",
        "    </tr>\n",
        "    <tr>\n",
        "      <th>2014-08-02</th>\n",
        "      <td> False</td>\n",
        "      <td> False</td>\n",
        "      <td> False</td>\n",
        "      <td>  True</td>\n",
        "      <td>  True</td>\n",
        "    </tr>\n",
        "    <tr>\n",
        "      <th>2014-08-03</th>\n",
        "      <td>  True</td>\n",
        "      <td> False</td>\n",
        "      <td> False</td>\n",
        "      <td> False</td>\n",
        "      <td> False</td>\n",
        "    </tr>\n",
        "    <tr>\n",
        "      <th>2014-08-04</th>\n",
        "      <td> False</td>\n",
        "      <td>  True</td>\n",
        "      <td> False</td>\n",
        "      <td> False</td>\n",
        "      <td> False</td>\n",
        "    </tr>\n",
        "    <tr>\n",
        "      <th>2014-08-05</th>\n",
        "      <td>  True</td>\n",
        "      <td>  True</td>\n",
        "      <td> False</td>\n",
        "      <td>  True</td>\n",
        "      <td>  True</td>\n",
        "    </tr>\n",
        "    <tr>\n",
        "      <th>2014-08-06</th>\n",
        "      <td>  True</td>\n",
        "      <td>  True</td>\n",
        "      <td> False</td>\n",
        "      <td> False</td>\n",
        "      <td> False</td>\n",
        "    </tr>\n",
        "    <tr>\n",
        "      <th>2014-08-07</th>\n",
        "      <td> False</td>\n",
        "      <td>  True</td>\n",
        "      <td>  True</td>\n",
        "      <td>  True</td>\n",
        "      <td>  True</td>\n",
        "    </tr>\n",
        "    <tr>\n",
        "      <th>2014-08-08</th>\n",
        "      <td> False</td>\n",
        "      <td> False</td>\n",
        "      <td>  True</td>\n",
        "      <td>  True</td>\n",
        "      <td>  True</td>\n",
        "    </tr>\n",
        "  </tbody>\n",
        "</table>\n",
        "</div>"
       ],
       "metadata": {},
       "output_type": "pyout",
       "prompt_number": 36,
       "text": [
        "           Kedai A Kedai B Kedai C Kedai D Kedai E\n",
        "2014-08-01    True    True    True   False    True\n",
        "2014-08-02   False   False   False    True    True\n",
        "2014-08-03    True   False   False   False   False\n",
        "2014-08-04   False    True   False   False   False\n",
        "2014-08-05    True    True   False    True    True\n",
        "2014-08-06    True    True   False   False   False\n",
        "2014-08-07   False    True    True    True    True\n",
        "2014-08-08   False   False    True    True    True"
       ]
      }
     ],
     "prompt_number": 36
    },
    {
     "cell_type": "code",
     "collapsed": false,
     "input": [
      "df[df>0]                    # Directly getting the value"
     ],
     "language": "python",
     "metadata": {},
     "outputs": [
      {
       "html": [
        "<div style=\"max-height:1000px;max-width:1500px;overflow:auto;\">\n",
        "<table border=\"1\" class=\"dataframe\">\n",
        "  <thead>\n",
        "    <tr style=\"text-align: right;\">\n",
        "      <th></th>\n",
        "      <th>Kedai A</th>\n",
        "      <th>Kedai B</th>\n",
        "      <th>Kedai C</th>\n",
        "      <th>Kedai D</th>\n",
        "      <th>Kedai E</th>\n",
        "    </tr>\n",
        "  </thead>\n",
        "  <tbody>\n",
        "    <tr>\n",
        "      <th>2014-08-01</th>\n",
        "      <td> 0.241861</td>\n",
        "      <td> 1.131037</td>\n",
        "      <td> 0.421857</td>\n",
        "      <td>      NaN</td>\n",
        "      <td> 1.635734</td>\n",
        "    </tr>\n",
        "    <tr>\n",
        "      <th>2014-08-02</th>\n",
        "      <td>      NaN</td>\n",
        "      <td>      NaN</td>\n",
        "      <td>      NaN</td>\n",
        "      <td> 1.019617</td>\n",
        "      <td> 0.671867</td>\n",
        "    </tr>\n",
        "    <tr>\n",
        "      <th>2014-08-03</th>\n",
        "      <td> 2.532557</td>\n",
        "      <td>      NaN</td>\n",
        "      <td>      NaN</td>\n",
        "      <td>      NaN</td>\n",
        "      <td>      NaN</td>\n",
        "    </tr>\n",
        "    <tr>\n",
        "      <th>2014-08-04</th>\n",
        "      <td>      NaN</td>\n",
        "      <td> 1.195534</td>\n",
        "      <td>      NaN</td>\n",
        "      <td>      NaN</td>\n",
        "      <td>      NaN</td>\n",
        "    </tr>\n",
        "    <tr>\n",
        "      <th>2014-08-05</th>\n",
        "      <td> 0.273865</td>\n",
        "      <td> 1.841080</td>\n",
        "      <td>      NaN</td>\n",
        "      <td> 0.790998</td>\n",
        "      <td> 0.743659</td>\n",
        "    </tr>\n",
        "    <tr>\n",
        "      <th>2014-08-06</th>\n",
        "      <td> 0.014689</td>\n",
        "      <td> 1.178593</td>\n",
        "      <td>      NaN</td>\n",
        "      <td>      NaN</td>\n",
        "      <td>      NaN</td>\n",
        "    </tr>\n",
        "    <tr>\n",
        "      <th>2014-08-07</th>\n",
        "      <td>      NaN</td>\n",
        "      <td> 0.031088</td>\n",
        "      <td> 0.255879</td>\n",
        "      <td> 0.879667</td>\n",
        "      <td> 0.478726</td>\n",
        "    </tr>\n",
        "    <tr>\n",
        "      <th>2014-08-08</th>\n",
        "      <td>      NaN</td>\n",
        "      <td>      NaN</td>\n",
        "      <td> 0.303053</td>\n",
        "      <td> 1.438586</td>\n",
        "      <td> 0.979570</td>\n",
        "    </tr>\n",
        "  </tbody>\n",
        "</table>\n",
        "</div>"
       ],
       "metadata": {},
       "output_type": "pyout",
       "prompt_number": 37,
       "text": [
        "             Kedai A   Kedai B   Kedai C   Kedai D   Kedai E\n",
        "2014-08-01  0.241861  1.131037  0.421857       NaN  1.635734\n",
        "2014-08-02       NaN       NaN       NaN  1.019617  0.671867\n",
        "2014-08-03  2.532557       NaN       NaN       NaN       NaN\n",
        "2014-08-04       NaN  1.195534       NaN       NaN       NaN\n",
        "2014-08-05  0.273865  1.841080       NaN  0.790998  0.743659\n",
        "2014-08-06  0.014689  1.178593       NaN       NaN       NaN\n",
        "2014-08-07       NaN  0.031088  0.255879  0.879667  0.478726\n",
        "2014-08-08       NaN       NaN  0.303053  1.438586  0.979570"
       ]
      }
     ],
     "prompt_number": 37
    },
    {
     "cell_type": "markdown",
     "metadata": {},
     "source": [
      "**_NaN_** means empty, missing data or unavailable."
     ]
    },
    {
     "cell_type": "code",
     "collapsed": false,
     "input": [
      "df[df['Kedai B']<0]           # With reference to specific value in a column (e.g. Kedai B)"
     ],
     "language": "python",
     "metadata": {},
     "outputs": [
      {
       "html": [
        "<div style=\"max-height:1000px;max-width:1500px;overflow:auto;\">\n",
        "<table border=\"1\" class=\"dataframe\">\n",
        "  <thead>\n",
        "    <tr style=\"text-align: right;\">\n",
        "      <th></th>\n",
        "      <th>Kedai A</th>\n",
        "      <th>Kedai B</th>\n",
        "      <th>Kedai C</th>\n",
        "      <th>Kedai D</th>\n",
        "      <th>Kedai E</th>\n",
        "    </tr>\n",
        "  </thead>\n",
        "  <tbody>\n",
        "    <tr>\n",
        "      <th>2014-08-02</th>\n",
        "      <td>-0.794775</td>\n",
        "      <td>-1.023148</td>\n",
        "      <td>-0.744298</td>\n",
        "      <td> 1.019617</td>\n",
        "      <td> 0.671867</td>\n",
        "    </tr>\n",
        "    <tr>\n",
        "      <th>2014-08-03</th>\n",
        "      <td> 2.532557</td>\n",
        "      <td>-1.847136</td>\n",
        "      <td>-0.133496</td>\n",
        "      <td>-0.189440</td>\n",
        "      <td>-0.538676</td>\n",
        "    </tr>\n",
        "    <tr>\n",
        "      <th>2014-08-08</th>\n",
        "      <td>-1.054359</td>\n",
        "      <td>-0.162643</td>\n",
        "      <td> 0.303053</td>\n",
        "      <td> 1.438586</td>\n",
        "      <td> 0.979570</td>\n",
        "    </tr>\n",
        "  </tbody>\n",
        "</table>\n",
        "</div>"
       ],
       "metadata": {},
       "output_type": "pyout",
       "prompt_number": 38,
       "text": [
        "             Kedai A   Kedai B   Kedai C   Kedai D   Kedai E\n",
        "2014-08-02 -0.794775 -1.023148 -0.744298  1.019617  0.671867\n",
        "2014-08-03  2.532557 -1.847136 -0.133496 -0.189440 -0.538676\n",
        "2014-08-08 -1.054359 -0.162643  0.303053  1.438586  0.979570"
       ]
      }
     ],
     "prompt_number": 38
    },
    {
     "cell_type": "code",
     "collapsed": false,
     "input": [
      "df2 = df.copy()             # Made a copy of a database"
     ],
     "language": "python",
     "metadata": {},
     "outputs": [],
     "prompt_number": 39
    },
    {
     "cell_type": "code",
     "collapsed": false,
     "input": [
      "df2"
     ],
     "language": "python",
     "metadata": {},
     "outputs": [
      {
       "html": [
        "<div style=\"max-height:1000px;max-width:1500px;overflow:auto;\">\n",
        "<table border=\"1\" class=\"dataframe\">\n",
        "  <thead>\n",
        "    <tr style=\"text-align: right;\">\n",
        "      <th></th>\n",
        "      <th>Kedai A</th>\n",
        "      <th>Kedai B</th>\n",
        "      <th>Kedai C</th>\n",
        "      <th>Kedai D</th>\n",
        "      <th>Kedai E</th>\n",
        "    </tr>\n",
        "  </thead>\n",
        "  <tbody>\n",
        "    <tr>\n",
        "      <th>2014-08-01</th>\n",
        "      <td> 0.241861</td>\n",
        "      <td> 1.131037</td>\n",
        "      <td> 0.421857</td>\n",
        "      <td>-0.047270</td>\n",
        "      <td> 1.635734</td>\n",
        "    </tr>\n",
        "    <tr>\n",
        "      <th>2014-08-02</th>\n",
        "      <td>-0.794775</td>\n",
        "      <td>-1.023148</td>\n",
        "      <td>-0.744298</td>\n",
        "      <td> 1.019617</td>\n",
        "      <td> 0.671867</td>\n",
        "    </tr>\n",
        "    <tr>\n",
        "      <th>2014-08-03</th>\n",
        "      <td> 2.532557</td>\n",
        "      <td>-1.847136</td>\n",
        "      <td>-0.133496</td>\n",
        "      <td>-0.189440</td>\n",
        "      <td>-0.538676</td>\n",
        "    </tr>\n",
        "    <tr>\n",
        "      <th>2014-08-04</th>\n",
        "      <td>-0.828003</td>\n",
        "      <td> 1.195534</td>\n",
        "      <td>-0.746350</td>\n",
        "      <td>-1.629543</td>\n",
        "      <td>-1.053299</td>\n",
        "    </tr>\n",
        "    <tr>\n",
        "      <th>2014-08-05</th>\n",
        "      <td> 0.273865</td>\n",
        "      <td> 1.841080</td>\n",
        "      <td>-0.037397</td>\n",
        "      <td> 0.790998</td>\n",
        "      <td> 0.743659</td>\n",
        "    </tr>\n",
        "    <tr>\n",
        "      <th>2014-08-06</th>\n",
        "      <td> 0.014689</td>\n",
        "      <td> 1.178593</td>\n",
        "      <td>-0.698372</td>\n",
        "      <td>-0.967009</td>\n",
        "      <td>-1.247738</td>\n",
        "    </tr>\n",
        "    <tr>\n",
        "      <th>2014-08-07</th>\n",
        "      <td>-0.404842</td>\n",
        "      <td> 0.031088</td>\n",
        "      <td> 0.255879</td>\n",
        "      <td> 0.879667</td>\n",
        "      <td> 0.478726</td>\n",
        "    </tr>\n",
        "    <tr>\n",
        "      <th>2014-08-08</th>\n",
        "      <td>-1.054359</td>\n",
        "      <td>-0.162643</td>\n",
        "      <td> 0.303053</td>\n",
        "      <td> 1.438586</td>\n",
        "      <td> 0.979570</td>\n",
        "    </tr>\n",
        "  </tbody>\n",
        "</table>\n",
        "</div>"
       ],
       "metadata": {},
       "output_type": "pyout",
       "prompt_number": 40,
       "text": [
        "             Kedai A   Kedai B   Kedai C   Kedai D   Kedai E\n",
        "2014-08-01  0.241861  1.131037  0.421857 -0.047270  1.635734\n",
        "2014-08-02 -0.794775 -1.023148 -0.744298  1.019617  0.671867\n",
        "2014-08-03  2.532557 -1.847136 -0.133496 -0.189440 -0.538676\n",
        "2014-08-04 -0.828003  1.195534 -0.746350 -1.629543 -1.053299\n",
        "2014-08-05  0.273865  1.841080 -0.037397  0.790998  0.743659\n",
        "2014-08-06  0.014689  1.178593 -0.698372 -0.967009 -1.247738\n",
        "2014-08-07 -0.404842  0.031088  0.255879  0.879667  0.478726\n",
        "2014-08-08 -1.054359 -0.162643  0.303053  1.438586  0.979570"
       ]
      }
     ],
     "prompt_number": 40
    },
    {
     "cell_type": "code",
     "collapsed": false,
     "input": [
      "# Adding column\n",
      "\n",
      "df2['Tambah'] = ['satu','satu','dua','tiga','empat','tiga','lima','enam'] "
     ],
     "language": "python",
     "metadata": {},
     "outputs": [],
     "prompt_number": 41
    },
    {
     "cell_type": "code",
     "collapsed": false,
     "input": [
      "df2"
     ],
     "language": "python",
     "metadata": {},
     "outputs": [
      {
       "html": [
        "<div style=\"max-height:1000px;max-width:1500px;overflow:auto;\">\n",
        "<table border=\"1\" class=\"dataframe\">\n",
        "  <thead>\n",
        "    <tr style=\"text-align: right;\">\n",
        "      <th></th>\n",
        "      <th>Kedai A</th>\n",
        "      <th>Kedai B</th>\n",
        "      <th>Kedai C</th>\n",
        "      <th>Kedai D</th>\n",
        "      <th>Kedai E</th>\n",
        "      <th>Tambah</th>\n",
        "    </tr>\n",
        "  </thead>\n",
        "  <tbody>\n",
        "    <tr>\n",
        "      <th>2014-08-01</th>\n",
        "      <td> 0.241861</td>\n",
        "      <td> 1.131037</td>\n",
        "      <td> 0.421857</td>\n",
        "      <td>-0.047270</td>\n",
        "      <td> 1.635734</td>\n",
        "      <td>  satu</td>\n",
        "    </tr>\n",
        "    <tr>\n",
        "      <th>2014-08-02</th>\n",
        "      <td>-0.794775</td>\n",
        "      <td>-1.023148</td>\n",
        "      <td>-0.744298</td>\n",
        "      <td> 1.019617</td>\n",
        "      <td> 0.671867</td>\n",
        "      <td>  satu</td>\n",
        "    </tr>\n",
        "    <tr>\n",
        "      <th>2014-08-03</th>\n",
        "      <td> 2.532557</td>\n",
        "      <td>-1.847136</td>\n",
        "      <td>-0.133496</td>\n",
        "      <td>-0.189440</td>\n",
        "      <td>-0.538676</td>\n",
        "      <td>   dua</td>\n",
        "    </tr>\n",
        "    <tr>\n",
        "      <th>2014-08-04</th>\n",
        "      <td>-0.828003</td>\n",
        "      <td> 1.195534</td>\n",
        "      <td>-0.746350</td>\n",
        "      <td>-1.629543</td>\n",
        "      <td>-1.053299</td>\n",
        "      <td>  tiga</td>\n",
        "    </tr>\n",
        "    <tr>\n",
        "      <th>2014-08-05</th>\n",
        "      <td> 0.273865</td>\n",
        "      <td> 1.841080</td>\n",
        "      <td>-0.037397</td>\n",
        "      <td> 0.790998</td>\n",
        "      <td> 0.743659</td>\n",
        "      <td> empat</td>\n",
        "    </tr>\n",
        "    <tr>\n",
        "      <th>2014-08-06</th>\n",
        "      <td> 0.014689</td>\n",
        "      <td> 1.178593</td>\n",
        "      <td>-0.698372</td>\n",
        "      <td>-0.967009</td>\n",
        "      <td>-1.247738</td>\n",
        "      <td>  tiga</td>\n",
        "    </tr>\n",
        "    <tr>\n",
        "      <th>2014-08-07</th>\n",
        "      <td>-0.404842</td>\n",
        "      <td> 0.031088</td>\n",
        "      <td> 0.255879</td>\n",
        "      <td> 0.879667</td>\n",
        "      <td> 0.478726</td>\n",
        "      <td>  lima</td>\n",
        "    </tr>\n",
        "    <tr>\n",
        "      <th>2014-08-08</th>\n",
        "      <td>-1.054359</td>\n",
        "      <td>-0.162643</td>\n",
        "      <td> 0.303053</td>\n",
        "      <td> 1.438586</td>\n",
        "      <td> 0.979570</td>\n",
        "      <td>  enam</td>\n",
        "    </tr>\n",
        "  </tbody>\n",
        "</table>\n",
        "</div>"
       ],
       "metadata": {},
       "output_type": "pyout",
       "prompt_number": 42,
       "text": [
        "             Kedai A   Kedai B   Kedai C   Kedai D   Kedai E Tambah\n",
        "2014-08-01  0.241861  1.131037  0.421857 -0.047270  1.635734   satu\n",
        "2014-08-02 -0.794775 -1.023148 -0.744298  1.019617  0.671867   satu\n",
        "2014-08-03  2.532557 -1.847136 -0.133496 -0.189440 -0.538676    dua\n",
        "2014-08-04 -0.828003  1.195534 -0.746350 -1.629543 -1.053299   tiga\n",
        "2014-08-05  0.273865  1.841080 -0.037397  0.790998  0.743659  empat\n",
        "2014-08-06  0.014689  1.178593 -0.698372 -0.967009 -1.247738   tiga\n",
        "2014-08-07 -0.404842  0.031088  0.255879  0.879667  0.478726   lima\n",
        "2014-08-08 -1.054359 -0.162643  0.303053  1.438586  0.979570   enam"
       ]
      }
     ],
     "prompt_number": 42
    },
    {
     "cell_type": "code",
     "collapsed": false,
     "input": [
      "# Adding row using loc() function\n",
      "\n",
      "# Assign a new name to the new row (with the same format)\n",
      "new_row_name = pd.date_range('20140809', periods = 1, freq = 'D')\n",
      "\n",
      "# Appending new row with new data\n",
      "df2.loc[10] = list(np.random.randn(5))+['sembilan']\n",
      "\n",
      "# Renaming the new row (here actually is a reassignment)\n",
      "df2 = df2.rename(index={10: new_row_name[0]})\n",
      "df2"
     ],
     "language": "python",
     "metadata": {},
     "outputs": [
      {
       "html": [
        "<div style=\"max-height:1000px;max-width:1500px;overflow:auto;\">\n",
        "<table border=\"1\" class=\"dataframe\">\n",
        "  <thead>\n",
        "    <tr style=\"text-align: right;\">\n",
        "      <th></th>\n",
        "      <th>Kedai A</th>\n",
        "      <th>Kedai B</th>\n",
        "      <th>Kedai C</th>\n",
        "      <th>Kedai D</th>\n",
        "      <th>Kedai E</th>\n",
        "      <th>Tambah</th>\n",
        "    </tr>\n",
        "  </thead>\n",
        "  <tbody>\n",
        "    <tr>\n",
        "      <th>2014-08-01</th>\n",
        "      <td> 0.241861</td>\n",
        "      <td> 1.131037</td>\n",
        "      <td> 0.421857</td>\n",
        "      <td>-0.047270</td>\n",
        "      <td> 1.635734</td>\n",
        "      <td>     satu</td>\n",
        "    </tr>\n",
        "    <tr>\n",
        "      <th>2014-08-02</th>\n",
        "      <td>-0.794775</td>\n",
        "      <td>-1.023148</td>\n",
        "      <td>-0.744298</td>\n",
        "      <td> 1.019617</td>\n",
        "      <td> 0.671867</td>\n",
        "      <td>     satu</td>\n",
        "    </tr>\n",
        "    <tr>\n",
        "      <th>2014-08-03</th>\n",
        "      <td> 2.532557</td>\n",
        "      <td>-1.847136</td>\n",
        "      <td>-0.133496</td>\n",
        "      <td>-0.189440</td>\n",
        "      <td>-0.538676</td>\n",
        "      <td>      dua</td>\n",
        "    </tr>\n",
        "    <tr>\n",
        "      <th>2014-08-04</th>\n",
        "      <td>-0.828003</td>\n",
        "      <td> 1.195534</td>\n",
        "      <td>-0.746350</td>\n",
        "      <td>-1.629543</td>\n",
        "      <td>-1.053299</td>\n",
        "      <td>     tiga</td>\n",
        "    </tr>\n",
        "    <tr>\n",
        "      <th>2014-08-05</th>\n",
        "      <td> 0.273865</td>\n",
        "      <td> 1.841080</td>\n",
        "      <td>-0.037397</td>\n",
        "      <td> 0.790998</td>\n",
        "      <td> 0.743659</td>\n",
        "      <td>    empat</td>\n",
        "    </tr>\n",
        "    <tr>\n",
        "      <th>2014-08-06</th>\n",
        "      <td> 0.014689</td>\n",
        "      <td> 1.178593</td>\n",
        "      <td>-0.698372</td>\n",
        "      <td>-0.967009</td>\n",
        "      <td>-1.247738</td>\n",
        "      <td>     tiga</td>\n",
        "    </tr>\n",
        "    <tr>\n",
        "      <th>2014-08-07</th>\n",
        "      <td>-0.404842</td>\n",
        "      <td> 0.031088</td>\n",
        "      <td> 0.255879</td>\n",
        "      <td> 0.879667</td>\n",
        "      <td> 0.478726</td>\n",
        "      <td>     lima</td>\n",
        "    </tr>\n",
        "    <tr>\n",
        "      <th>2014-08-08</th>\n",
        "      <td>-1.054359</td>\n",
        "      <td>-0.162643</td>\n",
        "      <td> 0.303053</td>\n",
        "      <td> 1.438586</td>\n",
        "      <td> 0.979570</td>\n",
        "      <td>     enam</td>\n",
        "    </tr>\n",
        "    <tr>\n",
        "      <th>2014-08-09</th>\n",
        "      <td>-0.616304</td>\n",
        "      <td> 0.033479</td>\n",
        "      <td>-1.294417</td>\n",
        "      <td>-0.872724</td>\n",
        "      <td>-0.757560</td>\n",
        "      <td> sembilan</td>\n",
        "    </tr>\n",
        "  </tbody>\n",
        "</table>\n",
        "</div>"
       ],
       "metadata": {},
       "output_type": "pyout",
       "prompt_number": 43,
       "text": [
        "             Kedai A   Kedai B   Kedai C   Kedai D   Kedai E    Tambah\n",
        "2014-08-01  0.241861  1.131037  0.421857 -0.047270  1.635734      satu\n",
        "2014-08-02 -0.794775 -1.023148 -0.744298  1.019617  0.671867      satu\n",
        "2014-08-03  2.532557 -1.847136 -0.133496 -0.189440 -0.538676       dua\n",
        "2014-08-04 -0.828003  1.195534 -0.746350 -1.629543 -1.053299      tiga\n",
        "2014-08-05  0.273865  1.841080 -0.037397  0.790998  0.743659     empat\n",
        "2014-08-06  0.014689  1.178593 -0.698372 -0.967009 -1.247738      tiga\n",
        "2014-08-07 -0.404842  0.031088  0.255879  0.879667  0.478726      lima\n",
        "2014-08-08 -1.054359 -0.162643  0.303053  1.438586  0.979570      enam\n",
        "2014-08-09 -0.616304  0.033479 -1.294417 -0.872724 -0.757560  sembilan"
       ]
      }
     ],
     "prompt_number": 43
    },
    {
     "cell_type": "code",
     "collapsed": false,
     "input": [
      "# Assigning new data to a row\n",
      "df2.loc['2014-08-05'] = list(np.random.randn(5))+['tujuh']\n",
      "df2"
     ],
     "language": "python",
     "metadata": {},
     "outputs": [
      {
       "html": [
        "<div style=\"max-height:1000px;max-width:1500px;overflow:auto;\">\n",
        "<table border=\"1\" class=\"dataframe\">\n",
        "  <thead>\n",
        "    <tr style=\"text-align: right;\">\n",
        "      <th></th>\n",
        "      <th>Kedai A</th>\n",
        "      <th>Kedai B</th>\n",
        "      <th>Kedai C</th>\n",
        "      <th>Kedai D</th>\n",
        "      <th>Kedai E</th>\n",
        "      <th>Tambah</th>\n",
        "    </tr>\n",
        "  </thead>\n",
        "  <tbody>\n",
        "    <tr>\n",
        "      <th>2014-08-01</th>\n",
        "      <td> 0.241861</td>\n",
        "      <td> 1.131037</td>\n",
        "      <td> 0.421857</td>\n",
        "      <td>-0.047270</td>\n",
        "      <td> 1.635734</td>\n",
        "      <td>     satu</td>\n",
        "    </tr>\n",
        "    <tr>\n",
        "      <th>2014-08-02</th>\n",
        "      <td>-0.794775</td>\n",
        "      <td>-1.023148</td>\n",
        "      <td>-0.744298</td>\n",
        "      <td> 1.019617</td>\n",
        "      <td> 0.671867</td>\n",
        "      <td>     satu</td>\n",
        "    </tr>\n",
        "    <tr>\n",
        "      <th>2014-08-03</th>\n",
        "      <td> 2.532557</td>\n",
        "      <td>-1.847136</td>\n",
        "      <td>-0.133496</td>\n",
        "      <td>-0.189440</td>\n",
        "      <td>-0.538676</td>\n",
        "      <td>      dua</td>\n",
        "    </tr>\n",
        "    <tr>\n",
        "      <th>2014-08-04</th>\n",
        "      <td>-0.828003</td>\n",
        "      <td> 1.195534</td>\n",
        "      <td>-0.746350</td>\n",
        "      <td>-1.629543</td>\n",
        "      <td>-1.053299</td>\n",
        "      <td>     tiga</td>\n",
        "    </tr>\n",
        "    <tr>\n",
        "      <th>2014-08-05</th>\n",
        "      <td>-1.271626</td>\n",
        "      <td> 0.249836</td>\n",
        "      <td> 0.584449</td>\n",
        "      <td>-0.998712</td>\n",
        "      <td>-0.647961</td>\n",
        "      <td>    tujuh</td>\n",
        "    </tr>\n",
        "    <tr>\n",
        "      <th>2014-08-06</th>\n",
        "      <td> 0.014689</td>\n",
        "      <td> 1.178593</td>\n",
        "      <td>-0.698372</td>\n",
        "      <td>-0.967009</td>\n",
        "      <td>-1.247738</td>\n",
        "      <td>     tiga</td>\n",
        "    </tr>\n",
        "    <tr>\n",
        "      <th>2014-08-07</th>\n",
        "      <td>-0.404842</td>\n",
        "      <td> 0.031088</td>\n",
        "      <td> 0.255879</td>\n",
        "      <td> 0.879667</td>\n",
        "      <td> 0.478726</td>\n",
        "      <td>     lima</td>\n",
        "    </tr>\n",
        "    <tr>\n",
        "      <th>2014-08-08</th>\n",
        "      <td>-1.054359</td>\n",
        "      <td>-0.162643</td>\n",
        "      <td> 0.303053</td>\n",
        "      <td> 1.438586</td>\n",
        "      <td> 0.979570</td>\n",
        "      <td>     enam</td>\n",
        "    </tr>\n",
        "    <tr>\n",
        "      <th>2014-08-09</th>\n",
        "      <td>-0.616304</td>\n",
        "      <td> 0.033479</td>\n",
        "      <td>-1.294417</td>\n",
        "      <td>-0.872724</td>\n",
        "      <td>-0.757560</td>\n",
        "      <td> sembilan</td>\n",
        "    </tr>\n",
        "  </tbody>\n",
        "</table>\n",
        "</div>"
       ],
       "metadata": {},
       "output_type": "pyout",
       "prompt_number": 44,
       "text": [
        "             Kedai A   Kedai B   Kedai C   Kedai D   Kedai E    Tambah\n",
        "2014-08-01  0.241861  1.131037  0.421857 -0.047270  1.635734      satu\n",
        "2014-08-02 -0.794775 -1.023148 -0.744298  1.019617  0.671867      satu\n",
        "2014-08-03  2.532557 -1.847136 -0.133496 -0.189440 -0.538676       dua\n",
        "2014-08-04 -0.828003  1.195534 -0.746350 -1.629543 -1.053299      tiga\n",
        "2014-08-05 -1.271626  0.249836  0.584449 -0.998712 -0.647961     tujuh\n",
        "2014-08-06  0.014689  1.178593 -0.698372 -0.967009 -1.247738      tiga\n",
        "2014-08-07 -0.404842  0.031088  0.255879  0.879667  0.478726      lima\n",
        "2014-08-08 -1.054359 -0.162643  0.303053  1.438586  0.979570      enam\n",
        "2014-08-09 -0.616304  0.033479 -1.294417 -0.872724 -0.757560  sembilan"
       ]
      }
     ],
     "prompt_number": 44
    },
    {
     "cell_type": "code",
     "collapsed": false,
     "input": [
      "# Assigning new data to a specific element\n",
      "df2.loc['2014-08-05','Tambah'] = 'lapan'\n",
      "df2"
     ],
     "language": "python",
     "metadata": {},
     "outputs": [
      {
       "html": [
        "<div style=\"max-height:1000px;max-width:1500px;overflow:auto;\">\n",
        "<table border=\"1\" class=\"dataframe\">\n",
        "  <thead>\n",
        "    <tr style=\"text-align: right;\">\n",
        "      <th></th>\n",
        "      <th>Kedai A</th>\n",
        "      <th>Kedai B</th>\n",
        "      <th>Kedai C</th>\n",
        "      <th>Kedai D</th>\n",
        "      <th>Kedai E</th>\n",
        "      <th>Tambah</th>\n",
        "    </tr>\n",
        "  </thead>\n",
        "  <tbody>\n",
        "    <tr>\n",
        "      <th>2014-08-01</th>\n",
        "      <td> 0.241861</td>\n",
        "      <td> 1.131037</td>\n",
        "      <td> 0.421857</td>\n",
        "      <td>-0.047270</td>\n",
        "      <td> 1.635734</td>\n",
        "      <td>     satu</td>\n",
        "    </tr>\n",
        "    <tr>\n",
        "      <th>2014-08-02</th>\n",
        "      <td>-0.794775</td>\n",
        "      <td>-1.023148</td>\n",
        "      <td>-0.744298</td>\n",
        "      <td> 1.019617</td>\n",
        "      <td> 0.671867</td>\n",
        "      <td>     satu</td>\n",
        "    </tr>\n",
        "    <tr>\n",
        "      <th>2014-08-03</th>\n",
        "      <td> 2.532557</td>\n",
        "      <td>-1.847136</td>\n",
        "      <td>-0.133496</td>\n",
        "      <td>-0.189440</td>\n",
        "      <td>-0.538676</td>\n",
        "      <td>      dua</td>\n",
        "    </tr>\n",
        "    <tr>\n",
        "      <th>2014-08-04</th>\n",
        "      <td>-0.828003</td>\n",
        "      <td> 1.195534</td>\n",
        "      <td>-0.746350</td>\n",
        "      <td>-1.629543</td>\n",
        "      <td>-1.053299</td>\n",
        "      <td>     tiga</td>\n",
        "    </tr>\n",
        "    <tr>\n",
        "      <th>2014-08-05</th>\n",
        "      <td>-1.271626</td>\n",
        "      <td> 0.249836</td>\n",
        "      <td> 0.584449</td>\n",
        "      <td>-0.998712</td>\n",
        "      <td>-0.647961</td>\n",
        "      <td>    lapan</td>\n",
        "    </tr>\n",
        "    <tr>\n",
        "      <th>2014-08-06</th>\n",
        "      <td> 0.014689</td>\n",
        "      <td> 1.178593</td>\n",
        "      <td>-0.698372</td>\n",
        "      <td>-0.967009</td>\n",
        "      <td>-1.247738</td>\n",
        "      <td>     tiga</td>\n",
        "    </tr>\n",
        "    <tr>\n",
        "      <th>2014-08-07</th>\n",
        "      <td>-0.404842</td>\n",
        "      <td> 0.031088</td>\n",
        "      <td> 0.255879</td>\n",
        "      <td> 0.879667</td>\n",
        "      <td> 0.478726</td>\n",
        "      <td>     lima</td>\n",
        "    </tr>\n",
        "    <tr>\n",
        "      <th>2014-08-08</th>\n",
        "      <td>-1.054359</td>\n",
        "      <td>-0.162643</td>\n",
        "      <td> 0.303053</td>\n",
        "      <td> 1.438586</td>\n",
        "      <td> 0.979570</td>\n",
        "      <td>     enam</td>\n",
        "    </tr>\n",
        "    <tr>\n",
        "      <th>2014-08-09</th>\n",
        "      <td>-0.616304</td>\n",
        "      <td> 0.033479</td>\n",
        "      <td>-1.294417</td>\n",
        "      <td>-0.872724</td>\n",
        "      <td>-0.757560</td>\n",
        "      <td> sembilan</td>\n",
        "    </tr>\n",
        "  </tbody>\n",
        "</table>\n",
        "</div>"
       ],
       "metadata": {},
       "output_type": "pyout",
       "prompt_number": 45,
       "text": [
        "             Kedai A   Kedai B   Kedai C   Kedai D   Kedai E    Tambah\n",
        "2014-08-01  0.241861  1.131037  0.421857 -0.047270  1.635734      satu\n",
        "2014-08-02 -0.794775 -1.023148 -0.744298  1.019617  0.671867      satu\n",
        "2014-08-03  2.532557 -1.847136 -0.133496 -0.189440 -0.538676       dua\n",
        "2014-08-04 -0.828003  1.195534 -0.746350 -1.629543 -1.053299      tiga\n",
        "2014-08-05 -1.271626  0.249836  0.584449 -0.998712 -0.647961     lapan\n",
        "2014-08-06  0.014689  1.178593 -0.698372 -0.967009 -1.247738      tiga\n",
        "2014-08-07 -0.404842  0.031088  0.255879  0.879667  0.478726      lima\n",
        "2014-08-08 -1.054359 -0.162643  0.303053  1.438586  0.979570      enam\n",
        "2014-08-09 -0.616304  0.033479 -1.294417 -0.872724 -0.757560  sembilan"
       ]
      }
     ],
     "prompt_number": 45
    },
    {
     "cell_type": "code",
     "collapsed": false,
     "input": [
      "# Using the isin() function (returns boolean data frame)\n",
      "df2.isin(['satu','tiga'])"
     ],
     "language": "python",
     "metadata": {},
     "outputs": [
      {
       "html": [
        "<div style=\"max-height:1000px;max-width:1500px;overflow:auto;\">\n",
        "<table border=\"1\" class=\"dataframe\">\n",
        "  <thead>\n",
        "    <tr style=\"text-align: right;\">\n",
        "      <th></th>\n",
        "      <th>Kedai A</th>\n",
        "      <th>Kedai B</th>\n",
        "      <th>Kedai C</th>\n",
        "      <th>Kedai D</th>\n",
        "      <th>Kedai E</th>\n",
        "      <th>Tambah</th>\n",
        "    </tr>\n",
        "  </thead>\n",
        "  <tbody>\n",
        "    <tr>\n",
        "      <th>2014-08-01</th>\n",
        "      <td> False</td>\n",
        "      <td> False</td>\n",
        "      <td> False</td>\n",
        "      <td> False</td>\n",
        "      <td> False</td>\n",
        "      <td>  True</td>\n",
        "    </tr>\n",
        "    <tr>\n",
        "      <th>2014-08-02</th>\n",
        "      <td> False</td>\n",
        "      <td> False</td>\n",
        "      <td> False</td>\n",
        "      <td> False</td>\n",
        "      <td> False</td>\n",
        "      <td>  True</td>\n",
        "    </tr>\n",
        "    <tr>\n",
        "      <th>2014-08-03</th>\n",
        "      <td> False</td>\n",
        "      <td> False</td>\n",
        "      <td> False</td>\n",
        "      <td> False</td>\n",
        "      <td> False</td>\n",
        "      <td> False</td>\n",
        "    </tr>\n",
        "    <tr>\n",
        "      <th>2014-08-04</th>\n",
        "      <td> False</td>\n",
        "      <td> False</td>\n",
        "      <td> False</td>\n",
        "      <td> False</td>\n",
        "      <td> False</td>\n",
        "      <td>  True</td>\n",
        "    </tr>\n",
        "    <tr>\n",
        "      <th>2014-08-05</th>\n",
        "      <td> False</td>\n",
        "      <td> False</td>\n",
        "      <td> False</td>\n",
        "      <td> False</td>\n",
        "      <td> False</td>\n",
        "      <td> False</td>\n",
        "    </tr>\n",
        "    <tr>\n",
        "      <th>2014-08-06</th>\n",
        "      <td> False</td>\n",
        "      <td> False</td>\n",
        "      <td> False</td>\n",
        "      <td> False</td>\n",
        "      <td> False</td>\n",
        "      <td>  True</td>\n",
        "    </tr>\n",
        "    <tr>\n",
        "      <th>2014-08-07</th>\n",
        "      <td> False</td>\n",
        "      <td> False</td>\n",
        "      <td> False</td>\n",
        "      <td> False</td>\n",
        "      <td> False</td>\n",
        "      <td> False</td>\n",
        "    </tr>\n",
        "    <tr>\n",
        "      <th>2014-08-08</th>\n",
        "      <td> False</td>\n",
        "      <td> False</td>\n",
        "      <td> False</td>\n",
        "      <td> False</td>\n",
        "      <td> False</td>\n",
        "      <td> False</td>\n",
        "    </tr>\n",
        "    <tr>\n",
        "      <th>2014-08-09</th>\n",
        "      <td> False</td>\n",
        "      <td> False</td>\n",
        "      <td> False</td>\n",
        "      <td> False</td>\n",
        "      <td> False</td>\n",
        "      <td> False</td>\n",
        "    </tr>\n",
        "  </tbody>\n",
        "</table>\n",
        "</div>"
       ],
       "metadata": {},
       "output_type": "pyout",
       "prompt_number": 46,
       "text": [
        "           Kedai A Kedai B Kedai C Kedai D Kedai E Tambah\n",
        "2014-08-01   False   False   False   False   False   True\n",
        "2014-08-02   False   False   False   False   False   True\n",
        "2014-08-03   False   False   False   False   False  False\n",
        "2014-08-04   False   False   False   False   False   True\n",
        "2014-08-05   False   False   False   False   False  False\n",
        "2014-08-06   False   False   False   False   False   True\n",
        "2014-08-07   False   False   False   False   False  False\n",
        "2014-08-08   False   False   False   False   False  False\n",
        "2014-08-09   False   False   False   False   False  False"
       ]
      }
     ],
     "prompt_number": 46
    },
    {
     "cell_type": "code",
     "collapsed": false,
     "input": [
      "# Select specific row based on additonal column\n",
      "df2[df2['Tambah'].isin(['satu','tiga'])]"
     ],
     "language": "python",
     "metadata": {},
     "outputs": [
      {
       "html": [
        "<div style=\"max-height:1000px;max-width:1500px;overflow:auto;\">\n",
        "<table border=\"1\" class=\"dataframe\">\n",
        "  <thead>\n",
        "    <tr style=\"text-align: right;\">\n",
        "      <th></th>\n",
        "      <th>Kedai A</th>\n",
        "      <th>Kedai B</th>\n",
        "      <th>Kedai C</th>\n",
        "      <th>Kedai D</th>\n",
        "      <th>Kedai E</th>\n",
        "      <th>Tambah</th>\n",
        "    </tr>\n",
        "  </thead>\n",
        "  <tbody>\n",
        "    <tr>\n",
        "      <th>2014-08-01</th>\n",
        "      <td> 0.241861</td>\n",
        "      <td> 1.131037</td>\n",
        "      <td> 0.421857</td>\n",
        "      <td>-0.047270</td>\n",
        "      <td> 1.635734</td>\n",
        "      <td> satu</td>\n",
        "    </tr>\n",
        "    <tr>\n",
        "      <th>2014-08-02</th>\n",
        "      <td>-0.794775</td>\n",
        "      <td>-1.023148</td>\n",
        "      <td>-0.744298</td>\n",
        "      <td> 1.019617</td>\n",
        "      <td> 0.671867</td>\n",
        "      <td> satu</td>\n",
        "    </tr>\n",
        "    <tr>\n",
        "      <th>2014-08-04</th>\n",
        "      <td>-0.828003</td>\n",
        "      <td> 1.195534</td>\n",
        "      <td>-0.746350</td>\n",
        "      <td>-1.629543</td>\n",
        "      <td>-1.053299</td>\n",
        "      <td> tiga</td>\n",
        "    </tr>\n",
        "    <tr>\n",
        "      <th>2014-08-06</th>\n",
        "      <td> 0.014689</td>\n",
        "      <td> 1.178593</td>\n",
        "      <td>-0.698372</td>\n",
        "      <td>-0.967009</td>\n",
        "      <td>-1.247738</td>\n",
        "      <td> tiga</td>\n",
        "    </tr>\n",
        "  </tbody>\n",
        "</table>\n",
        "</div>"
       ],
       "metadata": {},
       "output_type": "pyout",
       "prompt_number": 47,
       "text": [
        "             Kedai A   Kedai B   Kedai C   Kedai D   Kedai E Tambah\n",
        "2014-08-01  0.241861  1.131037  0.421857 -0.047270  1.635734   satu\n",
        "2014-08-02 -0.794775 -1.023148 -0.744298  1.019617  0.671867   satu\n",
        "2014-08-04 -0.828003  1.195534 -0.746350 -1.629543 -1.053299   tiga\n",
        "2014-08-06  0.014689  1.178593 -0.698372 -0.967009 -1.247738   tiga"
       ]
      }
     ],
     "prompt_number": 47
    },
    {
     "cell_type": "code",
     "collapsed": false,
     "input": [
      "# Use previous command - select certain column based on selected additional column\n",
      "df2[df2['Tambah'].isin(['satu','tiga'])].loc[:,'Kedai B':'Kedai D']"
     ],
     "language": "python",
     "metadata": {},
     "outputs": [
      {
       "html": [
        "<div style=\"max-height:1000px;max-width:1500px;overflow:auto;\">\n",
        "<table border=\"1\" class=\"dataframe\">\n",
        "  <thead>\n",
        "    <tr style=\"text-align: right;\">\n",
        "      <th></th>\n",
        "      <th>Kedai B</th>\n",
        "      <th>Kedai C</th>\n",
        "      <th>Kedai D</th>\n",
        "    </tr>\n",
        "  </thead>\n",
        "  <tbody>\n",
        "    <tr>\n",
        "      <th>2014-08-01</th>\n",
        "      <td> 1.131037</td>\n",
        "      <td> 0.421857</td>\n",
        "      <td>-0.047270</td>\n",
        "    </tr>\n",
        "    <tr>\n",
        "      <th>2014-08-02</th>\n",
        "      <td>-1.023148</td>\n",
        "      <td>-0.744298</td>\n",
        "      <td> 1.019617</td>\n",
        "    </tr>\n",
        "    <tr>\n",
        "      <th>2014-08-04</th>\n",
        "      <td> 1.195534</td>\n",
        "      <td>-0.746350</td>\n",
        "      <td>-1.629543</td>\n",
        "    </tr>\n",
        "    <tr>\n",
        "      <th>2014-08-06</th>\n",
        "      <td> 1.178593</td>\n",
        "      <td>-0.698372</td>\n",
        "      <td>-0.967009</td>\n",
        "    </tr>\n",
        "  </tbody>\n",
        "</table>\n",
        "</div>"
       ],
       "metadata": {},
       "output_type": "pyout",
       "prompt_number": 48,
       "text": [
        "             Kedai B   Kedai C   Kedai D\n",
        "2014-08-01  1.131037  0.421857 -0.047270\n",
        "2014-08-02 -1.023148 -0.744298  1.019617\n",
        "2014-08-04  1.195534 -0.746350 -1.629543\n",
        "2014-08-06  1.178593 -0.698372 -0.967009"
       ]
      }
     ],
     "prompt_number": 48
    },
    {
     "cell_type": "code",
     "collapsed": false,
     "input": [
      "# Select > 0 from previous cell...\n",
      "(df2[df2['Tambah'].isin(['satu','tiga'])].loc[:,'Kedai B':'Kedai D']>0)"
     ],
     "language": "python",
     "metadata": {},
     "outputs": [
      {
       "html": [
        "<div style=\"max-height:1000px;max-width:1500px;overflow:auto;\">\n",
        "<table border=\"1\" class=\"dataframe\">\n",
        "  <thead>\n",
        "    <tr style=\"text-align: right;\">\n",
        "      <th></th>\n",
        "      <th>Kedai B</th>\n",
        "      <th>Kedai C</th>\n",
        "      <th>Kedai D</th>\n",
        "    </tr>\n",
        "  </thead>\n",
        "  <tbody>\n",
        "    <tr>\n",
        "      <th>2014-08-01</th>\n",
        "      <td>  True</td>\n",
        "      <td>  True</td>\n",
        "      <td> False</td>\n",
        "    </tr>\n",
        "    <tr>\n",
        "      <th>2014-08-02</th>\n",
        "      <td> False</td>\n",
        "      <td> False</td>\n",
        "      <td>  True</td>\n",
        "    </tr>\n",
        "    <tr>\n",
        "      <th>2014-08-04</th>\n",
        "      <td>  True</td>\n",
        "      <td> False</td>\n",
        "      <td> False</td>\n",
        "    </tr>\n",
        "    <tr>\n",
        "      <th>2014-08-06</th>\n",
        "      <td>  True</td>\n",
        "      <td> False</td>\n",
        "      <td> False</td>\n",
        "    </tr>\n",
        "  </tbody>\n",
        "</table>\n",
        "</div>"
       ],
       "metadata": {},
       "output_type": "pyout",
       "prompt_number": 49,
       "text": [
        "           Kedai B Kedai C Kedai D\n",
        "2014-08-01    True    True   False\n",
        "2014-08-02   False   False    True\n",
        "2014-08-04    True   False   False\n",
        "2014-08-06    True   False   False"
       ]
      }
     ],
     "prompt_number": 49
    },
    {
     "cell_type": "markdown",
     "metadata": {},
     "source": [
      "***\n",
      "###**_8.2 Data Operations_**"
     ]
    },
    {
     "cell_type": "markdown",
     "metadata": {},
     "source": [
      "We have seen few operations previously on **_Series_** and **_DataFrame_** and here this will be explored further."
     ]
    },
    {
     "cell_type": "code",
     "collapsed": false,
     "input": [
      "df.mean()                    # Statistical mean (column) - same as df.mean(0), 0 means column"
     ],
     "language": "python",
     "metadata": {},
     "outputs": [
      {
       "metadata": {},
       "output_type": "pyout",
       "prompt_number": 50,
       "text": [
        "Kedai A   -0.002376\n",
        "Kedai B    0.293051\n",
        "Kedai C   -0.172390\n",
        "Kedai D    0.161951\n",
        "Kedai E    0.208730\n",
        "dtype: float64"
       ]
      }
     ],
     "prompt_number": 50
    },
    {
     "cell_type": "code",
     "collapsed": false,
     "input": [
      "df.mean(1)                   # Statistical mean (row) - 1 means row"
     ],
     "language": "python",
     "metadata": {},
     "outputs": [
      {
       "metadata": {},
       "output_type": "pyout",
       "prompt_number": 51,
       "text": [
        "2014-08-01    0.676644\n",
        "2014-08-02   -0.174147\n",
        "2014-08-03   -0.035238\n",
        "2014-08-04   -0.612332\n",
        "2014-08-05    0.722441\n",
        "2014-08-06   -0.343967\n",
        "2014-08-07    0.248104\n",
        "2014-08-08    0.300841\n",
        "Freq: D, dtype: float64"
       ]
      }
     ],
     "prompt_number": 51
    },
    {
     "cell_type": "code",
     "collapsed": false,
     "input": [
      "df.mean()['Kedai C':'Kedai E']         # Statistical mean (range of columns)"
     ],
     "language": "python",
     "metadata": {},
     "outputs": [
      {
       "metadata": {},
       "output_type": "pyout",
       "prompt_number": 52,
       "text": [
        "Kedai C   -0.172390\n",
        "Kedai D    0.161951\n",
        "Kedai E    0.208730\n",
        "dtype: float64"
       ]
      }
     ],
     "prompt_number": 52
    },
    {
     "cell_type": "code",
     "collapsed": false,
     "input": [
      "df.max()                               # Statistical max (column)"
     ],
     "language": "python",
     "metadata": {},
     "outputs": [
      {
       "metadata": {},
       "output_type": "pyout",
       "prompt_number": 53,
       "text": [
        "Kedai A    2.532557\n",
        "Kedai B    1.841080\n",
        "Kedai C    0.421857\n",
        "Kedai D    1.438586\n",
        "Kedai E    1.635734\n",
        "dtype: float64"
       ]
      }
     ],
     "prompt_number": 53
    },
    {
     "cell_type": "code",
     "collapsed": false,
     "input": [
      "df.max()['Kedai C']                    # Statistical max (column)"
     ],
     "language": "python",
     "metadata": {},
     "outputs": [
      {
       "metadata": {},
       "output_type": "pyout",
       "prompt_number": 54,
       "text": [
        "0.42185680357846717"
       ]
      }
     ],
     "prompt_number": 54
    },
    {
     "cell_type": "code",
     "collapsed": false,
     "input": [
      "df.max(1)['2014-08-04':'2014-08-07']   # Statistical max (specific row)"
     ],
     "language": "python",
     "metadata": {},
     "outputs": [
      {
       "metadata": {},
       "output_type": "pyout",
       "prompt_number": 55,
       "text": [
        "2014-08-04    1.195534\n",
        "2014-08-05    1.841080\n",
        "2014-08-06    1.178593\n",
        "2014-08-07    0.879667\n",
        "Freq: D, dtype: float64"
       ]
      }
     ],
     "prompt_number": 55
    },
    {
     "cell_type": "code",
     "collapsed": false,
     "input": [
      "df.max(1)[dates[3]]          # Statistical max (specific row by variable)"
     ],
     "language": "python",
     "metadata": {},
     "outputs": [
      {
       "metadata": {},
       "output_type": "pyout",
       "prompt_number": 56,
       "text": [
        "1.1955335625995487"
       ]
      }
     ],
     "prompt_number": 56
    },
    {
     "cell_type": "markdown",
     "metadata": {},
     "source": [
      "---\n",
      "Other statistical functions can be checked by typing df._< TAB >_."
     ]
    },
    {
     "cell_type": "markdown",
     "metadata": {},
     "source": [
      "The data in a **_DataFrame_** can be represented by a variable declared using the <span style=\"color: #0000FF\">$lambda$</span> operator."
     ]
    },
    {
     "cell_type": "code",
     "collapsed": false,
     "input": [
      "df.apply(lambda x: x.max() - x.min())       # Operating array values with function"
     ],
     "language": "python",
     "metadata": {},
     "outputs": [
      {
       "metadata": {},
       "output_type": "pyout",
       "prompt_number": 57,
       "text": [
        "Kedai A    3.586917\n",
        "Kedai B    3.688216\n",
        "Kedai C    1.168207\n",
        "Kedai D    3.068129\n",
        "Kedai E    2.883471\n",
        "dtype: float64"
       ]
      }
     ],
     "prompt_number": 57
    },
    {
     "cell_type": "code",
     "collapsed": false,
     "input": [
      "df.apply(lambda z: np.log(z))               # Operating array values with function"
     ],
     "language": "python",
     "metadata": {},
     "outputs": [
      {
       "html": [
        "<div style=\"max-height:1000px;max-width:1500px;overflow:auto;\">\n",
        "<table border=\"1\" class=\"dataframe\">\n",
        "  <thead>\n",
        "    <tr style=\"text-align: right;\">\n",
        "      <th></th>\n",
        "      <th>Kedai A</th>\n",
        "      <th>Kedai B</th>\n",
        "      <th>Kedai C</th>\n",
        "      <th>Kedai D</th>\n",
        "      <th>Kedai E</th>\n",
        "    </tr>\n",
        "  </thead>\n",
        "  <tbody>\n",
        "    <tr>\n",
        "      <th>2014-08-01</th>\n",
        "      <td>-1.419394</td>\n",
        "      <td> 0.123135</td>\n",
        "      <td>-0.863089</td>\n",
        "      <td>      NaN</td>\n",
        "      <td> 0.492092</td>\n",
        "    </tr>\n",
        "    <tr>\n",
        "      <th>2014-08-02</th>\n",
        "      <td>      NaN</td>\n",
        "      <td>      NaN</td>\n",
        "      <td>      NaN</td>\n",
        "      <td> 0.019427</td>\n",
        "      <td>-0.397695</td>\n",
        "    </tr>\n",
        "    <tr>\n",
        "      <th>2014-08-03</th>\n",
        "      <td> 0.929230</td>\n",
        "      <td>      NaN</td>\n",
        "      <td>      NaN</td>\n",
        "      <td>      NaN</td>\n",
        "      <td>      NaN</td>\n",
        "    </tr>\n",
        "    <tr>\n",
        "      <th>2014-08-04</th>\n",
        "      <td>      NaN</td>\n",
        "      <td> 0.178593</td>\n",
        "      <td>      NaN</td>\n",
        "      <td>      NaN</td>\n",
        "      <td>      NaN</td>\n",
        "    </tr>\n",
        "    <tr>\n",
        "      <th>2014-08-05</th>\n",
        "      <td>-1.295118</td>\n",
        "      <td> 0.610352</td>\n",
        "      <td>      NaN</td>\n",
        "      <td>-0.234460</td>\n",
        "      <td>-0.296172</td>\n",
        "    </tr>\n",
        "    <tr>\n",
        "      <th>2014-08-06</th>\n",
        "      <td>-4.220651</td>\n",
        "      <td> 0.164321</td>\n",
        "      <td>      NaN</td>\n",
        "      <td>      NaN</td>\n",
        "      <td>      NaN</td>\n",
        "    </tr>\n",
        "    <tr>\n",
        "      <th>2014-08-07</th>\n",
        "      <td>      NaN</td>\n",
        "      <td>-3.470939</td>\n",
        "      <td>-1.363050</td>\n",
        "      <td>-0.128212</td>\n",
        "      <td>-0.736627</td>\n",
        "    </tr>\n",
        "    <tr>\n",
        "      <th>2014-08-08</th>\n",
        "      <td>      NaN</td>\n",
        "      <td>      NaN</td>\n",
        "      <td>-1.193849</td>\n",
        "      <td> 0.363661</td>\n",
        "      <td>-0.020641</td>\n",
        "    </tr>\n",
        "  </tbody>\n",
        "</table>\n",
        "</div>"
       ],
       "metadata": {},
       "output_type": "pyout",
       "prompt_number": 58,
       "text": [
        "             Kedai A   Kedai B   Kedai C   Kedai D   Kedai E\n",
        "2014-08-01 -1.419394  0.123135 -0.863089       NaN  0.492092\n",
        "2014-08-02       NaN       NaN       NaN  0.019427 -0.397695\n",
        "2014-08-03  0.929230       NaN       NaN       NaN       NaN\n",
        "2014-08-04       NaN  0.178593       NaN       NaN       NaN\n",
        "2014-08-05 -1.295118  0.610352       NaN -0.234460 -0.296172\n",
        "2014-08-06 -4.220651  0.164321       NaN       NaN       NaN\n",
        "2014-08-07       NaN -3.470939 -1.363050 -0.128212 -0.736627\n",
        "2014-08-08       NaN       NaN -1.193849  0.363661 -0.020641"
       ]
      }
     ],
     "prompt_number": 58
    },
    {
     "cell_type": "markdown",
     "metadata": {},
     "source": [
      "Replacing, rearranging and operations of data between columns can be done much like spreadsheet."
     ]
    },
    {
     "cell_type": "code",
     "collapsed": false,
     "input": [
      "df3 = df.copy()"
     ],
     "language": "python",
     "metadata": {},
     "outputs": [],
     "prompt_number": 59
    },
    {
     "cell_type": "code",
     "collapsed": false,
     "input": [
      "df3[r'Kedai A^2/Kedai E'] = df3['Kedai A']**2/df3['Kedai E']\n",
      "df3"
     ],
     "language": "python",
     "metadata": {},
     "outputs": [
      {
       "html": [
        "<div style=\"max-height:1000px;max-width:1500px;overflow:auto;\">\n",
        "<table border=\"1\" class=\"dataframe\">\n",
        "  <thead>\n",
        "    <tr style=\"text-align: right;\">\n",
        "      <th></th>\n",
        "      <th>Kedai A</th>\n",
        "      <th>Kedai B</th>\n",
        "      <th>Kedai C</th>\n",
        "      <th>Kedai D</th>\n",
        "      <th>Kedai E</th>\n",
        "      <th>Kedai A^2/Kedai E</th>\n",
        "    </tr>\n",
        "  </thead>\n",
        "  <tbody>\n",
        "    <tr>\n",
        "      <th>2014-08-01</th>\n",
        "      <td> 0.241861</td>\n",
        "      <td> 1.131037</td>\n",
        "      <td> 0.421857</td>\n",
        "      <td>-0.047270</td>\n",
        "      <td> 1.635734</td>\n",
        "      <td>  0.035762</td>\n",
        "    </tr>\n",
        "    <tr>\n",
        "      <th>2014-08-02</th>\n",
        "      <td>-0.794775</td>\n",
        "      <td>-1.023148</td>\n",
        "      <td>-0.744298</td>\n",
        "      <td> 1.019617</td>\n",
        "      <td> 0.671867</td>\n",
        "      <td>  0.940166</td>\n",
        "    </tr>\n",
        "    <tr>\n",
        "      <th>2014-08-03</th>\n",
        "      <td> 2.532557</td>\n",
        "      <td>-1.847136</td>\n",
        "      <td>-0.133496</td>\n",
        "      <td>-0.189440</td>\n",
        "      <td>-0.538676</td>\n",
        "      <td>-11.906698</td>\n",
        "    </tr>\n",
        "    <tr>\n",
        "      <th>2014-08-04</th>\n",
        "      <td>-0.828003</td>\n",
        "      <td> 1.195534</td>\n",
        "      <td>-0.746350</td>\n",
        "      <td>-1.629543</td>\n",
        "      <td>-1.053299</td>\n",
        "      <td> -0.650896</td>\n",
        "    </tr>\n",
        "    <tr>\n",
        "      <th>2014-08-05</th>\n",
        "      <td> 0.273865</td>\n",
        "      <td> 1.841080</td>\n",
        "      <td>-0.037397</td>\n",
        "      <td> 0.790998</td>\n",
        "      <td> 0.743659</td>\n",
        "      <td>  0.100856</td>\n",
        "    </tr>\n",
        "    <tr>\n",
        "      <th>2014-08-06</th>\n",
        "      <td> 0.014689</td>\n",
        "      <td> 1.178593</td>\n",
        "      <td>-0.698372</td>\n",
        "      <td>-0.967009</td>\n",
        "      <td>-1.247738</td>\n",
        "      <td> -0.000173</td>\n",
        "    </tr>\n",
        "    <tr>\n",
        "      <th>2014-08-07</th>\n",
        "      <td>-0.404842</td>\n",
        "      <td> 0.031088</td>\n",
        "      <td> 0.255879</td>\n",
        "      <td> 0.879667</td>\n",
        "      <td> 0.478726</td>\n",
        "      <td>  0.342361</td>\n",
        "    </tr>\n",
        "    <tr>\n",
        "      <th>2014-08-08</th>\n",
        "      <td>-1.054359</td>\n",
        "      <td>-0.162643</td>\n",
        "      <td> 0.303053</td>\n",
        "      <td> 1.438586</td>\n",
        "      <td> 0.979570</td>\n",
        "      <td>  1.134859</td>\n",
        "    </tr>\n",
        "  </tbody>\n",
        "</table>\n",
        "</div>"
       ],
       "metadata": {},
       "output_type": "pyout",
       "prompt_number": 60,
       "text": [
        "             Kedai A   Kedai B   Kedai C   Kedai D   Kedai E  \\\n",
        "2014-08-01  0.241861  1.131037  0.421857 -0.047270  1.635734   \n",
        "2014-08-02 -0.794775 -1.023148 -0.744298  1.019617  0.671867   \n",
        "2014-08-03  2.532557 -1.847136 -0.133496 -0.189440 -0.538676   \n",
        "2014-08-04 -0.828003  1.195534 -0.746350 -1.629543 -1.053299   \n",
        "2014-08-05  0.273865  1.841080 -0.037397  0.790998  0.743659   \n",
        "2014-08-06  0.014689  1.178593 -0.698372 -0.967009 -1.247738   \n",
        "2014-08-07 -0.404842  0.031088  0.255879  0.879667  0.478726   \n",
        "2014-08-08 -1.054359 -0.162643  0.303053  1.438586  0.979570   \n",
        "\n",
        "            Kedai A^2/Kedai E  \n",
        "2014-08-01           0.035762  \n",
        "2014-08-02           0.940166  \n",
        "2014-08-03         -11.906698  \n",
        "2014-08-04          -0.650896  \n",
        "2014-08-05           0.100856  \n",
        "2014-08-06          -0.000173  \n",
        "2014-08-07           0.342361  \n",
        "2014-08-08           1.134859  "
       ]
      }
     ],
     "prompt_number": 60
    },
    {
     "cell_type": "markdown",
     "metadata": {},
     "source": [
      "Tables can be split, rearranged and combined."
     ]
    },
    {
     "cell_type": "code",
     "collapsed": false,
     "input": [
      "df4 = df.copy()\n",
      "df4"
     ],
     "language": "python",
     "metadata": {},
     "outputs": [
      {
       "html": [
        "<div style=\"max-height:1000px;max-width:1500px;overflow:auto;\">\n",
        "<table border=\"1\" class=\"dataframe\">\n",
        "  <thead>\n",
        "    <tr style=\"text-align: right;\">\n",
        "      <th></th>\n",
        "      <th>Kedai A</th>\n",
        "      <th>Kedai B</th>\n",
        "      <th>Kedai C</th>\n",
        "      <th>Kedai D</th>\n",
        "      <th>Kedai E</th>\n",
        "    </tr>\n",
        "  </thead>\n",
        "  <tbody>\n",
        "    <tr>\n",
        "      <th>2014-08-01</th>\n",
        "      <td> 0.241861</td>\n",
        "      <td> 1.131037</td>\n",
        "      <td> 0.421857</td>\n",
        "      <td>-0.047270</td>\n",
        "      <td> 1.635734</td>\n",
        "    </tr>\n",
        "    <tr>\n",
        "      <th>2014-08-02</th>\n",
        "      <td>-0.794775</td>\n",
        "      <td>-1.023148</td>\n",
        "      <td>-0.744298</td>\n",
        "      <td> 1.019617</td>\n",
        "      <td> 0.671867</td>\n",
        "    </tr>\n",
        "    <tr>\n",
        "      <th>2014-08-03</th>\n",
        "      <td> 2.532557</td>\n",
        "      <td>-1.847136</td>\n",
        "      <td>-0.133496</td>\n",
        "      <td>-0.189440</td>\n",
        "      <td>-0.538676</td>\n",
        "    </tr>\n",
        "    <tr>\n",
        "      <th>2014-08-04</th>\n",
        "      <td>-0.828003</td>\n",
        "      <td> 1.195534</td>\n",
        "      <td>-0.746350</td>\n",
        "      <td>-1.629543</td>\n",
        "      <td>-1.053299</td>\n",
        "    </tr>\n",
        "    <tr>\n",
        "      <th>2014-08-05</th>\n",
        "      <td> 0.273865</td>\n",
        "      <td> 1.841080</td>\n",
        "      <td>-0.037397</td>\n",
        "      <td> 0.790998</td>\n",
        "      <td> 0.743659</td>\n",
        "    </tr>\n",
        "    <tr>\n",
        "      <th>2014-08-06</th>\n",
        "      <td> 0.014689</td>\n",
        "      <td> 1.178593</td>\n",
        "      <td>-0.698372</td>\n",
        "      <td>-0.967009</td>\n",
        "      <td>-1.247738</td>\n",
        "    </tr>\n",
        "    <tr>\n",
        "      <th>2014-08-07</th>\n",
        "      <td>-0.404842</td>\n",
        "      <td> 0.031088</td>\n",
        "      <td> 0.255879</td>\n",
        "      <td> 0.879667</td>\n",
        "      <td> 0.478726</td>\n",
        "    </tr>\n",
        "    <tr>\n",
        "      <th>2014-08-08</th>\n",
        "      <td>-1.054359</td>\n",
        "      <td>-0.162643</td>\n",
        "      <td> 0.303053</td>\n",
        "      <td> 1.438586</td>\n",
        "      <td> 0.979570</td>\n",
        "    </tr>\n",
        "  </tbody>\n",
        "</table>\n",
        "</div>"
       ],
       "metadata": {},
       "output_type": "pyout",
       "prompt_number": 61,
       "text": [
        "             Kedai A   Kedai B   Kedai C   Kedai D   Kedai E\n",
        "2014-08-01  0.241861  1.131037  0.421857 -0.047270  1.635734\n",
        "2014-08-02 -0.794775 -1.023148 -0.744298  1.019617  0.671867\n",
        "2014-08-03  2.532557 -1.847136 -0.133496 -0.189440 -0.538676\n",
        "2014-08-04 -0.828003  1.195534 -0.746350 -1.629543 -1.053299\n",
        "2014-08-05  0.273865  1.841080 -0.037397  0.790998  0.743659\n",
        "2014-08-06  0.014689  1.178593 -0.698372 -0.967009 -1.247738\n",
        "2014-08-07 -0.404842  0.031088  0.255879  0.879667  0.478726\n",
        "2014-08-08 -1.054359 -0.162643  0.303053  1.438586  0.979570"
       ]
      }
     ],
     "prompt_number": 61
    },
    {
     "cell_type": "code",
     "collapsed": false,
     "input": [
      "pieces = [df4[6:], df4[3:6], df4[:3]]   # split row 2+3+3\n",
      "pieces"
     ],
     "language": "python",
     "metadata": {},
     "outputs": [
      {
       "metadata": {},
       "output_type": "pyout",
       "prompt_number": 62,
       "text": [
        "[             Kedai A   Kedai B   Kedai C   Kedai D   Kedai E\n",
        " 2014-08-07 -0.404842  0.031088  0.255879  0.879667  0.478726\n",
        " 2014-08-08 -1.054359 -0.162643  0.303053  1.438586  0.979570,\n",
        "              Kedai A   Kedai B   Kedai C   Kedai D   Kedai E\n",
        " 2014-08-04 -0.828003  1.195534 -0.746350 -1.629543 -1.053299\n",
        " 2014-08-05  0.273865  1.841080 -0.037397  0.790998  0.743659\n",
        " 2014-08-06  0.014689  1.178593 -0.698372 -0.967009 -1.247738,\n",
        "              Kedai A   Kedai B   Kedai C   Kedai D   Kedai E\n",
        " 2014-08-01  0.241861  1.131037  0.421857 -0.047270  1.635734\n",
        " 2014-08-02 -0.794775 -1.023148 -0.744298  1.019617  0.671867\n",
        " 2014-08-03  2.532557 -1.847136 -0.133496 -0.189440 -0.538676]"
       ]
      }
     ],
     "prompt_number": 62
    },
    {
     "cell_type": "code",
     "collapsed": false,
     "input": [
      "df5 = pd.concat(pieces)                 # concantenate (rearrange/combine)\n",
      "df5"
     ],
     "language": "python",
     "metadata": {},
     "outputs": [
      {
       "html": [
        "<div style=\"max-height:1000px;max-width:1500px;overflow:auto;\">\n",
        "<table border=\"1\" class=\"dataframe\">\n",
        "  <thead>\n",
        "    <tr style=\"text-align: right;\">\n",
        "      <th></th>\n",
        "      <th>Kedai A</th>\n",
        "      <th>Kedai B</th>\n",
        "      <th>Kedai C</th>\n",
        "      <th>Kedai D</th>\n",
        "      <th>Kedai E</th>\n",
        "    </tr>\n",
        "  </thead>\n",
        "  <tbody>\n",
        "    <tr>\n",
        "      <th>2014-08-07</th>\n",
        "      <td>-0.404842</td>\n",
        "      <td> 0.031088</td>\n",
        "      <td> 0.255879</td>\n",
        "      <td> 0.879667</td>\n",
        "      <td> 0.478726</td>\n",
        "    </tr>\n",
        "    <tr>\n",
        "      <th>2014-08-08</th>\n",
        "      <td>-1.054359</td>\n",
        "      <td>-0.162643</td>\n",
        "      <td> 0.303053</td>\n",
        "      <td> 1.438586</td>\n",
        "      <td> 0.979570</td>\n",
        "    </tr>\n",
        "    <tr>\n",
        "      <th>2014-08-04</th>\n",
        "      <td>-0.828003</td>\n",
        "      <td> 1.195534</td>\n",
        "      <td>-0.746350</td>\n",
        "      <td>-1.629543</td>\n",
        "      <td>-1.053299</td>\n",
        "    </tr>\n",
        "    <tr>\n",
        "      <th>2014-08-05</th>\n",
        "      <td> 0.273865</td>\n",
        "      <td> 1.841080</td>\n",
        "      <td>-0.037397</td>\n",
        "      <td> 0.790998</td>\n",
        "      <td> 0.743659</td>\n",
        "    </tr>\n",
        "    <tr>\n",
        "      <th>2014-08-06</th>\n",
        "      <td> 0.014689</td>\n",
        "      <td> 1.178593</td>\n",
        "      <td>-0.698372</td>\n",
        "      <td>-0.967009</td>\n",
        "      <td>-1.247738</td>\n",
        "    </tr>\n",
        "    <tr>\n",
        "      <th>2014-08-01</th>\n",
        "      <td> 0.241861</td>\n",
        "      <td> 1.131037</td>\n",
        "      <td> 0.421857</td>\n",
        "      <td>-0.047270</td>\n",
        "      <td> 1.635734</td>\n",
        "    </tr>\n",
        "    <tr>\n",
        "      <th>2014-08-02</th>\n",
        "      <td>-0.794775</td>\n",
        "      <td>-1.023148</td>\n",
        "      <td>-0.744298</td>\n",
        "      <td> 1.019617</td>\n",
        "      <td> 0.671867</td>\n",
        "    </tr>\n",
        "    <tr>\n",
        "      <th>2014-08-03</th>\n",
        "      <td> 2.532557</td>\n",
        "      <td>-1.847136</td>\n",
        "      <td>-0.133496</td>\n",
        "      <td>-0.189440</td>\n",
        "      <td>-0.538676</td>\n",
        "    </tr>\n",
        "  </tbody>\n",
        "</table>\n",
        "</div>"
       ],
       "metadata": {},
       "output_type": "pyout",
       "prompt_number": 63,
       "text": [
        "             Kedai A   Kedai B   Kedai C   Kedai D   Kedai E\n",
        "2014-08-07 -0.404842  0.031088  0.255879  0.879667  0.478726\n",
        "2014-08-08 -1.054359 -0.162643  0.303053  1.438586  0.979570\n",
        "2014-08-04 -0.828003  1.195534 -0.746350 -1.629543 -1.053299\n",
        "2014-08-05  0.273865  1.841080 -0.037397  0.790998  0.743659\n",
        "2014-08-06  0.014689  1.178593 -0.698372 -0.967009 -1.247738\n",
        "2014-08-01  0.241861  1.131037  0.421857 -0.047270  1.635734\n",
        "2014-08-02 -0.794775 -1.023148 -0.744298  1.019617  0.671867\n",
        "2014-08-03  2.532557 -1.847136 -0.133496 -0.189440 -0.538676"
       ]
      }
     ],
     "prompt_number": 63
    },
    {
     "cell_type": "code",
     "collapsed": false,
     "input": [
      "df4+df5                                 # Operation between tables with original index sequence"
     ],
     "language": "python",
     "metadata": {},
     "outputs": [
      {
       "html": [
        "<div style=\"max-height:1000px;max-width:1500px;overflow:auto;\">\n",
        "<table border=\"1\" class=\"dataframe\">\n",
        "  <thead>\n",
        "    <tr style=\"text-align: right;\">\n",
        "      <th></th>\n",
        "      <th>Kedai A</th>\n",
        "      <th>Kedai B</th>\n",
        "      <th>Kedai C</th>\n",
        "      <th>Kedai D</th>\n",
        "      <th>Kedai E</th>\n",
        "    </tr>\n",
        "  </thead>\n",
        "  <tbody>\n",
        "    <tr>\n",
        "      <th>2014-08-01</th>\n",
        "      <td> 0.483721</td>\n",
        "      <td> 2.262074</td>\n",
        "      <td> 0.843714</td>\n",
        "      <td>-0.094540</td>\n",
        "      <td> 3.271468</td>\n",
        "    </tr>\n",
        "    <tr>\n",
        "      <th>2014-08-02</th>\n",
        "      <td>-1.589549</td>\n",
        "      <td>-2.046296</td>\n",
        "      <td>-1.488595</td>\n",
        "      <td> 2.039235</td>\n",
        "      <td> 1.343733</td>\n",
        "    </tr>\n",
        "    <tr>\n",
        "      <th>2014-08-03</th>\n",
        "      <td> 5.065115</td>\n",
        "      <td>-3.694272</td>\n",
        "      <td>-0.266992</td>\n",
        "      <td>-0.378880</td>\n",
        "      <td>-1.077351</td>\n",
        "    </tr>\n",
        "    <tr>\n",
        "      <th>2014-08-04</th>\n",
        "      <td>-1.656005</td>\n",
        "      <td> 2.391067</td>\n",
        "      <td>-1.492700</td>\n",
        "      <td>-3.259086</td>\n",
        "      <td>-2.106599</td>\n",
        "    </tr>\n",
        "    <tr>\n",
        "      <th>2014-08-05</th>\n",
        "      <td> 0.547731</td>\n",
        "      <td> 3.682159</td>\n",
        "      <td>-0.074793</td>\n",
        "      <td> 1.581995</td>\n",
        "      <td> 1.487318</td>\n",
        "    </tr>\n",
        "    <tr>\n",
        "      <th>2014-08-06</th>\n",
        "      <td> 0.029378</td>\n",
        "      <td> 2.357186</td>\n",
        "      <td>-1.396743</td>\n",
        "      <td>-1.934018</td>\n",
        "      <td>-2.495475</td>\n",
        "    </tr>\n",
        "    <tr>\n",
        "      <th>2014-08-07</th>\n",
        "      <td>-0.809684</td>\n",
        "      <td> 0.062176</td>\n",
        "      <td> 0.511758</td>\n",
        "      <td> 1.759333</td>\n",
        "      <td> 0.957451</td>\n",
        "    </tr>\n",
        "    <tr>\n",
        "      <th>2014-08-08</th>\n",
        "      <td>-2.108719</td>\n",
        "      <td>-0.325285</td>\n",
        "      <td> 0.606105</td>\n",
        "      <td> 2.877172</td>\n",
        "      <td> 1.959141</td>\n",
        "    </tr>\n",
        "  </tbody>\n",
        "</table>\n",
        "</div>"
       ],
       "metadata": {},
       "output_type": "pyout",
       "prompt_number": 64,
       "text": [
        "             Kedai A   Kedai B   Kedai C   Kedai D   Kedai E\n",
        "2014-08-01  0.483721  2.262074  0.843714 -0.094540  3.271468\n",
        "2014-08-02 -1.589549 -2.046296 -1.488595  2.039235  1.343733\n",
        "2014-08-03  5.065115 -3.694272 -0.266992 -0.378880 -1.077351\n",
        "2014-08-04 -1.656005  2.391067 -1.492700 -3.259086 -2.106599\n",
        "2014-08-05  0.547731  3.682159 -0.074793  1.581995  1.487318\n",
        "2014-08-06  0.029378  2.357186 -1.396743 -1.934018 -2.495475\n",
        "2014-08-07 -0.809684  0.062176  0.511758  1.759333  0.957451\n",
        "2014-08-08 -2.108719 -0.325285  0.606105  2.877172  1.959141"
       ]
      }
     ],
     "prompt_number": 64
    },
    {
     "cell_type": "code",
     "collapsed": false,
     "input": [
      "df0 = df.loc[:,'Kedai A':'Kedai C']     # Slicing and extracting columns\n",
      "pd.concat([df4, df0], axis = 1)         # Concatenating columns (axis = 1 -> refers to column)"
     ],
     "language": "python",
     "metadata": {},
     "outputs": [
      {
       "html": [
        "<div style=\"max-height:1000px;max-width:1500px;overflow:auto;\">\n",
        "<table border=\"1\" class=\"dataframe\">\n",
        "  <thead>\n",
        "    <tr style=\"text-align: right;\">\n",
        "      <th></th>\n",
        "      <th>Kedai A</th>\n",
        "      <th>Kedai B</th>\n",
        "      <th>Kedai C</th>\n",
        "      <th>Kedai D</th>\n",
        "      <th>Kedai E</th>\n",
        "      <th>Kedai A</th>\n",
        "      <th>Kedai B</th>\n",
        "      <th>Kedai C</th>\n",
        "    </tr>\n",
        "  </thead>\n",
        "  <tbody>\n",
        "    <tr>\n",
        "      <th>2014-08-01</th>\n",
        "      <td> 0.241861</td>\n",
        "      <td> 1.131037</td>\n",
        "      <td> 0.421857</td>\n",
        "      <td>-0.047270</td>\n",
        "      <td> 1.635734</td>\n",
        "      <td> 0.241861</td>\n",
        "      <td> 1.131037</td>\n",
        "      <td> 0.421857</td>\n",
        "    </tr>\n",
        "    <tr>\n",
        "      <th>2014-08-02</th>\n",
        "      <td>-0.794775</td>\n",
        "      <td>-1.023148</td>\n",
        "      <td>-0.744298</td>\n",
        "      <td> 1.019617</td>\n",
        "      <td> 0.671867</td>\n",
        "      <td>-0.794775</td>\n",
        "      <td>-1.023148</td>\n",
        "      <td>-0.744298</td>\n",
        "    </tr>\n",
        "    <tr>\n",
        "      <th>2014-08-03</th>\n",
        "      <td> 2.532557</td>\n",
        "      <td>-1.847136</td>\n",
        "      <td>-0.133496</td>\n",
        "      <td>-0.189440</td>\n",
        "      <td>-0.538676</td>\n",
        "      <td> 2.532557</td>\n",
        "      <td>-1.847136</td>\n",
        "      <td>-0.133496</td>\n",
        "    </tr>\n",
        "    <tr>\n",
        "      <th>2014-08-04</th>\n",
        "      <td>-0.828003</td>\n",
        "      <td> 1.195534</td>\n",
        "      <td>-0.746350</td>\n",
        "      <td>-1.629543</td>\n",
        "      <td>-1.053299</td>\n",
        "      <td>-0.828003</td>\n",
        "      <td> 1.195534</td>\n",
        "      <td>-0.746350</td>\n",
        "    </tr>\n",
        "    <tr>\n",
        "      <th>2014-08-05</th>\n",
        "      <td> 0.273865</td>\n",
        "      <td> 1.841080</td>\n",
        "      <td>-0.037397</td>\n",
        "      <td> 0.790998</td>\n",
        "      <td> 0.743659</td>\n",
        "      <td> 0.273865</td>\n",
        "      <td> 1.841080</td>\n",
        "      <td>-0.037397</td>\n",
        "    </tr>\n",
        "    <tr>\n",
        "      <th>2014-08-06</th>\n",
        "      <td> 0.014689</td>\n",
        "      <td> 1.178593</td>\n",
        "      <td>-0.698372</td>\n",
        "      <td>-0.967009</td>\n",
        "      <td>-1.247738</td>\n",
        "      <td> 0.014689</td>\n",
        "      <td> 1.178593</td>\n",
        "      <td>-0.698372</td>\n",
        "    </tr>\n",
        "    <tr>\n",
        "      <th>2014-08-07</th>\n",
        "      <td>-0.404842</td>\n",
        "      <td> 0.031088</td>\n",
        "      <td> 0.255879</td>\n",
        "      <td> 0.879667</td>\n",
        "      <td> 0.478726</td>\n",
        "      <td>-0.404842</td>\n",
        "      <td> 0.031088</td>\n",
        "      <td> 0.255879</td>\n",
        "    </tr>\n",
        "    <tr>\n",
        "      <th>2014-08-08</th>\n",
        "      <td>-1.054359</td>\n",
        "      <td>-0.162643</td>\n",
        "      <td> 0.303053</td>\n",
        "      <td> 1.438586</td>\n",
        "      <td> 0.979570</td>\n",
        "      <td>-1.054359</td>\n",
        "      <td>-0.162643</td>\n",
        "      <td> 0.303053</td>\n",
        "    </tr>\n",
        "  </tbody>\n",
        "</table>\n",
        "</div>"
       ],
       "metadata": {},
       "output_type": "pyout",
       "prompt_number": 65,
       "text": [
        "             Kedai A   Kedai B   Kedai C   Kedai D   Kedai E   Kedai A  \\\n",
        "2014-08-01  0.241861  1.131037  0.421857 -0.047270  1.635734  0.241861   \n",
        "2014-08-02 -0.794775 -1.023148 -0.744298  1.019617  0.671867 -0.794775   \n",
        "2014-08-03  2.532557 -1.847136 -0.133496 -0.189440 -0.538676  2.532557   \n",
        "2014-08-04 -0.828003  1.195534 -0.746350 -1.629543 -1.053299 -0.828003   \n",
        "2014-08-05  0.273865  1.841080 -0.037397  0.790998  0.743659  0.273865   \n",
        "2014-08-06  0.014689  1.178593 -0.698372 -0.967009 -1.247738  0.014689   \n",
        "2014-08-07 -0.404842  0.031088  0.255879  0.879667  0.478726 -0.404842   \n",
        "2014-08-08 -1.054359 -0.162643  0.303053  1.438586  0.979570 -1.054359   \n",
        "\n",
        "             Kedai B   Kedai C  \n",
        "2014-08-01  1.131037  0.421857  \n",
        "2014-08-02 -1.023148 -0.744298  \n",
        "2014-08-03 -1.847136 -0.133496  \n",
        "2014-08-04  1.195534 -0.746350  \n",
        "2014-08-05  1.841080 -0.037397  \n",
        "2014-08-06  1.178593 -0.698372  \n",
        "2014-08-07  0.031088  0.255879  \n",
        "2014-08-08 -0.162643  0.303053  "
       ]
      }
     ],
     "prompt_number": 65
    },
    {
     "cell_type": "markdown",
     "metadata": {},
     "source": [
      "***\n",
      "###**_8.3 Plotting Functions_**"
     ]
    },
    {
     "cell_type": "markdown",
     "metadata": {},
     "source": [
      "---\n",
      "Let us look on some of the simple plotting function on <span style=\"color: #0000FF\">$Pandas$</span> (requires <span style=\"color: #0000FF\">$Matplotlib$</span> library)."
     ]
    },
    {
     "cell_type": "code",
     "collapsed": false,
     "input": [
      "df_add = df.copy()"
     ],
     "language": "python",
     "metadata": {},
     "outputs": [],
     "prompt_number": 66
    },
    {
     "cell_type": "code",
     "collapsed": false,
     "input": [
      "# Simple auto plotting\n",
      "%pylab inline\n",
      "\n",
      "df_add.cumsum().plot()"
     ],
     "language": "python",
     "metadata": {},
     "outputs": [
      {
       "output_type": "stream",
       "stream": "stdout",
       "text": [
        "Populating the interactive namespace from numpy and matplotlib\n"
       ]
      },
      {
       "metadata": {},
       "output_type": "pyout",
       "prompt_number": 67,
       "text": [
        "<matplotlib.axes._subplots.AxesSubplot at 0x7f41d6251190>"
       ]
      },
      {
       "metadata": {},
       "output_type": "display_data",
       "png": "[encoded data removed]",
       "text": [
        "<matplotlib.figure.Figure at 0x7f41d623fb50>"
       ]
      }
     ],
     "prompt_number": 67
    },
    {
     "cell_type": "code",
     "collapsed": false,
     "input": [
      "# Reposition the legend\n",
      "\n",
      "df_add.cumsum().plot()\n",
      "legend(bbox_to_anchor=[1.3, 1])"
     ],
     "language": "python",
     "metadata": {},
     "outputs": [
      {
       "metadata": {},
       "output_type": "pyout",
       "prompt_number": 68,
       "text": [
        "<matplotlib.legend.Legend at 0x7f41d623fa10>"
       ]
      },
      {
       "metadata": {},
       "output_type": "display_data",
       "png": "[encoded data removed]",
       "text": [
        "<matplotlib.figure.Figure at 0x7f41d6118290>"
       ]
      }
     ],
     "prompt_number": 68
    },
    {
     "cell_type": "code",
     "collapsed": false,
     "input": [
      "df_add.cumsum().plot(kind='bar')\n",
      "legend(bbox_to_anchor=[1.3, 1])"
     ],
     "language": "python",
     "metadata": {},
     "outputs": [
      {
       "metadata": {},
       "output_type": "pyout",
       "prompt_number": 69,
       "text": [
        "<matplotlib.legend.Legend at 0x7f41d6166850>"
       ]
      },
      {
       "metadata": {},
       "output_type": "display_data",
       "png": "[encoded data removed]",
       "text": [
        "<matplotlib.figure.Figure at 0x7f41d601bb10>"
       ]
      }
     ],
     "prompt_number": 69
    },
    {
     "cell_type": "code",
     "collapsed": false,
     "input": [
      "df_add.cumsum().plot(kind='barh', stacked=True)"
     ],
     "language": "python",
     "metadata": {},
     "outputs": [
      {
       "metadata": {},
       "output_type": "pyout",
       "prompt_number": 70,
       "text": [
        "<matplotlib.axes._subplots.AxesSubplot at 0x7f41d5e97150>"
       ]
      },
      {
       "metadata": {},
       "output_type": "display_data",
       "png": "[encoded data removed]",
       "text": [
        "<matplotlib.figure.Figure at 0x7f41d8093a10>"
       ]
      }
     ],
     "prompt_number": 70
    },
    {
     "cell_type": "code",
     "collapsed": false,
     "input": [
      "df_add.cumsum().plot(kind='hist', alpha=0.5)"
     ],
     "language": "python",
     "metadata": {},
     "outputs": [
      {
       "metadata": {},
       "output_type": "pyout",
       "prompt_number": 71,
       "text": [
        "<matplotlib.axes._subplots.AxesSubplot at 0x7f41d5c8bfd0>"
       ]
      },
      {
       "metadata": {},
       "output_type": "display_data",
       "png": "[encoded data removed]",
       "text": [
        "<matplotlib.figure.Figure at 0x7f41d5ca0090>"
       ]
      }
     ],
     "prompt_number": 71
    },
    {
     "cell_type": "code",
     "collapsed": false,
     "input": [
      "df_add.cumsum().plot(kind='area', alpha=0.4, stacked=False)\n",
      "legend(bbox_to_anchor=[1.3, 1])"
     ],
     "language": "python",
     "metadata": {},
     "outputs": [
      {
       "metadata": {},
       "output_type": "pyout",
       "prompt_number": 72,
       "text": [
        "<matplotlib.legend.Legend at 0x7f41d5ae6c10>"
       ]
      },
      {
       "metadata": {},
       "output_type": "display_data",
       "png": "[encoded data removed]",
       "text": [
        "<matplotlib.figure.Figure at 0x7f41d5ae69d0>"
       ]
      }
     ],
     "prompt_number": 72
    },
    {
     "cell_type": "markdown",
     "metadata": {},
     "source": [
      "A 3-dimensional plot can be projected on a canvas but requires the <span style=\"color: #0000FF\">$Axes3D$</span> library with slightly complicated settings."
     ]
    },
    {
     "cell_type": "code",
     "collapsed": false,
     "input": [
      "# Plotting a 3D bar plot\n",
      "\n",
      "%pylab inline\n",
      "\n",
      "from mpl_toolkits.mplot3d import Axes3D\n",
      "import numpy as np\n",
      "\n",
      "# Convert the time format into ordinary strings\n",
      "time_series = pd.Series(df.index.format())\n",
      "\n",
      "fig = figure(figsize=(8,6))\n",
      "ax = fig.add_subplot(111, projection='3d')\n",
      "\n",
      "# Plotting the bar graph column by column\n",
      "for c, z in zip(['r', 'g', 'b', 'y','m'], np.arange(len(df.columns))):\n",
      "    xs = df.index\n",
      "    ys = df.values[:,z]\n",
      "    ax.bar(xs, ys, zs=z, zdir='y', color=c, alpha=0.5)\n",
      "    \n",
      "ax.set_zlabel('Z')\n",
      "ax.set_xticklabels(time_series, va = 'baseline', ha = 'right', rotation = 15)\n",
      "ax.set_yticks(np.arange(len(df.columns)))\n",
      "ax.set_yticklabels(df.columns, va = 'center', ha = 'left', rotation = -42)\n",
      "\n",
      "ax.view_init(30, -30)\n",
      "\n",
      "fig.tight_layout()"
     ],
     "language": "python",
     "metadata": {},
     "outputs": [
      {
       "output_type": "stream",
       "stream": "stdout",
       "text": [
        "Populating the interactive namespace from numpy and matplotlib\n"
       ]
      },
      {
       "metadata": {},
       "output_type": "display_data",
       "png": "[encoded data removed]",
       "text": [
        "<matplotlib.figure.Figure at 0x7f41d651ccd0>"
       ]
      }
     ],
     "prompt_number": 73
    },
    {
     "cell_type": "markdown",
     "metadata": {},
     "source": [
      "***\n",
      "###**_8.4 Reading And Writing Data To File_**"
     ]
    },
    {
     "cell_type": "markdown",
     "metadata": {},
     "source": [
      "Data in **_DataFrame_** can be exported into **_csv_** (comma separated value) and **_Excel_** file. The users can also create a **_DataFrame_** from data in **_csv_** and **_Excel_** file, the data can then be processed."
     ]
    },
    {
     "cell_type": "code",
     "collapsed": false,
     "input": [
      "# Export data to a csv file but separated with < TAB > rather than comma\n",
      "# the default separation is with comma\n",
      "\n",
      "df.to_csv('Tutorial8/Kedai.txt', sep='\\t')"
     ],
     "language": "python",
     "metadata": {},
     "outputs": [],
     "prompt_number": 74
    },
    {
     "cell_type": "code",
     "collapsed": false,
     "input": [
      "# Export to Excel file\n",
      "\n",
      "df.to_excel('Tutorial8/Kedai.xlsx', sheet_name = 'Tarikh', index = True)"
     ],
     "language": "python",
     "metadata": {},
     "outputs": [],
     "prompt_number": 75
    },
    {
     "cell_type": "code",
     "collapsed": false,
     "input": [
      "# Importing data from csv file (without header)\n",
      "\n",
      "from_file = pd.read_csv('Tutorial8/Malaysian_Town.txt',sep='\\t',header=None)\n",
      "from_file.head()"
     ],
     "language": "python",
     "metadata": {},
     "outputs": [
      {
       "html": [
        "<div style=\"max-height:1000px;max-width:1500px;overflow:auto;\">\n",
        "<table border=\"1\" class=\"dataframe\">\n",
        "  <thead>\n",
        "    <tr style=\"text-align: right;\">\n",
        "      <th></th>\n",
        "      <th>0</th>\n",
        "      <th>1</th>\n",
        "      <th>2</th>\n",
        "      <th>3</th>\n",
        "      <th>4</th>\n",
        "    </tr>\n",
        "  </thead>\n",
        "  <tbody>\n",
        "    <tr>\n",
        "      <th>0</th>\n",
        "      <td> 1</td>\n",
        "      <td>   Kuala Lumpur</td>\n",
        "      <td> 1,588,750</td>\n",
        "      <td>                                  NaN</td>\n",
        "      <td>         City</td>\n",
        "    </tr>\n",
        "    <tr>\n",
        "      <th>1</th>\n",
        "      <td> 2</td>\n",
        "      <td> Seberang Perai</td>\n",
        "      <td>   818,197</td>\n",
        "      <td> Includes Butterworth, Bukit Mertajam</td>\n",
        "      <td> Municipality</td>\n",
        "    </tr>\n",
        "    <tr>\n",
        "      <th>2</th>\n",
        "      <td> 3</td>\n",
        "      <td>         Kajang</td>\n",
        "      <td>   795,522</td>\n",
        "      <td>                                  NaN</td>\n",
        "      <td> Municipality</td>\n",
        "    </tr>\n",
        "    <tr>\n",
        "      <th>3</th>\n",
        "      <td> 4</td>\n",
        "      <td>          Klang</td>\n",
        "      <td>   744,062</td>\n",
        "      <td>                                  NaN</td>\n",
        "      <td> Municipality</td>\n",
        "    </tr>\n",
        "    <tr>\n",
        "      <th>4</th>\n",
        "      <td> 5</td>\n",
        "      <td>    Subang Jaya</td>\n",
        "      <td>   708,296</td>\n",
        "      <td>                                  NaN</td>\n",
        "      <td> Municipality</td>\n",
        "    </tr>\n",
        "  </tbody>\n",
        "</table>\n",
        "</div>"
       ],
       "metadata": {},
       "output_type": "pyout",
       "prompt_number": 76,
       "text": [
        "   0               1          2                                     3  \\\n",
        "0  1    Kuala Lumpur  1,588,750                                   NaN   \n",
        "1  2  Seberang Perai    818,197  Includes Butterworth, Bukit Mertajam   \n",
        "2  3          Kajang    795,522                                   NaN   \n",
        "3  4           Klang    744,062                                   NaN   \n",
        "4  5     Subang Jaya    708,296                                   NaN   \n",
        "\n",
        "              4  \n",
        "0          City  \n",
        "1  Municipality  \n",
        "2  Municipality  \n",
        "3  Municipality  \n",
        "4  Municipality  "
       ]
      }
     ],
     "prompt_number": 76
    },
    {
     "cell_type": "code",
     "collapsed": false,
     "input": [
      "# Importing data from Excel file (with header (the first row) that became the column names)\n",
      "\n",
      "from_excel = pd.read_excel('Tutorial8/Malaysian_Town.xlsx','Sheet1')\n",
      "from_excel.head()"
     ],
     "language": "python",
     "metadata": {},
     "outputs": [
      {
       "html": [
        "<div style=\"max-height:1000px;max-width:1500px;overflow:auto;\">\n",
        "<table border=\"1\" class=\"dataframe\">\n",
        "  <thead>\n",
        "    <tr style=\"text-align: right;\">\n",
        "      <th></th>\n",
        "      <th>No.</th>\n",
        "      <th>City</th>\n",
        "      <th>Population</th>\n",
        "      <th>Area</th>\n",
        "      <th>Type</th>\n",
        "    </tr>\n",
        "  </thead>\n",
        "  <tbody>\n",
        "    <tr>\n",
        "      <th>0</th>\n",
        "      <td> 1</td>\n",
        "      <td>   Kuala Lumpur</td>\n",
        "      <td> 1588750</td>\n",
        "      <td>                                  NaN</td>\n",
        "      <td>         City</td>\n",
        "    </tr>\n",
        "    <tr>\n",
        "      <th>1</th>\n",
        "      <td> 2</td>\n",
        "      <td> Seberang Perai</td>\n",
        "      <td>  818197</td>\n",
        "      <td> Includes Butterworth, Bukit Mertajam</td>\n",
        "      <td> Municipality</td>\n",
        "    </tr>\n",
        "    <tr>\n",
        "      <th>2</th>\n",
        "      <td> 3</td>\n",
        "      <td>         Kajang</td>\n",
        "      <td>  795522</td>\n",
        "      <td>                                  NaN</td>\n",
        "      <td> Municipality</td>\n",
        "    </tr>\n",
        "    <tr>\n",
        "      <th>3</th>\n",
        "      <td> 4</td>\n",
        "      <td>          Klang</td>\n",
        "      <td>  744062</td>\n",
        "      <td>                                  NaN</td>\n",
        "      <td> Municipality</td>\n",
        "    </tr>\n",
        "    <tr>\n",
        "      <th>4</th>\n",
        "      <td> 5</td>\n",
        "      <td>    Subang Jaya</td>\n",
        "      <td>  708296</td>\n",
        "      <td>                                  NaN</td>\n",
        "      <td> Municipality</td>\n",
        "    </tr>\n",
        "  </tbody>\n",
        "</table>\n",
        "</div>"
       ],
       "metadata": {},
       "output_type": "pyout",
       "prompt_number": 77,
       "text": [
        "   No.            City  Population                                  Area  \\\n",
        "0    1    Kuala Lumpur     1588750                                   NaN   \n",
        "1    2  Seberang Perai      818197  Includes Butterworth, Bukit Mertajam   \n",
        "2    3          Kajang      795522                                   NaN   \n",
        "3    4           Klang      744062                                   NaN   \n",
        "4    5     Subang Jaya      708296                                   NaN   \n",
        "\n",
        "           Type  \n",
        "0          City  \n",
        "1  Municipality  \n",
        "2  Municipality  \n",
        "3  Municipality  \n",
        "4  Municipality  "
       ]
      }
     ],
     "prompt_number": 77
    },
    {
     "cell_type": "markdown",
     "metadata": {},
     "source": [
      "---\n",
      "Further <span style=\"color: #0000FF\">$Pandas$</span> features can be found in http://pandas.pydata.org/. "
     ]
    }
   ],
   "metadata": {}
  }
 ]
}