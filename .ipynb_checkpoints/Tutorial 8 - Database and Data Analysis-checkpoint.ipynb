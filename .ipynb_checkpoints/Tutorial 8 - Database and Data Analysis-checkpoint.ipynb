{
 "cells": [
  {
   "cell_type": "markdown",
   "metadata": {},
   "source": [
    "# <span style=\"color: #B40486\">BASIC PYTHON FOR RESEARCHERS</span>"
   ]
  },
  {
   "cell_type": "markdown",
   "metadata": {},
   "source": [
    "_by_ [**_Megat Harun Al Rashid bin Megat Ahmad_**](https://www.researchgate.net/profile/Megat_Harun_Megat_Ahmad)  \n",
    "last updated: April 14, 2016"
   ]
  },
  {
   "cell_type": "markdown",
   "metadata": {},
   "source": [
    "-------\n",
    "## _<span style=\"color: #29088A\">8. Database and Data Analysis</span>_\n"
   ]
  },
  {
   "cell_type": "markdown",
   "metadata": {},
   "source": [
    "---\n",
    "<span style=\"color: #0000FF\">$Pandas$</span> is an open source library for data analysis in _Python_. It gives _Python_ similar capabilities to _R_ programming language  and even though it is possible to run _R_ in _Jupyter Notebook_, it would be more practical to do data analysis with a _Python_ friendly syntax. Similar to other libraries, the first step to use <span style=\"color: #0000FF\">$Pandas$</span> is to import the library and usually together with the <span style=\"color: #0000FF\">$Numpy$</span> library. "
   ]
  },
  {
   "cell_type": "code",
   "execution_count": 1,
   "metadata": {
    "collapsed": false
   },
   "outputs": [],
   "source": [
    "import pandas as pd\n",
    "import numpy as np"
   ]
  },
  {
   "cell_type": "markdown",
   "metadata": {},
   "source": [
    "***\n",
    "### **_8.1 Data Structures_**"
   ]
  },
  {
   "cell_type": "markdown",
   "metadata": {},
   "source": [
    "Data structures (similar to _Sequence_ in _Python_) of <span style=\"color: #0000FF\">$Pandas$</span> revolves around the **_Series_** and **_DataFrame_** structures. Both are fast as they are built on top of <span style=\"color: #0000FF\">$Numpy$</span>."
   ]
  },
  {
   "cell_type": "markdown",
   "metadata": {},
   "source": [
    "A **_Series_** is a one-dimensional object with a lot of similar properties similar to a list or dictionary in _Python_'s _Sequence_. Each element or item in a **_Series_** will be assigned by default an index label from _0_ to _N-1_ (where _N_ is the length of the **_Series_**) and it can contains the various type of _Python_'s data."
   ]
  },
  {
   "cell_type": "code",
   "execution_count": 2,
   "metadata": {
    "collapsed": false
   },
   "outputs": [
    {
     "data": {
      "text/plain": [
       "0                      34\n",
       "1                Material\n",
       "2                 12.5664\n",
       "3                 Reactor\n",
       "4    [100, 250, 500, 750]\n",
       "5                      kW\n",
       "dtype: object"
      ]
     },
     "execution_count": 2,
     "metadata": {},
     "output_type": "execute_result"
    }
   ],
   "source": [
    "# Creating a series (with different type of data)\n",
    "\n",
    "s1 = pd.Series([34, 'Material', 4*np.pi, 'Reactor', [100,250,500,750], 'kW'])\n",
    "s1"
   ]
  },
  {
   "cell_type": "markdown",
   "metadata": {},
   "source": [
    "The index of a **_Series_** can be specified during its creation and giving it a similar function to a dictionary."
   ]
  },
  {
   "cell_type": "code",
   "execution_count": 3,
   "metadata": {
    "collapsed": false
   },
   "outputs": [
    {
     "data": {
      "text/plain": [
       "b1                                 34\n",
       "r1                           Material\n",
       "solid angle                   12.5664\n",
       "18                            Reactor\n",
       "reactor power    [100, 250, 500, 750]\n",
       "unit                               kW\n",
       "dtype: object"
      ]
     },
     "execution_count": 3,
     "metadata": {},
     "output_type": "execute_result"
    }
   ],
   "source": [
    "# Creating a series with specified index\n",
    "\n",
    "lt = [34, 'Material', 4*np.pi, 'Reactor', [100,250,500,750], 'kW']\n",
    "\n",
    "s2 = pd.Series(lt, index = ['b1', 'r1', 'solid angle', 18, 'reactor power', 'unit'])\n",
    "s2"
   ]
  },
  {
   "cell_type": "markdown",
   "metadata": {},
   "source": [
    "Data can be extracted by specifying the element position or index (similar to list/dictionary)."
   ]
  },
  {
   "cell_type": "code",
   "execution_count": 4,
   "metadata": {
    "collapsed": false
   },
   "outputs": [
    {
     "data": {
      "text/plain": [
       "('Reactor', 12.566370614359172)"
      ]
     },
     "execution_count": 4,
     "metadata": {},
     "output_type": "execute_result"
    }
   ],
   "source": [
    "s1[3], s2['solid angle']"
   ]
  },
  {
   "cell_type": "markdown",
   "metadata": {},
   "source": [
    "**_Series_** can also be constructed from a dictionary."
   ]
  },
  {
   "cell_type": "code",
   "execution_count": 5,
   "metadata": {
    "collapsed": false
   },
   "outputs": [
    {
     "data": {
      "text/plain": [
       "Kajang             795522\n",
       "Klang              744062\n",
       "Kuala Lumpur      1588750\n",
       "Seberang Perai     818197\n",
       "Subang Jaya        708296\n",
       "dtype: int64"
      ]
     },
     "execution_count": 5,
     "metadata": {},
     "output_type": "execute_result"
    }
   ],
   "source": [
    "pop_cities = {'Kuala Lumpur':1588750, 'Seberang Perai':818197, 'Kajang':795522,\n",
    "              'Klang':744062, 'Subang Jaya':708296}\n",
    "cities = pd.Series(pop_cities)\n",
    "cities"
   ]
  },
  {
   "cell_type": "markdown",
   "metadata": {},
   "source": [
    "The elements can be sort using the <span style=\"color: #0000FF\">$Series.order()$</span> function. This will not change the structure of the original variable."
   ]
  },
  {
   "cell_type": "code",
   "execution_count": 6,
   "metadata": {
    "collapsed": false
   },
   "outputs": [
    {
     "name": "stderr",
     "output_type": "stream",
     "text": [
      "/home/megatharun/anaconda/lib/python2.7/site-packages/ipykernel/__main__.py:1: FutureWarning: order is deprecated, use sort_values(...)\n",
      "  if __name__ == '__main__':\n"
     ]
    },
    {
     "data": {
      "text/plain": [
       "Kuala Lumpur      1588750\n",
       "Seberang Perai     818197\n",
       "Kajang             795522\n",
       "Klang              744062\n",
       "Subang Jaya        708296\n",
       "dtype: int64"
      ]
     },
     "execution_count": 6,
     "metadata": {},
     "output_type": "execute_result"
    }
   ],
   "source": [
    "cities.order(ascending=False)"
   ]
  },
  {
   "cell_type": "code",
   "execution_count": 7,
   "metadata": {
    "collapsed": false
   },
   "outputs": [
    {
     "data": {
      "text/plain": [
       "Kajang             795522\n",
       "Klang              744062\n",
       "Kuala Lumpur      1588750\n",
       "Seberang Perai     818197\n",
       "Subang Jaya        708296\n",
       "dtype: int64"
      ]
     },
     "execution_count": 7,
     "metadata": {},
     "output_type": "execute_result"
    }
   ],
   "source": [
    "cities"
   ]
  },
  {
   "cell_type": "markdown",
   "metadata": {},
   "source": [
    "Another sorting function is the <span style=\"color: #0000FF\">$sort()$</span> function but this will change the structure of the **_Series_** variable."
   ]
  },
  {
   "cell_type": "code",
   "execution_count": 8,
   "metadata": {
    "collapsed": false
   },
   "outputs": [
    {
     "name": "stderr",
     "output_type": "stream",
     "text": [
      "/home/megatharun/anaconda/lib/python2.7/site-packages/ipykernel/__main__.py:3: FutureWarning: sort is deprecated, use sort_values(inplace=True) for for INPLACE sorting\n",
      "  app.launch_new_instance()\n"
     ]
    },
    {
     "data": {
      "text/plain": [
       "Kuala Lumpur      1588750\n",
       "Seberang Perai     818197\n",
       "Kajang             795522\n",
       "Klang              744062\n",
       "Subang Jaya        708296\n",
       "dtype: int64"
      ]
     },
     "execution_count": 8,
     "metadata": {},
     "output_type": "execute_result"
    }
   ],
   "source": [
    "# Sorting with descending values\n",
    "\n",
    "cities.sort(ascending=False)\n",
    "cities"
   ]
  },
  {
   "cell_type": "code",
   "execution_count": 9,
   "metadata": {
    "collapsed": false
   },
   "outputs": [
    {
     "data": {
      "text/plain": [
       "Kuala Lumpur      1588750\n",
       "Seberang Perai     818197\n",
       "Kajang             795522\n",
       "Klang              744062\n",
       "Subang Jaya        708296\n",
       "dtype: int64"
      ]
     },
     "execution_count": 9,
     "metadata": {},
     "output_type": "execute_result"
    }
   ],
   "source": [
    "cities"
   ]
  },
  {
   "cell_type": "markdown",
   "metadata": {},
   "source": [
    "Conditions can be applied to the elements."
   ]
  },
  {
   "cell_type": "code",
   "execution_count": 10,
   "metadata": {
    "collapsed": false
   },
   "outputs": [
    {
     "data": {
      "text/plain": [
       "Kajang         795522\n",
       "Klang          744062\n",
       "Subang Jaya    708296\n",
       "dtype: int64"
      ]
     },
     "execution_count": 10,
     "metadata": {},
     "output_type": "execute_result"
    }
   ],
   "source": [
    "# cities with population less than 800,000\n",
    "cities[cities<800000]                "
   ]
  },
  {
   "cell_type": "code",
   "execution_count": 11,
   "metadata": {
    "collapsed": false
   },
   "outputs": [
    {
     "data": {
      "text/plain": [
       "Kajang    795522\n",
       "dtype: int64"
      ]
     },
     "execution_count": 11,
     "metadata": {},
     "output_type": "execute_result"
    }
   ],
   "source": [
    "# cities with population between 750,000 and 800,000\n",
    "cities[cities<800000][cities>750000]"
   ]
  },
  {
   "cell_type": "markdown",
   "metadata": {},
   "source": [
    "---\n",
    "A **_DataFrame_** is a 2-dimensional data structure with named rows and columns. It is similar to  _R_'s _data.frame_ object and function like a spreadsheet. **_DataFrame_** can be considered to be made of series of **_Series_** data according to the column names. **_DataFrame_** can be created by passing a 2-dimensional array of data and specifying the rows and columns names."
   ]
  },
  {
   "cell_type": "code",
   "execution_count": 12,
   "metadata": {
    "collapsed": false
   },
   "outputs": [
    {
     "data": {
      "text/plain": [
       "DatetimeIndex(['2014-08-01', '2014-08-02', '2014-08-03', '2014-08-04',\n",
       "               '2014-08-05', '2014-08-06', '2014-08-07', '2014-08-08'],\n",
       "              dtype='datetime64[ns]', freq='D')"
      ]
     },
     "execution_count": 12,
     "metadata": {},
     "output_type": "execute_result"
    }
   ],
   "source": [
    "# Creating a DataFrame by passing a 2-D numpy array of random number \n",
    "\n",
    "# Creating first the date-time index using date_range function\n",
    "# and checking it.\n",
    "dates = pd.date_range('20140801', periods = 8, freq = 'D')\n",
    "dates"
   ]
  },
  {
   "cell_type": "code",
   "execution_count": 13,
   "metadata": {
    "collapsed": false
   },
   "outputs": [
    {
     "data": {
      "text/html": [
       "<div>\n",
       "<table border=\"1\" class=\"dataframe\">\n",
       "  <thead>\n",
       "    <tr style=\"text-align: right;\">\n",
       "      <th></th>\n",
       "      <th>Kedai A</th>\n",
       "      <th>Kedai B</th>\n",
       "      <th>Kedai C</th>\n",
       "      <th>Kedai D</th>\n",
       "      <th>Kedai E</th>\n",
       "    </tr>\n",
       "  </thead>\n",
       "  <tbody>\n",
       "    <tr>\n",
       "      <th>2014-08-01</th>\n",
       "      <td>0.908207</td>\n",
       "      <td>-1.915919</td>\n",
       "      <td>0.097727</td>\n",
       "      <td>0.505241</td>\n",
       "      <td>0.288635</td>\n",
       "    </tr>\n",
       "    <tr>\n",
       "      <th>2014-08-02</th>\n",
       "      <td>0.254458</td>\n",
       "      <td>0.943705</td>\n",
       "      <td>0.395889</td>\n",
       "      <td>-0.486971</td>\n",
       "      <td>0.075281</td>\n",
       "    </tr>\n",
       "    <tr>\n",
       "      <th>2014-08-03</th>\n",
       "      <td>0.115361</td>\n",
       "      <td>-0.958970</td>\n",
       "      <td>-0.825462</td>\n",
       "      <td>-0.130196</td>\n",
       "      <td>0.236358</td>\n",
       "    </tr>\n",
       "    <tr>\n",
       "      <th>2014-08-04</th>\n",
       "      <td>0.634680</td>\n",
       "      <td>-0.117784</td>\n",
       "      <td>-0.291003</td>\n",
       "      <td>2.075217</td>\n",
       "      <td>-0.063509</td>\n",
       "    </tr>\n",
       "    <tr>\n",
       "      <th>2014-08-05</th>\n",
       "      <td>-0.189921</td>\n",
       "      <td>-0.902058</td>\n",
       "      <td>-0.677468</td>\n",
       "      <td>0.155232</td>\n",
       "      <td>-1.285344</td>\n",
       "    </tr>\n",
       "    <tr>\n",
       "      <th>2014-08-06</th>\n",
       "      <td>1.309475</td>\n",
       "      <td>0.753785</td>\n",
       "      <td>0.851052</td>\n",
       "      <td>-0.564646</td>\n",
       "      <td>0.361620</td>\n",
       "    </tr>\n",
       "    <tr>\n",
       "      <th>2014-08-07</th>\n",
       "      <td>0.644292</td>\n",
       "      <td>-1.103346</td>\n",
       "      <td>-0.183652</td>\n",
       "      <td>1.270935</td>\n",
       "      <td>-2.393798</td>\n",
       "    </tr>\n",
       "    <tr>\n",
       "      <th>2014-08-08</th>\n",
       "      <td>-0.512127</td>\n",
       "      <td>0.147982</td>\n",
       "      <td>-2.003851</td>\n",
       "      <td>1.740556</td>\n",
       "      <td>-0.770737</td>\n",
       "    </tr>\n",
       "  </tbody>\n",
       "</table>\n",
       "</div>"
      ],
      "text/plain": [
       "             Kedai A   Kedai B   Kedai C   Kedai D   Kedai E\n",
       "2014-08-01  0.908207 -1.915919  0.097727  0.505241  0.288635\n",
       "2014-08-02  0.254458  0.943705  0.395889 -0.486971  0.075281\n",
       "2014-08-03  0.115361 -0.958970 -0.825462 -0.130196  0.236358\n",
       "2014-08-04  0.634680 -0.117784 -0.291003  2.075217 -0.063509\n",
       "2014-08-05 -0.189921 -0.902058 -0.677468  0.155232 -1.285344\n",
       "2014-08-06  1.309475  0.753785  0.851052 -0.564646  0.361620\n",
       "2014-08-07  0.644292 -1.103346 -0.183652  1.270935 -2.393798\n",
       "2014-08-08 -0.512127  0.147982 -2.003851  1.740556 -0.770737"
      ]
     },
     "execution_count": 13,
     "metadata": {},
     "output_type": "execute_result"
    }
   ],
   "source": [
    "# Creating the column names as list\n",
    "Kedai = ['Kedai A', 'Kedai B', 'Kedai C', 'Kedai D', 'Kedai E']\n",
    "\n",
    "# Creating the DataFrame with specified rows and columns\n",
    "df = pd.DataFrame(np.random.randn(8,5),index=dates,columns=Kedai)\n",
    "df"
   ]
  },
  {
   "cell_type": "markdown",
   "metadata": {},
   "source": [
    "---\n",
    "Some of the useful functions that can be applied to a **_DataFrame_** include:"
   ]
  },
  {
   "cell_type": "code",
   "execution_count": 14,
   "metadata": {
    "collapsed": false
   },
   "outputs": [
    {
     "data": {
      "text/html": [
       "<div>\n",
       "<table border=\"1\" class=\"dataframe\">\n",
       "  <thead>\n",
       "    <tr style=\"text-align: right;\">\n",
       "      <th></th>\n",
       "      <th>Kedai A</th>\n",
       "      <th>Kedai B</th>\n",
       "      <th>Kedai C</th>\n",
       "      <th>Kedai D</th>\n",
       "      <th>Kedai E</th>\n",
       "    </tr>\n",
       "  </thead>\n",
       "  <tbody>\n",
       "    <tr>\n",
       "      <th>2014-08-01</th>\n",
       "      <td>0.908207</td>\n",
       "      <td>-1.915919</td>\n",
       "      <td>0.097727</td>\n",
       "      <td>0.505241</td>\n",
       "      <td>0.288635</td>\n",
       "    </tr>\n",
       "    <tr>\n",
       "      <th>2014-08-02</th>\n",
       "      <td>0.254458</td>\n",
       "      <td>0.943705</td>\n",
       "      <td>0.395889</td>\n",
       "      <td>-0.486971</td>\n",
       "      <td>0.075281</td>\n",
       "    </tr>\n",
       "    <tr>\n",
       "      <th>2014-08-03</th>\n",
       "      <td>0.115361</td>\n",
       "      <td>-0.958970</td>\n",
       "      <td>-0.825462</td>\n",
       "      <td>-0.130196</td>\n",
       "      <td>0.236358</td>\n",
       "    </tr>\n",
       "    <tr>\n",
       "      <th>2014-08-04</th>\n",
       "      <td>0.634680</td>\n",
       "      <td>-0.117784</td>\n",
       "      <td>-0.291003</td>\n",
       "      <td>2.075217</td>\n",
       "      <td>-0.063509</td>\n",
       "    </tr>\n",
       "    <tr>\n",
       "      <th>2014-08-05</th>\n",
       "      <td>-0.189921</td>\n",
       "      <td>-0.902058</td>\n",
       "      <td>-0.677468</td>\n",
       "      <td>0.155232</td>\n",
       "      <td>-1.285344</td>\n",
       "    </tr>\n",
       "  </tbody>\n",
       "</table>\n",
       "</div>"
      ],
      "text/plain": [
       "             Kedai A   Kedai B   Kedai C   Kedai D   Kedai E\n",
       "2014-08-01  0.908207 -1.915919  0.097727  0.505241  0.288635\n",
       "2014-08-02  0.254458  0.943705  0.395889 -0.486971  0.075281\n",
       "2014-08-03  0.115361 -0.958970 -0.825462 -0.130196  0.236358\n",
       "2014-08-04  0.634680 -0.117784 -0.291003  2.075217 -0.063509\n",
       "2014-08-05 -0.189921 -0.902058 -0.677468  0.155232 -1.285344"
      ]
     },
     "execution_count": 14,
     "metadata": {},
     "output_type": "execute_result"
    }
   ],
   "source": [
    "df.head()             # Displaying the first five (default) rows\n"
   ]
  },
  {
   "cell_type": "code",
   "execution_count": 15,
   "metadata": {
    "collapsed": false
   },
   "outputs": [
    {
     "data": {
      "text/html": [
       "<div>\n",
       "<table border=\"1\" class=\"dataframe\">\n",
       "  <thead>\n",
       "    <tr style=\"text-align: right;\">\n",
       "      <th></th>\n",
       "      <th>Kedai A</th>\n",
       "      <th>Kedai B</th>\n",
       "      <th>Kedai C</th>\n",
       "      <th>Kedai D</th>\n",
       "      <th>Kedai E</th>\n",
       "    </tr>\n",
       "  </thead>\n",
       "  <tbody>\n",
       "    <tr>\n",
       "      <th>2014-08-01</th>\n",
       "      <td>0.908207</td>\n",
       "      <td>-1.915919</td>\n",
       "      <td>0.097727</td>\n",
       "      <td>0.505241</td>\n",
       "      <td>0.288635</td>\n",
       "    </tr>\n",
       "    <tr>\n",
       "      <th>2014-08-02</th>\n",
       "      <td>0.254458</td>\n",
       "      <td>0.943705</td>\n",
       "      <td>0.395889</td>\n",
       "      <td>-0.486971</td>\n",
       "      <td>0.075281</td>\n",
       "    </tr>\n",
       "    <tr>\n",
       "      <th>2014-08-03</th>\n",
       "      <td>0.115361</td>\n",
       "      <td>-0.958970</td>\n",
       "      <td>-0.825462</td>\n",
       "      <td>-0.130196</td>\n",
       "      <td>0.236358</td>\n",
       "    </tr>\n",
       "  </tbody>\n",
       "</table>\n",
       "</div>"
      ],
      "text/plain": [
       "             Kedai A   Kedai B   Kedai C   Kedai D   Kedai E\n",
       "2014-08-01  0.908207 -1.915919  0.097727  0.505241  0.288635\n",
       "2014-08-02  0.254458  0.943705  0.395889 -0.486971  0.075281\n",
       "2014-08-03  0.115361 -0.958970 -0.825462 -0.130196  0.236358"
      ]
     },
     "execution_count": 15,
     "metadata": {},
     "output_type": "execute_result"
    }
   ],
   "source": [
    "df.head(3)             # Displaying the first three (specified) rows\n"
   ]
  },
  {
   "cell_type": "code",
   "execution_count": 16,
   "metadata": {
    "collapsed": false
   },
   "outputs": [
    {
     "data": {
      "text/html": [
       "<div>\n",
       "<table border=\"1\" class=\"dataframe\">\n",
       "  <thead>\n",
       "    <tr style=\"text-align: right;\">\n",
       "      <th></th>\n",
       "      <th>Kedai A</th>\n",
       "      <th>Kedai B</th>\n",
       "      <th>Kedai C</th>\n",
       "      <th>Kedai D</th>\n",
       "      <th>Kedai E</th>\n",
       "    </tr>\n",
       "  </thead>\n",
       "  <tbody>\n",
       "    <tr>\n",
       "      <th>2014-08-07</th>\n",
       "      <td>0.644292</td>\n",
       "      <td>-1.103346</td>\n",
       "      <td>-0.183652</td>\n",
       "      <td>1.270935</td>\n",
       "      <td>-2.393798</td>\n",
       "    </tr>\n",
       "    <tr>\n",
       "      <th>2014-08-08</th>\n",
       "      <td>-0.512127</td>\n",
       "      <td>0.147982</td>\n",
       "      <td>-2.003851</td>\n",
       "      <td>1.740556</td>\n",
       "      <td>-0.770737</td>\n",
       "    </tr>\n",
       "  </tbody>\n",
       "</table>\n",
       "</div>"
      ],
      "text/plain": [
       "             Kedai A   Kedai B   Kedai C   Kedai D   Kedai E\n",
       "2014-08-07  0.644292 -1.103346 -0.183652  1.270935 -2.393798\n",
       "2014-08-08 -0.512127  0.147982 -2.003851  1.740556 -0.770737"
      ]
     },
     "execution_count": 16,
     "metadata": {},
     "output_type": "execute_result"
    }
   ],
   "source": [
    "df.tail(2)             # Displaying the last two (specified) rows\n"
   ]
  },
  {
   "cell_type": "code",
   "execution_count": 17,
   "metadata": {
    "collapsed": false
   },
   "outputs": [
    {
     "data": {
      "text/plain": [
       "DatetimeIndex(['2014-08-01', '2014-08-02', '2014-08-03', '2014-08-04',\n",
       "               '2014-08-05', '2014-08-06', '2014-08-07', '2014-08-08'],\n",
       "              dtype='datetime64[ns]', freq='D')"
      ]
     },
     "execution_count": 17,
     "metadata": {},
     "output_type": "execute_result"
    }
   ],
   "source": [
    "df.index               # Showing the index of rows\n"
   ]
  },
  {
   "cell_type": "code",
   "execution_count": 18,
   "metadata": {
    "collapsed": false
   },
   "outputs": [
    {
     "data": {
      "text/plain": [
       "Index([u'Kedai A', u'Kedai B', u'Kedai C', u'Kedai D', u'Kedai E'], dtype='object')"
      ]
     },
     "execution_count": 18,
     "metadata": {},
     "output_type": "execute_result"
    }
   ],
   "source": [
    "df.columns             # Showing the fields of columns\n"
   ]
  },
  {
   "cell_type": "code",
   "execution_count": 19,
   "metadata": {
    "collapsed": false
   },
   "outputs": [
    {
     "data": {
      "text/plain": [
       "array([[ 0.90820724, -1.91591888,  0.0977269 ,  0.50524069,  0.28863545],\n",
       "       [ 0.25445799,  0.94370516,  0.39588871, -0.48697109,  0.07528073],\n",
       "       [ 0.11536149, -0.95897049, -0.82546162, -0.13019616,  0.23635838],\n",
       "       [ 0.63468028, -0.11778374, -0.29100337,  2.07521734, -0.06350881],\n",
       "       [-0.18992099, -0.90205808, -0.67746765,  0.15523248, -1.28534372],\n",
       "       [ 1.30947528,  0.75378506,  0.85105209, -0.5646459 ,  0.36162018],\n",
       "       [ 0.64429166, -1.10334612, -0.18365171,  1.27093484, -2.39379768],\n",
       "       [-0.51212697,  0.14798184, -2.00385122,  1.74055598, -0.77073667]])"
      ]
     },
     "execution_count": 19,
     "metadata": {},
     "output_type": "execute_result"
    }
   ],
   "source": [
    "df.values              # Showing the data only in its original 2-D array\n"
   ]
  },
  {
   "cell_type": "code",
   "execution_count": 20,
   "metadata": {
    "collapsed": false
   },
   "outputs": [
    {
     "data": {
      "text/html": [
       "<div>\n",
       "<table border=\"1\" class=\"dataframe\">\n",
       "  <thead>\n",
       "    <tr style=\"text-align: right;\">\n",
       "      <th></th>\n",
       "      <th>Kedai A</th>\n",
       "      <th>Kedai B</th>\n",
       "      <th>Kedai C</th>\n",
       "      <th>Kedai D</th>\n",
       "      <th>Kedai E</th>\n",
       "    </tr>\n",
       "  </thead>\n",
       "  <tbody>\n",
       "    <tr>\n",
       "      <th>count</th>\n",
       "      <td>8.000000</td>\n",
       "      <td>8.000000</td>\n",
       "      <td>8.000000</td>\n",
       "      <td>8.000000</td>\n",
       "      <td>8.000000</td>\n",
       "    </tr>\n",
       "    <tr>\n",
       "      <th>mean</th>\n",
       "      <td>0.395553</td>\n",
       "      <td>-0.394076</td>\n",
       "      <td>-0.329596</td>\n",
       "      <td>0.570671</td>\n",
       "      <td>-0.443937</td>\n",
       "    </tr>\n",
       "    <tr>\n",
       "      <th>std</th>\n",
       "      <td>0.595483</td>\n",
       "      <td>0.990932</td>\n",
       "      <td>0.869785</td>\n",
       "      <td>1.014065</td>\n",
       "      <td>0.976833</td>\n",
       "    </tr>\n",
       "    <tr>\n",
       "      <th>min</th>\n",
       "      <td>-0.512127</td>\n",
       "      <td>-1.915919</td>\n",
       "      <td>-2.003851</td>\n",
       "      <td>-0.564646</td>\n",
       "      <td>-2.393798</td>\n",
       "    </tr>\n",
       "    <tr>\n",
       "      <th>25%</th>\n",
       "      <td>0.039041</td>\n",
       "      <td>-0.995064</td>\n",
       "      <td>-0.714466</td>\n",
       "      <td>-0.219390</td>\n",
       "      <td>-0.899388</td>\n",
       "    </tr>\n",
       "    <tr>\n",
       "      <th>50%</th>\n",
       "      <td>0.444569</td>\n",
       "      <td>-0.509921</td>\n",
       "      <td>-0.237328</td>\n",
       "      <td>0.330237</td>\n",
       "      <td>0.005886</td>\n",
       "    </tr>\n",
       "    <tr>\n",
       "      <th>75%</th>\n",
       "      <td>0.710271</td>\n",
       "      <td>0.299433</td>\n",
       "      <td>0.172267</td>\n",
       "      <td>1.388340</td>\n",
       "      <td>0.249428</td>\n",
       "    </tr>\n",
       "    <tr>\n",
       "      <th>max</th>\n",
       "      <td>1.309475</td>\n",
       "      <td>0.943705</td>\n",
       "      <td>0.851052</td>\n",
       "      <td>2.075217</td>\n",
       "      <td>0.361620</td>\n",
       "    </tr>\n",
       "  </tbody>\n",
       "</table>\n",
       "</div>"
      ],
      "text/plain": [
       "        Kedai A   Kedai B   Kedai C   Kedai D   Kedai E\n",
       "count  8.000000  8.000000  8.000000  8.000000  8.000000\n",
       "mean   0.395553 -0.394076 -0.329596  0.570671 -0.443937\n",
       "std    0.595483  0.990932  0.869785  1.014065  0.976833\n",
       "min   -0.512127 -1.915919 -2.003851 -0.564646 -2.393798\n",
       "25%    0.039041 -0.995064 -0.714466 -0.219390 -0.899388\n",
       "50%    0.444569 -0.509921 -0.237328  0.330237  0.005886\n",
       "75%    0.710271  0.299433  0.172267  1.388340  0.249428\n",
       "max    1.309475  0.943705  0.851052  2.075217  0.361620"
      ]
     },
     "execution_count": 20,
     "metadata": {},
     "output_type": "execute_result"
    }
   ],
   "source": [
    "df.describe()          # Simple statistical data for each column\n"
   ]
  },
  {
   "cell_type": "code",
   "execution_count": 21,
   "metadata": {
    "collapsed": false
   },
   "outputs": [
    {
     "data": {
      "text/html": [
       "<div>\n",
       "<table border=\"1\" class=\"dataframe\">\n",
       "  <thead>\n",
       "    <tr style=\"text-align: right;\">\n",
       "      <th></th>\n",
       "      <th>2014-08-01 00:00:00</th>\n",
       "      <th>2014-08-02 00:00:00</th>\n",
       "      <th>2014-08-03 00:00:00</th>\n",
       "      <th>2014-08-04 00:00:00</th>\n",
       "      <th>2014-08-05 00:00:00</th>\n",
       "      <th>2014-08-06 00:00:00</th>\n",
       "      <th>2014-08-07 00:00:00</th>\n",
       "      <th>2014-08-08 00:00:00</th>\n",
       "    </tr>\n",
       "  </thead>\n",
       "  <tbody>\n",
       "    <tr>\n",
       "      <th>Kedai A</th>\n",
       "      <td>0.908207</td>\n",
       "      <td>0.254458</td>\n",
       "      <td>0.115361</td>\n",
       "      <td>0.634680</td>\n",
       "      <td>-0.189921</td>\n",
       "      <td>1.309475</td>\n",
       "      <td>0.644292</td>\n",
       "      <td>-0.512127</td>\n",
       "    </tr>\n",
       "    <tr>\n",
       "      <th>Kedai B</th>\n",
       "      <td>-1.915919</td>\n",
       "      <td>0.943705</td>\n",
       "      <td>-0.958970</td>\n",
       "      <td>-0.117784</td>\n",
       "      <td>-0.902058</td>\n",
       "      <td>0.753785</td>\n",
       "      <td>-1.103346</td>\n",
       "      <td>0.147982</td>\n",
       "    </tr>\n",
       "    <tr>\n",
       "      <th>Kedai C</th>\n",
       "      <td>0.097727</td>\n",
       "      <td>0.395889</td>\n",
       "      <td>-0.825462</td>\n",
       "      <td>-0.291003</td>\n",
       "      <td>-0.677468</td>\n",
       "      <td>0.851052</td>\n",
       "      <td>-0.183652</td>\n",
       "      <td>-2.003851</td>\n",
       "    </tr>\n",
       "    <tr>\n",
       "      <th>Kedai D</th>\n",
       "      <td>0.505241</td>\n",
       "      <td>-0.486971</td>\n",
       "      <td>-0.130196</td>\n",
       "      <td>2.075217</td>\n",
       "      <td>0.155232</td>\n",
       "      <td>-0.564646</td>\n",
       "      <td>1.270935</td>\n",
       "      <td>1.740556</td>\n",
       "    </tr>\n",
       "    <tr>\n",
       "      <th>Kedai E</th>\n",
       "      <td>0.288635</td>\n",
       "      <td>0.075281</td>\n",
       "      <td>0.236358</td>\n",
       "      <td>-0.063509</td>\n",
       "      <td>-1.285344</td>\n",
       "      <td>0.361620</td>\n",
       "      <td>-2.393798</td>\n",
       "      <td>-0.770737</td>\n",
       "    </tr>\n",
       "  </tbody>\n",
       "</table>\n",
       "</div>"
      ],
      "text/plain": [
       "         2014-08-01  2014-08-02  2014-08-03  2014-08-04  2014-08-05  \\\n",
       "Kedai A    0.908207    0.254458    0.115361    0.634680   -0.189921   \n",
       "Kedai B   -1.915919    0.943705   -0.958970   -0.117784   -0.902058   \n",
       "Kedai C    0.097727    0.395889   -0.825462   -0.291003   -0.677468   \n",
       "Kedai D    0.505241   -0.486971   -0.130196    2.075217    0.155232   \n",
       "Kedai E    0.288635    0.075281    0.236358   -0.063509   -1.285344   \n",
       "\n",
       "         2014-08-06  2014-08-07  2014-08-08  \n",
       "Kedai A    1.309475    0.644292   -0.512127  \n",
       "Kedai B    0.753785   -1.103346    0.147982  \n",
       "Kedai C    0.851052   -0.183652   -2.003851  \n",
       "Kedai D   -0.564646    1.270935    1.740556  \n",
       "Kedai E    0.361620   -2.393798   -0.770737  "
      ]
     },
     "execution_count": 21,
     "metadata": {},
     "output_type": "execute_result"
    }
   ],
   "source": [
    "df.T                    # Transposing the DataFrame (index becomes column and vice versa)\n"
   ]
  },
  {
   "cell_type": "code",
   "execution_count": 22,
   "metadata": {
    "collapsed": false
   },
   "outputs": [
    {
     "data": {
      "text/html": [
       "<div>\n",
       "<table border=\"1\" class=\"dataframe\">\n",
       "  <thead>\n",
       "    <tr style=\"text-align: right;\">\n",
       "      <th></th>\n",
       "      <th>Kedai E</th>\n",
       "      <th>Kedai D</th>\n",
       "      <th>Kedai C</th>\n",
       "      <th>Kedai B</th>\n",
       "      <th>Kedai A</th>\n",
       "    </tr>\n",
       "  </thead>\n",
       "  <tbody>\n",
       "    <tr>\n",
       "      <th>2014-08-01</th>\n",
       "      <td>0.288635</td>\n",
       "      <td>0.505241</td>\n",
       "      <td>0.097727</td>\n",
       "      <td>-1.915919</td>\n",
       "      <td>0.908207</td>\n",
       "    </tr>\n",
       "    <tr>\n",
       "      <th>2014-08-02</th>\n",
       "      <td>0.075281</td>\n",
       "      <td>-0.486971</td>\n",
       "      <td>0.395889</td>\n",
       "      <td>0.943705</td>\n",
       "      <td>0.254458</td>\n",
       "    </tr>\n",
       "    <tr>\n",
       "      <th>2014-08-03</th>\n",
       "      <td>0.236358</td>\n",
       "      <td>-0.130196</td>\n",
       "      <td>-0.825462</td>\n",
       "      <td>-0.958970</td>\n",
       "      <td>0.115361</td>\n",
       "    </tr>\n",
       "    <tr>\n",
       "      <th>2014-08-04</th>\n",
       "      <td>-0.063509</td>\n",
       "      <td>2.075217</td>\n",
       "      <td>-0.291003</td>\n",
       "      <td>-0.117784</td>\n",
       "      <td>0.634680</td>\n",
       "    </tr>\n",
       "    <tr>\n",
       "      <th>2014-08-05</th>\n",
       "      <td>-1.285344</td>\n",
       "      <td>0.155232</td>\n",
       "      <td>-0.677468</td>\n",
       "      <td>-0.902058</td>\n",
       "      <td>-0.189921</td>\n",
       "    </tr>\n",
       "    <tr>\n",
       "      <th>2014-08-06</th>\n",
       "      <td>0.361620</td>\n",
       "      <td>-0.564646</td>\n",
       "      <td>0.851052</td>\n",
       "      <td>0.753785</td>\n",
       "      <td>1.309475</td>\n",
       "    </tr>\n",
       "    <tr>\n",
       "      <th>2014-08-07</th>\n",
       "      <td>-2.393798</td>\n",
       "      <td>1.270935</td>\n",
       "      <td>-0.183652</td>\n",
       "      <td>-1.103346</td>\n",
       "      <td>0.644292</td>\n",
       "    </tr>\n",
       "    <tr>\n",
       "      <th>2014-08-08</th>\n",
       "      <td>-0.770737</td>\n",
       "      <td>1.740556</td>\n",
       "      <td>-2.003851</td>\n",
       "      <td>0.147982</td>\n",
       "      <td>-0.512127</td>\n",
       "    </tr>\n",
       "  </tbody>\n",
       "</table>\n",
       "</div>"
      ],
      "text/plain": [
       "             Kedai E   Kedai D   Kedai C   Kedai B   Kedai A\n",
       "2014-08-01  0.288635  0.505241  0.097727 -1.915919  0.908207\n",
       "2014-08-02  0.075281 -0.486971  0.395889  0.943705  0.254458\n",
       "2014-08-03  0.236358 -0.130196 -0.825462 -0.958970  0.115361\n",
       "2014-08-04 -0.063509  2.075217 -0.291003 -0.117784  0.634680\n",
       "2014-08-05 -1.285344  0.155232 -0.677468 -0.902058 -0.189921\n",
       "2014-08-06  0.361620 -0.564646  0.851052  0.753785  1.309475\n",
       "2014-08-07 -2.393798  1.270935 -0.183652 -1.103346  0.644292\n",
       "2014-08-08 -0.770737  1.740556 -2.003851  0.147982 -0.512127"
      ]
     },
     "execution_count": 22,
     "metadata": {},
     "output_type": "execute_result"
    }
   ],
   "source": [
    "df.sort_index(axis=1,ascending=False)     # Sorting with descending column "
   ]
  },
  {
   "cell_type": "code",
   "execution_count": 23,
   "metadata": {
    "collapsed": false
   },
   "outputs": [
    {
     "name": "stderr",
     "output_type": "stream",
     "text": [
      "/home/megatharun/anaconda/lib/python2.7/site-packages/ipykernel/__main__.py:1: FutureWarning: sort(columns=....) is deprecated, use sort_values(by=.....)\n",
      "  if __name__ == '__main__':\n"
     ]
    },
    {
     "data": {
      "text/html": [
       "<div>\n",
       "<table border=\"1\" class=\"dataframe\">\n",
       "  <thead>\n",
       "    <tr style=\"text-align: right;\">\n",
       "      <th></th>\n",
       "      <th>Kedai A</th>\n",
       "      <th>Kedai B</th>\n",
       "      <th>Kedai C</th>\n",
       "      <th>Kedai D</th>\n",
       "      <th>Kedai E</th>\n",
       "    </tr>\n",
       "  </thead>\n",
       "  <tbody>\n",
       "    <tr>\n",
       "      <th>2014-08-06</th>\n",
       "      <td>1.309475</td>\n",
       "      <td>0.753785</td>\n",
       "      <td>0.851052</td>\n",
       "      <td>-0.564646</td>\n",
       "      <td>0.361620</td>\n",
       "    </tr>\n",
       "    <tr>\n",
       "      <th>2014-08-02</th>\n",
       "      <td>0.254458</td>\n",
       "      <td>0.943705</td>\n",
       "      <td>0.395889</td>\n",
       "      <td>-0.486971</td>\n",
       "      <td>0.075281</td>\n",
       "    </tr>\n",
       "    <tr>\n",
       "      <th>2014-08-03</th>\n",
       "      <td>0.115361</td>\n",
       "      <td>-0.958970</td>\n",
       "      <td>-0.825462</td>\n",
       "      <td>-0.130196</td>\n",
       "      <td>0.236358</td>\n",
       "    </tr>\n",
       "    <tr>\n",
       "      <th>2014-08-05</th>\n",
       "      <td>-0.189921</td>\n",
       "      <td>-0.902058</td>\n",
       "      <td>-0.677468</td>\n",
       "      <td>0.155232</td>\n",
       "      <td>-1.285344</td>\n",
       "    </tr>\n",
       "    <tr>\n",
       "      <th>2014-08-01</th>\n",
       "      <td>0.908207</td>\n",
       "      <td>-1.915919</td>\n",
       "      <td>0.097727</td>\n",
       "      <td>0.505241</td>\n",
       "      <td>0.288635</td>\n",
       "    </tr>\n",
       "    <tr>\n",
       "      <th>2014-08-07</th>\n",
       "      <td>0.644292</td>\n",
       "      <td>-1.103346</td>\n",
       "      <td>-0.183652</td>\n",
       "      <td>1.270935</td>\n",
       "      <td>-2.393798</td>\n",
       "    </tr>\n",
       "    <tr>\n",
       "      <th>2014-08-08</th>\n",
       "      <td>-0.512127</td>\n",
       "      <td>0.147982</td>\n",
       "      <td>-2.003851</td>\n",
       "      <td>1.740556</td>\n",
       "      <td>-0.770737</td>\n",
       "    </tr>\n",
       "    <tr>\n",
       "      <th>2014-08-04</th>\n",
       "      <td>0.634680</td>\n",
       "      <td>-0.117784</td>\n",
       "      <td>-0.291003</td>\n",
       "      <td>2.075217</td>\n",
       "      <td>-0.063509</td>\n",
       "    </tr>\n",
       "  </tbody>\n",
       "</table>\n",
       "</div>"
      ],
      "text/plain": [
       "             Kedai A   Kedai B   Kedai C   Kedai D   Kedai E\n",
       "2014-08-06  1.309475  0.753785  0.851052 -0.564646  0.361620\n",
       "2014-08-02  0.254458  0.943705  0.395889 -0.486971  0.075281\n",
       "2014-08-03  0.115361 -0.958970 -0.825462 -0.130196  0.236358\n",
       "2014-08-05 -0.189921 -0.902058 -0.677468  0.155232 -1.285344\n",
       "2014-08-01  0.908207 -1.915919  0.097727  0.505241  0.288635\n",
       "2014-08-07  0.644292 -1.103346 -0.183652  1.270935 -2.393798\n",
       "2014-08-08 -0.512127  0.147982 -2.003851  1.740556 -0.770737\n",
       "2014-08-04  0.634680 -0.117784 -0.291003  2.075217 -0.063509"
      ]
     },
     "execution_count": 23,
     "metadata": {},
     "output_type": "execute_result"
    }
   ],
   "source": [
    "df.sort(columns='Kedai D')               # Sorting according to ascending specific column"
   ]
  },
  {
   "cell_type": "code",
   "execution_count": 24,
   "metadata": {
    "collapsed": false
   },
   "outputs": [
    {
     "data": {
      "text/plain": [
       "2014-08-01    0.908207\n",
       "2014-08-02    0.254458\n",
       "2014-08-03    0.115361\n",
       "2014-08-04    0.634680\n",
       "2014-08-05   -0.189921\n",
       "2014-08-06    1.309475\n",
       "2014-08-07    0.644292\n",
       "2014-08-08   -0.512127\n",
       "Freq: D, Name: Kedai A, dtype: float64"
      ]
     },
     "execution_count": 24,
     "metadata": {},
     "output_type": "execute_result"
    }
   ],
   "source": [
    "df['Kedai A']             # Extract specific column (using python list syntax)"
   ]
  },
  {
   "cell_type": "code",
   "execution_count": 25,
   "metadata": {
    "collapsed": false
   },
   "outputs": [
    {
     "data": {
      "text/plain": [
       "2014-08-03    0.115361\n",
       "2014-08-04    0.634680\n",
       "Freq: D, Name: Kedai A, dtype: float64"
      ]
     },
     "execution_count": 25,
     "metadata": {},
     "output_type": "execute_result"
    }
   ],
   "source": [
    "df['Kedai A'][2:4]        # Slicing specific column (using python list syntax)\n"
   ]
  },
  {
   "cell_type": "code",
   "execution_count": 26,
   "metadata": {
    "collapsed": false
   },
   "outputs": [
    {
     "data": {
      "text/html": [
       "<div>\n",
       "<table border=\"1\" class=\"dataframe\">\n",
       "  <thead>\n",
       "    <tr style=\"text-align: right;\">\n",
       "      <th></th>\n",
       "      <th>Kedai A</th>\n",
       "      <th>Kedai B</th>\n",
       "      <th>Kedai C</th>\n",
       "      <th>Kedai D</th>\n",
       "      <th>Kedai E</th>\n",
       "    </tr>\n",
       "  </thead>\n",
       "  <tbody>\n",
       "    <tr>\n",
       "      <th>2014-08-03</th>\n",
       "      <td>0.115361</td>\n",
       "      <td>-0.958970</td>\n",
       "      <td>-0.825462</td>\n",
       "      <td>-0.130196</td>\n",
       "      <td>0.236358</td>\n",
       "    </tr>\n",
       "    <tr>\n",
       "      <th>2014-08-04</th>\n",
       "      <td>0.634680</td>\n",
       "      <td>-0.117784</td>\n",
       "      <td>-0.291003</td>\n",
       "      <td>2.075217</td>\n",
       "      <td>-0.063509</td>\n",
       "    </tr>\n",
       "  </tbody>\n",
       "</table>\n",
       "</div>"
      ],
      "text/plain": [
       "             Kedai A   Kedai B   Kedai C   Kedai D   Kedai E\n",
       "2014-08-03  0.115361 -0.958970 -0.825462 -0.130196  0.236358\n",
       "2014-08-04  0.634680 -0.117784 -0.291003  2.075217 -0.063509"
      ]
     },
     "execution_count": 26,
     "metadata": {},
     "output_type": "execute_result"
    }
   ],
   "source": [
    "df[2:4]                   # Slicing specific row data  (using python list syntax)"
   ]
  },
  {
   "cell_type": "code",
   "execution_count": 27,
   "metadata": {
    "collapsed": false
   },
   "outputs": [
    {
     "data": {
      "text/html": [
       "<div>\n",
       "<table border=\"1\" class=\"dataframe\">\n",
       "  <thead>\n",
       "    <tr style=\"text-align: right;\">\n",
       "      <th></th>\n",
       "      <th>Kedai A</th>\n",
       "      <th>Kedai B</th>\n",
       "      <th>Kedai C</th>\n",
       "      <th>Kedai D</th>\n",
       "      <th>Kedai E</th>\n",
       "    </tr>\n",
       "  </thead>\n",
       "  <tbody>\n",
       "    <tr>\n",
       "      <th>2014-08-03</th>\n",
       "      <td>0.115361</td>\n",
       "      <td>-0.958970</td>\n",
       "      <td>-0.825462</td>\n",
       "      <td>-0.130196</td>\n",
       "      <td>0.236358</td>\n",
       "    </tr>\n",
       "    <tr>\n",
       "      <th>2014-08-04</th>\n",
       "      <td>0.634680</td>\n",
       "      <td>-0.117784</td>\n",
       "      <td>-0.291003</td>\n",
       "      <td>2.075217</td>\n",
       "      <td>-0.063509</td>\n",
       "    </tr>\n",
       "    <tr>\n",
       "      <th>2014-08-05</th>\n",
       "      <td>-0.189921</td>\n",
       "      <td>-0.902058</td>\n",
       "      <td>-0.677468</td>\n",
       "      <td>0.155232</td>\n",
       "      <td>-1.285344</td>\n",
       "    </tr>\n",
       "  </tbody>\n",
       "</table>\n",
       "</div>"
      ],
      "text/plain": [
       "             Kedai A   Kedai B   Kedai C   Kedai D   Kedai E\n",
       "2014-08-03  0.115361 -0.958970 -0.825462 -0.130196  0.236358\n",
       "2014-08-04  0.634680 -0.117784 -0.291003  2.075217 -0.063509\n",
       "2014-08-05 -0.189921 -0.902058 -0.677468  0.155232 -1.285344"
      ]
     },
     "execution_count": 27,
     "metadata": {},
     "output_type": "execute_result"
    }
   ],
   "source": [
    "# Slicing specific index range\n",
    "df['2014-08-03':'2014-08-05']       "
   ]
  },
  {
   "cell_type": "code",
   "execution_count": 28,
   "metadata": {
    "collapsed": false
   },
   "outputs": [
    {
     "data": {
      "text/plain": [
       "2014-08-03   -0.958970\n",
       "2014-08-04   -0.117784\n",
       "2014-08-05   -0.902058\n",
       "Freq: D, Name: Kedai B, dtype: float64"
      ]
     },
     "execution_count": 28,
     "metadata": {},
     "output_type": "execute_result"
    }
   ],
   "source": [
    "# Slicing specific index range for a particular column\n",
    "df['2014-08-03':'2014-08-05']['Kedai B']       "
   ]
  },
  {
   "cell_type": "code",
   "execution_count": 29,
   "metadata": {
    "collapsed": false
   },
   "outputs": [
    {
     "data": {
      "text/html": [
       "<div>\n",
       "<table border=\"1\" class=\"dataframe\">\n",
       "  <thead>\n",
       "    <tr style=\"text-align: right;\">\n",
       "      <th></th>\n",
       "      <th>Kedai B</th>\n",
       "      <th>Kedai C</th>\n",
       "      <th>Kedai D</th>\n",
       "    </tr>\n",
       "  </thead>\n",
       "  <tbody>\n",
       "    <tr>\n",
       "      <th>2014-08-03</th>\n",
       "      <td>-0.958970</td>\n",
       "      <td>-0.825462</td>\n",
       "      <td>-0.130196</td>\n",
       "    </tr>\n",
       "    <tr>\n",
       "      <th>2014-08-04</th>\n",
       "      <td>-0.117784</td>\n",
       "      <td>-0.291003</td>\n",
       "      <td>2.075217</td>\n",
       "    </tr>\n",
       "    <tr>\n",
       "      <th>2014-08-05</th>\n",
       "      <td>-0.902058</td>\n",
       "      <td>-0.677468</td>\n",
       "      <td>0.155232</td>\n",
       "    </tr>\n",
       "  </tbody>\n",
       "</table>\n",
       "</div>"
      ],
      "text/plain": [
       "             Kedai B   Kedai C   Kedai D\n",
       "2014-08-03 -0.958970 -0.825462 -0.130196\n",
       "2014-08-04 -0.117784 -0.291003  2.075217\n",
       "2014-08-05 -0.902058 -0.677468  0.155232"
      ]
     },
     "execution_count": 29,
     "metadata": {},
     "output_type": "execute_result"
    }
   ],
   "source": [
    "# Using the loc() function\n",
    "\n",
    "# Slicing specific index and column ranges\n",
    "df.loc['2014-08-03':'2014-08-05','Kedai B':'Kedai D']"
   ]
  },
  {
   "cell_type": "code",
   "execution_count": 30,
   "metadata": {
    "collapsed": false
   },
   "outputs": [
    {
     "data": {
      "text/html": [
       "<div>\n",
       "<table border=\"1\" class=\"dataframe\">\n",
       "  <thead>\n",
       "    <tr style=\"text-align: right;\">\n",
       "      <th></th>\n",
       "      <th>Kedai B</th>\n",
       "      <th>Kedai D</th>\n",
       "    </tr>\n",
       "  </thead>\n",
       "  <tbody>\n",
       "    <tr>\n",
       "      <th>2014-08-03</th>\n",
       "      <td>-0.958970</td>\n",
       "      <td>-0.130196</td>\n",
       "    </tr>\n",
       "    <tr>\n",
       "      <th>2014-08-04</th>\n",
       "      <td>-0.117784</td>\n",
       "      <td>2.075217</td>\n",
       "    </tr>\n",
       "    <tr>\n",
       "      <th>2014-08-05</th>\n",
       "      <td>-0.902058</td>\n",
       "      <td>0.155232</td>\n",
       "    </tr>\n",
       "  </tbody>\n",
       "</table>\n",
       "</div>"
      ],
      "text/plain": [
       "             Kedai B   Kedai D\n",
       "2014-08-03 -0.958970 -0.130196\n",
       "2014-08-04 -0.117784  2.075217\n",
       "2014-08-05 -0.902058  0.155232"
      ]
     },
     "execution_count": 30,
     "metadata": {},
     "output_type": "execute_result"
    }
   ],
   "source": [
    "# Slicing specific index range with specific column names\n",
    "df.loc['2014-08-03':'2014-08-05',['Kedai B','Kedai D']]"
   ]
  },
  {
   "cell_type": "code",
   "execution_count": 31,
   "metadata": {
    "collapsed": false
   },
   "outputs": [
    {
     "ename": "SyntaxError",
     "evalue": "invalid syntax (<ipython-input-31-2ec112cb4d27>, line 3)",
     "output_type": "error",
     "traceback": [
      "\u001b[1;36m  File \u001b[1;32m\"<ipython-input-31-2ec112cb4d27>\"\u001b[1;36m, line \u001b[1;32m3\u001b[0m\n\u001b[1;33m    df.loc[['2014-08-01','2014-08-03':'2014-08-05'],['Kedai B','Kedai D']]\u001b[0m\n\u001b[1;37m                                     ^\u001b[0m\n\u001b[1;31mSyntaxError\u001b[0m\u001b[1;31m:\u001b[0m invalid syntax\n"
     ]
    }
   ],
   "source": [
    "# Possibly not yet to have something like this\n",
    "\n",
    "df.loc[['2014-08-01','2014-08-03':'2014-08-05'],['Kedai B','Kedai D']]\n"
   ]
  },
  {
   "cell_type": "code",
   "execution_count": 32,
   "metadata": {
    "collapsed": false
   },
   "outputs": [
    {
     "data": {
      "text/plain": [
       "Kedai A    0.634680\n",
       "Kedai B   -0.117784\n",
       "Kedai C   -0.291003\n",
       "Kedai D    2.075217\n",
       "Kedai E   -0.063509\n",
       "Name: 2014-08-04 00:00:00, dtype: float64"
      ]
     },
     "execution_count": 32,
     "metadata": {},
     "output_type": "execute_result"
    }
   ],
   "source": [
    "# Using the iloc() function\n",
    "\n",
    "df.iloc[3]                 # Specific row location"
   ]
  },
  {
   "cell_type": "code",
   "execution_count": 33,
   "metadata": {
    "collapsed": false
   },
   "outputs": [
    {
     "data": {
      "text/plain": [
       "2014-08-01    0.505241\n",
       "2014-08-02   -0.486971\n",
       "2014-08-03   -0.130196\n",
       "2014-08-04    2.075217\n",
       "2014-08-05    0.155232\n",
       "2014-08-06   -0.564646\n",
       "2014-08-07    1.270935\n",
       "2014-08-08    1.740556\n",
       "Freq: D, Name: Kedai D, dtype: float64"
      ]
     },
     "execution_count": 33,
     "metadata": {},
     "output_type": "execute_result"
    }
   ],
   "source": [
    "df.iloc[:,3]               # Specific column location (all rows)"
   ]
  },
  {
   "cell_type": "code",
   "execution_count": 34,
   "metadata": {
    "collapsed": false
   },
   "outputs": [
    {
     "data": {
      "text/html": [
       "<div>\n",
       "<table border=\"1\" class=\"dataframe\">\n",
       "  <thead>\n",
       "    <tr style=\"text-align: right;\">\n",
       "      <th></th>\n",
       "      <th>Kedai B</th>\n",
       "      <th>Kedai C</th>\n",
       "    </tr>\n",
       "  </thead>\n",
       "  <tbody>\n",
       "    <tr>\n",
       "      <th>2014-08-03</th>\n",
       "      <td>-0.958970</td>\n",
       "      <td>-0.825462</td>\n",
       "    </tr>\n",
       "    <tr>\n",
       "      <th>2014-08-04</th>\n",
       "      <td>-0.117784</td>\n",
       "      <td>-0.291003</td>\n",
       "    </tr>\n",
       "  </tbody>\n",
       "</table>\n",
       "</div>"
      ],
      "text/plain": [
       "             Kedai B   Kedai C\n",
       "2014-08-03 -0.958970 -0.825462\n",
       "2014-08-04 -0.117784 -0.291003"
      ]
     },
     "execution_count": 34,
     "metadata": {},
     "output_type": "execute_result"
    }
   ],
   "source": [
    "df.iloc[2:4,1:3]           # Python like slicing for range"
   ]
  },
  {
   "cell_type": "code",
   "execution_count": 35,
   "metadata": {
    "collapsed": false
   },
   "outputs": [
    {
     "data": {
      "text/html": [
       "<div>\n",
       "<table border=\"1\" class=\"dataframe\">\n",
       "  <thead>\n",
       "    <tr style=\"text-align: right;\">\n",
       "      <th></th>\n",
       "      <th>Kedai B</th>\n",
       "      <th>Kedai D</th>\n",
       "    </tr>\n",
       "  </thead>\n",
       "  <tbody>\n",
       "    <tr>\n",
       "      <th>2014-08-03</th>\n",
       "      <td>-0.958970</td>\n",
       "      <td>-0.130196</td>\n",
       "    </tr>\n",
       "    <tr>\n",
       "      <th>2014-08-05</th>\n",
       "      <td>-0.902058</td>\n",
       "      <td>0.155232</td>\n",
       "    </tr>\n",
       "  </tbody>\n",
       "</table>\n",
       "</div>"
      ],
      "text/plain": [
       "             Kedai B   Kedai D\n",
       "2014-08-03 -0.958970 -0.130196\n",
       "2014-08-05 -0.902058  0.155232"
      ]
     },
     "execution_count": 35,
     "metadata": {},
     "output_type": "execute_result"
    }
   ],
   "source": [
    "df.iloc[[2,4],[1,3]]        # Slicing with python like list"
   ]
  },
  {
   "cell_type": "code",
   "execution_count": 36,
   "metadata": {
    "collapsed": false
   },
   "outputs": [
    {
     "data": {
      "text/html": [
       "<div>\n",
       "<table border=\"1\" class=\"dataframe\">\n",
       "  <thead>\n",
       "    <tr style=\"text-align: right;\">\n",
       "      <th></th>\n",
       "      <th>Kedai A</th>\n",
       "      <th>Kedai B</th>\n",
       "      <th>Kedai C</th>\n",
       "      <th>Kedai D</th>\n",
       "      <th>Kedai E</th>\n",
       "    </tr>\n",
       "  </thead>\n",
       "  <tbody>\n",
       "    <tr>\n",
       "      <th>2014-08-01</th>\n",
       "      <td>True</td>\n",
       "      <td>False</td>\n",
       "      <td>True</td>\n",
       "      <td>True</td>\n",
       "      <td>True</td>\n",
       "    </tr>\n",
       "    <tr>\n",
       "      <th>2014-08-02</th>\n",
       "      <td>True</td>\n",
       "      <td>True</td>\n",
       "      <td>True</td>\n",
       "      <td>False</td>\n",
       "      <td>True</td>\n",
       "    </tr>\n",
       "    <tr>\n",
       "      <th>2014-08-03</th>\n",
       "      <td>True</td>\n",
       "      <td>False</td>\n",
       "      <td>False</td>\n",
       "      <td>False</td>\n",
       "      <td>True</td>\n",
       "    </tr>\n",
       "    <tr>\n",
       "      <th>2014-08-04</th>\n",
       "      <td>True</td>\n",
       "      <td>False</td>\n",
       "      <td>False</td>\n",
       "      <td>True</td>\n",
       "      <td>False</td>\n",
       "    </tr>\n",
       "    <tr>\n",
       "      <th>2014-08-05</th>\n",
       "      <td>False</td>\n",
       "      <td>False</td>\n",
       "      <td>False</td>\n",
       "      <td>True</td>\n",
       "      <td>False</td>\n",
       "    </tr>\n",
       "    <tr>\n",
       "      <th>2014-08-06</th>\n",
       "      <td>True</td>\n",
       "      <td>True</td>\n",
       "      <td>True</td>\n",
       "      <td>False</td>\n",
       "      <td>True</td>\n",
       "    </tr>\n",
       "    <tr>\n",
       "      <th>2014-08-07</th>\n",
       "      <td>True</td>\n",
       "      <td>False</td>\n",
       "      <td>False</td>\n",
       "      <td>True</td>\n",
       "      <td>False</td>\n",
       "    </tr>\n",
       "    <tr>\n",
       "      <th>2014-08-08</th>\n",
       "      <td>False</td>\n",
       "      <td>True</td>\n",
       "      <td>False</td>\n",
       "      <td>True</td>\n",
       "      <td>False</td>\n",
       "    </tr>\n",
       "  </tbody>\n",
       "</table>\n",
       "</div>"
      ],
      "text/plain": [
       "           Kedai A Kedai B Kedai C Kedai D Kedai E\n",
       "2014-08-01    True   False    True    True    True\n",
       "2014-08-02    True    True    True   False    True\n",
       "2014-08-03    True   False   False   False    True\n",
       "2014-08-04    True   False   False    True   False\n",
       "2014-08-05   False   False   False    True   False\n",
       "2014-08-06    True    True    True   False    True\n",
       "2014-08-07    True   False   False    True   False\n",
       "2014-08-08   False    True   False    True   False"
      ]
     },
     "execution_count": 36,
     "metadata": {},
     "output_type": "execute_result"
    }
   ],
   "source": [
    "# Conditionals on the data\n",
    "\n",
    "df>0                        # Array values > 0 OR"
   ]
  },
  {
   "cell_type": "code",
   "execution_count": 37,
   "metadata": {
    "collapsed": false
   },
   "outputs": [
    {
     "data": {
      "text/html": [
       "<div>\n",
       "<table border=\"1\" class=\"dataframe\">\n",
       "  <thead>\n",
       "    <tr style=\"text-align: right;\">\n",
       "      <th></th>\n",
       "      <th>Kedai A</th>\n",
       "      <th>Kedai B</th>\n",
       "      <th>Kedai C</th>\n",
       "      <th>Kedai D</th>\n",
       "      <th>Kedai E</th>\n",
       "    </tr>\n",
       "  </thead>\n",
       "  <tbody>\n",
       "    <tr>\n",
       "      <th>2014-08-01</th>\n",
       "      <td>0.908207</td>\n",
       "      <td>NaN</td>\n",
       "      <td>0.097727</td>\n",
       "      <td>0.505241</td>\n",
       "      <td>0.288635</td>\n",
       "    </tr>\n",
       "    <tr>\n",
       "      <th>2014-08-02</th>\n",
       "      <td>0.254458</td>\n",
       "      <td>0.943705</td>\n",
       "      <td>0.395889</td>\n",
       "      <td>NaN</td>\n",
       "      <td>0.075281</td>\n",
       "    </tr>\n",
       "    <tr>\n",
       "      <th>2014-08-03</th>\n",
       "      <td>0.115361</td>\n",
       "      <td>NaN</td>\n",
       "      <td>NaN</td>\n",
       "      <td>NaN</td>\n",
       "      <td>0.236358</td>\n",
       "    </tr>\n",
       "    <tr>\n",
       "      <th>2014-08-04</th>\n",
       "      <td>0.634680</td>\n",
       "      <td>NaN</td>\n",
       "      <td>NaN</td>\n",
       "      <td>2.075217</td>\n",
       "      <td>NaN</td>\n",
       "    </tr>\n",
       "    <tr>\n",
       "      <th>2014-08-05</th>\n",
       "      <td>NaN</td>\n",
       "      <td>NaN</td>\n",
       "      <td>NaN</td>\n",
       "      <td>0.155232</td>\n",
       "      <td>NaN</td>\n",
       "    </tr>\n",
       "    <tr>\n",
       "      <th>2014-08-06</th>\n",
       "      <td>1.309475</td>\n",
       "      <td>0.753785</td>\n",
       "      <td>0.851052</td>\n",
       "      <td>NaN</td>\n",
       "      <td>0.361620</td>\n",
       "    </tr>\n",
       "    <tr>\n",
       "      <th>2014-08-07</th>\n",
       "      <td>0.644292</td>\n",
       "      <td>NaN</td>\n",
       "      <td>NaN</td>\n",
       "      <td>1.270935</td>\n",
       "      <td>NaN</td>\n",
       "    </tr>\n",
       "    <tr>\n",
       "      <th>2014-08-08</th>\n",
       "      <td>NaN</td>\n",
       "      <td>0.147982</td>\n",
       "      <td>NaN</td>\n",
       "      <td>1.740556</td>\n",
       "      <td>NaN</td>\n",
       "    </tr>\n",
       "  </tbody>\n",
       "</table>\n",
       "</div>"
      ],
      "text/plain": [
       "             Kedai A   Kedai B   Kedai C   Kedai D   Kedai E\n",
       "2014-08-01  0.908207       NaN  0.097727  0.505241  0.288635\n",
       "2014-08-02  0.254458  0.943705  0.395889       NaN  0.075281\n",
       "2014-08-03  0.115361       NaN       NaN       NaN  0.236358\n",
       "2014-08-04  0.634680       NaN       NaN  2.075217       NaN\n",
       "2014-08-05       NaN       NaN       NaN  0.155232       NaN\n",
       "2014-08-06  1.309475  0.753785  0.851052       NaN  0.361620\n",
       "2014-08-07  0.644292       NaN       NaN  1.270935       NaN\n",
       "2014-08-08       NaN  0.147982       NaN  1.740556       NaN"
      ]
     },
     "execution_count": 37,
     "metadata": {},
     "output_type": "execute_result"
    }
   ],
   "source": [
    "df[df>0]                    # Directly getting the value"
   ]
  },
  {
   "cell_type": "markdown",
   "metadata": {},
   "source": [
    "**_NaN_** means empty, missing data or unavailable."
   ]
  },
  {
   "cell_type": "code",
   "execution_count": 38,
   "metadata": {
    "collapsed": false
   },
   "outputs": [
    {
     "data": {
      "text/html": [
       "<div>\n",
       "<table border=\"1\" class=\"dataframe\">\n",
       "  <thead>\n",
       "    <tr style=\"text-align: right;\">\n",
       "      <th></th>\n",
       "      <th>Kedai A</th>\n",
       "      <th>Kedai B</th>\n",
       "      <th>Kedai C</th>\n",
       "      <th>Kedai D</th>\n",
       "      <th>Kedai E</th>\n",
       "    </tr>\n",
       "  </thead>\n",
       "  <tbody>\n",
       "    <tr>\n",
       "      <th>2014-08-01</th>\n",
       "      <td>0.908207</td>\n",
       "      <td>-1.915919</td>\n",
       "      <td>0.097727</td>\n",
       "      <td>0.505241</td>\n",
       "      <td>0.288635</td>\n",
       "    </tr>\n",
       "    <tr>\n",
       "      <th>2014-08-03</th>\n",
       "      <td>0.115361</td>\n",
       "      <td>-0.958970</td>\n",
       "      <td>-0.825462</td>\n",
       "      <td>-0.130196</td>\n",
       "      <td>0.236358</td>\n",
       "    </tr>\n",
       "    <tr>\n",
       "      <th>2014-08-04</th>\n",
       "      <td>0.634680</td>\n",
       "      <td>-0.117784</td>\n",
       "      <td>-0.291003</td>\n",
       "      <td>2.075217</td>\n",
       "      <td>-0.063509</td>\n",
       "    </tr>\n",
       "    <tr>\n",
       "      <th>2014-08-05</th>\n",
       "      <td>-0.189921</td>\n",
       "      <td>-0.902058</td>\n",
       "      <td>-0.677468</td>\n",
       "      <td>0.155232</td>\n",
       "      <td>-1.285344</td>\n",
       "    </tr>\n",
       "    <tr>\n",
       "      <th>2014-08-07</th>\n",
       "      <td>0.644292</td>\n",
       "      <td>-1.103346</td>\n",
       "      <td>-0.183652</td>\n",
       "      <td>1.270935</td>\n",
       "      <td>-2.393798</td>\n",
       "    </tr>\n",
       "  </tbody>\n",
       "</table>\n",
       "</div>"
      ],
      "text/plain": [
       "             Kedai A   Kedai B   Kedai C   Kedai D   Kedai E\n",
       "2014-08-01  0.908207 -1.915919  0.097727  0.505241  0.288635\n",
       "2014-08-03  0.115361 -0.958970 -0.825462 -0.130196  0.236358\n",
       "2014-08-04  0.634680 -0.117784 -0.291003  2.075217 -0.063509\n",
       "2014-08-05 -0.189921 -0.902058 -0.677468  0.155232 -1.285344\n",
       "2014-08-07  0.644292 -1.103346 -0.183652  1.270935 -2.393798"
      ]
     },
     "execution_count": 38,
     "metadata": {},
     "output_type": "execute_result"
    }
   ],
   "source": [
    "df[df['Kedai B']<0]           # With reference to specific value in a column (e.g. Kedai B)"
   ]
  },
  {
   "cell_type": "code",
   "execution_count": 39,
   "metadata": {
    "collapsed": false
   },
   "outputs": [],
   "source": [
    "df2 = df.copy()             # Made a copy of a database"
   ]
  },
  {
   "cell_type": "code",
   "execution_count": 40,
   "metadata": {
    "collapsed": false
   },
   "outputs": [
    {
     "data": {
      "text/html": [
       "<div>\n",
       "<table border=\"1\" class=\"dataframe\">\n",
       "  <thead>\n",
       "    <tr style=\"text-align: right;\">\n",
       "      <th></th>\n",
       "      <th>Kedai A</th>\n",
       "      <th>Kedai B</th>\n",
       "      <th>Kedai C</th>\n",
       "      <th>Kedai D</th>\n",
       "      <th>Kedai E</th>\n",
       "    </tr>\n",
       "  </thead>\n",
       "  <tbody>\n",
       "    <tr>\n",
       "      <th>2014-08-01</th>\n",
       "      <td>0.908207</td>\n",
       "      <td>-1.915919</td>\n",
       "      <td>0.097727</td>\n",
       "      <td>0.505241</td>\n",
       "      <td>0.288635</td>\n",
       "    </tr>\n",
       "    <tr>\n",
       "      <th>2014-08-02</th>\n",
       "      <td>0.254458</td>\n",
       "      <td>0.943705</td>\n",
       "      <td>0.395889</td>\n",
       "      <td>-0.486971</td>\n",
       "      <td>0.075281</td>\n",
       "    </tr>\n",
       "    <tr>\n",
       "      <th>2014-08-03</th>\n",
       "      <td>0.115361</td>\n",
       "      <td>-0.958970</td>\n",
       "      <td>-0.825462</td>\n",
       "      <td>-0.130196</td>\n",
       "      <td>0.236358</td>\n",
       "    </tr>\n",
       "    <tr>\n",
       "      <th>2014-08-04</th>\n",
       "      <td>0.634680</td>\n",
       "      <td>-0.117784</td>\n",
       "      <td>-0.291003</td>\n",
       "      <td>2.075217</td>\n",
       "      <td>-0.063509</td>\n",
       "    </tr>\n",
       "    <tr>\n",
       "      <th>2014-08-05</th>\n",
       "      <td>-0.189921</td>\n",
       "      <td>-0.902058</td>\n",
       "      <td>-0.677468</td>\n",
       "      <td>0.155232</td>\n",
       "      <td>-1.285344</td>\n",
       "    </tr>\n",
       "    <tr>\n",
       "      <th>2014-08-06</th>\n",
       "      <td>1.309475</td>\n",
       "      <td>0.753785</td>\n",
       "      <td>0.851052</td>\n",
       "      <td>-0.564646</td>\n",
       "      <td>0.361620</td>\n",
       "    </tr>\n",
       "    <tr>\n",
       "      <th>2014-08-07</th>\n",
       "      <td>0.644292</td>\n",
       "      <td>-1.103346</td>\n",
       "      <td>-0.183652</td>\n",
       "      <td>1.270935</td>\n",
       "      <td>-2.393798</td>\n",
       "    </tr>\n",
       "    <tr>\n",
       "      <th>2014-08-08</th>\n",
       "      <td>-0.512127</td>\n",
       "      <td>0.147982</td>\n",
       "      <td>-2.003851</td>\n",
       "      <td>1.740556</td>\n",
       "      <td>-0.770737</td>\n",
       "    </tr>\n",
       "  </tbody>\n",
       "</table>\n",
       "</div>"
      ],
      "text/plain": [
       "             Kedai A   Kedai B   Kedai C   Kedai D   Kedai E\n",
       "2014-08-01  0.908207 -1.915919  0.097727  0.505241  0.288635\n",
       "2014-08-02  0.254458  0.943705  0.395889 -0.486971  0.075281\n",
       "2014-08-03  0.115361 -0.958970 -0.825462 -0.130196  0.236358\n",
       "2014-08-04  0.634680 -0.117784 -0.291003  2.075217 -0.063509\n",
       "2014-08-05 -0.189921 -0.902058 -0.677468  0.155232 -1.285344\n",
       "2014-08-06  1.309475  0.753785  0.851052 -0.564646  0.361620\n",
       "2014-08-07  0.644292 -1.103346 -0.183652  1.270935 -2.393798\n",
       "2014-08-08 -0.512127  0.147982 -2.003851  1.740556 -0.770737"
      ]
     },
     "execution_count": 40,
     "metadata": {},
     "output_type": "execute_result"
    }
   ],
   "source": [
    "df2"
   ]
  },
  {
   "cell_type": "code",
   "execution_count": 41,
   "metadata": {
    "collapsed": false
   },
   "outputs": [],
   "source": [
    "# Adding column\n",
    "\n",
    "df2['Tambah'] = ['satu','satu','dua','tiga','empat','tiga','lima','enam'] "
   ]
  },
  {
   "cell_type": "code",
   "execution_count": 42,
   "metadata": {
    "collapsed": false
   },
   "outputs": [
    {
     "data": {
      "text/html": [
       "<div>\n",
       "<table border=\"1\" class=\"dataframe\">\n",
       "  <thead>\n",
       "    <tr style=\"text-align: right;\">\n",
       "      <th></th>\n",
       "      <th>Kedai A</th>\n",
       "      <th>Kedai B</th>\n",
       "      <th>Kedai C</th>\n",
       "      <th>Kedai D</th>\n",
       "      <th>Kedai E</th>\n",
       "      <th>Tambah</th>\n",
       "    </tr>\n",
       "  </thead>\n",
       "  <tbody>\n",
       "    <tr>\n",
       "      <th>2014-08-01</th>\n",
       "      <td>0.908207</td>\n",
       "      <td>-1.915919</td>\n",
       "      <td>0.097727</td>\n",
       "      <td>0.505241</td>\n",
       "      <td>0.288635</td>\n",
       "      <td>satu</td>\n",
       "    </tr>\n",
       "    <tr>\n",
       "      <th>2014-08-02</th>\n",
       "      <td>0.254458</td>\n",
       "      <td>0.943705</td>\n",
       "      <td>0.395889</td>\n",
       "      <td>-0.486971</td>\n",
       "      <td>0.075281</td>\n",
       "      <td>satu</td>\n",
       "    </tr>\n",
       "    <tr>\n",
       "      <th>2014-08-03</th>\n",
       "      <td>0.115361</td>\n",
       "      <td>-0.958970</td>\n",
       "      <td>-0.825462</td>\n",
       "      <td>-0.130196</td>\n",
       "      <td>0.236358</td>\n",
       "      <td>dua</td>\n",
       "    </tr>\n",
       "    <tr>\n",
       "      <th>2014-08-04</th>\n",
       "      <td>0.634680</td>\n",
       "      <td>-0.117784</td>\n",
       "      <td>-0.291003</td>\n",
       "      <td>2.075217</td>\n",
       "      <td>-0.063509</td>\n",
       "      <td>tiga</td>\n",
       "    </tr>\n",
       "    <tr>\n",
       "      <th>2014-08-05</th>\n",
       "      <td>-0.189921</td>\n",
       "      <td>-0.902058</td>\n",
       "      <td>-0.677468</td>\n",
       "      <td>0.155232</td>\n",
       "      <td>-1.285344</td>\n",
       "      <td>empat</td>\n",
       "    </tr>\n",
       "    <tr>\n",
       "      <th>2014-08-06</th>\n",
       "      <td>1.309475</td>\n",
       "      <td>0.753785</td>\n",
       "      <td>0.851052</td>\n",
       "      <td>-0.564646</td>\n",
       "      <td>0.361620</td>\n",
       "      <td>tiga</td>\n",
       "    </tr>\n",
       "    <tr>\n",
       "      <th>2014-08-07</th>\n",
       "      <td>0.644292</td>\n",
       "      <td>-1.103346</td>\n",
       "      <td>-0.183652</td>\n",
       "      <td>1.270935</td>\n",
       "      <td>-2.393798</td>\n",
       "      <td>lima</td>\n",
       "    </tr>\n",
       "    <tr>\n",
       "      <th>2014-08-08</th>\n",
       "      <td>-0.512127</td>\n",
       "      <td>0.147982</td>\n",
       "      <td>-2.003851</td>\n",
       "      <td>1.740556</td>\n",
       "      <td>-0.770737</td>\n",
       "      <td>enam</td>\n",
       "    </tr>\n",
       "  </tbody>\n",
       "</table>\n",
       "</div>"
      ],
      "text/plain": [
       "             Kedai A   Kedai B   Kedai C   Kedai D   Kedai E Tambah\n",
       "2014-08-01  0.908207 -1.915919  0.097727  0.505241  0.288635   satu\n",
       "2014-08-02  0.254458  0.943705  0.395889 -0.486971  0.075281   satu\n",
       "2014-08-03  0.115361 -0.958970 -0.825462 -0.130196  0.236358    dua\n",
       "2014-08-04  0.634680 -0.117784 -0.291003  2.075217 -0.063509   tiga\n",
       "2014-08-05 -0.189921 -0.902058 -0.677468  0.155232 -1.285344  empat\n",
       "2014-08-06  1.309475  0.753785  0.851052 -0.564646  0.361620   tiga\n",
       "2014-08-07  0.644292 -1.103346 -0.183652  1.270935 -2.393798   lima\n",
       "2014-08-08 -0.512127  0.147982 -2.003851  1.740556 -0.770737   enam"
      ]
     },
     "execution_count": 42,
     "metadata": {},
     "output_type": "execute_result"
    }
   ],
   "source": [
    "df2"
   ]
  },
  {
   "cell_type": "code",
   "execution_count": 43,
   "metadata": {
    "collapsed": false
   },
   "outputs": [
    {
     "data": {
      "text/html": [
       "<div>\n",
       "<table border=\"1\" class=\"dataframe\">\n",
       "  <thead>\n",
       "    <tr style=\"text-align: right;\">\n",
       "      <th></th>\n",
       "      <th>Kedai A</th>\n",
       "      <th>Kedai B</th>\n",
       "      <th>Kedai C</th>\n",
       "      <th>Kedai D</th>\n",
       "      <th>Kedai E</th>\n",
       "      <th>Tambah</th>\n",
       "    </tr>\n",
       "  </thead>\n",
       "  <tbody>\n",
       "    <tr>\n",
       "      <th>2014-08-01</th>\n",
       "      <td>0.908207</td>\n",
       "      <td>-1.915919</td>\n",
       "      <td>0.097727</td>\n",
       "      <td>0.505241</td>\n",
       "      <td>0.288635</td>\n",
       "      <td>satu</td>\n",
       "    </tr>\n",
       "    <tr>\n",
       "      <th>2014-08-02</th>\n",
       "      <td>0.254458</td>\n",
       "      <td>0.943705</td>\n",
       "      <td>0.395889</td>\n",
       "      <td>-0.486971</td>\n",
       "      <td>0.075281</td>\n",
       "      <td>satu</td>\n",
       "    </tr>\n",
       "    <tr>\n",
       "      <th>2014-08-03</th>\n",
       "      <td>0.115361</td>\n",
       "      <td>-0.958970</td>\n",
       "      <td>-0.825462</td>\n",
       "      <td>-0.130196</td>\n",
       "      <td>0.236358</td>\n",
       "      <td>dua</td>\n",
       "    </tr>\n",
       "    <tr>\n",
       "      <th>2014-08-04</th>\n",
       "      <td>0.634680</td>\n",
       "      <td>-0.117784</td>\n",
       "      <td>-0.291003</td>\n",
       "      <td>2.075217</td>\n",
       "      <td>-0.063509</td>\n",
       "      <td>tiga</td>\n",
       "    </tr>\n",
       "    <tr>\n",
       "      <th>2014-08-05</th>\n",
       "      <td>-0.189921</td>\n",
       "      <td>-0.902058</td>\n",
       "      <td>-0.677468</td>\n",
       "      <td>0.155232</td>\n",
       "      <td>-1.285344</td>\n",
       "      <td>empat</td>\n",
       "    </tr>\n",
       "    <tr>\n",
       "      <th>2014-08-06</th>\n",
       "      <td>1.309475</td>\n",
       "      <td>0.753785</td>\n",
       "      <td>0.851052</td>\n",
       "      <td>-0.564646</td>\n",
       "      <td>0.361620</td>\n",
       "      <td>tiga</td>\n",
       "    </tr>\n",
       "    <tr>\n",
       "      <th>2014-08-07</th>\n",
       "      <td>0.644292</td>\n",
       "      <td>-1.103346</td>\n",
       "      <td>-0.183652</td>\n",
       "      <td>1.270935</td>\n",
       "      <td>-2.393798</td>\n",
       "      <td>lima</td>\n",
       "    </tr>\n",
       "    <tr>\n",
       "      <th>2014-08-08</th>\n",
       "      <td>-0.512127</td>\n",
       "      <td>0.147982</td>\n",
       "      <td>-2.003851</td>\n",
       "      <td>1.740556</td>\n",
       "      <td>-0.770737</td>\n",
       "      <td>enam</td>\n",
       "    </tr>\n",
       "  </tbody>\n",
       "</table>\n",
       "</div>"
      ],
      "text/plain": [
       "             Kedai A   Kedai B   Kedai C   Kedai D   Kedai E Tambah\n",
       "2014-08-01  0.908207 -1.915919  0.097727  0.505241  0.288635   satu\n",
       "2014-08-02  0.254458  0.943705  0.395889 -0.486971  0.075281   satu\n",
       "2014-08-03  0.115361 -0.958970 -0.825462 -0.130196  0.236358    dua\n",
       "2014-08-04  0.634680 -0.117784 -0.291003  2.075217 -0.063509   tiga\n",
       "2014-08-05 -0.189921 -0.902058 -0.677468  0.155232 -1.285344  empat\n",
       "2014-08-06  1.309475  0.753785  0.851052 -0.564646  0.361620   tiga\n",
       "2014-08-07  0.644292 -1.103346 -0.183652  1.270935 -2.393798   lima\n",
       "2014-08-08 -0.512127  0.147982 -2.003851  1.740556 -0.770737   enam"
      ]
     },
     "execution_count": 43,
     "metadata": {},
     "output_type": "execute_result"
    }
   ],
   "source": [
    "# Adding row using append() function. The previous loc() is possibly deprecated.\n",
    "\n",
    "# Assign a new name to the new row (with the same format)\n",
    "new_row_name = pd.date_range('20140809', periods = 1, freq = 'D')\n",
    "\n",
    "# Appending new row with new data\n",
    "df2.append(list(np.random.randn(5))+['sembilan'])\n",
    "\n",
    "# Renaming the new row (here actually is a reassignment)\n",
    "df2 = df2.rename(index={10: new_row_name[0]})\n",
    "df2"
   ]
  },
  {
   "cell_type": "code",
   "execution_count": 44,
   "metadata": {
    "collapsed": false
   },
   "outputs": [
    {
     "data": {
      "text/html": [
       "<div>\n",
       "<table border=\"1\" class=\"dataframe\">\n",
       "  <thead>\n",
       "    <tr style=\"text-align: right;\">\n",
       "      <th></th>\n",
       "      <th>Kedai A</th>\n",
       "      <th>Kedai B</th>\n",
       "      <th>Kedai C</th>\n",
       "      <th>Kedai D</th>\n",
       "      <th>Kedai E</th>\n",
       "      <th>Tambah</th>\n",
       "    </tr>\n",
       "  </thead>\n",
       "  <tbody>\n",
       "    <tr>\n",
       "      <th>2014-08-01</th>\n",
       "      <td>0.908207</td>\n",
       "      <td>-1.915919</td>\n",
       "      <td>0.097727</td>\n",
       "      <td>0.505241</td>\n",
       "      <td>0.288635</td>\n",
       "      <td>satu</td>\n",
       "    </tr>\n",
       "    <tr>\n",
       "      <th>2014-08-02</th>\n",
       "      <td>0.254458</td>\n",
       "      <td>0.943705</td>\n",
       "      <td>0.395889</td>\n",
       "      <td>-0.486971</td>\n",
       "      <td>0.075281</td>\n",
       "      <td>satu</td>\n",
       "    </tr>\n",
       "    <tr>\n",
       "      <th>2014-08-03</th>\n",
       "      <td>0.115361</td>\n",
       "      <td>-0.958970</td>\n",
       "      <td>-0.825462</td>\n",
       "      <td>-0.130196</td>\n",
       "      <td>0.236358</td>\n",
       "      <td>dua</td>\n",
       "    </tr>\n",
       "    <tr>\n",
       "      <th>2014-08-04</th>\n",
       "      <td>0.634680</td>\n",
       "      <td>-0.117784</td>\n",
       "      <td>-0.291003</td>\n",
       "      <td>2.075217</td>\n",
       "      <td>-0.063509</td>\n",
       "      <td>tiga</td>\n",
       "    </tr>\n",
       "    <tr>\n",
       "      <th>2014-08-05</th>\n",
       "      <td>0.838633</td>\n",
       "      <td>0.757729</td>\n",
       "      <td>0.064402</td>\n",
       "      <td>-0.950469</td>\n",
       "      <td>0.899920</td>\n",
       "      <td>tujuh</td>\n",
       "    </tr>\n",
       "    <tr>\n",
       "      <th>2014-08-06</th>\n",
       "      <td>1.309475</td>\n",
       "      <td>0.753785</td>\n",
       "      <td>0.851052</td>\n",
       "      <td>-0.564646</td>\n",
       "      <td>0.361620</td>\n",
       "      <td>tiga</td>\n",
       "    </tr>\n",
       "    <tr>\n",
       "      <th>2014-08-07</th>\n",
       "      <td>0.644292</td>\n",
       "      <td>-1.103346</td>\n",
       "      <td>-0.183652</td>\n",
       "      <td>1.270935</td>\n",
       "      <td>-2.393798</td>\n",
       "      <td>lima</td>\n",
       "    </tr>\n",
       "    <tr>\n",
       "      <th>2014-08-08</th>\n",
       "      <td>-0.512127</td>\n",
       "      <td>0.147982</td>\n",
       "      <td>-2.003851</td>\n",
       "      <td>1.740556</td>\n",
       "      <td>-0.770737</td>\n",
       "      <td>enam</td>\n",
       "    </tr>\n",
       "  </tbody>\n",
       "</table>\n",
       "</div>"
      ],
      "text/plain": [
       "             Kedai A   Kedai B   Kedai C   Kedai D   Kedai E Tambah\n",
       "2014-08-01  0.908207 -1.915919  0.097727  0.505241  0.288635   satu\n",
       "2014-08-02  0.254458  0.943705  0.395889 -0.486971  0.075281   satu\n",
       "2014-08-03  0.115361 -0.958970 -0.825462 -0.130196  0.236358    dua\n",
       "2014-08-04  0.634680 -0.117784 -0.291003  2.075217 -0.063509   tiga\n",
       "2014-08-05  0.838633  0.757729  0.064402 -0.950469  0.899920  tujuh\n",
       "2014-08-06  1.309475  0.753785  0.851052 -0.564646  0.361620   tiga\n",
       "2014-08-07  0.644292 -1.103346 -0.183652  1.270935 -2.393798   lima\n",
       "2014-08-08 -0.512127  0.147982 -2.003851  1.740556 -0.770737   enam"
      ]
     },
     "execution_count": 44,
     "metadata": {},
     "output_type": "execute_result"
    }
   ],
   "source": [
    "# Assigning new data to a row\n",
    "df2.loc['2014-08-05'] = list(np.random.randn(5))+['tujuh']\n",
    "df2"
   ]
  },
  {
   "cell_type": "code",
   "execution_count": 45,
   "metadata": {
    "collapsed": false
   },
   "outputs": [
    {
     "data": {
      "text/html": [
       "<div>\n",
       "<table border=\"1\" class=\"dataframe\">\n",
       "  <thead>\n",
       "    <tr style=\"text-align: right;\">\n",
       "      <th></th>\n",
       "      <th>Kedai A</th>\n",
       "      <th>Kedai B</th>\n",
       "      <th>Kedai C</th>\n",
       "      <th>Kedai D</th>\n",
       "      <th>Kedai E</th>\n",
       "      <th>Tambah</th>\n",
       "    </tr>\n",
       "  </thead>\n",
       "  <tbody>\n",
       "    <tr>\n",
       "      <th>2014-08-01</th>\n",
       "      <td>0.908207</td>\n",
       "      <td>-1.915919</td>\n",
       "      <td>0.097727</td>\n",
       "      <td>0.505241</td>\n",
       "      <td>0.288635</td>\n",
       "      <td>satu</td>\n",
       "    </tr>\n",
       "    <tr>\n",
       "      <th>2014-08-02</th>\n",
       "      <td>0.254458</td>\n",
       "      <td>0.943705</td>\n",
       "      <td>0.395889</td>\n",
       "      <td>-0.486971</td>\n",
       "      <td>0.075281</td>\n",
       "      <td>satu</td>\n",
       "    </tr>\n",
       "    <tr>\n",
       "      <th>2014-08-03</th>\n",
       "      <td>0.115361</td>\n",
       "      <td>-0.958970</td>\n",
       "      <td>-0.825462</td>\n",
       "      <td>-0.130196</td>\n",
       "      <td>0.236358</td>\n",
       "      <td>dua</td>\n",
       "    </tr>\n",
       "    <tr>\n",
       "      <th>2014-08-04</th>\n",
       "      <td>0.634680</td>\n",
       "      <td>-0.117784</td>\n",
       "      <td>-0.291003</td>\n",
       "      <td>2.075217</td>\n",
       "      <td>-0.063509</td>\n",
       "      <td>tiga</td>\n",
       "    </tr>\n",
       "    <tr>\n",
       "      <th>2014-08-05</th>\n",
       "      <td>0.838633</td>\n",
       "      <td>0.757729</td>\n",
       "      <td>0.064402</td>\n",
       "      <td>-0.950469</td>\n",
       "      <td>0.899920</td>\n",
       "      <td>lapan</td>\n",
       "    </tr>\n",
       "    <tr>\n",
       "      <th>2014-08-06</th>\n",
       "      <td>1.309475</td>\n",
       "      <td>0.753785</td>\n",
       "      <td>0.851052</td>\n",
       "      <td>-0.564646</td>\n",
       "      <td>0.361620</td>\n",
       "      <td>tiga</td>\n",
       "    </tr>\n",
       "    <tr>\n",
       "      <th>2014-08-07</th>\n",
       "      <td>0.644292</td>\n",
       "      <td>-1.103346</td>\n",
       "      <td>-0.183652</td>\n",
       "      <td>1.270935</td>\n",
       "      <td>-2.393798</td>\n",
       "      <td>lima</td>\n",
       "    </tr>\n",
       "    <tr>\n",
       "      <th>2014-08-08</th>\n",
       "      <td>-0.512127</td>\n",
       "      <td>0.147982</td>\n",
       "      <td>-2.003851</td>\n",
       "      <td>1.740556</td>\n",
       "      <td>-0.770737</td>\n",
       "      <td>enam</td>\n",
       "    </tr>\n",
       "  </tbody>\n",
       "</table>\n",
       "</div>"
      ],
      "text/plain": [
       "             Kedai A   Kedai B   Kedai C   Kedai D   Kedai E Tambah\n",
       "2014-08-01  0.908207 -1.915919  0.097727  0.505241  0.288635   satu\n",
       "2014-08-02  0.254458  0.943705  0.395889 -0.486971  0.075281   satu\n",
       "2014-08-03  0.115361 -0.958970 -0.825462 -0.130196  0.236358    dua\n",
       "2014-08-04  0.634680 -0.117784 -0.291003  2.075217 -0.063509   tiga\n",
       "2014-08-05  0.838633  0.757729  0.064402 -0.950469  0.899920  lapan\n",
       "2014-08-06  1.309475  0.753785  0.851052 -0.564646  0.361620   tiga\n",
       "2014-08-07  0.644292 -1.103346 -0.183652  1.270935 -2.393798   lima\n",
       "2014-08-08 -0.512127  0.147982 -2.003851  1.740556 -0.770737   enam"
      ]
     },
     "execution_count": 45,
     "metadata": {},
     "output_type": "execute_result"
    }
   ],
   "source": [
    "# Assigning new data to a specific element\n",
    "df2.loc['2014-08-05','Tambah'] = 'lapan'\n",
    "df2"
   ]
  },
  {
   "cell_type": "code",
   "execution_count": 46,
   "metadata": {
    "collapsed": false
   },
   "outputs": [
    {
     "data": {
      "text/html": [
       "<div>\n",
       "<table border=\"1\" class=\"dataframe\">\n",
       "  <thead>\n",
       "    <tr style=\"text-align: right;\">\n",
       "      <th></th>\n",
       "      <th>Kedai A</th>\n",
       "      <th>Kedai B</th>\n",
       "      <th>Kedai C</th>\n",
       "      <th>Kedai D</th>\n",
       "      <th>Kedai E</th>\n",
       "      <th>Tambah</th>\n",
       "    </tr>\n",
       "  </thead>\n",
       "  <tbody>\n",
       "    <tr>\n",
       "      <th>2014-08-01</th>\n",
       "      <td>False</td>\n",
       "      <td>False</td>\n",
       "      <td>False</td>\n",
       "      <td>False</td>\n",
       "      <td>False</td>\n",
       "      <td>True</td>\n",
       "    </tr>\n",
       "    <tr>\n",
       "      <th>2014-08-02</th>\n",
       "      <td>False</td>\n",
       "      <td>False</td>\n",
       "      <td>False</td>\n",
       "      <td>False</td>\n",
       "      <td>False</td>\n",
       "      <td>True</td>\n",
       "    </tr>\n",
       "    <tr>\n",
       "      <th>2014-08-03</th>\n",
       "      <td>False</td>\n",
       "      <td>False</td>\n",
       "      <td>False</td>\n",
       "      <td>False</td>\n",
       "      <td>False</td>\n",
       "      <td>False</td>\n",
       "    </tr>\n",
       "    <tr>\n",
       "      <th>2014-08-04</th>\n",
       "      <td>False</td>\n",
       "      <td>False</td>\n",
       "      <td>False</td>\n",
       "      <td>False</td>\n",
       "      <td>False</td>\n",
       "      <td>True</td>\n",
       "    </tr>\n",
       "    <tr>\n",
       "      <th>2014-08-05</th>\n",
       "      <td>False</td>\n",
       "      <td>False</td>\n",
       "      <td>False</td>\n",
       "      <td>False</td>\n",
       "      <td>False</td>\n",
       "      <td>False</td>\n",
       "    </tr>\n",
       "    <tr>\n",
       "      <th>2014-08-06</th>\n",
       "      <td>False</td>\n",
       "      <td>False</td>\n",
       "      <td>False</td>\n",
       "      <td>False</td>\n",
       "      <td>False</td>\n",
       "      <td>True</td>\n",
       "    </tr>\n",
       "    <tr>\n",
       "      <th>2014-08-07</th>\n",
       "      <td>False</td>\n",
       "      <td>False</td>\n",
       "      <td>False</td>\n",
       "      <td>False</td>\n",
       "      <td>False</td>\n",
       "      <td>False</td>\n",
       "    </tr>\n",
       "    <tr>\n",
       "      <th>2014-08-08</th>\n",
       "      <td>False</td>\n",
       "      <td>False</td>\n",
       "      <td>False</td>\n",
       "      <td>False</td>\n",
       "      <td>False</td>\n",
       "      <td>False</td>\n",
       "    </tr>\n",
       "  </tbody>\n",
       "</table>\n",
       "</div>"
      ],
      "text/plain": [
       "           Kedai A Kedai B Kedai C Kedai D Kedai E Tambah\n",
       "2014-08-01   False   False   False   False   False   True\n",
       "2014-08-02   False   False   False   False   False   True\n",
       "2014-08-03   False   False   False   False   False  False\n",
       "2014-08-04   False   False   False   False   False   True\n",
       "2014-08-05   False   False   False   False   False  False\n",
       "2014-08-06   False   False   False   False   False   True\n",
       "2014-08-07   False   False   False   False   False  False\n",
       "2014-08-08   False   False   False   False   False  False"
      ]
     },
     "execution_count": 46,
     "metadata": {},
     "output_type": "execute_result"
    }
   ],
   "source": [
    "# Using the isin() function (returns boolean data frame)\n",
    "df2.isin(['satu','tiga'])"
   ]
  },
  {
   "cell_type": "code",
   "execution_count": 47,
   "metadata": {
    "collapsed": false
   },
   "outputs": [
    {
     "data": {
      "text/html": [
       "<div>\n",
       "<table border=\"1\" class=\"dataframe\">\n",
       "  <thead>\n",
       "    <tr style=\"text-align: right;\">\n",
       "      <th></th>\n",
       "      <th>Kedai A</th>\n",
       "      <th>Kedai B</th>\n",
       "      <th>Kedai C</th>\n",
       "      <th>Kedai D</th>\n",
       "      <th>Kedai E</th>\n",
       "      <th>Tambah</th>\n",
       "    </tr>\n",
       "  </thead>\n",
       "  <tbody>\n",
       "    <tr>\n",
       "      <th>2014-08-01</th>\n",
       "      <td>0.908207</td>\n",
       "      <td>-1.915919</td>\n",
       "      <td>0.097727</td>\n",
       "      <td>0.505241</td>\n",
       "      <td>0.288635</td>\n",
       "      <td>satu</td>\n",
       "    </tr>\n",
       "    <tr>\n",
       "      <th>2014-08-02</th>\n",
       "      <td>0.254458</td>\n",
       "      <td>0.943705</td>\n",
       "      <td>0.395889</td>\n",
       "      <td>-0.486971</td>\n",
       "      <td>0.075281</td>\n",
       "      <td>satu</td>\n",
       "    </tr>\n",
       "    <tr>\n",
       "      <th>2014-08-04</th>\n",
       "      <td>0.634680</td>\n",
       "      <td>-0.117784</td>\n",
       "      <td>-0.291003</td>\n",
       "      <td>2.075217</td>\n",
       "      <td>-0.063509</td>\n",
       "      <td>tiga</td>\n",
       "    </tr>\n",
       "    <tr>\n",
       "      <th>2014-08-06</th>\n",
       "      <td>1.309475</td>\n",
       "      <td>0.753785</td>\n",
       "      <td>0.851052</td>\n",
       "      <td>-0.564646</td>\n",
       "      <td>0.361620</td>\n",
       "      <td>tiga</td>\n",
       "    </tr>\n",
       "  </tbody>\n",
       "</table>\n",
       "</div>"
      ],
      "text/plain": [
       "             Kedai A   Kedai B   Kedai C   Kedai D   Kedai E Tambah\n",
       "2014-08-01  0.908207 -1.915919  0.097727  0.505241  0.288635   satu\n",
       "2014-08-02  0.254458  0.943705  0.395889 -0.486971  0.075281   satu\n",
       "2014-08-04  0.634680 -0.117784 -0.291003  2.075217 -0.063509   tiga\n",
       "2014-08-06  1.309475  0.753785  0.851052 -0.564646  0.361620   tiga"
      ]
     },
     "execution_count": 47,
     "metadata": {},
     "output_type": "execute_result"
    }
   ],
   "source": [
    "# Select specific row based on additonal column\n",
    "df2[df2['Tambah'].isin(['satu','tiga'])]"
   ]
  },
  {
   "cell_type": "code",
   "execution_count": 48,
   "metadata": {
    "collapsed": false
   },
   "outputs": [
    {
     "data": {
      "text/html": [
       "<div>\n",
       "<table border=\"1\" class=\"dataframe\">\n",
       "  <thead>\n",
       "    <tr style=\"text-align: right;\">\n",
       "      <th></th>\n",
       "      <th>Kedai B</th>\n",
       "      <th>Kedai C</th>\n",
       "      <th>Kedai D</th>\n",
       "    </tr>\n",
       "  </thead>\n",
       "  <tbody>\n",
       "    <tr>\n",
       "      <th>2014-08-01</th>\n",
       "      <td>-1.915919</td>\n",
       "      <td>0.097727</td>\n",
       "      <td>0.505241</td>\n",
       "    </tr>\n",
       "    <tr>\n",
       "      <th>2014-08-02</th>\n",
       "      <td>0.943705</td>\n",
       "      <td>0.395889</td>\n",
       "      <td>-0.486971</td>\n",
       "    </tr>\n",
       "    <tr>\n",
       "      <th>2014-08-04</th>\n",
       "      <td>-0.117784</td>\n",
       "      <td>-0.291003</td>\n",
       "      <td>2.075217</td>\n",
       "    </tr>\n",
       "    <tr>\n",
       "      <th>2014-08-06</th>\n",
       "      <td>0.753785</td>\n",
       "      <td>0.851052</td>\n",
       "      <td>-0.564646</td>\n",
       "    </tr>\n",
       "  </tbody>\n",
       "</table>\n",
       "</div>"
      ],
      "text/plain": [
       "             Kedai B   Kedai C   Kedai D\n",
       "2014-08-01 -1.915919  0.097727  0.505241\n",
       "2014-08-02  0.943705  0.395889 -0.486971\n",
       "2014-08-04 -0.117784 -0.291003  2.075217\n",
       "2014-08-06  0.753785  0.851052 -0.564646"
      ]
     },
     "execution_count": 48,
     "metadata": {},
     "output_type": "execute_result"
    }
   ],
   "source": [
    "# Use previous command - select certain column based on selected additional column\n",
    "df2[df2['Tambah'].isin(['satu','tiga'])].loc[:,'Kedai B':'Kedai D']"
   ]
  },
  {
   "cell_type": "code",
   "execution_count": 49,
   "metadata": {
    "collapsed": false
   },
   "outputs": [
    {
     "data": {
      "text/html": [
       "<div>\n",
       "<table border=\"1\" class=\"dataframe\">\n",
       "  <thead>\n",
       "    <tr style=\"text-align: right;\">\n",
       "      <th></th>\n",
       "      <th>Kedai B</th>\n",
       "      <th>Kedai C</th>\n",
       "      <th>Kedai D</th>\n",
       "    </tr>\n",
       "  </thead>\n",
       "  <tbody>\n",
       "    <tr>\n",
       "      <th>2014-08-01</th>\n",
       "      <td>False</td>\n",
       "      <td>True</td>\n",
       "      <td>True</td>\n",
       "    </tr>\n",
       "    <tr>\n",
       "      <th>2014-08-02</th>\n",
       "      <td>True</td>\n",
       "      <td>True</td>\n",
       "      <td>False</td>\n",
       "    </tr>\n",
       "    <tr>\n",
       "      <th>2014-08-04</th>\n",
       "      <td>False</td>\n",
       "      <td>False</td>\n",
       "      <td>True</td>\n",
       "    </tr>\n",
       "    <tr>\n",
       "      <th>2014-08-06</th>\n",
       "      <td>True</td>\n",
       "      <td>True</td>\n",
       "      <td>False</td>\n",
       "    </tr>\n",
       "  </tbody>\n",
       "</table>\n",
       "</div>"
      ],
      "text/plain": [
       "           Kedai B Kedai C Kedai D\n",
       "2014-08-01   False    True    True\n",
       "2014-08-02    True    True   False\n",
       "2014-08-04   False   False    True\n",
       "2014-08-06    True    True   False"
      ]
     },
     "execution_count": 49,
     "metadata": {},
     "output_type": "execute_result"
    }
   ],
   "source": [
    "# Select > 0 from previous cell...\n",
    "(df2[df2['Tambah'].isin(['satu','tiga'])].loc[:,'Kedai B':'Kedai D']>0)"
   ]
  },
  {
   "cell_type": "markdown",
   "metadata": {},
   "source": [
    "***\n",
    "### **_8.2 Data Operations_**"
   ]
  },
  {
   "cell_type": "markdown",
   "metadata": {},
   "source": [
    "We have seen few operations previously on **_Series_** and **_DataFrame_** and here this will be explored further."
   ]
  },
  {
   "cell_type": "code",
   "execution_count": 50,
   "metadata": {
    "collapsed": false
   },
   "outputs": [
    {
     "data": {
      "text/plain": [
       "Kedai A    0.395553\n",
       "Kedai B   -0.394076\n",
       "Kedai C   -0.329596\n",
       "Kedai D    0.570671\n",
       "Kedai E   -0.443937\n",
       "dtype: float64"
      ]
     },
     "execution_count": 50,
     "metadata": {},
     "output_type": "execute_result"
    }
   ],
   "source": [
    "df.mean()                    # Statistical mean (column) - same as df.mean(0), 0 means column"
   ]
  },
  {
   "cell_type": "code",
   "execution_count": 51,
   "metadata": {
    "collapsed": false
   },
   "outputs": [
    {
     "data": {
      "text/plain": [
       "2014-08-01   -0.023222\n",
       "2014-08-02    0.236472\n",
       "2014-08-03   -0.312582\n",
       "2014-08-04    0.447520\n",
       "2014-08-05   -0.579912\n",
       "2014-08-06    0.542257\n",
       "2014-08-07   -0.353114\n",
       "2014-08-08   -0.279635\n",
       "Freq: D, dtype: float64"
      ]
     },
     "execution_count": 51,
     "metadata": {},
     "output_type": "execute_result"
    }
   ],
   "source": [
    "df.mean(1)                   # Statistical mean (row) - 1 means row"
   ]
  },
  {
   "cell_type": "code",
   "execution_count": 52,
   "metadata": {
    "collapsed": false
   },
   "outputs": [
    {
     "data": {
      "text/plain": [
       "Kedai C   -0.329596\n",
       "Kedai D    0.570671\n",
       "Kedai E   -0.443937\n",
       "dtype: float64"
      ]
     },
     "execution_count": 52,
     "metadata": {},
     "output_type": "execute_result"
    }
   ],
   "source": [
    "df.mean()['Kedai C':'Kedai E']         # Statistical mean (range of columns)"
   ]
  },
  {
   "cell_type": "code",
   "execution_count": 53,
   "metadata": {
    "collapsed": false
   },
   "outputs": [
    {
     "data": {
      "text/plain": [
       "Kedai A    1.309475\n",
       "Kedai B    0.943705\n",
       "Kedai C    0.851052\n",
       "Kedai D    2.075217\n",
       "Kedai E    0.361620\n",
       "dtype: float64"
      ]
     },
     "execution_count": 53,
     "metadata": {},
     "output_type": "execute_result"
    }
   ],
   "source": [
    "df.max()                               # Statistical max (column)"
   ]
  },
  {
   "cell_type": "code",
   "execution_count": 54,
   "metadata": {
    "collapsed": false
   },
   "outputs": [
    {
     "data": {
      "text/plain": [
       "0.85105209316874242"
      ]
     },
     "execution_count": 54,
     "metadata": {},
     "output_type": "execute_result"
    }
   ],
   "source": [
    "df.max()['Kedai C']                    # Statistical max (specific column)"
   ]
  },
  {
   "cell_type": "code",
   "execution_count": 55,
   "metadata": {
    "collapsed": false
   },
   "outputs": [
    {
     "data": {
      "text/plain": [
       "2014-08-04    2.075217\n",
       "2014-08-05    0.155232\n",
       "2014-08-06    1.309475\n",
       "2014-08-07    1.270935\n",
       "Freq: D, dtype: float64"
      ]
     },
     "execution_count": 55,
     "metadata": {},
     "output_type": "execute_result"
    }
   ],
   "source": [
    "df.max(1)['2014-08-04':'2014-08-07']   # Statistical max (specific row)"
   ]
  },
  {
   "cell_type": "code",
   "execution_count": 56,
   "metadata": {
    "collapsed": false
   },
   "outputs": [
    {
     "data": {
      "text/plain": [
       "2.0752173395827045"
      ]
     },
     "execution_count": 56,
     "metadata": {},
     "output_type": "execute_result"
    }
   ],
   "source": [
    "df.max(1)[dates[3]]          # Statistical max (specific row by variable)"
   ]
  },
  {
   "cell_type": "markdown",
   "metadata": {},
   "source": [
    "---\n",
    "Other statistical functions can be checked by typing df._< TAB >_."
   ]
  },
  {
   "cell_type": "markdown",
   "metadata": {},
   "source": [
    "The data in a **_DataFrame_** can be represented by a variable declared using the <span style=\"color: #0000FF\">$lambda$</span> operator."
   ]
  },
  {
   "cell_type": "code",
   "execution_count": 57,
   "metadata": {
    "collapsed": false
   },
   "outputs": [
    {
     "data": {
      "text/plain": [
       "Kedai A    1.821602\n",
       "Kedai B    2.859624\n",
       "Kedai C    2.854903\n",
       "Kedai D    2.639863\n",
       "Kedai E    2.755418\n",
       "dtype: float64"
      ]
     },
     "execution_count": 57,
     "metadata": {},
     "output_type": "execute_result"
    }
   ],
   "source": [
    "df.apply(lambda x: x.max() - x.min())       # Operating array values with function"
   ]
  },
  {
   "cell_type": "code",
   "execution_count": 58,
   "metadata": {
    "collapsed": false
   },
   "outputs": [
    {
     "data": {
      "text/html": [
       "<div>\n",
       "<table border=\"1\" class=\"dataframe\">\n",
       "  <thead>\n",
       "    <tr style=\"text-align: right;\">\n",
       "      <th></th>\n",
       "      <th>Kedai A</th>\n",
       "      <th>Kedai B</th>\n",
       "      <th>Kedai C</th>\n",
       "      <th>Kedai D</th>\n",
       "      <th>Kedai E</th>\n",
       "    </tr>\n",
       "  </thead>\n",
       "  <tbody>\n",
       "    <tr>\n",
       "      <th>2014-08-01</th>\n",
       "      <td>-0.096283</td>\n",
       "      <td>NaN</td>\n",
       "      <td>-2.325578</td>\n",
       "      <td>-0.682720</td>\n",
       "      <td>-1.242591</td>\n",
       "    </tr>\n",
       "    <tr>\n",
       "      <th>2014-08-02</th>\n",
       "      <td>-1.368620</td>\n",
       "      <td>-0.057941</td>\n",
       "      <td>-0.926622</td>\n",
       "      <td>NaN</td>\n",
       "      <td>-2.586531</td>\n",
       "    </tr>\n",
       "    <tr>\n",
       "      <th>2014-08-03</th>\n",
       "      <td>-2.159685</td>\n",
       "      <td>NaN</td>\n",
       "      <td>NaN</td>\n",
       "      <td>NaN</td>\n",
       "      <td>-1.442406</td>\n",
       "    </tr>\n",
       "    <tr>\n",
       "      <th>2014-08-04</th>\n",
       "      <td>-0.454634</td>\n",
       "      <td>NaN</td>\n",
       "      <td>NaN</td>\n",
       "      <td>0.730066</td>\n",
       "      <td>NaN</td>\n",
       "    </tr>\n",
       "    <tr>\n",
       "      <th>2014-08-05</th>\n",
       "      <td>NaN</td>\n",
       "      <td>NaN</td>\n",
       "      <td>NaN</td>\n",
       "      <td>-1.862831</td>\n",
       "      <td>NaN</td>\n",
       "    </tr>\n",
       "    <tr>\n",
       "      <th>2014-08-06</th>\n",
       "      <td>0.269627</td>\n",
       "      <td>-0.282648</td>\n",
       "      <td>-0.161282</td>\n",
       "      <td>NaN</td>\n",
       "      <td>-1.017161</td>\n",
       "    </tr>\n",
       "    <tr>\n",
       "      <th>2014-08-07</th>\n",
       "      <td>-0.439604</td>\n",
       "      <td>NaN</td>\n",
       "      <td>NaN</td>\n",
       "      <td>0.239753</td>\n",
       "      <td>NaN</td>\n",
       "    </tr>\n",
       "    <tr>\n",
       "      <th>2014-08-08</th>\n",
       "      <td>NaN</td>\n",
       "      <td>-1.910666</td>\n",
       "      <td>NaN</td>\n",
       "      <td>0.554205</td>\n",
       "      <td>NaN</td>\n",
       "    </tr>\n",
       "  </tbody>\n",
       "</table>\n",
       "</div>"
      ],
      "text/plain": [
       "             Kedai A   Kedai B   Kedai C   Kedai D   Kedai E\n",
       "2014-08-01 -0.096283       NaN -2.325578 -0.682720 -1.242591\n",
       "2014-08-02 -1.368620 -0.057941 -0.926622       NaN -2.586531\n",
       "2014-08-03 -2.159685       NaN       NaN       NaN -1.442406\n",
       "2014-08-04 -0.454634       NaN       NaN  0.730066       NaN\n",
       "2014-08-05       NaN       NaN       NaN -1.862831       NaN\n",
       "2014-08-06  0.269627 -0.282648 -0.161282       NaN -1.017161\n",
       "2014-08-07 -0.439604       NaN       NaN  0.239753       NaN\n",
       "2014-08-08       NaN -1.910666       NaN  0.554205       NaN"
      ]
     },
     "execution_count": 58,
     "metadata": {},
     "output_type": "execute_result"
    }
   ],
   "source": [
    "df.apply(lambda z: np.log(z))               # Operating array values with function"
   ]
  },
  {
   "cell_type": "markdown",
   "metadata": {},
   "source": [
    "Replacing, rearranging and operations of data between columns can be done much like spreadsheet."
   ]
  },
  {
   "cell_type": "code",
   "execution_count": 59,
   "metadata": {
    "collapsed": false
   },
   "outputs": [],
   "source": [
    "df3 = df.copy()"
   ]
  },
  {
   "cell_type": "code",
   "execution_count": 60,
   "metadata": {
    "collapsed": false
   },
   "outputs": [
    {
     "data": {
      "text/html": [
       "<div>\n",
       "<table border=\"1\" class=\"dataframe\">\n",
       "  <thead>\n",
       "    <tr style=\"text-align: right;\">\n",
       "      <th></th>\n",
       "      <th>Kedai A</th>\n",
       "      <th>Kedai B</th>\n",
       "      <th>Kedai C</th>\n",
       "      <th>Kedai D</th>\n",
       "      <th>Kedai E</th>\n",
       "      <th>Kedai A^2/Kedai E</th>\n",
       "    </tr>\n",
       "  </thead>\n",
       "  <tbody>\n",
       "    <tr>\n",
       "      <th>2014-08-01</th>\n",
       "      <td>0.908207</td>\n",
       "      <td>-1.915919</td>\n",
       "      <td>0.097727</td>\n",
       "      <td>0.505241</td>\n",
       "      <td>0.288635</td>\n",
       "      <td>2.857724</td>\n",
       "    </tr>\n",
       "    <tr>\n",
       "      <th>2014-08-02</th>\n",
       "      <td>0.254458</td>\n",
       "      <td>0.943705</td>\n",
       "      <td>0.395889</td>\n",
       "      <td>-0.486971</td>\n",
       "      <td>0.075281</td>\n",
       "      <td>0.860099</td>\n",
       "    </tr>\n",
       "    <tr>\n",
       "      <th>2014-08-03</th>\n",
       "      <td>0.115361</td>\n",
       "      <td>-0.958970</td>\n",
       "      <td>-0.825462</td>\n",
       "      <td>-0.130196</td>\n",
       "      <td>0.236358</td>\n",
       "      <td>0.056305</td>\n",
       "    </tr>\n",
       "    <tr>\n",
       "      <th>2014-08-04</th>\n",
       "      <td>0.634680</td>\n",
       "      <td>-0.117784</td>\n",
       "      <td>-0.291003</td>\n",
       "      <td>2.075217</td>\n",
       "      <td>-0.063509</td>\n",
       "      <td>-6.342727</td>\n",
       "    </tr>\n",
       "    <tr>\n",
       "      <th>2014-08-05</th>\n",
       "      <td>-0.189921</td>\n",
       "      <td>-0.902058</td>\n",
       "      <td>-0.677468</td>\n",
       "      <td>0.155232</td>\n",
       "      <td>-1.285344</td>\n",
       "      <td>-0.028063</td>\n",
       "    </tr>\n",
       "    <tr>\n",
       "      <th>2014-08-06</th>\n",
       "      <td>1.309475</td>\n",
       "      <td>0.753785</td>\n",
       "      <td>0.851052</td>\n",
       "      <td>-0.564646</td>\n",
       "      <td>0.361620</td>\n",
       "      <td>4.741786</td>\n",
       "    </tr>\n",
       "    <tr>\n",
       "      <th>2014-08-07</th>\n",
       "      <td>0.644292</td>\n",
       "      <td>-1.103346</td>\n",
       "      <td>-0.183652</td>\n",
       "      <td>1.270935</td>\n",
       "      <td>-2.393798</td>\n",
       "      <td>-0.173411</td>\n",
       "    </tr>\n",
       "    <tr>\n",
       "      <th>2014-08-08</th>\n",
       "      <td>-0.512127</td>\n",
       "      <td>0.147982</td>\n",
       "      <td>-2.003851</td>\n",
       "      <td>1.740556</td>\n",
       "      <td>-0.770737</td>\n",
       "      <td>-0.340290</td>\n",
       "    </tr>\n",
       "  </tbody>\n",
       "</table>\n",
       "</div>"
      ],
      "text/plain": [
       "             Kedai A   Kedai B   Kedai C   Kedai D   Kedai E  \\\n",
       "2014-08-01  0.908207 -1.915919  0.097727  0.505241  0.288635   \n",
       "2014-08-02  0.254458  0.943705  0.395889 -0.486971  0.075281   \n",
       "2014-08-03  0.115361 -0.958970 -0.825462 -0.130196  0.236358   \n",
       "2014-08-04  0.634680 -0.117784 -0.291003  2.075217 -0.063509   \n",
       "2014-08-05 -0.189921 -0.902058 -0.677468  0.155232 -1.285344   \n",
       "2014-08-06  1.309475  0.753785  0.851052 -0.564646  0.361620   \n",
       "2014-08-07  0.644292 -1.103346 -0.183652  1.270935 -2.393798   \n",
       "2014-08-08 -0.512127  0.147982 -2.003851  1.740556 -0.770737   \n",
       "\n",
       "            Kedai A^2/Kedai E  \n",
       "2014-08-01           2.857724  \n",
       "2014-08-02           0.860099  \n",
       "2014-08-03           0.056305  \n",
       "2014-08-04          -6.342727  \n",
       "2014-08-05          -0.028063  \n",
       "2014-08-06           4.741786  \n",
       "2014-08-07          -0.173411  \n",
       "2014-08-08          -0.340290  "
      ]
     },
     "execution_count": 60,
     "metadata": {},
     "output_type": "execute_result"
    }
   ],
   "source": [
    "df3[r'Kedai A^2/Kedai E'] = df3['Kedai A']**2/df3['Kedai E']\n",
    "df3"
   ]
  },
  {
   "cell_type": "markdown",
   "metadata": {},
   "source": [
    "Tables can be split, rearranged and combined."
   ]
  },
  {
   "cell_type": "code",
   "execution_count": 61,
   "metadata": {
    "collapsed": false
   },
   "outputs": [
    {
     "data": {
      "text/html": [
       "<div>\n",
       "<table border=\"1\" class=\"dataframe\">\n",
       "  <thead>\n",
       "    <tr style=\"text-align: right;\">\n",
       "      <th></th>\n",
       "      <th>Kedai A</th>\n",
       "      <th>Kedai B</th>\n",
       "      <th>Kedai C</th>\n",
       "      <th>Kedai D</th>\n",
       "      <th>Kedai E</th>\n",
       "    </tr>\n",
       "  </thead>\n",
       "  <tbody>\n",
       "    <tr>\n",
       "      <th>2014-08-01</th>\n",
       "      <td>0.908207</td>\n",
       "      <td>-1.915919</td>\n",
       "      <td>0.097727</td>\n",
       "      <td>0.505241</td>\n",
       "      <td>0.288635</td>\n",
       "    </tr>\n",
       "    <tr>\n",
       "      <th>2014-08-02</th>\n",
       "      <td>0.254458</td>\n",
       "      <td>0.943705</td>\n",
       "      <td>0.395889</td>\n",
       "      <td>-0.486971</td>\n",
       "      <td>0.075281</td>\n",
       "    </tr>\n",
       "    <tr>\n",
       "      <th>2014-08-03</th>\n",
       "      <td>0.115361</td>\n",
       "      <td>-0.958970</td>\n",
       "      <td>-0.825462</td>\n",
       "      <td>-0.130196</td>\n",
       "      <td>0.236358</td>\n",
       "    </tr>\n",
       "    <tr>\n",
       "      <th>2014-08-04</th>\n",
       "      <td>0.634680</td>\n",
       "      <td>-0.117784</td>\n",
       "      <td>-0.291003</td>\n",
       "      <td>2.075217</td>\n",
       "      <td>-0.063509</td>\n",
       "    </tr>\n",
       "    <tr>\n",
       "      <th>2014-08-05</th>\n",
       "      <td>-0.189921</td>\n",
       "      <td>-0.902058</td>\n",
       "      <td>-0.677468</td>\n",
       "      <td>0.155232</td>\n",
       "      <td>-1.285344</td>\n",
       "    </tr>\n",
       "    <tr>\n",
       "      <th>2014-08-06</th>\n",
       "      <td>1.309475</td>\n",
       "      <td>0.753785</td>\n",
       "      <td>0.851052</td>\n",
       "      <td>-0.564646</td>\n",
       "      <td>0.361620</td>\n",
       "    </tr>\n",
       "    <tr>\n",
       "      <th>2014-08-07</th>\n",
       "      <td>0.644292</td>\n",
       "      <td>-1.103346</td>\n",
       "      <td>-0.183652</td>\n",
       "      <td>1.270935</td>\n",
       "      <td>-2.393798</td>\n",
       "    </tr>\n",
       "    <tr>\n",
       "      <th>2014-08-08</th>\n",
       "      <td>-0.512127</td>\n",
       "      <td>0.147982</td>\n",
       "      <td>-2.003851</td>\n",
       "      <td>1.740556</td>\n",
       "      <td>-0.770737</td>\n",
       "    </tr>\n",
       "  </tbody>\n",
       "</table>\n",
       "</div>"
      ],
      "text/plain": [
       "             Kedai A   Kedai B   Kedai C   Kedai D   Kedai E\n",
       "2014-08-01  0.908207 -1.915919  0.097727  0.505241  0.288635\n",
       "2014-08-02  0.254458  0.943705  0.395889 -0.486971  0.075281\n",
       "2014-08-03  0.115361 -0.958970 -0.825462 -0.130196  0.236358\n",
       "2014-08-04  0.634680 -0.117784 -0.291003  2.075217 -0.063509\n",
       "2014-08-05 -0.189921 -0.902058 -0.677468  0.155232 -1.285344\n",
       "2014-08-06  1.309475  0.753785  0.851052 -0.564646  0.361620\n",
       "2014-08-07  0.644292 -1.103346 -0.183652  1.270935 -2.393798\n",
       "2014-08-08 -0.512127  0.147982 -2.003851  1.740556 -0.770737"
      ]
     },
     "execution_count": 61,
     "metadata": {},
     "output_type": "execute_result"
    }
   ],
   "source": [
    "df4 = df.copy()\n",
    "df4"
   ]
  },
  {
   "cell_type": "code",
   "execution_count": 62,
   "metadata": {
    "collapsed": false
   },
   "outputs": [
    {
     "data": {
      "text/plain": [
       "[             Kedai A   Kedai B   Kedai C   Kedai D   Kedai E\n",
       " 2014-08-07  0.644292 -1.103346 -0.183652  1.270935 -2.393798\n",
       " 2014-08-08 -0.512127  0.147982 -2.003851  1.740556 -0.770737,\n",
       "              Kedai A   Kedai B   Kedai C   Kedai D   Kedai E\n",
       " 2014-08-04  0.634680 -0.117784 -0.291003  2.075217 -0.063509\n",
       " 2014-08-05 -0.189921 -0.902058 -0.677468  0.155232 -1.285344\n",
       " 2014-08-06  1.309475  0.753785  0.851052 -0.564646  0.361620,\n",
       "              Kedai A   Kedai B   Kedai C   Kedai D   Kedai E\n",
       " 2014-08-01  0.908207 -1.915919  0.097727  0.505241  0.288635\n",
       " 2014-08-02  0.254458  0.943705  0.395889 -0.486971  0.075281\n",
       " 2014-08-03  0.115361 -0.958970 -0.825462 -0.130196  0.236358]"
      ]
     },
     "execution_count": 62,
     "metadata": {},
     "output_type": "execute_result"
    }
   ],
   "source": [
    "pieces = [df4[6:], df4[3:6], df4[:3]]   # split row 2+3+3\n",
    "pieces"
   ]
  },
  {
   "cell_type": "code",
   "execution_count": 63,
   "metadata": {
    "collapsed": false
   },
   "outputs": [
    {
     "data": {
      "text/html": [
       "<div>\n",
       "<table border=\"1\" class=\"dataframe\">\n",
       "  <thead>\n",
       "    <tr style=\"text-align: right;\">\n",
       "      <th></th>\n",
       "      <th>Kedai A</th>\n",
       "      <th>Kedai B</th>\n",
       "      <th>Kedai C</th>\n",
       "      <th>Kedai D</th>\n",
       "      <th>Kedai E</th>\n",
       "    </tr>\n",
       "  </thead>\n",
       "  <tbody>\n",
       "    <tr>\n",
       "      <th>2014-08-07</th>\n",
       "      <td>0.644292</td>\n",
       "      <td>-1.103346</td>\n",
       "      <td>-0.183652</td>\n",
       "      <td>1.270935</td>\n",
       "      <td>-2.393798</td>\n",
       "    </tr>\n",
       "    <tr>\n",
       "      <th>2014-08-08</th>\n",
       "      <td>-0.512127</td>\n",
       "      <td>0.147982</td>\n",
       "      <td>-2.003851</td>\n",
       "      <td>1.740556</td>\n",
       "      <td>-0.770737</td>\n",
       "    </tr>\n",
       "    <tr>\n",
       "      <th>2014-08-04</th>\n",
       "      <td>0.634680</td>\n",
       "      <td>-0.117784</td>\n",
       "      <td>-0.291003</td>\n",
       "      <td>2.075217</td>\n",
       "      <td>-0.063509</td>\n",
       "    </tr>\n",
       "    <tr>\n",
       "      <th>2014-08-05</th>\n",
       "      <td>-0.189921</td>\n",
       "      <td>-0.902058</td>\n",
       "      <td>-0.677468</td>\n",
       "      <td>0.155232</td>\n",
       "      <td>-1.285344</td>\n",
       "    </tr>\n",
       "    <tr>\n",
       "      <th>2014-08-06</th>\n",
       "      <td>1.309475</td>\n",
       "      <td>0.753785</td>\n",
       "      <td>0.851052</td>\n",
       "      <td>-0.564646</td>\n",
       "      <td>0.361620</td>\n",
       "    </tr>\n",
       "    <tr>\n",
       "      <th>2014-08-01</th>\n",
       "      <td>0.908207</td>\n",
       "      <td>-1.915919</td>\n",
       "      <td>0.097727</td>\n",
       "      <td>0.505241</td>\n",
       "      <td>0.288635</td>\n",
       "    </tr>\n",
       "    <tr>\n",
       "      <th>2014-08-02</th>\n",
       "      <td>0.254458</td>\n",
       "      <td>0.943705</td>\n",
       "      <td>0.395889</td>\n",
       "      <td>-0.486971</td>\n",
       "      <td>0.075281</td>\n",
       "    </tr>\n",
       "    <tr>\n",
       "      <th>2014-08-03</th>\n",
       "      <td>0.115361</td>\n",
       "      <td>-0.958970</td>\n",
       "      <td>-0.825462</td>\n",
       "      <td>-0.130196</td>\n",
       "      <td>0.236358</td>\n",
       "    </tr>\n",
       "  </tbody>\n",
       "</table>\n",
       "</div>"
      ],
      "text/plain": [
       "             Kedai A   Kedai B   Kedai C   Kedai D   Kedai E\n",
       "2014-08-07  0.644292 -1.103346 -0.183652  1.270935 -2.393798\n",
       "2014-08-08 -0.512127  0.147982 -2.003851  1.740556 -0.770737\n",
       "2014-08-04  0.634680 -0.117784 -0.291003  2.075217 -0.063509\n",
       "2014-08-05 -0.189921 -0.902058 -0.677468  0.155232 -1.285344\n",
       "2014-08-06  1.309475  0.753785  0.851052 -0.564646  0.361620\n",
       "2014-08-01  0.908207 -1.915919  0.097727  0.505241  0.288635\n",
       "2014-08-02  0.254458  0.943705  0.395889 -0.486971  0.075281\n",
       "2014-08-03  0.115361 -0.958970 -0.825462 -0.130196  0.236358"
      ]
     },
     "execution_count": 63,
     "metadata": {},
     "output_type": "execute_result"
    }
   ],
   "source": [
    "df5 = pd.concat(pieces)                 # concantenate (rearrange/combine)\n",
    "df5"
   ]
  },
  {
   "cell_type": "code",
   "execution_count": 64,
   "metadata": {
    "collapsed": false
   },
   "outputs": [
    {
     "data": {
      "text/html": [
       "<div>\n",
       "<table border=\"1\" class=\"dataframe\">\n",
       "  <thead>\n",
       "    <tr style=\"text-align: right;\">\n",
       "      <th></th>\n",
       "      <th>Kedai A</th>\n",
       "      <th>Kedai B</th>\n",
       "      <th>Kedai C</th>\n",
       "      <th>Kedai D</th>\n",
       "      <th>Kedai E</th>\n",
       "    </tr>\n",
       "  </thead>\n",
       "  <tbody>\n",
       "    <tr>\n",
       "      <th>2014-08-01</th>\n",
       "      <td>1.816414</td>\n",
       "      <td>-3.831838</td>\n",
       "      <td>0.195454</td>\n",
       "      <td>1.010481</td>\n",
       "      <td>0.577271</td>\n",
       "    </tr>\n",
       "    <tr>\n",
       "      <th>2014-08-02</th>\n",
       "      <td>0.508916</td>\n",
       "      <td>1.887410</td>\n",
       "      <td>0.791777</td>\n",
       "      <td>-0.973942</td>\n",
       "      <td>0.150561</td>\n",
       "    </tr>\n",
       "    <tr>\n",
       "      <th>2014-08-03</th>\n",
       "      <td>0.230723</td>\n",
       "      <td>-1.917941</td>\n",
       "      <td>-1.650923</td>\n",
       "      <td>-0.260392</td>\n",
       "      <td>0.472717</td>\n",
       "    </tr>\n",
       "    <tr>\n",
       "      <th>2014-08-04</th>\n",
       "      <td>1.269361</td>\n",
       "      <td>-0.235567</td>\n",
       "      <td>-0.582007</td>\n",
       "      <td>4.150435</td>\n",
       "      <td>-0.127018</td>\n",
       "    </tr>\n",
       "    <tr>\n",
       "      <th>2014-08-05</th>\n",
       "      <td>-0.379842</td>\n",
       "      <td>-1.804116</td>\n",
       "      <td>-1.354935</td>\n",
       "      <td>0.310465</td>\n",
       "      <td>-2.570687</td>\n",
       "    </tr>\n",
       "    <tr>\n",
       "      <th>2014-08-06</th>\n",
       "      <td>2.618951</td>\n",
       "      <td>1.507570</td>\n",
       "      <td>1.702104</td>\n",
       "      <td>-1.129292</td>\n",
       "      <td>0.723240</td>\n",
       "    </tr>\n",
       "    <tr>\n",
       "      <th>2014-08-07</th>\n",
       "      <td>1.288583</td>\n",
       "      <td>-2.206692</td>\n",
       "      <td>-0.367303</td>\n",
       "      <td>2.541870</td>\n",
       "      <td>-4.787595</td>\n",
       "    </tr>\n",
       "    <tr>\n",
       "      <th>2014-08-08</th>\n",
       "      <td>-1.024254</td>\n",
       "      <td>0.295964</td>\n",
       "      <td>-4.007702</td>\n",
       "      <td>3.481112</td>\n",
       "      <td>-1.541473</td>\n",
       "    </tr>\n",
       "  </tbody>\n",
       "</table>\n",
       "</div>"
      ],
      "text/plain": [
       "             Kedai A   Kedai B   Kedai C   Kedai D   Kedai E\n",
       "2014-08-01  1.816414 -3.831838  0.195454  1.010481  0.577271\n",
       "2014-08-02  0.508916  1.887410  0.791777 -0.973942  0.150561\n",
       "2014-08-03  0.230723 -1.917941 -1.650923 -0.260392  0.472717\n",
       "2014-08-04  1.269361 -0.235567 -0.582007  4.150435 -0.127018\n",
       "2014-08-05 -0.379842 -1.804116 -1.354935  0.310465 -2.570687\n",
       "2014-08-06  2.618951  1.507570  1.702104 -1.129292  0.723240\n",
       "2014-08-07  1.288583 -2.206692 -0.367303  2.541870 -4.787595\n",
       "2014-08-08 -1.024254  0.295964 -4.007702  3.481112 -1.541473"
      ]
     },
     "execution_count": 64,
     "metadata": {},
     "output_type": "execute_result"
    }
   ],
   "source": [
    "df4+df5             # Operation between tables with original index sequence"
   ]
  },
  {
   "cell_type": "code",
   "execution_count": 65,
   "metadata": {
    "collapsed": false
   },
   "outputs": [
    {
     "data": {
      "text/html": [
       "<div>\n",
       "<table border=\"1\" class=\"dataframe\">\n",
       "  <thead>\n",
       "    <tr style=\"text-align: right;\">\n",
       "      <th></th>\n",
       "      <th>Kedai A</th>\n",
       "      <th>Kedai B</th>\n",
       "      <th>Kedai C</th>\n",
       "      <th>Kedai D</th>\n",
       "      <th>Kedai E</th>\n",
       "      <th>Kedai A</th>\n",
       "      <th>Kedai B</th>\n",
       "      <th>Kedai C</th>\n",
       "    </tr>\n",
       "  </thead>\n",
       "  <tbody>\n",
       "    <tr>\n",
       "      <th>2014-08-01</th>\n",
       "      <td>0.908207</td>\n",
       "      <td>-1.915919</td>\n",
       "      <td>0.097727</td>\n",
       "      <td>0.505241</td>\n",
       "      <td>0.288635</td>\n",
       "      <td>0.908207</td>\n",
       "      <td>-1.915919</td>\n",
       "      <td>0.097727</td>\n",
       "    </tr>\n",
       "    <tr>\n",
       "      <th>2014-08-02</th>\n",
       "      <td>0.254458</td>\n",
       "      <td>0.943705</td>\n",
       "      <td>0.395889</td>\n",
       "      <td>-0.486971</td>\n",
       "      <td>0.075281</td>\n",
       "      <td>0.254458</td>\n",
       "      <td>0.943705</td>\n",
       "      <td>0.395889</td>\n",
       "    </tr>\n",
       "    <tr>\n",
       "      <th>2014-08-03</th>\n",
       "      <td>0.115361</td>\n",
       "      <td>-0.958970</td>\n",
       "      <td>-0.825462</td>\n",
       "      <td>-0.130196</td>\n",
       "      <td>0.236358</td>\n",
       "      <td>0.115361</td>\n",
       "      <td>-0.958970</td>\n",
       "      <td>-0.825462</td>\n",
       "    </tr>\n",
       "    <tr>\n",
       "      <th>2014-08-04</th>\n",
       "      <td>0.634680</td>\n",
       "      <td>-0.117784</td>\n",
       "      <td>-0.291003</td>\n",
       "      <td>2.075217</td>\n",
       "      <td>-0.063509</td>\n",
       "      <td>0.634680</td>\n",
       "      <td>-0.117784</td>\n",
       "      <td>-0.291003</td>\n",
       "    </tr>\n",
       "    <tr>\n",
       "      <th>2014-08-05</th>\n",
       "      <td>-0.189921</td>\n",
       "      <td>-0.902058</td>\n",
       "      <td>-0.677468</td>\n",
       "      <td>0.155232</td>\n",
       "      <td>-1.285344</td>\n",
       "      <td>-0.189921</td>\n",
       "      <td>-0.902058</td>\n",
       "      <td>-0.677468</td>\n",
       "    </tr>\n",
       "    <tr>\n",
       "      <th>2014-08-06</th>\n",
       "      <td>1.309475</td>\n",
       "      <td>0.753785</td>\n",
       "      <td>0.851052</td>\n",
       "      <td>-0.564646</td>\n",
       "      <td>0.361620</td>\n",
       "      <td>1.309475</td>\n",
       "      <td>0.753785</td>\n",
       "      <td>0.851052</td>\n",
       "    </tr>\n",
       "    <tr>\n",
       "      <th>2014-08-07</th>\n",
       "      <td>0.644292</td>\n",
       "      <td>-1.103346</td>\n",
       "      <td>-0.183652</td>\n",
       "      <td>1.270935</td>\n",
       "      <td>-2.393798</td>\n",
       "      <td>0.644292</td>\n",
       "      <td>-1.103346</td>\n",
       "      <td>-0.183652</td>\n",
       "    </tr>\n",
       "    <tr>\n",
       "      <th>2014-08-08</th>\n",
       "      <td>-0.512127</td>\n",
       "      <td>0.147982</td>\n",
       "      <td>-2.003851</td>\n",
       "      <td>1.740556</td>\n",
       "      <td>-0.770737</td>\n",
       "      <td>-0.512127</td>\n",
       "      <td>0.147982</td>\n",
       "      <td>-2.003851</td>\n",
       "    </tr>\n",
       "  </tbody>\n",
       "</table>\n",
       "</div>"
      ],
      "text/plain": [
       "             Kedai A   Kedai B   Kedai C   Kedai D   Kedai E   Kedai A  \\\n",
       "2014-08-01  0.908207 -1.915919  0.097727  0.505241  0.288635  0.908207   \n",
       "2014-08-02  0.254458  0.943705  0.395889 -0.486971  0.075281  0.254458   \n",
       "2014-08-03  0.115361 -0.958970 -0.825462 -0.130196  0.236358  0.115361   \n",
       "2014-08-04  0.634680 -0.117784 -0.291003  2.075217 -0.063509  0.634680   \n",
       "2014-08-05 -0.189921 -0.902058 -0.677468  0.155232 -1.285344 -0.189921   \n",
       "2014-08-06  1.309475  0.753785  0.851052 -0.564646  0.361620  1.309475   \n",
       "2014-08-07  0.644292 -1.103346 -0.183652  1.270935 -2.393798  0.644292   \n",
       "2014-08-08 -0.512127  0.147982 -2.003851  1.740556 -0.770737 -0.512127   \n",
       "\n",
       "             Kedai B   Kedai C  \n",
       "2014-08-01 -1.915919  0.097727  \n",
       "2014-08-02  0.943705  0.395889  \n",
       "2014-08-03 -0.958970 -0.825462  \n",
       "2014-08-04 -0.117784 -0.291003  \n",
       "2014-08-05 -0.902058 -0.677468  \n",
       "2014-08-06  0.753785  0.851052  \n",
       "2014-08-07 -1.103346 -0.183652  \n",
       "2014-08-08  0.147982 -2.003851  "
      ]
     },
     "execution_count": 65,
     "metadata": {},
     "output_type": "execute_result"
    }
   ],
   "source": [
    "df0 = df.loc[:,'Kedai A':'Kedai C']     # Slicing and extracting columns\n",
    "pd.concat([df4, df0], axis = 1)         # Concatenating columns (axis = 1 -> refers to column)"
   ]
  },
  {
   "cell_type": "markdown",
   "metadata": {},
   "source": [
    "***\n",
    "### **_8.3 Plotting Functions_**"
   ]
  },
  {
   "cell_type": "markdown",
   "metadata": {},
   "source": [
    "---\n",
    "Let us look on some of the simple plotting function on <span style=\"color: #0000FF\">$Pandas$</span> (requires <span style=\"color: #0000FF\">$Matplotlib$</span> library)."
   ]
  },
  {
   "cell_type": "code",
   "execution_count": 66,
   "metadata": {
    "collapsed": false
   },
   "outputs": [],
   "source": [
    "df_add = df.copy()"
   ]
  },
  {
   "cell_type": "code",
   "execution_count": 67,
   "metadata": {
    "collapsed": false
   },
   "outputs": [
    {
     "data": {
      "text/plain": [
       "<matplotlib.axes._subplots.AxesSubplot at 0x7f37fd724a50>"
      ]
     },
     "execution_count": 67,
     "metadata": {},
     "output_type": "execute_result"
    },
    {
     "data": {
      "image/png": "[encoded data removed]",
      "text/plain": [
       "<matplotlib.figure.Figure at 0x7f37fd724110>"
      ]
     },
     "metadata": {},
     "output_type": "display_data"
    }
   ],
   "source": [
    "# Simple auto plotting\n",
    "%matplotlib inline\n",
    "\n",
    "df_add.cumsum().plot()"
   ]
  },
  {
   "cell_type": "code",
   "execution_count": 68,
   "metadata": {
    "collapsed": false
   },
   "outputs": [
    {
     "data": {
      "text/plain": [
       "<matplotlib.legend.Legend at 0x7f37fd74cb10>"
      ]
     },
     "execution_count": 68,
     "metadata": {},
     "output_type": "execute_result"
    },
    {
     "data": {
      "image/png": "[encoded data removed]",
      "text/plain": [
       "<matplotlib.figure.Figure at 0x7f37ffc62c90>"
      ]
     },
     "metadata": {},
     "output_type": "display_data"
    }
   ],
   "source": [
    "# Reposition the legend\n",
    "\n",
    "import matplotlib.pyplot as plt\n",
    "\n",
    "df_add.cumsum().plot()\n",
    "plt.legend(bbox_to_anchor=[1.3, 1])"
   ]
  },
  {
   "cell_type": "markdown",
   "metadata": {},
   "source": [
    "In the above example, repositioning the legend requires the legend function in <span style=\"color: #0000FF\">$Matplotlib$</span> library. Therefore, the <span style=\"color: #0000FF\">$Matplotlib$</span> library must be explicitly imported."
   ]
  },
  {
   "cell_type": "code",
   "execution_count": 69,
   "metadata": {
    "collapsed": false
   },
   "outputs": [
    {
     "data": {
      "text/plain": [
       "<matplotlib.legend.Legend at 0x7f37f9d35250>"
      ]
     },
     "execution_count": 69,
     "metadata": {},
     "output_type": "execute_result"
    },
    {
     "data": {
      "image/png": "[encoded data removed]",
      "text/plain": [
       "<matplotlib.figure.Figure at 0x7f37fd7249d0>"
      ]
     },
     "metadata": {},
     "output_type": "display_data"
    }
   ],
   "source": [
    "df_add.cumsum().plot(kind='bar')\n",
    "plt.legend(bbox_to_anchor=[1.3, 1])"
   ]
  },
  {
   "cell_type": "code",
   "execution_count": 70,
   "metadata": {
    "collapsed": false
   },
   "outputs": [
    {
     "data": {
      "text/plain": [
       "<matplotlib.axes._subplots.AxesSubplot at 0x7f37f9b33bd0>"
      ]
     },
     "execution_count": 70,
     "metadata": {},
     "output_type": "execute_result"
    },
    {
     "data": {
      "image/png": "[encoded data removed]",
      "text/plain": [
       "<matplotlib.figure.Figure at 0x7f37f9b4b890>"
      ]
     },
     "metadata": {},
     "output_type": "display_data"
    }
   ],
   "source": [
    "df_add.cumsum().plot(kind='barh', stacked=True)"
   ]
  },
  {
   "cell_type": "code",
   "execution_count": 71,
   "metadata": {
    "collapsed": false
   },
   "outputs": [
    {
     "data": {
      "text/plain": [
       "<matplotlib.axes._subplots.AxesSubplot at 0x7f37f996bd50>"
      ]
     },
     "execution_count": 71,
     "metadata": {},
     "output_type": "execute_result"
    },
    {
     "data": {
      "image/png": "[encoded data removed]",
      "text/plain": [
       "<matplotlib.figure.Figure at 0x7f37f9913f90>"
      ]
     },
     "metadata": {},
     "output_type": "display_data"
    }
   ],
   "source": [
    "df_add.cumsum().plot(kind='hist', alpha=0.5)"
   ]
  },
  {
   "cell_type": "code",
   "execution_count": 72,
   "metadata": {
    "collapsed": false
   },
   "outputs": [
    {
     "data": {
      "text/plain": [
       "<matplotlib.legend.Legend at 0x7f37f996bc90>"
      ]
     },
     "execution_count": 72,
     "metadata": {},
     "output_type": "execute_result"
    },
    {
     "data": {
      "image/png": "[encoded data removed]",
      "text/plain": [
       "<matplotlib.figure.Figure at 0x7f37f9719b10>"
      ]
     },
     "metadata": {},
     "output_type": "display_data"
    }
   ],
   "source": [
    "df_add.cumsum().plot(kind='area', alpha=0.4, stacked=False)\n",
    "plt.legend(bbox_to_anchor=[1.3, 1])"
   ]
  },
  {
   "cell_type": "markdown",
   "metadata": {},
   "source": [
    "A 3-dimensional plot can be projected on a canvas but requires the <span style=\"color: #0000FF\">$Axes3D$</span> library with slightly complicated settings."
   ]
  },
  {
   "cell_type": "code",
   "execution_count": 73,
   "metadata": {
    "collapsed": false
   },
   "outputs": [
    {
     "data": {
      "image/png": "[encoded data removed]",
      "text/plain": [
       "<matplotlib.figure.Figure at 0x7f37f9af4950>"
      ]
     },
     "metadata": {},
     "output_type": "display_data"
    }
   ],
   "source": [
    "# Plotting a 3D bar plot\n",
    "\n",
    "from mpl_toolkits.mplot3d import Axes3D\n",
    "import numpy as np\n",
    "\n",
    "# Convert the time format into ordinary strings\n",
    "time_series = pd.Series(df.index.format())\n",
    "\n",
    "fig = plt.figure(figsize=(8,6))\n",
    "ax = fig.add_subplot(111, projection='3d')\n",
    "\n",
    "# Plotting the bar graph column by column\n",
    "for c, z in zip(['r', 'g', 'b', 'y','m'], np.arange(len(df.columns))):\n",
    "    xs = df.index\n",
    "    ys = df.values[:,z]\n",
    "    ax.bar(xs, ys, zs=z, zdir='y', color=c, alpha=0.5)\n",
    "    \n",
    "ax.set_zlabel('Z')\n",
    "ax.set_xticklabels(time_series, va = 'baseline', ha = 'right', rotation = 15)\n",
    "ax.set_yticks(np.arange(len(df.columns)))\n",
    "ax.set_yticklabels(df.columns, va = 'center', ha = 'left', rotation = -42)\n",
    "\n",
    "ax.view_init(30, -30)\n",
    "\n",
    "fig.tight_layout()"
   ]
  },
  {
   "cell_type": "markdown",
   "metadata": {},
   "source": [
    "***\n",
    "### **_8.4 Reading And Writing Data To File_**"
   ]
  },
  {
   "cell_type": "markdown",
   "metadata": {},
   "source": [
    "Data in **_DataFrame_** can be exported into **_csv_** (comma separated value) and **_Excel_** file. The users can also create a **_DataFrame_** from data in **_csv_** and **_Excel_** file, the data can then be processed."
   ]
  },
  {
   "cell_type": "code",
   "execution_count": 74,
   "metadata": {
    "collapsed": false
   },
   "outputs": [],
   "source": [
    "# Export data to a csv file but separated with < TAB > rather than comma\n",
    "# the default separation is with comma\n",
    "\n",
    "df.to_csv('Tutorial8/Kedai.txt', sep='\\t')"
   ]
  },
  {
   "cell_type": "code",
   "execution_count": 75,
   "metadata": {
    "collapsed": false
   },
   "outputs": [],
   "source": [
    "# Export to Excel file\n",
    "\n",
    "df.to_excel('Tutorial8/Kedai.xlsx', sheet_name = 'Tarikh', index = True)"
   ]
  },
  {
   "cell_type": "code",
   "execution_count": 76,
   "metadata": {
    "collapsed": false
   },
   "outputs": [
    {
     "data": {
      "text/html": [
       "<div>\n",
       "<table border=\"1\" class=\"dataframe\">\n",
       "  <thead>\n",
       "    <tr style=\"text-align: right;\">\n",
       "      <th></th>\n",
       "      <th>0</th>\n",
       "      <th>1</th>\n",
       "      <th>2</th>\n",
       "      <th>3</th>\n",
       "      <th>4</th>\n",
       "    </tr>\n",
       "  </thead>\n",
       "  <tbody>\n",
       "    <tr>\n",
       "      <th>0</th>\n",
       "      <td>1</td>\n",
       "      <td>Kuala Lumpur</td>\n",
       "      <td>1,588,750</td>\n",
       "      <td>NaN</td>\n",
       "      <td>City</td>\n",
       "    </tr>\n",
       "    <tr>\n",
       "      <th>1</th>\n",
       "      <td>2</td>\n",
       "      <td>Seberang Perai</td>\n",
       "      <td>818,197</td>\n",
       "      <td>Includes Butterworth, Bukit Mertajam</td>\n",
       "      <td>Municipality</td>\n",
       "    </tr>\n",
       "    <tr>\n",
       "      <th>2</th>\n",
       "      <td>3</td>\n",
       "      <td>Kajang</td>\n",
       "      <td>795,522</td>\n",
       "      <td>NaN</td>\n",
       "      <td>Municipality</td>\n",
       "    </tr>\n",
       "    <tr>\n",
       "      <th>3</th>\n",
       "      <td>4</td>\n",
       "      <td>Klang</td>\n",
       "      <td>744,062</td>\n",
       "      <td>NaN</td>\n",
       "      <td>Municipality</td>\n",
       "    </tr>\n",
       "    <tr>\n",
       "      <th>4</th>\n",
       "      <td>5</td>\n",
       "      <td>Subang Jaya</td>\n",
       "      <td>708,296</td>\n",
       "      <td>NaN</td>\n",
       "      <td>Municipality</td>\n",
       "    </tr>\n",
       "  </tbody>\n",
       "</table>\n",
       "</div>"
      ],
      "text/plain": [
       "   0               1          2                                     3  \\\n",
       "0  1    Kuala Lumpur  1,588,750                                   NaN   \n",
       "1  2  Seberang Perai    818,197  Includes Butterworth, Bukit Mertajam   \n",
       "2  3          Kajang    795,522                                   NaN   \n",
       "3  4           Klang    744,062                                   NaN   \n",
       "4  5     Subang Jaya    708,296                                   NaN   \n",
       "\n",
       "              4  \n",
       "0          City  \n",
       "1  Municipality  \n",
       "2  Municipality  \n",
       "3  Municipality  \n",
       "4  Municipality  "
      ]
     },
     "execution_count": 76,
     "metadata": {},
     "output_type": "execute_result"
    }
   ],
   "source": [
    "# Importing data from csv file (without header)\n",
    "\n",
    "from_file = pd.read_csv('Tutorial8/Malaysian_Town.txt',sep='\\t',header=None)\n",
    "from_file.head()"
   ]
  },
  {
   "cell_type": "code",
   "execution_count": 77,
   "metadata": {
    "collapsed": false
   },
   "outputs": [
    {
     "data": {
      "text/html": [
       "<div>\n",
       "<table border=\"1\" class=\"dataframe\">\n",
       "  <thead>\n",
       "    <tr style=\"text-align: right;\">\n",
       "      <th></th>\n",
       "      <th>No.</th>\n",
       "      <th>City</th>\n",
       "      <th>Population</th>\n",
       "      <th>Area</th>\n",
       "      <th>Type</th>\n",
       "    </tr>\n",
       "  </thead>\n",
       "  <tbody>\n",
       "    <tr>\n",
       "      <th>0</th>\n",
       "      <td>1</td>\n",
       "      <td>Kuala Lumpur</td>\n",
       "      <td>1588750</td>\n",
       "      <td>NaN</td>\n",
       "      <td>City</td>\n",
       "    </tr>\n",
       "    <tr>\n",
       "      <th>1</th>\n",
       "      <td>2</td>\n",
       "      <td>Seberang Perai</td>\n",
       "      <td>818197</td>\n",
       "      <td>Includes Butterworth, Bukit Mertajam</td>\n",
       "      <td>Municipality</td>\n",
       "    </tr>\n",
       "    <tr>\n",
       "      <th>2</th>\n",
       "      <td>3</td>\n",
       "      <td>Kajang</td>\n",
       "      <td>795522</td>\n",
       "      <td>NaN</td>\n",
       "      <td>Municipality</td>\n",
       "    </tr>\n",
       "    <tr>\n",
       "      <th>3</th>\n",
       "      <td>4</td>\n",
       "      <td>Klang</td>\n",
       "      <td>744062</td>\n",
       "      <td>NaN</td>\n",
       "      <td>Municipality</td>\n",
       "    </tr>\n",
       "    <tr>\n",
       "      <th>4</th>\n",
       "      <td>5</td>\n",
       "      <td>Subang Jaya</td>\n",
       "      <td>708296</td>\n",
       "      <td>NaN</td>\n",
       "      <td>Municipality</td>\n",
       "    </tr>\n",
       "  </tbody>\n",
       "</table>\n",
       "</div>"
      ],
      "text/plain": [
       "   No.            City  Population                                  Area  \\\n",
       "0    1    Kuala Lumpur     1588750                                   NaN   \n",
       "1    2  Seberang Perai      818197  Includes Butterworth, Bukit Mertajam   \n",
       "2    3          Kajang      795522                                   NaN   \n",
       "3    4           Klang      744062                                   NaN   \n",
       "4    5     Subang Jaya      708296                                   NaN   \n",
       "\n",
       "           Type  \n",
       "0          City  \n",
       "1  Municipality  \n",
       "2  Municipality  \n",
       "3  Municipality  \n",
       "4  Municipality  "
      ]
     },
     "execution_count": 77,
     "metadata": {},
     "output_type": "execute_result"
    }
   ],
   "source": [
    "# Importing data from Excel file (with header (the first row) that became the column names)\n",
    "\n",
    "from_excel = pd.read_excel('Tutorial8/Malaysian_Town.xlsx','Sheet1')\n",
    "from_excel.head()"
   ]
  },
  {
   "cell_type": "markdown",
   "metadata": {},
   "source": [
    "---\n",
    "Further <span style=\"color: #0000FF\">$Pandas$</span> features can be found in http://pandas.pydata.org/. "
   ]
  }
 ],
 "metadata": {
  "kernelspec": {
   "display_name": "Python 2",
   "language": "python",
   "name": "python2"
  },
  "language_info": {
   "codemirror_mode": {
    "name": "ipython",
    "version": 2
   },
   "file_extension": ".py",
   "mimetype": "text/x-python",
   "name": "python",
   "nbconvert_exporter": "python",
   "pygments_lexer": "ipython2",
   "version": "2.7.11"
  }
 },
 "nbformat": 4,
 "nbformat_minor": 0
}
