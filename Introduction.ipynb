{
 "cells": [
  {
   "cell_type": "markdown",
   "metadata": {},
   "source": [
    "# <span style=\"color: #B40486\">BASIC PYTHON FOR RESEARCHERS</span>"
   ]
  },
  {
   "cell_type": "markdown",
   "metadata": {},
   "source": [
    "_by_ [**_Megat Harun Al Rashid bin Megat Ahmad_**](https://www.researchgate.net/profile/Megat_Harun_Megat_Ahmad)  \n",
    "last updated: April 14, 2016"
   ]
  },
  {
   "cell_type": "markdown",
   "metadata": {},
   "source": [
    "-------\n",
    "## _<span style=\"color: #29088A\">Introduction to <span style=\"color: #F88017\">Jupyter Notebook</span></span>_\n",
    "(official website: http://jupyter.org/)"
   ]
  },
  {
   "cell_type": "markdown",
   "metadata": {},
   "source": [
    "The <span style=\"color: #F88017\">_**Jupyter Notebook**_</span> free software is an interactive programming tool that utilizes the browser technology as interface. It allows the creation and sharing of documents that contain live computational codes, data processing and visualizations together with explanatory texts. It can be used for scientific and engineering computation as well as business and economy. <span style=\"color: #F88017\">_**Jupyter Notebook**_</span> is initially developed as interactive _Python_ interpreter, previously known as <span style=\"color: #0000FF\">_**IPython Notebook**_</span>, but now it supports over 40 programming languages, including <span style=\"color: #8C001A\">_**Julia**_</span>, which was developed specifically for scientific computation. The <span style=\"color: #F88017\">_**Jupyter Notebook**_</span> itself is implemented in _Python_."
   ]
  },
  {
   "cell_type": "markdown",
   "metadata": {},
   "source": [
    "This <span style=\"color: #B40486\">BASIC PYTHON FOR RESEARCHERS</span> tutorial will cover only the <span style=\"color: #F88017\">_**Jupyter Notebook**_</span> implementation of _Python_ programming languages and the applications of its libraries particularly for scientific calculations and data processing. "
   ]
  },
  {
   "cell_type": "markdown",
   "metadata": {},
   "source": [
    "### **_Installation_**"
   ]
  },
  {
   "cell_type": "markdown",
   "metadata": {},
   "source": [
    "The <span style=\"color: #F88017\">_**Jupyter Notebook**_</span> can be installed in several ways but to follow this tutorial it is recommended that the user install <span style=\"color: #0000FF\">_**Anaconda**_</span> package (download website: https://www.continuum.io/downloads). This <span style=\"color: #0000FF\">_**Anaconda**_</span> free package can conveniently installs <span style=\"color: #F88017\">_**Jupyter Notebook**_</span>, _Python_ and other commonly used libraries for scientific calculations and data processing.\n",
    "\n",
    "In a Windows operating system, the <span style=\"color: #0000FF\">_**Anaconda**_</span> package comes with a graphical installer each for different _Python_ version. The tutorial however is written using the _Python 2.7_ implementation, so it is preferable to download and install this version.\n",
    "\n",
    "After the <span style=\"color: #0000FF\">_**Anaconda**_</span> is succesfully installed, it is advisable to update <span style=\"color: #F88017\">_**Jupyter Notebook**_</span>. This can be done by running the following command in the Command Prompt (Windows):\n",
    "\n",
    "**>**_**conda update jupyter**_\n",
    "\n",
    "The <span style=\"color: #0000FF\">_**Anaconda**_</span> command prompt application can also be used to update <span style=\"color: #0000FF\">_**Anaconda**_</span> to the latest version.\n",
    "\n",
    "Additional tools not available in the package can be installed by running the following command in the command prompt, _e.g._ _mathjax_ tool:\n",
    "\n",
    "**>**_**conda install mathjax**_"
   ]
  },
  {
   "cell_type": "markdown",
   "metadata": {},
   "source": [
    "### **_Running <span style=\"color: #F88017\">Jupyter Notebook</span>_**"
   ]
  },
  {
   "cell_type": "markdown",
   "metadata": {},
   "source": [
    "Run this command in the command prompt to start the <span style=\"color: #F88017\">_**Jupyter Notebook**_</span>:\n",
    "\n",
    "**>**_**jupyter notebook**_\n",
    "\n",
    "This shall open the <span style=\"color: #F88017\">_**Jupyter Notebook**_</span> in the user default web browser (_e.g. Google Chrome, Mozilla Firefox etc._). For a start, the user may want to know the _Python_ and _IPython_ versions that have been installed. These information can be obtained simply by typing (inside the <span style=\"color : #3104B4\">In[ ]</span> input cell) and executed the typed command by pressing _Shift_+_Enter_ or clicking the _run cell_ (&#9658;) button:\n"
   ]
  },
  {
   "cell_type": "code",
   "execution_count": 1,
   "metadata": {
    "collapsed": false
   },
   "outputs": [
    {
     "name": "stdout",
     "output_type": "stream",
     "text": [
      "Python 2.7.11 :: Anaconda 2.2.0 (64-bit)\r\n"
     ]
    }
   ],
   "source": [
    "!python --version"
   ]
  },
  {
   "cell_type": "code",
   "execution_count": 2,
   "metadata": {
    "collapsed": false
   },
   "outputs": [
    {
     "name": "stdout",
     "output_type": "stream",
     "text": [
      "4.0.0\r\n"
     ]
    }
   ],
   "source": [
    "!ipython --version"
   ]
  },
  {
   "cell_type": "markdown",
   "metadata": {},
   "source": [
    "The cell when executed will produce the output below it and automatically produce empty input cell below the output. New input cell can manually be created by clicking the (&#43;) button. The user can now start following the tutorial. "
   ]
  }
 ],
 "metadata": {
  "kernelspec": {
   "display_name": "Python 2",
   "language": "python",
   "name": "python2"
  },
  "language_info": {
   "codemirror_mode": {
    "name": "ipython",
    "version": 2
   },
   "file_extension": ".py",
   "mimetype": "text/x-python",
   "name": "python",
   "nbconvert_exporter": "python",
   "pygments_lexer": "ipython2",
   "version": "2.7.11"
  }
 },
 "nbformat": 4,
 "nbformat_minor": 0
}
