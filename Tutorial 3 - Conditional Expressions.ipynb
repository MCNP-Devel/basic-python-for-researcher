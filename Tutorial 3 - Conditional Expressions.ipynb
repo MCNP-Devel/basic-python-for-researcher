{
 "metadata": {
  "name": "",
  "signature": "sha256:45ce21b840d5579193595a94c56cc23fc4ea5795cad7cf6854bd0c18c027929e"
 },
 "nbformat": 3,
 "nbformat_minor": 0,
 "worksheets": [
  {
   "cells": [
    {
     "cell_type": "markdown",
     "metadata": {},
     "source": [
      "#<span style=\"color: #B40486\">BASIC PYTHON FOR RESEARCHERS</span>"
     ]
    },
    {
     "cell_type": "markdown",
     "metadata": {},
     "source": [
      "**_by Megat Harun Al Rashid bin Megat Ahmad_**"
     ]
    },
    {
     "cell_type": "markdown",
     "metadata": {},
     "source": [
      "-------\n",
      "##_<span style=\"color: #29088A\">3. Conditional Expression</span>_\n"
     ]
    },
    {
     "cell_type": "markdown",
     "metadata": {},
     "source": [
      "Python conditional statement include the <span style=\"color: #0000FF\">$if/elif/else$</span> statement. In addition the <span style=\"color: #0000FF\">$for$</span> and <span style=\"color: #0000FF\">$while$</span> statement can be used in conditional looping."
     ]
    },
    {
     "cell_type": "markdown",
     "metadata": {},
     "source": [
      "***\n",
      "###**_3.1 The <span style=\"color: #0000FF\">if/else</span> statement_**"
     ]
    },
    {
     "cell_type": "markdown",
     "metadata": {},
     "source": [
      "A statement/statements will be executed if a condition/conditions is/are met:"
     ]
    },
    {
     "cell_type": "code",
     "collapsed": false,
     "input": [
      "# Calculate the remainder of a divisional operation\n",
      "x = 56\n",
      "y = 3\n",
      "z = x % y         # Modulo operation\n",
      "\n",
      "if z > 0:\n",
      "    print (\"The remainder of %d divided by %d is %d\" % (x,y,z))\n",
      "else:\n",
      "    print \"There's no remainder\""
     ],
     "language": "python",
     "metadata": {},
     "outputs": [
      {
       "output_type": "stream",
       "stream": "stdout",
       "text": [
        "The remainder of 56 divided by 3 is 2\n"
       ]
      }
     ],
     "prompt_number": 4
    },
    {
     "cell_type": "markdown",
     "metadata": {},
     "source": [
      "Statement in conditional expression must be indented with space (not tab). The indentation must be consistent."
     ]
    },
    {
     "cell_type": "code",
     "collapsed": false,
     "input": [
      "# Compare the values of two integers\n",
      "\n",
      "int1 = 45\n",
      "int2 = 55\n",
      "\n",
      "if int1 > int2:\n",
      "    print \"%d is larger than %d\" % (int1,int2)\n",
      "elif int1 == int2:\n",
      "    print \"%d is equal to %d\" % (int1,int2)\n",
      "else:\n",
      "    print \"%d is less than %d\" % (int1,int2)"
     ],
     "language": "python",
     "metadata": {},
     "outputs": [
      {
       "output_type": "stream",
       "stream": "stdout",
       "text": [
        "45 is less than 55\n"
       ]
      }
     ],
     "prompt_number": 3
    },
    {
     "cell_type": "markdown",
     "metadata": {},
     "source": [
      "Some of the conditional operators that can be used:"
     ]
    },
    {
     "cell_type": "markdown",
     "metadata": {},
     "source": [
      "|Condition|Function|\n",
      "|---|---|\n",
      "|>|more than|\n",
      "|<|less than|\n",
      "|>=|equal or more than|\n",
      "|<=|equal or less than|\n",
      "|==|equal to|\n",
      "|!=|not equal to|\n",
      "|and|more than one conditional operations are true|\n",
      "|or|either one conditional operations is true|"
     ]
    },
    {
     "cell_type": "markdown",
     "metadata": {},
     "source": [
      "In general (the conditional format):  \n",
      "  \n",
      "_if (condition/s 1):_\n",
      ">_statement 1.1_  \n",
      "_statement 1.2_  \n",
      "......\n",
      "\n",
      "_elif (condition/s 2):_\n",
      ">_statement 2.1_  \n",
      "......  \n",
      "\n",
      "_elif (condition/s 3):_  \n",
      ">_statement 3.1_  \n",
      "......  \n",
      "\n",
      "......  \n",
      "......  \n",
      "......  \n",
      "\n",
      "\n",
      "_else:_  \n",
      ">_statement_  \n",
      "......"
     ]
    },
    {
     "cell_type": "markdown",
     "metadata": {},
     "source": [
      "####<span style=\"color: #F5DA81; background-color: #610B4B\">Example 3.1</span>: Determine the maximum and minimum of three different integers: 34,12,67."
     ]
    },
    {
     "cell_type": "code",
     "collapsed": false,
     "input": [
      "x = 45\n",
      "y = 45\n",
      "z = 80\n",
      "\n",
      "if x > y:\n",
      "    if y > z:\n",
      "        print 'Maximum integer is %d' % x\n",
      "        print 'Minimum integer is %d' % z\n",
      "    elif z > x:\n",
      "        print 'Maximum integer is %d' % z\n",
      "        print 'Minimum integer is %d' % y\n",
      "    else:\n",
      "        print 'Maximum integer is %d' % x\n",
      "        print 'Minimum integer is %d' % y\n",
      "        \n",
      "else:  # y > x\n",
      "    if x > z:\n",
      "        print 'Maximum integer is %d' % y\n",
      "        print 'Minimum integer is %d' % z\n",
      "    elif z > y:\n",
      "        print 'Maximum integer is %d' % z\n",
      "        print 'Minimum integer is %d' % x\n",
      "    else:\n",
      "        print 'Maximum integer is %d' % y\n",
      "        print 'Minimum integer is %d' % x\n",
      "\n"
     ],
     "language": "python",
     "metadata": {},
     "outputs": [
      {
       "output_type": "stream",
       "stream": "stdout",
       "text": [
        "Maximum integer is 80\n",
        "Minimum integer is 45\n"
       ]
      }
     ],
     "prompt_number": 2
    },
    {
     "cell_type": "markdown",
     "metadata": {},
     "source": [
      "####<span style=\"color: #F5DA81; background-color: #610B4B\">Example 3.2</span>: Use only one type of conditional operator for Exercise 3.1."
     ]
    },
    {
     "cell_type": "code",
     "collapsed": false,
     "input": [
      "x = 78\n",
      "y = 78\n",
      "z = 134\n",
      "\n",
      "if x > y > z:\n",
      "    print 'Maximum integer is %d' % x\n",
      "    print 'Minimum integer is %d' % z\n",
      "\n",
      "elif x > z > y:\n",
      "    print 'Maximum integer is %d' % x\n",
      "    print 'Minimum integer is %d' % y\n",
      "    \n",
      "elif y > x > z:\n",
      "    print 'Maximum integer is %d' % y\n",
      "    print 'Minimum integer is %d' % z\n",
      "\n",
      "elif y > z > x:\n",
      "    print 'Maximum integer is %d' % y\n",
      "    print 'Minimum integer is %d' % x\n",
      "\n",
      "elif z > x > y:\n",
      "    print 'Maximum integer is %d' % z\n",
      "    print 'Minimum integer is %d' % y\n",
      "\n",
      "else:\n",
      "    print 'Maximum integer is %d' % z\n",
      "    print 'Minimum integer is %d' % x"
     ],
     "language": "python",
     "metadata": {},
     "outputs": [
      {
       "output_type": "stream",
       "stream": "stdout",
       "text": [
        "Maximum integer is 134\n",
        "Minimum integer is 78\n"
       ]
      }
     ],
     "prompt_number": 3
    },
    {
     "cell_type": "markdown",
     "metadata": {},
     "source": [
      "####<span style=\"color: #F5DA81; background-color: #610B4B\">Example 3.3</span>: What if two or all integers have the same value. Try this and run the codes that solve Examples 3.1 and 3.2."
     ]
    },
    {
     "cell_type": "markdown",
     "metadata": {},
     "source": [
      "Codes in Example 3.1 seems more robust but 3.2 can be made more robust adding `'>='` instead of `'>'`."
     ]
    },
    {
     "cell_type": "markdown",
     "metadata": {},
     "source": [
      "***\n",
      "###**_3.1 The <span style=\"color: #0000FF\">for</span> and <span style=\"color: #0000FF\">while</span> statements_**"
     ]
    },
    {
     "cell_type": "markdown",
     "metadata": {},
     "source": [
      "The <span style=\"color: #0000FF\">$for$</span> and <span style=\"color: #0000FF\">$while$</span> functions can be used to do repetitive action. "
     ]
    },
    {
     "cell_type": "code",
     "collapsed": false,
     "input": [
      "for i in range(0,5,1):\n",
      "    print i"
     ],
     "language": "python",
     "metadata": {},
     "outputs": [
      {
       "output_type": "stream",
       "stream": "stdout",
       "text": [
        "0\n",
        "1\n",
        "2\n",
        "3\n",
        "4\n"
       ]
      }
     ],
     "prompt_number": 16
    },
    {
     "cell_type": "markdown",
     "metadata": {},
     "source": [
      "Here the variable $i$ will be assigned the value of $0$ and cyclically incremented $5$ times by adding the integer $1$ to it each time. Only integers value are accepted in the parenthesis of the _range_ statement. The first integer is the intial value of the $i$ variable, the second integer indicates (inclusive) the limiting value of the $i$ variable and the third integer represent the integer added to the variable $i$ for each cycles."
     ]
    },
    {
     "cell_type": "code",
     "collapsed": false,
     "input": [
      "for i in range(4,17,3):\n",
      "    print i"
     ],
     "language": "python",
     "metadata": {},
     "outputs": [
      {
       "output_type": "stream",
       "stream": "stdout",
       "text": [
        "4\n",
        "7\n",
        "10\n",
        "13\n",
        "16\n"
       ]
      }
     ],
     "prompt_number": 5
    },
    {
     "cell_type": "code",
     "collapsed": false,
     "input": [
      "z = 0\n",
      "while z < 27:\n",
      "    print z\n",
      "    z = z + 6"
     ],
     "language": "python",
     "metadata": {},
     "outputs": [
      {
       "output_type": "stream",
       "stream": "stdout",
       "text": [
        "0\n",
        "6\n",
        "12\n",
        "18\n",
        "24\n"
       ]
      }
     ],
     "prompt_number": 8
    },
    {
     "cell_type": "markdown",
     "metadata": {},
     "source": [
      "The <span style=\"color: #0000FF\">$while$</span> function similarly with <span style=\"color: #0000FF\">$for$</span> but initialization of the variable is performed before the <span style=\"color: #0000FF\">$while$</span> statement and incrementing process is carried out as part of the loop argument. It is also possible to loop into the elements of a string."
     ]
    },
    {
     "cell_type": "code",
     "collapsed": false,
     "input": [
      "for name in 'Numpy':\n",
      "    print name"
     ],
     "language": "python",
     "metadata": {},
     "outputs": [
      {
       "output_type": "stream",
       "stream": "stdout",
       "text": [
        "N\n",
        "u\n",
        "m\n",
        "p\n",
        "y\n"
       ]
      }
     ],
     "prompt_number": 15
    },
    {
     "cell_type": "markdown",
     "metadata": {},
     "source": [
      "More on conditional expressions and looping can be found on https://docs.python.org/2/tutorial/controlflow.html"
     ]
    },
    {
     "cell_type": "markdown",
     "metadata": {},
     "source": [
      "***\n",
      "####_Megat Harun Al Rashid bin Megat Ahmad_\n",
      "_October 2, 2014_"
     ]
    }
   ],
   "metadata": {}
  }
 ]
}