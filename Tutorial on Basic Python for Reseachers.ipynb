{
 "metadata": {
  "name": "",
  "signature": "sha256:91070d0fad9d73878dee098f7cbd5fdb4501ecdfce82b8d49216d911b620ce2e"
 },
 "nbformat": 3,
 "nbformat_minor": 0,
 "worksheets": [
  {
   "cells": [
    {
     "cell_type": "markdown",
     "metadata": {},
     "source": [
      "#<span style=\"color: #B40486\">TUTORIAL ON BASIC PYTHON FOR RESEARCHERS</span>"
     ]
    },
    {
     "cell_type": "markdown",
     "metadata": {},
     "source": [
      "_by_ [**_Megat Harun Al Rashid bin Megat Ahmad_**](https://www.researchgate.net/profile/Megat_Harun_Megat_Ahmad)  \n",
      "last updated: October 23, 2014"
     ]
    },
    {
     "cell_type": "markdown",
     "metadata": {},
     "source": [
      "---\n",
      "This tutorial is written as an introductory course to [_Python_](https://www.python.org/) programming language for my colleagues at [Malaysian Nuclear Agency](http://www.nuclearmalaysia.gov.my). It uses [IPython Notebook](http://ipython.org/notebook.html) as a teaching tools. It briefly covers almost all the necessary topics that will be helpful to them. The _IPython Notebook_ is an interactive computational system that run on a browser. It enables the users to document not only _Python_ but also other codes ([_Perl_](https://www.perl.org/) ,[_R_](http://www.r-project.org/) ,[_Julia_](http://julialang.org/), [_Haskell_](http://www.haskell.org/haskellwiki/Haskell) _etc._), written account, [$LaTeX$](http://www.latex-project.org/) equations, _HTML_, images and video. The document contains full record of all the computations and results. The document can be easily shared on email, [GitHub](http://github.com) or [nbviewer.ipython.org](http://nbviewer.ipython.org). This can fastly distribute the research works undertaken at the agency to other researchers. This effort to introduce _Python_ especially using the _IPython Notebook_ is narrated in an [article](BNM2014.pdf) (in [Malay](http://en.wikipedia.org/wiki/Malay_language))."
     ]
    },
    {
     "cell_type": "markdown",
     "metadata": {},
     "source": [
      "###THE TUTORIALS"
     ]
    },
    {
     "cell_type": "markdown",
     "metadata": {},
     "source": [
      "The tutorials are works in progress. Only the completed tutorials are listed here:"
     ]
    },
    {
     "cell_type": "markdown",
     "metadata": {},
     "source": [
      "* [Tutorial 1 - Mathematical Operation](Tutorial 1 - Mathematical Operation.ipynb)\n",
      "* [Tutorial 2 - Strings and Formatting](Tutorial 2 - Strings and Formatting.ipynb)\n",
      "* [Tutorial 3 - Conditional Expression](Tutorial 3 - Conditional Expression.ipynb)\n",
      "* [Tutorial 4 - The Sequence](Tutorial 4 - The Sequence.ipynb)\n",
      "* [Tutorial 5 - Functions and Modules](Tutorial 5 - Functions and Modules.ipynb)"
     ]
    },
    {
     "cell_type": "markdown",
     "metadata": {},
     "source": [
      "Other tutorials will be coming soon and cover topics on _Numpy_, _Matplotlib_, _Scipy_, and _Pandas_."
     ]
    }
   ],
   "metadata": {}
  }
 ]
}